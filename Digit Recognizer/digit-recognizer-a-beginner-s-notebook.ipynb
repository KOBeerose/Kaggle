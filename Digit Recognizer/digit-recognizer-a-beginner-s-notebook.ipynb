{
 "cells": [
  {
   "cell_type": "markdown",
   "metadata": {
    "_cell_guid": "b1076dfc-b9ad-4769-8c92-a6c4dae69d19",
    "_uuid": "8f2839f25d086af736a60e9eeb907d3b93b6e0e5",
    "execution": {
     "iopub.execute_input": "2021-10-07T23:00:03.475601Z",
     "iopub.status.busy": "2021-10-07T23:00:03.475342Z",
     "iopub.status.idle": "2021-10-07T23:00:03.48352Z",
     "shell.execute_reply": "2021-10-07T23:00:03.482286Z",
     "shell.execute_reply.started": "2021-10-07T23:00:03.475579Z"
    }
   },
   "source": [
    "<h2 style=\"font-weight: bold\">Digit Recognizer</h2>\n",
    "\n",
    "<h4>This is my third published notebook on Kaggle. Well! Well you guess it! it's gonna be about the Digit Recognizer Competition 😄😄<br><br>I will be doing a simple EDA and Pre-Processing, the I will Build different models<br><br></h4>\n",
    "\n",
    "* <h5 style=\"font-weight: 700\">Your feedback is very welcome</h5>\n",
    "* <h5 style=\"font-weight: 700\">If you find this notebook useful, please don't forget to upvote it!</h5>\n"
   ]
  },
  {
   "cell_type": "code",
   "execution_count": 1,
   "metadata": {
    "execution": {
     "iopub.status.busy": "2021-10-09T22:47:43.300677Z",
     "iopub.status.idle": "2021-10-09T22:47:43.301388Z",
     "shell.execute_reply": "2021-10-09T22:47:43.301234Z",
     "shell.execute_reply.started": "2021-10-09T22:47:43.301216Z"
    }
   },
   "outputs": [],
   "source": [
    "# Load a few helpful modules\n",
    "import numpy as np\n",
    "import matplotlib.pyplot as plt\n",
    "import torch\n",
    "import pandas as pd\n",
    "from   PIL import Image\n",
    "import torch.nn as nn\n",
    "import torch.optim as optim\n",
    "import torchvision.transforms as transforms"
   ]
  },
  {
   "cell_type": "code",
   "execution_count": 2,
   "metadata": {
    "execution": {
     "iopub.status.busy": "2021-10-09T22:47:43.302169Z",
     "iopub.status.idle": "2021-10-09T22:47:43.302991Z",
     "shell.execute_reply": "2021-10-09T22:47:43.302822Z",
     "shell.execute_reply.started": "2021-10-09T22:47:43.302803Z"
    }
   },
   "outputs": [],
   "source": [
    "train = pd.read_csv('../input/digit-recognizer/train.csv')\n",
    "test = pd.read_csv('../input/digit-recognizer/train.csv')"
   ]
  },
  {
   "cell_type": "code",
   "execution_count": 3,
   "metadata": {
    "execution": {
     "iopub.status.busy": "2021-10-09T22:47:43.303816Z",
     "iopub.status.idle": "2021-10-09T22:47:43.304544Z",
     "shell.execute_reply": "2021-10-09T22:47:43.304353Z",
     "shell.execute_reply.started": "2021-10-09T22:47:43.304327Z"
    }
   },
   "outputs": [
    {
     "data": {
      "text/html": [
       "<div>\n",
       "<style scoped>\n",
       "    .dataframe tbody tr th:only-of-type {\n",
       "        vertical-align: middle;\n",
       "    }\n",
       "\n",
       "    .dataframe tbody tr th {\n",
       "        vertical-align: top;\n",
       "    }\n",
       "\n",
       "    .dataframe thead th {\n",
       "        text-align: right;\n",
       "    }\n",
       "</style>\n",
       "<table border=\"1\" class=\"dataframe\">\n",
       "  <thead>\n",
       "    <tr style=\"text-align: right;\">\n",
       "      <th></th>\n",
       "      <th>label</th>\n",
       "      <th>pixel0</th>\n",
       "      <th>pixel1</th>\n",
       "      <th>pixel2</th>\n",
       "      <th>pixel3</th>\n",
       "      <th>pixel4</th>\n",
       "      <th>pixel5</th>\n",
       "      <th>pixel6</th>\n",
       "      <th>pixel7</th>\n",
       "      <th>pixel8</th>\n",
       "      <th>...</th>\n",
       "      <th>pixel774</th>\n",
       "      <th>pixel775</th>\n",
       "      <th>pixel776</th>\n",
       "      <th>pixel777</th>\n",
       "      <th>pixel778</th>\n",
       "      <th>pixel779</th>\n",
       "      <th>pixel780</th>\n",
       "      <th>pixel781</th>\n",
       "      <th>pixel782</th>\n",
       "      <th>pixel783</th>\n",
       "    </tr>\n",
       "  </thead>\n",
       "  <tbody>\n",
       "    <tr>\n",
       "      <th>0</th>\n",
       "      <td>1</td>\n",
       "      <td>0</td>\n",
       "      <td>0</td>\n",
       "      <td>0</td>\n",
       "      <td>0</td>\n",
       "      <td>0</td>\n",
       "      <td>0</td>\n",
       "      <td>0</td>\n",
       "      <td>0</td>\n",
       "      <td>0</td>\n",
       "      <td>...</td>\n",
       "      <td>0</td>\n",
       "      <td>0</td>\n",
       "      <td>0</td>\n",
       "      <td>0</td>\n",
       "      <td>0</td>\n",
       "      <td>0</td>\n",
       "      <td>0</td>\n",
       "      <td>0</td>\n",
       "      <td>0</td>\n",
       "      <td>0</td>\n",
       "    </tr>\n",
       "    <tr>\n",
       "      <th>1</th>\n",
       "      <td>0</td>\n",
       "      <td>0</td>\n",
       "      <td>0</td>\n",
       "      <td>0</td>\n",
       "      <td>0</td>\n",
       "      <td>0</td>\n",
       "      <td>0</td>\n",
       "      <td>0</td>\n",
       "      <td>0</td>\n",
       "      <td>0</td>\n",
       "      <td>...</td>\n",
       "      <td>0</td>\n",
       "      <td>0</td>\n",
       "      <td>0</td>\n",
       "      <td>0</td>\n",
       "      <td>0</td>\n",
       "      <td>0</td>\n",
       "      <td>0</td>\n",
       "      <td>0</td>\n",
       "      <td>0</td>\n",
       "      <td>0</td>\n",
       "    </tr>\n",
       "    <tr>\n",
       "      <th>2</th>\n",
       "      <td>1</td>\n",
       "      <td>0</td>\n",
       "      <td>0</td>\n",
       "      <td>0</td>\n",
       "      <td>0</td>\n",
       "      <td>0</td>\n",
       "      <td>0</td>\n",
       "      <td>0</td>\n",
       "      <td>0</td>\n",
       "      <td>0</td>\n",
       "      <td>...</td>\n",
       "      <td>0</td>\n",
       "      <td>0</td>\n",
       "      <td>0</td>\n",
       "      <td>0</td>\n",
       "      <td>0</td>\n",
       "      <td>0</td>\n",
       "      <td>0</td>\n",
       "      <td>0</td>\n",
       "      <td>0</td>\n",
       "      <td>0</td>\n",
       "    </tr>\n",
       "    <tr>\n",
       "      <th>3</th>\n",
       "      <td>4</td>\n",
       "      <td>0</td>\n",
       "      <td>0</td>\n",
       "      <td>0</td>\n",
       "      <td>0</td>\n",
       "      <td>0</td>\n",
       "      <td>0</td>\n",
       "      <td>0</td>\n",
       "      <td>0</td>\n",
       "      <td>0</td>\n",
       "      <td>...</td>\n",
       "      <td>0</td>\n",
       "      <td>0</td>\n",
       "      <td>0</td>\n",
       "      <td>0</td>\n",
       "      <td>0</td>\n",
       "      <td>0</td>\n",
       "      <td>0</td>\n",
       "      <td>0</td>\n",
       "      <td>0</td>\n",
       "      <td>0</td>\n",
       "    </tr>\n",
       "    <tr>\n",
       "      <th>4</th>\n",
       "      <td>0</td>\n",
       "      <td>0</td>\n",
       "      <td>0</td>\n",
       "      <td>0</td>\n",
       "      <td>0</td>\n",
       "      <td>0</td>\n",
       "      <td>0</td>\n",
       "      <td>0</td>\n",
       "      <td>0</td>\n",
       "      <td>0</td>\n",
       "      <td>...</td>\n",
       "      <td>0</td>\n",
       "      <td>0</td>\n",
       "      <td>0</td>\n",
       "      <td>0</td>\n",
       "      <td>0</td>\n",
       "      <td>0</td>\n",
       "      <td>0</td>\n",
       "      <td>0</td>\n",
       "      <td>0</td>\n",
       "      <td>0</td>\n",
       "    </tr>\n",
       "  </tbody>\n",
       "</table>\n",
       "<p>5 rows × 785 columns</p>\n",
       "</div>"
      ],
      "text/plain": [
       "   label  pixel0  pixel1  pixel2  pixel3  pixel4  pixel5  pixel6  pixel7  \\\n",
       "0      1       0       0       0       0       0       0       0       0   \n",
       "1      0       0       0       0       0       0       0       0       0   \n",
       "2      1       0       0       0       0       0       0       0       0   \n",
       "3      4       0       0       0       0       0       0       0       0   \n",
       "4      0       0       0       0       0       0       0       0       0   \n",
       "\n",
       "   pixel8  ...  pixel774  pixel775  pixel776  pixel777  pixel778  pixel779  \\\n",
       "0       0  ...         0         0         0         0         0         0   \n",
       "1       0  ...         0         0         0         0         0         0   \n",
       "2       0  ...         0         0         0         0         0         0   \n",
       "3       0  ...         0         0         0         0         0         0   \n",
       "4       0  ...         0         0         0         0         0         0   \n",
       "\n",
       "   pixel780  pixel781  pixel782  pixel783  \n",
       "0         0         0         0         0  \n",
       "1         0         0         0         0  \n",
       "2         0         0         0         0  \n",
       "3         0         0         0         0  \n",
       "4         0         0         0         0  \n",
       "\n",
       "[5 rows x 785 columns]"
      ]
     },
     "execution_count": 3,
     "metadata": {},
     "output_type": "execute_result"
    }
   ],
   "source": [
    "train.head()"
   ]
  },
  {
   "cell_type": "markdown",
   "metadata": {},
   "source": [
    "#  **Checking the Data**"
   ]
  },
  {
   "cell_type": "code",
   "execution_count": 4,
   "metadata": {
    "execution": {
     "iopub.status.busy": "2021-10-09T22:47:43.305373Z",
     "iopub.status.idle": "2021-10-09T22:47:43.305959Z",
     "shell.execute_reply": "2021-10-09T22:47:43.305788Z",
     "shell.execute_reply.started": "2021-10-09T22:47:43.305767Z"
    }
   },
   "outputs": [
    {
     "data": {
      "text/plain": [
       "0    4132\n",
       "1    4684\n",
       "2    4177\n",
       "3    4351\n",
       "4    4072\n",
       "5    3795\n",
       "6    4137\n",
       "7    4401\n",
       "8    4063\n",
       "9    4188\n",
       "Name: label, dtype: int64"
      ]
     },
     "execution_count": 4,
     "metadata": {},
     "output_type": "execute_result"
    }
   ],
   "source": [
    "# check training data\n",
    "trainLabelCounts = train['label'].value_counts(sort = False)\n",
    "trainLabelCounts"
   ]
  },
  {
   "cell_type": "code",
   "execution_count": 5,
   "metadata": {
    "execution": {
     "iopub.status.busy": "2021-10-09T22:47:43.307201Z",
     "iopub.status.idle": "2021-10-09T22:47:43.30753Z",
     "shell.execute_reply": "2021-10-09T22:47:43.307359Z",
     "shell.execute_reply.started": "2021-10-09T22:47:43.307339Z"
    }
   },
   "outputs": [],
   "source": [
    "# Construct the transform\n",
    "transform = transforms.Compose([\n",
    "        transforms.ToTensor(),\n",
    "        transforms.Normalize((0.5,), (0.5,))\n",
    "    ])\n",
    "\n",
    "# Get the device we're training on\n",
    "device = torch.device(\"cuda\" if torch.cuda.is_available() else \"cpu\")\n",
    "\n",
    "def get_digits(df):\n",
    "    \"\"\"Loads images as PyTorch tensors\"\"\"\n",
    "    # Load the labels if they exist \n",
    "    # (they wont for the testing data)\n",
    "    labels = []\n",
    "    start_inx = 0\n",
    "    if 'label' in df.columns:\n",
    "        labels = [v for v in df.label.values]\n",
    "        start_inx = 1\n",
    "        \n",
    "    # Load the digit information\n",
    "    digits = []\n",
    "    for i in range(df.pixel0.size):\n",
    "        digit = df.iloc[i].astype(float).values[start_inx:]\n",
    "        digit = np.reshape(digit, (28,28))\n",
    "        digit = transform(digit).type('torch.FloatTensor')\n",
    "        if len(labels) > 0:\n",
    "            digits.append([digit, labels[i]])\n",
    "        else:\n",
    "            digits.append(digit)\n",
    "\n",
    "    return digits"
   ]
  },
  {
   "cell_type": "code",
   "execution_count": 6,
   "metadata": {
    "execution": {
     "iopub.status.busy": "2021-10-09T22:47:43.308563Z",
     "iopub.status.idle": "2021-10-09T22:47:43.308863Z",
     "shell.execute_reply": "2021-10-09T22:47:43.308723Z",
     "shell.execute_reply.started": "2021-10-09T22:47:43.308702Z"
    }
   },
   "outputs": [
    {
     "name": "stdout",
     "output_type": "stream",
     "text": [
      "<class 'torch.Tensor'>\n",
      "torch.Size([64, 1, 28, 28])\n",
      "torch.Size([64])\n"
     ]
    }
   ],
   "source": [
    "# Load the training data\n",
    "train = get_digits(train)\n",
    "\n",
    "# Some configuration parameters\n",
    "num_workers = 0    # number of subprocesses to use for data loading\n",
    "batch_size  = 64   # how many samples per batch to load\n",
    "valid_size  = 0.2  # percentage of training set to use as validation\n",
    "\n",
    "# Obtain training indices that will be used for validation\n",
    "num_train = len(train)\n",
    "indices   = list(range(num_train))\n",
    "np.random.shuffle(indices)\n",
    "split     = int(np.floor(valid_size * num_train))\n",
    "train_idx, valid_idx = indices[split:], indices[:split]\n",
    "\n",
    "# Define samplers for obtaining training and validation batches\n",
    "from torch.utils.data.sampler import SubsetRandomSampler\n",
    "train_sampler = SubsetRandomSampler(train_idx)\n",
    "valid_sampler = SubsetRandomSampler(valid_idx)\n",
    "\n",
    "# Construct the data loaders\n",
    "train_loader = torch.utils.data.DataLoader(train, batch_size=batch_size,\n",
    "                    sampler=train_sampler, num_workers=num_workers)\n",
    "valid_loader = torch.utils.data.DataLoader(train, batch_size=batch_size, \n",
    "                    sampler=valid_sampler, num_workers=num_workers)\n",
    "\n",
    "# Test the size and shape of the output\n",
    "dataiter = iter(train_loader)\n",
    "images, labels = dataiter.next()\n",
    "print(type(images))\n",
    "print(images.shape)\n",
    "print(labels.shape)"
   ]
  },
  {
   "cell_type": "markdown",
   "metadata": {},
   "source": [
    "#  **Modeling & Submitting**"
   ]
  },
  {
   "cell_type": "code",
   "execution_count": 7,
   "metadata": {
    "execution": {
     "iopub.status.busy": "2021-10-09T22:47:43.309826Z",
     "iopub.status.idle": "2021-10-09T22:47:43.310131Z",
     "shell.execute_reply": "2021-10-09T22:47:43.309992Z",
     "shell.execute_reply.started": "2021-10-09T22:47:43.309972Z"
    }
   },
   "outputs": [
    {
     "name": "stdout",
     "output_type": "stream",
     "text": [
      "576\n"
     ]
    },
    {
     "data": {
      "text/plain": [
       "Net(\n",
       "  (cnn_layers): Sequential(\n",
       "    (0): Conv2d(1, 32, kernel_size=(5, 5), stride=(1, 1), padding=(2, 2))\n",
       "    (1): ReLU()\n",
       "    (2): Conv2d(32, 32, kernel_size=(5, 5), stride=(1, 1), padding=(2, 2))\n",
       "    (3): ReLU()\n",
       "    (4): MaxPool2d(kernel_size=2, stride=2, padding=0, dilation=1, ceil_mode=False)\n",
       "    (5): Dropout(p=0.2, inplace=False)\n",
       "    (6): Conv2d(32, 64, kernel_size=(5, 5), stride=(1, 1), padding=(2, 2))\n",
       "    (7): ReLU()\n",
       "    (8): Conv2d(64, 64, kernel_size=(5, 5), stride=(1, 1), padding=(2, 2))\n",
       "    (9): ReLU()\n",
       "    (10): MaxPool2d(kernel_size=2, stride=2, padding=0, dilation=1, ceil_mode=False)\n",
       "    (11): Dropout(p=0.2, inplace=False)\n",
       "    (12): Conv2d(64, 64, kernel_size=(3, 3), stride=(1, 1), padding=(1, 1))\n",
       "    (13): ReLU()\n",
       "    (14): Conv2d(64, 64, kernel_size=(3, 3), stride=(1, 1), padding=(1, 1))\n",
       "    (15): ReLU()\n",
       "    (16): MaxPool2d(kernel_size=2, stride=2, padding=0, dilation=1, ceil_mode=False)\n",
       "    (17): Dropout(p=0.2, inplace=False)\n",
       "  )\n",
       "  (fc_layers): Sequential(\n",
       "    (0): Dropout(p=0.2, inplace=False)\n",
       "    (1): Linear(in_features=576, out_features=512, bias=True)\n",
       "    (2): Dropout(p=0.2, inplace=False)\n",
       "    (3): Linear(in_features=512, out_features=256, bias=True)\n",
       "    (4): Dropout(p=0.2, inplace=False)\n",
       "    (5): Linear(in_features=256, out_features=256, bias=True)\n",
       "    (6): Dropout(p=0.2, inplace=False)\n",
       "    (7): Linear(in_features=256, out_features=10, bias=True)\n",
       "  )\n",
       ")"
      ]
     },
     "execution_count": 7,
     "metadata": {},
     "output_type": "execute_result"
    }
   ],
   "source": [
    "def calc_out(in_layers, stride, padding, kernel_size, pool_stride):\n",
    "    \"\"\"\n",
    "    Helper function for computing the number of outputs from a\n",
    "    conv layer\n",
    "    \"\"\"\n",
    "    return int((1+(in_layers - kernel_size + (2*padding))/stride)/pool_stride)\n",
    "\n",
    "# define the CNN architecture\n",
    "class Net(nn.Module):\n",
    "    def __init__(self):\n",
    "        super(Net, self).__init__()\n",
    "\n",
    "        # Some helpful values\n",
    "        inputs      = [1,32,64,64]\n",
    "        kernel_size = [5,5,3]\n",
    "        stride      = [1,1,1]\n",
    "        pool_stride = [2,2,2]\n",
    "\n",
    "        # Layer lists\n",
    "        layers = []\n",
    "\n",
    "        self.out   = 28\n",
    "        self.depth = inputs[-1]\n",
    "        for i in range(len(kernel_size)):\n",
    "            # Get some variables\n",
    "            padding = int(kernel_size[i]/2)\n",
    "\n",
    "            # Define the output from this layer\n",
    "            self.out = calc_out(self.out, stride[i], padding,\n",
    "                                kernel_size[i], pool_stride[i])\n",
    "\n",
    "            # convolutional layer 1\n",
    "            layers.append(nn.Conv2d(inputs[i], inputs[i+1], kernel_size[i], \n",
    "                                       stride=stride[i], padding=padding))\n",
    "            layers.append(nn.ReLU())\n",
    "            \n",
    "            # convolutional layer 2\n",
    "            layers.append(nn.Conv2d(inputs[i+1], inputs[i+1], kernel_size[i], \n",
    "                                       stride=stride[i], padding=padding))\n",
    "            layers.append(nn.ReLU())\n",
    "            # maxpool layer\n",
    "            layers.append(nn.MaxPool2d(pool_stride[i],pool_stride[i]))\n",
    "            layers.append(nn.Dropout(p=0.2))\n",
    "\n",
    "        self.cnn_layers = nn.Sequential(*layers)\n",
    "        \n",
    "        print(self.depth*self.out*self.out)\n",
    "        \n",
    "        # Now for our fully connected layers\n",
    "        layers2 = []\n",
    "        layers2.append(nn.Dropout(p=0.2))\n",
    "        layers2.append(nn.Linear(self.depth*self.out*self.out, 512))\n",
    "        layers2.append(nn.Dropout(p=0.2))\n",
    "        layers2.append(nn.Linear(512, 256))\n",
    "        layers2.append(nn.Dropout(p=0.2))\n",
    "        layers2.append(nn.Linear(256, 256))\n",
    "        layers2.append(nn.Dropout(p=0.2))\n",
    "        layers2.append(nn.Linear(256, 10))\n",
    "\n",
    "        self.fc_layers = nn.Sequential(*layers2)\n",
    "\n",
    "    def forward(self, x):\n",
    "        x = self.cnn_layers(x)\n",
    "        x = x.view(-1, self.depth*self.out*self.out)\n",
    "        x = self.fc_layers(x)\n",
    "        return x\n",
    "    \n",
    "# create a complete CNN\n",
    "model = Net()\n",
    "model"
   ]
  },
  {
   "cell_type": "code",
   "execution_count": 8,
   "metadata": {
    "execution": {
     "iopub.status.busy": "2021-10-09T22:47:43.311372Z",
     "iopub.status.idle": "2021-10-09T22:47:43.312105Z",
     "shell.execute_reply": "2021-10-09T22:47:43.311953Z",
     "shell.execute_reply.started": "2021-10-09T22:47:43.311935Z"
    },
    "scrolled": true
   },
   "outputs": [
    {
     "name": "stdout",
     "output_type": "stream",
     "text": [
      "Epoch: 0 \tTraining Loss: 0.260248 \tValidation Loss: 0.015653\n",
      "Validation loss decreased (inf --> 0.015653).  Saving model ...\n",
      "Epoch: 1 \tTraining Loss: 0.072273 \tValidation Loss: 0.010736\n",
      "Validation loss decreased (0.015653 --> 0.010736).  Saving model ...\n",
      "Epoch: 2 \tTraining Loss: 0.055049 \tValidation Loss: 0.013053\n",
      "Epoch: 3 \tTraining Loss: 0.045629 \tValidation Loss: 0.007263\n",
      "Validation loss decreased (0.010736 --> 0.007263).  Saving model ...\n",
      "Epoch: 4 \tTraining Loss: 0.041627 \tValidation Loss: 0.007377\n",
      "Epoch: 5 \tTraining Loss: 0.039624 \tValidation Loss: 0.006847\n",
      "Validation loss decreased (0.007263 --> 0.006847).  Saving model ...\n",
      "Epoch: 6 \tTraining Loss: 0.040688 \tValidation Loss: 0.007305\n",
      "Epoch: 7 \tTraining Loss: 0.039148 \tValidation Loss: 0.006564\n",
      "Validation loss decreased (0.006847 --> 0.006564).  Saving model ...\n",
      "Epoch: 8 \tTraining Loss: 0.032376 \tValidation Loss: 0.009442\n",
      "Epoch: 9 \tTraining Loss: 0.031862 \tValidation Loss: 0.010304\n",
      "Epoch: 10 \tTraining Loss: 0.032057 \tValidation Loss: 0.008883\n",
      "Epoch: 11 \tTraining Loss: 0.028822 \tValidation Loss: 0.007504\n",
      "Epoch: 12 \tTraining Loss: 0.036214 \tValidation Loss: 0.008042\n",
      "Epoch: 13 \tTraining Loss: 0.028385 \tValidation Loss: 0.009794\n",
      "Epoch: 14 \tTraining Loss: 0.028744 \tValidation Loss: 0.010057\n",
      "Epoch: 15 \tTraining Loss: 0.028451 \tValidation Loss: 0.008487\n",
      "Epoch: 16 \tTraining Loss: 0.028851 \tValidation Loss: 0.010360\n",
      "Epoch: 17 \tTraining Loss: 0.024519 \tValidation Loss: 0.009097\n",
      "Epoch: 18 \tTraining Loss: 0.027734 \tValidation Loss: 0.010471\n",
      "Epoch: 19 \tTraining Loss: 0.026355 \tValidation Loss: 0.009300\n",
      "Epoch: 20 \tTraining Loss: 0.027809 \tValidation Loss: 0.007424\n",
      "Epoch: 21 \tTraining Loss: 0.022997 \tValidation Loss: 0.009120\n",
      "Epoch: 22 \tTraining Loss: 0.025221 \tValidation Loss: 0.008741\n",
      "Epoch: 23 \tTraining Loss: 0.021145 \tValidation Loss: 0.009926\n",
      "Epoch: 24 \tTraining Loss: 0.021606 \tValidation Loss: 0.009413\n"
     ]
    }
   ],
   "source": [
    "# specify loss function\n",
    "criterion = nn.CrossEntropyLoss()\n",
    "\n",
    "# specify optimizer\n",
    "optimizer = optim.Adam(model.parameters(), lr=0.0005)\n",
    "# number of epochs to train the model\n",
    "n_epochs = 25 # you may increase this number to train a final model\n",
    "\n",
    "valid_loss_min = np.Inf # track change in validation loss\n",
    "\n",
    "model.to(device)\n",
    "tLoss, vLoss = [], []\n",
    "for epoch in range(n_epochs):\n",
    "\n",
    "    # keep track of training and validation loss\n",
    "    train_loss = 0.0\n",
    "    valid_loss = 0.0\n",
    "    \n",
    "    #########\n",
    "    # train #\n",
    "    #########\n",
    "    model.train()\n",
    "    for data, target in train_loader:\n",
    "        # move tensors to GPU if CUDA is available\n",
    "        data   = data.to(device)\n",
    "        target = target.to(device)\n",
    "        \n",
    "        # clear the gradients of all optimized variables\n",
    "        optimizer.zero_grad()\n",
    "        # forward pass: compute predicted outputs by passing inputs to the model\n",
    "        output = model(data)\n",
    "        # calculate the batch loss\n",
    "        loss = criterion(output, target)\n",
    "        # backward pass: compute gradient of the loss with respect to model parameters\n",
    "        loss.backward()\n",
    "        # perform a single optimization step (parameter update)\n",
    "        optimizer.step()\n",
    "        # update training loss\n",
    "        train_loss += loss.item()*data.size(0)\n",
    "        \n",
    "    ############\n",
    "    # validate #\n",
    "    ############\n",
    "    model.eval()\n",
    "    for data, target in valid_loader:\n",
    "        # move tensors to GPU if CUDA is available\n",
    "        data   = data.to(device)\n",
    "        target = target.to(device)\n",
    "        # forward pass: compute predicted outputs by passing inputs to the model\n",
    "        output = model(data)\n",
    "        # calculate the batch loss\n",
    "        loss = criterion(output, target)\n",
    "        # update average validation loss \n",
    "        valid_loss += loss.item()*data.size(0)\n",
    "    \n",
    "    # calculate average losses\n",
    "    train_loss = train_loss/len(train_loader.dataset)\n",
    "    valid_loss = valid_loss/len(valid_loader.dataset)\n",
    "    tLoss.append(train_loss)\n",
    "    vLoss.append(valid_loss)\n",
    "        \n",
    "    # print training/validation statistics \n",
    "    print('Epoch: {} \\tTraining Loss: {:.6f} \\tValidation Loss: {:.6f}'.format(\n",
    "        epoch, train_loss, valid_loss))\n",
    "    \n",
    "    # save model if validation loss has decreased\n",
    "    if valid_loss <= valid_loss_min:\n",
    "        print('Validation loss decreased ({:.6f} --> {:.6f}).  Saving model ...'.format(\n",
    "        valid_loss_min,\n",
    "        valid_loss))\n",
    "        torch.save(model.state_dict(), 'model_cifar.pt')\n",
    "        valid_loss_min = valid_loss"
   ]
  },
  {
   "cell_type": "code",
   "execution_count": 9,
   "metadata": {
    "execution": {
     "iopub.status.busy": "2021-10-09T22:47:43.312879Z",
     "iopub.status.idle": "2021-10-09T22:47:43.313559Z",
     "shell.execute_reply": "2021-10-09T22:47:43.313388Z",
     "shell.execute_reply.started": "2021-10-09T22:47:43.313368Z"
    }
   },
   "outputs": [
    {
     "data": {
      "image/png": "[encoded data removed]",
      "text/plain": [
       "<Figure size 432x288 with 1 Axes>"
      ]
     },
     "metadata": {
      "needs_background": "light"
     },
     "output_type": "display_data"
    }
   ],
   "source": [
    "# Plot the resulting loss over time\n",
    "plt.plot(tLoss, label='Training Loss')\n",
    "plt.plot(vLoss, label='Validation Loss')\n",
    "plt.legend();"
   ]
  },
  {
   "cell_type": "code",
   "execution_count": 10,
   "metadata": {
    "execution": {
     "iopub.status.busy": "2021-10-09T22:47:43.31448Z",
     "iopub.status.idle": "2021-10-09T22:47:43.315284Z",
     "shell.execute_reply": "2021-10-09T22:47:43.315101Z",
     "shell.execute_reply.started": "2021-10-09T22:47:43.315076Z"
    }
   },
   "outputs": [],
   "source": [
    "model.load_state_dict(torch.load('model_cifar.pt'));"
   ]
  },
  {
   "cell_type": "code",
   "execution_count": 11,
   "metadata": {
    "execution": {
     "iopub.status.busy": "2021-10-09T22:47:43.316072Z",
     "iopub.status.idle": "2021-10-09T22:47:43.31708Z",
     "shell.execute_reply": "2021-10-09T22:47:43.31679Z",
     "shell.execute_reply.started": "2021-10-09T22:47:43.316757Z"
    }
   },
   "outputs": [
    {
     "name": "stdout",
     "output_type": "stream",
     "text": [
      "Test Loss: 0.006564\n",
      "\n",
      "Test Accuracy of   0: 98% (793/802)\n",
      "Test Accuracy of   1: 99% (909/913)\n",
      "Test Accuracy of   2: 99% (875/879)\n",
      "Test Accuracy of   3: 99% (846/850)\n",
      "Test Accuracy of   4: 98% (786/795)\n",
      "Test Accuracy of   5: 98% (755/763)\n",
      "Test Accuracy of   6: 99% (831/836)\n",
      "Test Accuracy of   7: 99% (884/891)\n",
      "Test Accuracy of   8: 98% (779/788)\n",
      "Test Accuracy of   9: 98% (869/883)\n",
      "\n",
      "Test Accuracy (Overall): 99% (8327/8400)\n"
     ]
    }
   ],
   "source": [
    "# track test loss\n",
    "test_loss     = 0.0\n",
    "class_correct = [0]*10\n",
    "class_total   = [0]*10\n",
    "\n",
    "model.eval()\n",
    "\n",
    "# For generating confusion matrix\n",
    "conf_matrix = np.zeros((10,10))\n",
    "\n",
    "# iterate over test data\n",
    "for data, target in valid_loader:\n",
    "    # move tensors to GPU if CUDA is available\n",
    "    data   = data.to(device)\n",
    "    target = target.to(device)\n",
    "    # forward pass: compute predicted outputs by passing inputs to the model\n",
    "    output = model(data)\n",
    "    # calculate the batch loss\n",
    "    loss = criterion(output, target)\n",
    "    # update test loss \n",
    "    test_loss += loss.item()*data.size(0)\n",
    "    # convert output probabilities to predicted class\n",
    "    _, pred = torch.max(output, 1)    \n",
    "    # compare predictions to true label\n",
    "    correct_tensor = pred.eq(target.data.view_as(pred))\n",
    "    correct = np.squeeze(correct_tensor.numpy()) if device == \"cpu\" else np.squeeze(correct_tensor.cpu().numpy())\n",
    "    # calculate test accuracy for each object class\n",
    "    for i in range(target.size(0)):\n",
    "        label = target.data[i]\n",
    "        class_correct[label] += correct[i].item()\n",
    "        class_total[label] += 1\n",
    "        \n",
    "        # Update confusion matrix\n",
    "        conf_matrix[label][pred.data[i]] += 1\n",
    "\n",
    "# average test loss\n",
    "test_loss = test_loss/len(valid_loader.dataset)\n",
    "print('Test Loss: {:.6f}\\n'.format(test_loss))\n",
    "\n",
    "for i in range(10):\n",
    "    if class_total[i] > 0:\n",
    "        print('Test Accuracy of %3s: %2d%% (%2d/%2d)' % (\n",
    "            i, 100 * class_correct[i] / class_total[i],\n",
    "            np.sum(class_correct[i]), np.sum(class_total[i])))\n",
    "    else:\n",
    "        print('Test Accuracy of %3s: N/A (no training examples)' % (classes[i]))\n",
    "\n",
    "print('\\nTest Accuracy (Overall): %2d%% (%2d/%2d)' % (\n",
    "    100. * np.sum(class_correct) / np.sum(class_total),\n",
    "    np.sum(class_correct), np.sum(class_total)))"
   ]
  },
  {
   "cell_type": "code",
   "execution_count": 12,
   "metadata": {
    "execution": {
     "iopub.status.busy": "2021-10-09T22:47:43.318206Z",
     "iopub.status.idle": "2021-10-09T22:47:43.319151Z",
     "shell.execute_reply": "2021-10-09T22:47:43.318901Z",
     "shell.execute_reply.started": "2021-10-09T22:47:43.318876Z"
    }
   },
   "outputs": [],
   "source": [
    "# Define the test data loader\n",
    "test        = pd.read_csv(\"../input/digit-recognizer/test.csv\")\n",
    "test_X      = get_digits(test)\n",
    "test_loader = torch.utils.data.DataLoader(test_X, batch_size=batch_size, \n",
    "                                          num_workers=num_workers)"
   ]
  },
  {
   "cell_type": "code",
   "execution_count": 13,
   "metadata": {
    "execution": {
     "iopub.status.busy": "2021-10-09T22:47:43.320206Z",
     "iopub.status.idle": "2021-10-09T22:47:43.320947Z",
     "shell.execute_reply": "2021-10-09T22:47:43.320756Z",
     "shell.execute_reply.started": "2021-10-09T22:47:43.320735Z"
    }
   },
   "outputs": [],
   "source": [
    "# Create storage objects\n",
    "ImageId, Label = [],[]\n",
    "\n",
    "# Loop through the data and get the predictions\n",
    "for data in test_loader:\n",
    "    # Move tensors to GPU if CUDA is available\n",
    "    data = data.to(device)\n",
    "    # Make the predictions\n",
    "    output = model(data)\n",
    "    # Get the most likely predicted digit\n",
    "    _, pred = torch.max(output, 1)\n",
    "    \n",
    "    for i in range(len(pred)):        \n",
    "        ImageId.append(len(ImageId)+1)\n",
    "        Label.append(pred[i].cpu().numpy())"
   ]
  },
  {
   "cell_type": "code",
   "execution_count": 14,
   "metadata": {
    "execution": {
     "iopub.status.busy": "2021-10-09T22:47:43.321845Z",
     "iopub.status.idle": "2021-10-09T22:47:43.322697Z",
     "shell.execute_reply": "2021-10-09T22:47:43.322537Z",
     "shell.execute_reply.started": "2021-10-09T22:47:43.322519Z"
    }
   },
   "outputs": [
    {
     "name": "stdout",
     "output_type": "stream",
     "text": [
      "done\n"
     ]
    }
   ],
   "source": [
    "# Submission\n",
    "output = pd.DataFrame(data={'ImageId':ImageId, 'Label':Label})\n",
    "output = output.to_csv(\"./output/Submission.csv\", index=False)\n",
    "print('done')"
   ]
  }
 ],
 "metadata": {
  "kernelspec": {
   "display_name": "Python 3",
   "language": "python",
   "name": "python3"
  },
  "language_info": {
   "codemirror_mode": {
    "name": "ipython",
    "version": 3
   },
   "file_extension": ".py",
   "mimetype": "text/x-python",
   "name": "python",
   "nbconvert_exporter": "python",
   "pygments_lexer": "ipython3",
   "version": "3.8.5"
  }
 },
 "nbformat": 4,
 "nbformat_minor": 4
}
