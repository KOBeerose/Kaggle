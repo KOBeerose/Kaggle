{
  "nbformat": 4,
  "nbformat_minor": 0,
  "metadata": {
    "colab": {
      "name": "Code 1.ipynb",
      "provenance": [],
      "collapsed_sections": []
    },
    "kernelspec": {
      "name": "python3",
      "display_name": "Python 3"
    },
    "language_info": {
      "name": "python"
    }
  },
  "cells": [
    {
      "cell_type": "code",
      "execution_count": null,
      "metadata": {
        "colab": {
          "base_uri": "https://localhost:8080/"
        },
        "id": "ijzg0lbCL3nS",
        "outputId": "8b3c8dd3-fbc8-408a-8f73-cc18ea1f3e66"
      },
      "outputs": [
        {
          "output_type": "stream",
          "name": "stdout",
          "text": [
            "Mounted at /content/drive/\n"
          ]
        }
      ],
      "source": [
        "from google.colab import drive\n",
        "drive.mount('/content/drive/')"
      ]
    },
    {
      "cell_type": "code",
      "source": [
        "pip install catboost"
      ],
      "metadata": {
        "id": "KWf6_tEN3lb3"
      },
      "execution_count": null,
      "outputs": []
    },
    {
      "cell_type": "code",
      "source": [
        "# We start by importing the libraries that we will need in the following code \n",
        "import pandas as pd  \n",
        "import numpy as np  \n",
        "import seaborn as sns\n",
        "import math\n",
        "import matplotlib.pyplot as plt  \n",
        "import seaborn as seabornInstance \n",
        "import statsmodels.api as sm\n",
        "from sklearn.model_selection import train_test_split \n",
        "from sklearn.linear_model import LinearRegression\n",
        "import xgboost as xgb\n",
        "from sklearn.ensemble import RandomForestRegressor\n",
        "from sklearn.model_selection import train_test_split\n",
        "from sklearn.metrics import mean_absolute_error\n",
        "from sklearn.linear_model import LinearRegression\n",
        "from sklearn.tree import DecisionTreeRegressor\n",
        "from sklearn.dummy import DummyRegressor\n",
        "from catboost import CatBoostRegressor\n",
        "from sklearn import metrics\n",
        "import scipy\n",
        "import lightgbm\n",
        "import statistics\n",
        "import datetime as dt"
      ],
      "metadata": {
        "id": "g_OSpGXYMB4a",
        "colab": {
          "base_uri": "https://localhost:8080/"
        },
        "outputId": "f61a2398-d928-436b-9515-db083526d800"
      },
      "execution_count": null,
      "outputs": [
        {
          "output_type": "stream",
          "name": "stderr",
          "text": [
            "/usr/local/lib/python3.7/dist-packages/statsmodels/tools/_testing.py:19: FutureWarning: pandas.util.testing is deprecated. Use the functions in the public API at pandas.testing instead.\n",
            "  import pandas.util.testing as tm\n"
          ]
        }
      ]
    },
    {
      "cell_type": "markdown",
      "source": [
        "**In this part we import the data from the csv file, process it so that it can be interpreted by the code and apply the appropriate regressors.** "
      ],
      "metadata": {
        "id": "DVyNz7Zu2smQ"
      }
    },
    {
      "cell_type": "code",
      "source": [
        "# We read the training and test data \n",
        "data = pd.read_csv(\"/content/data_6.csv\",encoding='latin-1',sep=';')\n",
        "data_test=pd.read_csv(\"/content/test_6.csv\",encoding='latin-1',sep=';')"
      ],
      "metadata": {
        "id": "ageFPS-bMFE4"
      },
      "execution_count": null,
      "outputs": []
    },
    {
      "cell_type": "code",
      "source": [
        "#Remove columns with many empty cells or repeated columns \n",
        "data=data.drop(columns=['Mos.','Grp.Crop','birth.day','second.feed.1.date','second.feed..2.date'])\n",
        "data_test=data_test.drop(columns=['Mos.','Grp.Crop','birth.day','second.feed.1.date','second.feed..2.date'])"
      ],
      "metadata": {
        "id": "tePyvjS0S2K1"
      },
      "execution_count": null,
      "outputs": []
    },
    {
      "cell_type": "code",
      "source": [
        "#In this code cell we make a text treatment of the data by replacing the spaces, normalize the texts to avoid the redundancy and convert the whole after in type Float\n",
        "columns=data.columns\n",
        "columns_test=data_test.columns\n",
        "\n",
        "for i in range(0,len(columns)):\n",
        "  try:\n",
        "    data[columns[i]]=data[columns[i]].str.replace(' ','')\n",
        "  except:\n",
        "    pass\n",
        "for i in range(0,len(columns_test)):\n",
        "  try:\n",
        "    data_test[columns_test[i]]=data_test[columns_test[i]].str.replace(' ','')\n",
        "  except:\n",
        "    pass\n",
        "for i in range(0,len(columns)):\n",
        "  try:\n",
        "    data[columns[i]]=data[columns[i]].str.capitalize()\n",
        "  except:\n",
        "    pass\n",
        "for i in range(0,len(columns)):\n",
        "  try:\n",
        "    data_test[columns_test[i]]=data_test[columns_test[i]].str.capitalize()\n",
        "  except:\n",
        "    pass\n",
        "for i in range(1,len(columns)):\n",
        "  try:\n",
        "    data[columns[i]]=data[columns[i]].astype(float)\n",
        "  except:\n",
        "    pass\n",
        "for i in range(1,len(columns)):\n",
        "  try:\n",
        "    data_test[columns_test[i]]=data_test[columns_test[i]].astype(float)\n",
        "  except:\n",
        "    pass"
      ],
      "metadata": {
        "id": "wskSRAM_Un0y"
      },
      "execution_count": null,
      "outputs": []
    },
    {
      "cell_type": "code",
      "source": [
        "#We replace the empty cells of the data represented by - by np.nan then by the mean of each column \n",
        "data=data.replace(159753,np.nan) # It is noted that a manipulation on excel was made to replace the - by a number (159753)\n",
        "data_test=data_test.replace(159753,np.nan)\n",
        "\n",
        "data=data.replace(np.nan,data.mean(skipna=True))\n",
        "data_test=data_test.replace(np.nan,data_test.mean(skipna=True))"
      ],
      "metadata": {
        "id": "5cKym0yQSu-Y"
      },
      "execution_count": null,
      "outputs": []
    },
    {
      "cell_type": "code",
      "source": [
        "#We parse the dates of the data in datetime and we make a mapping \n",
        "\n",
        "data['sampling.date']= pd.to_datetime(data['sampling.date'])\n",
        "data_test['sampling.date']= pd.to_datetime(data_test['sampling.date'])\n",
        "\n",
        "data['sampling.date']=data['sampling.date'].map(dt.datetime.toordinal)\n",
        "data_test['sampling.date']=data_test['sampling.date'].map(dt.datetime.toordinal)"
      ],
      "metadata": {
        "id": "-u4haFiHTDXD"
      },
      "execution_count": null,
      "outputs": []
    },
    {
      "cell_type": "code",
      "source": [
        "#We factor the columns whose values are presented as groups \n",
        "data = pd.get_dummies(data, columns=['Sampling.Timing.Vs.second.feed.timing','second.feed..2','Province','Agroecological.zones','Crop','Regime','Code_Stage','Base.Feed','Second.feed.1'])\n",
        "data_test = pd.get_dummies(data_test, columns=['Sampling.Timing.Vs.second.feed.timing','second.feed..2','Province','Agroecological.zones','Crop','Regime','Code_Stage','Base.Feed','Second.feed.1'])"
      ],
      "metadata": {
        "id": "1SIIuFiCZmoo"
      },
      "execution_count": null,
      "outputs": []
    },
    {
      "cell_type": "code",
      "source": [
        "# In the column PROVINCE some provinces are not present in the test data so we add them factorized then parse them into uint8\n",
        "M=[0]*238\n",
        "data_test['Province_Elkelaadessraghna']=M\n",
        "data_test[\"Province_M'diq159753fnideq\"]=M\n",
        "data_test['Province_Rehamna']=M\n",
        "data_test['Province_Elkelaadessraghna']=data_test['Province_Elkelaadessraghna'].astype(np.uint8)\n",
        "data_test[\"Province_M'diq159753fnideq\"]=data_test[\"Province_M'diq159753fnideq\"].astype(np.uint8)\n",
        "data_test['Province_Rehamna']=data_test['Province_Rehamna'].astype(np.uint8)"
      ],
      "metadata": {
        "id": "aeGSdZUqZrVr"
      },
      "execution_count": null,
      "outputs": []
    },
    {
      "cell_type": "code",
      "source": [
        "#We define a certain order of the data \n",
        "columns=list(data.columns)\n",
        "columns.sort()\n",
        "data=data[columns]\n",
        "columns_test=list(data_test.columns)\n",
        "columns_test.sort()\n",
        "data_test=data_test[columns_test]"
      ],
      "metadata": {
        "id": "XvZSP-qabX-J"
      },
      "execution_count": null,
      "outputs": []
    },
    {
      "cell_type": "code",
      "source": [
        "#We take a global look at the data \n",
        "data.describe()"
      ],
      "metadata": {
        "colab": {
          "base_uri": "https://localhost:8080/",
          "height": 394
        },
        "id": "4zE62w2M7Iry",
        "outputId": "40bc914c-c169-4577-b804-3d33d54d498d"
      },
      "execution_count": null,
      "outputs": [
        {
          "output_type": "execute_result",
          "data": {
            "text/html": [
              "\n",
              "  <div id=\"df-65900556-b3bb-4da9-bcbe-edaf762459f6\">\n",
              "    <div class=\"colab-df-container\">\n",
              "      <div>\n",
              "<style scoped>\n",
              "    .dataframe tbody tr th:only-of-type {\n",
              "        vertical-align: middle;\n",
              "    }\n",
              "\n",
              "    .dataframe tbody tr th {\n",
              "        vertical-align: top;\n",
              "    }\n",
              "\n",
              "    .dataframe thead th {\n",
              "        text-align: right;\n",
              "    }\n",
              "</style>\n",
              "<table border=\"1\" class=\"dataframe\">\n",
              "  <thead>\n",
              "    <tr style=\"text-align: right;\">\n",
              "      <th></th>\n",
              "      <th>AI</th>\n",
              "      <th>Agroecological.zones_Défavorable</th>\n",
              "      <th>Agroecological.zones_Favorable</th>\n",
              "      <th>Agroecological.zones_Favorablesupérieur</th>\n",
              "      <th>Agroecological.zones_Interemédiaire</th>\n",
              "      <th>Agroecological.zones_Montagne</th>\n",
              "      <th>B1</th>\n",
              "      <th>B2</th>\n",
              "      <th>B3</th>\n",
              "      <th>B4</th>\n",
              "      <th>B5</th>\n",
              "      <th>B6</th>\n",
              "      <th>B6_VCID_1</th>\n",
              "      <th>B6_VCID_2</th>\n",
              "      <th>B7</th>\n",
              "      <th>Base.Feed_No</th>\n",
              "      <th>Base.Feed_Yes</th>\n",
              "      <th>Code_Stage_S1</th>\n",
              "      <th>Code_Stage_S2</th>\n",
              "      <th>Column1</th>\n",
              "      <th>Crop_Avoine</th>\n",
              "      <th>Crop_Blédur</th>\n",
              "      <th>Crop_Blétendre</th>\n",
              "      <th>Crop_Orge</th>\n",
              "      <th>ETP_jan_mars</th>\n",
              "      <th>ETP_oct_dec</th>\n",
              "      <th>ETP_oct_mars</th>\n",
              "      <th>EVI_Diff</th>\n",
              "      <th>EVI_RUE</th>\n",
              "      <th>EVI_fev</th>\n",
              "      <th>EVI_jan</th>\n",
              "      <th>EVI_jan_mars</th>\n",
              "      <th>EVI_mars</th>\n",
              "      <th>EVI_max</th>\n",
              "      <th>EVI_min</th>\n",
              "      <th>EVI_oct_dec</th>\n",
              "      <th>EVI_oct_mars</th>\n",
              "      <th>EVIsum</th>\n",
              "      <th>Ec</th>\n",
              "      <th>FAPAR_RUE</th>\n",
              "      <th>...</th>\n",
              "      <th>Province_Meknès</th>\n",
              "      <th>Province_Myyaacoub</th>\n",
              "      <th>Province_Ouezzane</th>\n",
              "      <th>Province_Rehamna</th>\n",
              "      <th>Province_Safi</th>\n",
              "      <th>Province_Sefrou</th>\n",
              "      <th>Province_Settat</th>\n",
              "      <th>Province_Sidibennour</th>\n",
              "      <th>Province_Sidikacem</th>\n",
              "      <th>Province_Sidislimane</th>\n",
              "      <th>Province_Tanger159753assilah</th>\n",
              "      <th>Province_Taounate</th>\n",
              "      <th>Province_Taza</th>\n",
              "      <th>Province_Tétouan</th>\n",
              "      <th>Regime_Bour</th>\n",
              "      <th>Regime_Irrigué</th>\n",
              "      <th>Sampling.Timing.Vs.second.feed.timing_After</th>\n",
              "      <th>Sampling.Timing.Vs.second.feed.timing_Befor</th>\n",
              "      <th>Sampling.Timing.Vs.second.feed.timing_Nontopdress</th>\n",
              "      <th>Sampling.Timing.Vs.second.feed.timing_Noseconden</th>\n",
              "      <th>Second.feed.1_No</th>\n",
              "      <th>Second.feed.1_Yes</th>\n",
              "      <th>Target</th>\n",
              "      <th>X1</th>\n",
              "      <th>X10</th>\n",
              "      <th>X11</th>\n",
              "      <th>X12</th>\n",
              "      <th>X13</th>\n",
              "      <th>X2</th>\n",
              "      <th>X3</th>\n",
              "      <th>X4</th>\n",
              "      <th>X5</th>\n",
              "      <th>X6</th>\n",
              "      <th>X7</th>\n",
              "      <th>X8</th>\n",
              "      <th>X9</th>\n",
              "      <th>pH</th>\n",
              "      <th>sampling.date</th>\n",
              "      <th>second.feed..2_No</th>\n",
              "      <th>second.feed..2_Yes</th>\n",
              "    </tr>\n",
              "  </thead>\n",
              "  <tbody>\n",
              "    <tr>\n",
              "      <th>count</th>\n",
              "      <td>2096.000000</td>\n",
              "      <td>2096.000000</td>\n",
              "      <td>2096.000000</td>\n",
              "      <td>2096.000000</td>\n",
              "      <td>2096.000000</td>\n",
              "      <td>2096.000000</td>\n",
              "      <td>2096.000000</td>\n",
              "      <td>2096.000000</td>\n",
              "      <td>2096.000000</td>\n",
              "      <td>2096.000000</td>\n",
              "      <td>2096.000000</td>\n",
              "      <td>2096.000000</td>\n",
              "      <td>2096.000000</td>\n",
              "      <td>2096.000000</td>\n",
              "      <td>2096.000000</td>\n",
              "      <td>2096.000000</td>\n",
              "      <td>2096.000000</td>\n",
              "      <td>2096.000000</td>\n",
              "      <td>2096.000000</td>\n",
              "      <td>2096.000000</td>\n",
              "      <td>2096.000000</td>\n",
              "      <td>2096.000000</td>\n",
              "      <td>2096.000000</td>\n",
              "      <td>2096.00000</td>\n",
              "      <td>2096.000000</td>\n",
              "      <td>2096.000000</td>\n",
              "      <td>2096.000000</td>\n",
              "      <td>2096.000000</td>\n",
              "      <td>2096.000000</td>\n",
              "      <td>2096.000000</td>\n",
              "      <td>2096.000000</td>\n",
              "      <td>2096.000000</td>\n",
              "      <td>2096.000000</td>\n",
              "      <td>2096.000000</td>\n",
              "      <td>2096.000000</td>\n",
              "      <td>2096.000000</td>\n",
              "      <td>2096.000000</td>\n",
              "      <td>2096.000000</td>\n",
              "      <td>2096.000000</td>\n",
              "      <td>2096.000000</td>\n",
              "      <td>...</td>\n",
              "      <td>2096.000000</td>\n",
              "      <td>2096.000000</td>\n",
              "      <td>2096.000000</td>\n",
              "      <td>2096.000000</td>\n",
              "      <td>2096.000000</td>\n",
              "      <td>2096.000000</td>\n",
              "      <td>2096.000000</td>\n",
              "      <td>2096.000000</td>\n",
              "      <td>2096.000000</td>\n",
              "      <td>2096.000000</td>\n",
              "      <td>2096.000000</td>\n",
              "      <td>2096.000000</td>\n",
              "      <td>2096.000000</td>\n",
              "      <td>2096.000000</td>\n",
              "      <td>2096.000000</td>\n",
              "      <td>2096.000000</td>\n",
              "      <td>2096.000000</td>\n",
              "      <td>2096.000000</td>\n",
              "      <td>2096.000000</td>\n",
              "      <td>2096.000000</td>\n",
              "      <td>2096.000000</td>\n",
              "      <td>2096.000000</td>\n",
              "      <td>2096.000000</td>\n",
              "      <td>2096.000000</td>\n",
              "      <td>2096.000000</td>\n",
              "      <td>2096.000000</td>\n",
              "      <td>2096.000000</td>\n",
              "      <td>2096.000000</td>\n",
              "      <td>2096.000000</td>\n",
              "      <td>2096.000000</td>\n",
              "      <td>2096.000000</td>\n",
              "      <td>2096.000000</td>\n",
              "      <td>2096.000000</td>\n",
              "      <td>2096.000000</td>\n",
              "      <td>2096.000000</td>\n",
              "      <td>2096.000000</td>\n",
              "      <td>2096.00000</td>\n",
              "      <td>2096.000000</td>\n",
              "      <td>2096.000000</td>\n",
              "      <td>2096.000000</td>\n",
              "    </tr>\n",
              "    <tr>\n",
              "      <th>mean</th>\n",
              "      <td>2.327358</td>\n",
              "      <td>0.110687</td>\n",
              "      <td>0.295324</td>\n",
              "      <td>0.178912</td>\n",
              "      <td>0.312023</td>\n",
              "      <td>0.103053</td>\n",
              "      <td>575.020268</td>\n",
              "      <td>909.989172</td>\n",
              "      <td>924.005051</td>\n",
              "      <td>3607.147866</td>\n",
              "      <td>2292.055338</td>\n",
              "      <td>3353.090013</td>\n",
              "      <td>334.361281</td>\n",
              "      <td>334.358831</td>\n",
              "      <td>1396.967306</td>\n",
              "      <td>0.236641</td>\n",
              "      <td>0.763359</td>\n",
              "      <td>0.443702</td>\n",
              "      <td>0.556298</td>\n",
              "      <td>1167.260019</td>\n",
              "      <td>0.017176</td>\n",
              "      <td>0.234256</td>\n",
              "      <td>0.450859</td>\n",
              "      <td>0.29771</td>\n",
              "      <td>2277.479494</td>\n",
              "      <td>260.179865</td>\n",
              "      <td>615.592334</td>\n",
              "      <td>-0.315305</td>\n",
              "      <td>1.263908</td>\n",
              "      <td>0.416961</td>\n",
              "      <td>0.381651</td>\n",
              "      <td>0.393754</td>\n",
              "      <td>0.364153</td>\n",
              "      <td>0.463821</td>\n",
              "      <td>0.148526</td>\n",
              "      <td>0.215895</td>\n",
              "      <td>0.324537</td>\n",
              "      <td>3.500533</td>\n",
              "      <td>0.261161</td>\n",
              "      <td>3.801832</td>\n",
              "      <td>...</td>\n",
              "      <td>0.044847</td>\n",
              "      <td>0.018130</td>\n",
              "      <td>0.029103</td>\n",
              "      <td>0.019561</td>\n",
              "      <td>0.041031</td>\n",
              "      <td>0.007156</td>\n",
              "      <td>0.064885</td>\n",
              "      <td>0.034351</td>\n",
              "      <td>0.041985</td>\n",
              "      <td>0.028149</td>\n",
              "      <td>0.013836</td>\n",
              "      <td>0.053912</td>\n",
              "      <td>0.044847</td>\n",
              "      <td>0.010496</td>\n",
              "      <td>0.415553</td>\n",
              "      <td>0.051050</td>\n",
              "      <td>0.248569</td>\n",
              "      <td>0.021947</td>\n",
              "      <td>0.410305</td>\n",
              "      <td>0.319179</td>\n",
              "      <td>0.410305</td>\n",
              "      <td>0.589695</td>\n",
              "      <td>2.803106</td>\n",
              "      <td>0.149462</td>\n",
              "      <td>0.353569</td>\n",
              "      <td>0.346682</td>\n",
              "      <td>0.379159</td>\n",
              "      <td>0.131976</td>\n",
              "      <td>0.001965</td>\n",
              "      <td>0.227818</td>\n",
              "      <td>0.138856</td>\n",
              "      <td>0.119893</td>\n",
              "      <td>0.117756</td>\n",
              "      <td>0.103572</td>\n",
              "      <td>0.147371</td>\n",
              "      <td>0.293319</td>\n",
              "      <td>9.48029</td>\n",
              "      <td>737726.352099</td>\n",
              "      <td>0.992366</td>\n",
              "      <td>0.007634</td>\n",
              "    </tr>\n",
              "    <tr>\n",
              "      <th>std</th>\n",
              "      <td>0.936159</td>\n",
              "      <td>0.313819</td>\n",
              "      <td>0.456297</td>\n",
              "      <td>0.383370</td>\n",
              "      <td>0.463430</td>\n",
              "      <td>0.304101</td>\n",
              "      <td>223.813042</td>\n",
              "      <td>335.408622</td>\n",
              "      <td>524.803199</td>\n",
              "      <td>824.552735</td>\n",
              "      <td>742.423854</td>\n",
              "      <td>46.058142</td>\n",
              "      <td>5.172099</td>\n",
              "      <td>5.182101</td>\n",
              "      <td>718.325977</td>\n",
              "      <td>0.425122</td>\n",
              "      <td>0.425122</td>\n",
              "      <td>0.496939</td>\n",
              "      <td>0.496939</td>\n",
              "      <td>673.130605</td>\n",
              "      <td>0.129956</td>\n",
              "      <td>0.423634</td>\n",
              "      <td>0.497698</td>\n",
              "      <td>0.45736</td>\n",
              "      <td>257.132801</td>\n",
              "      <td>60.808106</td>\n",
              "      <td>110.952830</td>\n",
              "      <td>0.148825</td>\n",
              "      <td>0.420790</td>\n",
              "      <td>0.135508</td>\n",
              "      <td>0.119700</td>\n",
              "      <td>0.123327</td>\n",
              "      <td>0.137441</td>\n",
              "      <td>0.145003</td>\n",
              "      <td>0.053797</td>\n",
              "      <td>0.092296</td>\n",
              "      <td>0.103739</td>\n",
              "      <td>0.947760</td>\n",
              "      <td>0.209908</td>\n",
              "      <td>1.148592</td>\n",
              "      <td>...</td>\n",
              "      <td>0.207018</td>\n",
              "      <td>0.133453</td>\n",
              "      <td>0.168136</td>\n",
              "      <td>0.138519</td>\n",
              "      <td>0.198408</td>\n",
              "      <td>0.084313</td>\n",
              "      <td>0.246382</td>\n",
              "      <td>0.182173</td>\n",
              "      <td>0.200602</td>\n",
              "      <td>0.165437</td>\n",
              "      <td>0.116837</td>\n",
              "      <td>0.225898</td>\n",
              "      <td>0.207018</td>\n",
              "      <td>0.101936</td>\n",
              "      <td>0.492935</td>\n",
              "      <td>0.220151</td>\n",
              "      <td>0.432286</td>\n",
              "      <td>0.146544</td>\n",
              "      <td>0.492006</td>\n",
              "      <td>0.466270</td>\n",
              "      <td>0.492006</td>\n",
              "      <td>0.492006</td>\n",
              "      <td>1.079589</td>\n",
              "      <td>0.024371</td>\n",
              "      <td>0.083253</td>\n",
              "      <td>0.082170</td>\n",
              "      <td>0.088179</td>\n",
              "      <td>0.037156</td>\n",
              "      <td>0.001168</td>\n",
              "      <td>0.076927</td>\n",
              "      <td>0.072268</td>\n",
              "      <td>0.028343</td>\n",
              "      <td>0.033717</td>\n",
              "      <td>0.057638</td>\n",
              "      <td>0.054604</td>\n",
              "      <td>0.062456</td>\n",
              "      <td>0.40471</td>\n",
              "      <td>197.646595</td>\n",
              "      <td>0.087057</td>\n",
              "      <td>0.087057</td>\n",
              "    </tr>\n",
              "    <tr>\n",
              "      <th>min</th>\n",
              "      <td>0.600000</td>\n",
              "      <td>0.000000</td>\n",
              "      <td>0.000000</td>\n",
              "      <td>0.000000</td>\n",
              "      <td>0.000000</td>\n",
              "      <td>0.000000</td>\n",
              "      <td>151.680000</td>\n",
              "      <td>250.130000</td>\n",
              "      <td>132.830000</td>\n",
              "      <td>227.130000</td>\n",
              "      <td>89.760000</td>\n",
              "      <td>3145.250000</td>\n",
              "      <td>306.140000</td>\n",
              "      <td>306.540000</td>\n",
              "      <td>35.080000</td>\n",
              "      <td>0.000000</td>\n",
              "      <td>0.000000</td>\n",
              "      <td>0.000000</td>\n",
              "      <td>0.000000</td>\n",
              "      <td>1.000000</td>\n",
              "      <td>0.000000</td>\n",
              "      <td>0.000000</td>\n",
              "      <td>0.000000</td>\n",
              "      <td>0.00000</td>\n",
              "      <td>1437.610000</td>\n",
              "      <td>32.320000</td>\n",
              "      <td>254.040000</td>\n",
              "      <td>-0.790000</td>\n",
              "      <td>0.000000</td>\n",
              "      <td>-0.020000</td>\n",
              "      <td>0.080000</td>\n",
              "      <td>-0.010000</td>\n",
              "      <td>-0.020000</td>\n",
              "      <td>-0.010000</td>\n",
              "      <td>-0.060000</td>\n",
              "      <td>-0.030000</td>\n",
              "      <td>-0.010000</td>\n",
              "      <td>0.000000</td>\n",
              "      <td>0.000000</td>\n",
              "      <td>0.800000</td>\n",
              "      <td>...</td>\n",
              "      <td>0.000000</td>\n",
              "      <td>0.000000</td>\n",
              "      <td>0.000000</td>\n",
              "      <td>0.000000</td>\n",
              "      <td>0.000000</td>\n",
              "      <td>0.000000</td>\n",
              "      <td>0.000000</td>\n",
              "      <td>0.000000</td>\n",
              "      <td>0.000000</td>\n",
              "      <td>0.000000</td>\n",
              "      <td>0.000000</td>\n",
              "      <td>0.000000</td>\n",
              "      <td>0.000000</td>\n",
              "      <td>0.000000</td>\n",
              "      <td>0.000000</td>\n",
              "      <td>0.000000</td>\n",
              "      <td>0.000000</td>\n",
              "      <td>0.000000</td>\n",
              "      <td>0.000000</td>\n",
              "      <td>0.000000</td>\n",
              "      <td>0.000000</td>\n",
              "      <td>0.000000</td>\n",
              "      <td>0.640000</td>\n",
              "      <td>0.111000</td>\n",
              "      <td>0.026000</td>\n",
              "      <td>0.020000</td>\n",
              "      <td>0.017000</td>\n",
              "      <td>0.007000</td>\n",
              "      <td>0.001000</td>\n",
              "      <td>0.004000</td>\n",
              "      <td>0.002000</td>\n",
              "      <td>0.079000</td>\n",
              "      <td>0.068000</td>\n",
              "      <td>0.036000</td>\n",
              "      <td>0.042000</td>\n",
              "      <td>0.027000</td>\n",
              "      <td>6.60000</td>\n",
              "      <td>737426.000000</td>\n",
              "      <td>0.000000</td>\n",
              "      <td>0.000000</td>\n",
              "    </tr>\n",
              "    <tr>\n",
              "      <th>25%</th>\n",
              "      <td>1.660000</td>\n",
              "      <td>0.000000</td>\n",
              "      <td>0.000000</td>\n",
              "      <td>0.000000</td>\n",
              "      <td>0.000000</td>\n",
              "      <td>0.000000</td>\n",
              "      <td>449.052500</td>\n",
              "      <td>737.112500</td>\n",
              "      <td>625.557500</td>\n",
              "      <td>3189.195000</td>\n",
              "      <td>1856.127500</td>\n",
              "      <td>3329.762500</td>\n",
              "      <td>331.770000</td>\n",
              "      <td>331.650000</td>\n",
              "      <td>932.992500</td>\n",
              "      <td>0.000000</td>\n",
              "      <td>1.000000</td>\n",
              "      <td>0.000000</td>\n",
              "      <td>0.000000</td>\n",
              "      <td>586.750000</td>\n",
              "      <td>0.000000</td>\n",
              "      <td>0.000000</td>\n",
              "      <td>0.000000</td>\n",
              "      <td>0.00000</td>\n",
              "      <td>2108.640000</td>\n",
              "      <td>220.430000</td>\n",
              "      <td>541.392500</td>\n",
              "      <td>-0.420000</td>\n",
              "      <td>0.970000</td>\n",
              "      <td>0.330000</td>\n",
              "      <td>0.300000</td>\n",
              "      <td>0.320000</td>\n",
              "      <td>0.260000</td>\n",
              "      <td>0.370000</td>\n",
              "      <td>0.120000</td>\n",
              "      <td>0.150000</td>\n",
              "      <td>0.250000</td>\n",
              "      <td>2.870000</td>\n",
              "      <td>0.200000</td>\n",
              "      <td>2.980000</td>\n",
              "      <td>...</td>\n",
              "      <td>0.000000</td>\n",
              "      <td>0.000000</td>\n",
              "      <td>0.000000</td>\n",
              "      <td>0.000000</td>\n",
              "      <td>0.000000</td>\n",
              "      <td>0.000000</td>\n",
              "      <td>0.000000</td>\n",
              "      <td>0.000000</td>\n",
              "      <td>0.000000</td>\n",
              "      <td>0.000000</td>\n",
              "      <td>0.000000</td>\n",
              "      <td>0.000000</td>\n",
              "      <td>0.000000</td>\n",
              "      <td>0.000000</td>\n",
              "      <td>0.000000</td>\n",
              "      <td>0.000000</td>\n",
              "      <td>0.000000</td>\n",
              "      <td>0.000000</td>\n",
              "      <td>0.000000</td>\n",
              "      <td>0.000000</td>\n",
              "      <td>0.000000</td>\n",
              "      <td>0.000000</td>\n",
              "      <td>1.970000</td>\n",
              "      <td>0.137000</td>\n",
              "      <td>0.298000</td>\n",
              "      <td>0.294000</td>\n",
              "      <td>0.323000</td>\n",
              "      <td>0.106000</td>\n",
              "      <td>0.001000</td>\n",
              "      <td>0.178000</td>\n",
              "      <td>0.088000</td>\n",
              "      <td>0.104000</td>\n",
              "      <td>0.098000</td>\n",
              "      <td>0.066000</td>\n",
              "      <td>0.113000</td>\n",
              "      <td>0.255000</td>\n",
              "      <td>9.48029</td>\n",
              "      <td>737510.000000</td>\n",
              "      <td>1.000000</td>\n",
              "      <td>0.000000</td>\n",
              "    </tr>\n",
              "    <tr>\n",
              "      <th>50%</th>\n",
              "      <td>2.260000</td>\n",
              "      <td>0.000000</td>\n",
              "      <td>0.000000</td>\n",
              "      <td>0.000000</td>\n",
              "      <td>0.000000</td>\n",
              "      <td>0.000000</td>\n",
              "      <td>575.020268</td>\n",
              "      <td>909.989172</td>\n",
              "      <td>924.005051</td>\n",
              "      <td>3607.147866</td>\n",
              "      <td>2292.055338</td>\n",
              "      <td>3353.090013</td>\n",
              "      <td>334.361281</td>\n",
              "      <td>334.358831</td>\n",
              "      <td>1396.967306</td>\n",
              "      <td>0.000000</td>\n",
              "      <td>1.000000</td>\n",
              "      <td>0.000000</td>\n",
              "      <td>1.000000</td>\n",
              "      <td>1166.500000</td>\n",
              "      <td>0.000000</td>\n",
              "      <td>0.000000</td>\n",
              "      <td>0.000000</td>\n",
              "      <td>0.00000</td>\n",
              "      <td>2248.535000</td>\n",
              "      <td>260.020000</td>\n",
              "      <td>609.500000</td>\n",
              "      <td>-0.310000</td>\n",
              "      <td>1.240000</td>\n",
              "      <td>0.416961</td>\n",
              "      <td>0.380000</td>\n",
              "      <td>0.390000</td>\n",
              "      <td>0.360000</td>\n",
              "      <td>0.470000</td>\n",
              "      <td>0.140000</td>\n",
              "      <td>0.190000</td>\n",
              "      <td>0.320000</td>\n",
              "      <td>3.520000</td>\n",
              "      <td>0.261161</td>\n",
              "      <td>3.720000</td>\n",
              "      <td>...</td>\n",
              "      <td>0.000000</td>\n",
              "      <td>0.000000</td>\n",
              "      <td>0.000000</td>\n",
              "      <td>0.000000</td>\n",
              "      <td>0.000000</td>\n",
              "      <td>0.000000</td>\n",
              "      <td>0.000000</td>\n",
              "      <td>0.000000</td>\n",
              "      <td>0.000000</td>\n",
              "      <td>0.000000</td>\n",
              "      <td>0.000000</td>\n",
              "      <td>0.000000</td>\n",
              "      <td>0.000000</td>\n",
              "      <td>0.000000</td>\n",
              "      <td>0.000000</td>\n",
              "      <td>0.000000</td>\n",
              "      <td>0.000000</td>\n",
              "      <td>0.000000</td>\n",
              "      <td>0.000000</td>\n",
              "      <td>0.000000</td>\n",
              "      <td>0.000000</td>\n",
              "      <td>1.000000</td>\n",
              "      <td>2.585000</td>\n",
              "      <td>0.145000</td>\n",
              "      <td>0.353000</td>\n",
              "      <td>0.346682</td>\n",
              "      <td>0.379159</td>\n",
              "      <td>0.131000</td>\n",
              "      <td>0.002000</td>\n",
              "      <td>0.225500</td>\n",
              "      <td>0.133000</td>\n",
              "      <td>0.113000</td>\n",
              "      <td>0.111000</td>\n",
              "      <td>0.089000</td>\n",
              "      <td>0.137000</td>\n",
              "      <td>0.294000</td>\n",
              "      <td>9.48029</td>\n",
              "      <td>737731.000000</td>\n",
              "      <td>1.000000</td>\n",
              "      <td>0.000000</td>\n",
              "    </tr>\n",
              "    <tr>\n",
              "      <th>75%</th>\n",
              "      <td>2.790000</td>\n",
              "      <td>0.000000</td>\n",
              "      <td>1.000000</td>\n",
              "      <td>0.000000</td>\n",
              "      <td>1.000000</td>\n",
              "      <td>0.000000</td>\n",
              "      <td>616.387500</td>\n",
              "      <td>961.707500</td>\n",
              "      <td>1005.005000</td>\n",
              "      <td>3934.302500</td>\n",
              "      <td>2437.127500</td>\n",
              "      <td>3372.037500</td>\n",
              "      <td>336.822500</td>\n",
              "      <td>336.902500</td>\n",
              "      <td>1510.377500</td>\n",
              "      <td>0.000000</td>\n",
              "      <td>1.000000</td>\n",
              "      <td>1.000000</td>\n",
              "      <td>1.000000</td>\n",
              "      <td>1748.500000</td>\n",
              "      <td>0.000000</td>\n",
              "      <td>0.000000</td>\n",
              "      <td>1.000000</td>\n",
              "      <td>1.00000</td>\n",
              "      <td>2423.160000</td>\n",
              "      <td>302.570000</td>\n",
              "      <td>688.390000</td>\n",
              "      <td>-0.200000</td>\n",
              "      <td>1.520000</td>\n",
              "      <td>0.510000</td>\n",
              "      <td>0.460000</td>\n",
              "      <td>0.470000</td>\n",
              "      <td>0.460000</td>\n",
              "      <td>0.560000</td>\n",
              "      <td>0.170000</td>\n",
              "      <td>0.270000</td>\n",
              "      <td>0.390000</td>\n",
              "      <td>4.110000</td>\n",
              "      <td>0.261161</td>\n",
              "      <td>4.510000</td>\n",
              "      <td>...</td>\n",
              "      <td>0.000000</td>\n",
              "      <td>0.000000</td>\n",
              "      <td>0.000000</td>\n",
              "      <td>0.000000</td>\n",
              "      <td>0.000000</td>\n",
              "      <td>0.000000</td>\n",
              "      <td>0.000000</td>\n",
              "      <td>0.000000</td>\n",
              "      <td>0.000000</td>\n",
              "      <td>0.000000</td>\n",
              "      <td>0.000000</td>\n",
              "      <td>0.000000</td>\n",
              "      <td>0.000000</td>\n",
              "      <td>0.000000</td>\n",
              "      <td>1.000000</td>\n",
              "      <td>0.000000</td>\n",
              "      <td>0.000000</td>\n",
              "      <td>0.000000</td>\n",
              "      <td>1.000000</td>\n",
              "      <td>1.000000</td>\n",
              "      <td>1.000000</td>\n",
              "      <td>1.000000</td>\n",
              "      <td>3.530000</td>\n",
              "      <td>0.155000</td>\n",
              "      <td>0.406000</td>\n",
              "      <td>0.399000</td>\n",
              "      <td>0.434250</td>\n",
              "      <td>0.154000</td>\n",
              "      <td>0.002000</td>\n",
              "      <td>0.250000</td>\n",
              "      <td>0.158000</td>\n",
              "      <td>0.126000</td>\n",
              "      <td>0.127000</td>\n",
              "      <td>0.125000</td>\n",
              "      <td>0.167250</td>\n",
              "      <td>0.332000</td>\n",
              "      <td>9.50000</td>\n",
              "      <td>737845.000000</td>\n",
              "      <td>1.000000</td>\n",
              "      <td>0.000000</td>\n",
              "    </tr>\n",
              "    <tr>\n",
              "      <th>max</th>\n",
              "      <td>8.120000</td>\n",
              "      <td>1.000000</td>\n",
              "      <td>1.000000</td>\n",
              "      <td>1.000000</td>\n",
              "      <td>1.000000</td>\n",
              "      <td>1.000000</td>\n",
              "      <td>3440.610000</td>\n",
              "      <td>5393.500000</td>\n",
              "      <td>6346.250000</td>\n",
              "      <td>7614.580000</td>\n",
              "      <td>7440.140000</td>\n",
              "      <td>3538.550000</td>\n",
              "      <td>351.680000</td>\n",
              "      <td>351.650000</td>\n",
              "      <td>6795.330000</td>\n",
              "      <td>1.000000</td>\n",
              "      <td>1.000000</td>\n",
              "      <td>1.000000</td>\n",
              "      <td>1.000000</td>\n",
              "      <td>2334.000000</td>\n",
              "      <td>1.000000</td>\n",
              "      <td>1.000000</td>\n",
              "      <td>1.000000</td>\n",
              "      <td>1.00000</td>\n",
              "      <td>3063.260000</td>\n",
              "      <td>443.210000</td>\n",
              "      <td>1006.140000</td>\n",
              "      <td>0.040000</td>\n",
              "      <td>4.140000</td>\n",
              "      <td>0.800000</td>\n",
              "      <td>0.770000</td>\n",
              "      <td>0.740000</td>\n",
              "      <td>0.810000</td>\n",
              "      <td>0.940000</td>\n",
              "      <td>0.470000</td>\n",
              "      <td>0.590000</td>\n",
              "      <td>0.630000</td>\n",
              "      <td>6.500000</td>\n",
              "      <td>5.700000</td>\n",
              "      <td>9.830000</td>\n",
              "      <td>...</td>\n",
              "      <td>1.000000</td>\n",
              "      <td>1.000000</td>\n",
              "      <td>1.000000</td>\n",
              "      <td>1.000000</td>\n",
              "      <td>1.000000</td>\n",
              "      <td>1.000000</td>\n",
              "      <td>1.000000</td>\n",
              "      <td>1.000000</td>\n",
              "      <td>1.000000</td>\n",
              "      <td>1.000000</td>\n",
              "      <td>1.000000</td>\n",
              "      <td>1.000000</td>\n",
              "      <td>1.000000</td>\n",
              "      <td>1.000000</td>\n",
              "      <td>1.000000</td>\n",
              "      <td>1.000000</td>\n",
              "      <td>1.000000</td>\n",
              "      <td>1.000000</td>\n",
              "      <td>1.000000</td>\n",
              "      <td>1.000000</td>\n",
              "      <td>1.000000</td>\n",
              "      <td>1.000000</td>\n",
              "      <td>6.890000</td>\n",
              "      <td>0.380000</td>\n",
              "      <td>0.657000</td>\n",
              "      <td>0.632000</td>\n",
              "      <td>0.686000</td>\n",
              "      <td>0.259000</td>\n",
              "      <td>0.017000</td>\n",
              "      <td>0.720000</td>\n",
              "      <td>0.629000</td>\n",
              "      <td>0.397000</td>\n",
              "      <td>0.399000</td>\n",
              "      <td>0.568000</td>\n",
              "      <td>0.582000</td>\n",
              "      <td>0.617000</td>\n",
              "      <td>10.90000</td>\n",
              "      <td>738127.000000</td>\n",
              "      <td>1.000000</td>\n",
              "      <td>1.000000</td>\n",
              "    </tr>\n",
              "  </tbody>\n",
              "</table>\n",
              "<p>8 rows × 154 columns</p>\n",
              "</div>\n",
              "      <button class=\"colab-df-convert\" onclick=\"convertToInteractive('df-65900556-b3bb-4da9-bcbe-edaf762459f6')\"\n",
              "              title=\"Convert this dataframe to an interactive table.\"\n",
              "              style=\"display:none;\">\n",
              "        \n",
              "  <svg xmlns=\"http://www.w3.org/2000/svg\" height=\"24px\"viewBox=\"0 0 24 24\"\n",
              "       width=\"24px\">\n",
              "    <path d=\"M0 0h24v24H0V0z\" fill=\"none\"/>\n",
              "    <path d=\"M18.56 5.44l.94 2.06.94-2.06 2.06-.94-2.06-.94-.94-2.06-.94 2.06-2.06.94zm-11 1L8.5 8.5l.94-2.06 2.06-.94-2.06-.94L8.5 2.5l-.94 2.06-2.06.94zm10 10l.94 2.06.94-2.06 2.06-.94-2.06-.94-.94-2.06-.94 2.06-2.06.94z\"/><path d=\"M17.41 7.96l-1.37-1.37c-.4-.4-.92-.59-1.43-.59-.52 0-1.04.2-1.43.59L10.3 9.45l-7.72 7.72c-.78.78-.78 2.05 0 2.83L4 21.41c.39.39.9.59 1.41.59.51 0 1.02-.2 1.41-.59l7.78-7.78 2.81-2.81c.8-.78.8-2.07 0-2.86zM5.41 20L4 18.59l7.72-7.72 1.47 1.35L5.41 20z\"/>\n",
              "  </svg>\n",
              "      </button>\n",
              "      \n",
              "  <style>\n",
              "    .colab-df-container {\n",
              "      display:flex;\n",
              "      flex-wrap:wrap;\n",
              "      gap: 12px;\n",
              "    }\n",
              "\n",
              "    .colab-df-convert {\n",
              "      background-color: #E8F0FE;\n",
              "      border: none;\n",
              "      border-radius: 50%;\n",
              "      cursor: pointer;\n",
              "      display: none;\n",
              "      fill: #1967D2;\n",
              "      height: 32px;\n",
              "      padding: 0 0 0 0;\n",
              "      width: 32px;\n",
              "    }\n",
              "\n",
              "    .colab-df-convert:hover {\n",
              "      background-color: #E2EBFA;\n",
              "      box-shadow: 0px 1px 2px rgba(60, 64, 67, 0.3), 0px 1px 3px 1px rgba(60, 64, 67, 0.15);\n",
              "      fill: #174EA6;\n",
              "    }\n",
              "\n",
              "    [theme=dark] .colab-df-convert {\n",
              "      background-color: #3B4455;\n",
              "      fill: #D2E3FC;\n",
              "    }\n",
              "\n",
              "    [theme=dark] .colab-df-convert:hover {\n",
              "      background-color: #434B5C;\n",
              "      box-shadow: 0px 1px 3px 1px rgba(0, 0, 0, 0.15);\n",
              "      filter: drop-shadow(0px 1px 2px rgba(0, 0, 0, 0.3));\n",
              "      fill: #FFFFFF;\n",
              "    }\n",
              "  </style>\n",
              "\n",
              "      <script>\n",
              "        const buttonEl =\n",
              "          document.querySelector('#df-65900556-b3bb-4da9-bcbe-edaf762459f6 button.colab-df-convert');\n",
              "        buttonEl.style.display =\n",
              "          google.colab.kernel.accessAllowed ? 'block' : 'none';\n",
              "\n",
              "        async function convertToInteractive(key) {\n",
              "          const element = document.querySelector('#df-65900556-b3bb-4da9-bcbe-edaf762459f6');\n",
              "          const dataTable =\n",
              "            await google.colab.kernel.invokeFunction('convertToInteractive',\n",
              "                                                     [key], {});\n",
              "          if (!dataTable) return;\n",
              "\n",
              "          const docLinkHtml = 'Like what you see? Visit the ' +\n",
              "            '<a target=\"_blank\" href=https://colab.research.google.com/notebooks/data_table.ipynb>data table notebook</a>'\n",
              "            + ' to learn more about interactive tables.';\n",
              "          element.innerHTML = '';\n",
              "          dataTable['output_type'] = 'display_data';\n",
              "          await google.colab.output.renderOutput(dataTable, element);\n",
              "          const docLink = document.createElement('div');\n",
              "          docLink.innerHTML = docLinkHtml;\n",
              "          element.appendChild(docLink);\n",
              "        }\n",
              "      </script>\n",
              "    </div>\n",
              "  </div>\n",
              "  "
            ],
            "text/plain": [
              "                AI  ...  second.feed..2_Yes\n",
              "count  2096.000000  ...         2096.000000\n",
              "mean      2.327358  ...            0.007634\n",
              "std       0.936159  ...            0.087057\n",
              "min       0.600000  ...            0.000000\n",
              "25%       1.660000  ...            0.000000\n",
              "50%       2.260000  ...            0.000000\n",
              "75%       2.790000  ...            0.000000\n",
              "max       8.120000  ...            1.000000\n",
              "\n",
              "[8 rows x 154 columns]"
            ]
          },
          "metadata": {},
          "execution_count": 92
        }
      ]
    },
    {
      "cell_type": "code",
      "source": [
        "data.info()"
      ],
      "metadata": {
        "colab": {
          "base_uri": "https://localhost:8080/"
        },
        "id": "nsBhY6FE7gjc",
        "outputId": "2d462c25-4fab-49fe-bbbd-3bcaae3bf0c1"
      },
      "execution_count": null,
      "outputs": [
        {
          "output_type": "stream",
          "name": "stdout",
          "text": [
            "<class 'pandas.core.frame.DataFrame'>\n",
            "RangeIndex: 2096 entries, 0 to 2095\n",
            "Columns: 154 entries, AI to second.feed..2_Yes\n",
            "dtypes: float64(94), int64(2), uint8(58)\n",
            "memory usage: 1.7 MB\n"
          ]
        }
      ]
    },
    {
      "cell_type": "markdown",
      "source": [
        "In order to have a better prediction we will try to reduce the number of columns by calculating some soil indicators ![image.png](data:image/png;base64,iVBORw0KGgoAAAANSUhEUgAAA8UAAAG1CAYAAADQj1aEAAAAAXNSR0IArs4c6QAAAARnQU1BAACxjwv8YQUAAAAJcEhZcwAAEnQAABJ0Ad5mH3gAAP+lSURBVHhe7N0PXBR1/j/wF4j/UZEyWcw0QbTyTwnZ5XkXamKdZ3qY2XkJheepp9blV/A0s3+mKfy01FLrC/mn+ma6e2rZKQpSZ5Ye+A9LQDTxzy6KIv9EENjPb2Z3dlmW2QUEFOH1fDwGZmdmZ2ZnPzsz7/n8cxESEBERERERETVBrsp/IiIiIiIioiaHQTERERERERE1WQyKiYiIiIiIqMliUExERERERERNFoNiIiIiIiIiarIYFBMREREREVGTxaCYiIiIiIiImiwGxURERERERNRkMSgmIiIiIiKiJotBMRERERERETVZDIqJiIiIiIioyWJQTERUr8pQcP4sLpcK5TXdeaTvMPMSCmr7FZZewZnzBXC+GqaXpqOO0hUREdUag2KiW8aIgrQE6HSfYM4Qb7j4RiGpVJnVYOUhLX4btkSFwttlCKKSCpTpVD3FMHy/Ci8v2ofsBv9dk2OlyP85Bi+/tRuGmw5Wb+CsNgIDFibgsjKlMqaXpqUu0hUR3Q7G3Fx8fTQTy7ccR49PzuKQUZlBdywXIVHG61ghDL+kQH/dZvUunvB55H54uCivrUqR8+vPOFXhLsAFrb1740FNG+X1bSRy8OvhU8iudKQa0D7eVgJFhlT8rL+mvJa5wdPnIdzv4aa8LidyfsXhU9kVc0tae+OhBzVopbxslEqTENU7AOGnlNc+kUhMmQ1/20NUcBBRo8YgPDUY2v8uQ3CXFsqM26EASVGjEBCeoLwORGTi15jt7668JufKUHD8U/zt9RuYs3EK+rs3U6bTnakAaRvnIuLceHw6dzA6VrqOVcF4EhvH/gV7J25BdPB90tXDHtNL01TLdEVEt54xF8ujM7DSEra4eWDLpPswgFmNd7R6/Pqu48L3X2DV+29gSmAAAgKk4ckl2HWuSJlvqxTZh7Xly46fjSUr1mFPxnXAoEOoiwtcHA7eGDLnE+h03yLJcENZn61z0IX6Vn6fWi6dHLT4VlzONyoJpcZLOPjpKqxYMhvj5c8hDYFT3sD7Kz7Bt+m2gWBTZUTRhX3YuGoZ3pgiBVGmY/Q83t6VIX2zlRmzD+ML67J/xuwlK/DJnjNQSxmNips/ZqcLCL0WIcoke6Wp32NNgkFK9zux7cBFZert4g7/2XshxFloQ3yUaVRd4uo+RP5tL36/MEQlwJEfOAypcK5RLzlQKp0Cp1ZczjRMhc5QKp2youBbaZ40hOpgUNuG/eAdiqgtjs6d9cfhfluHvgiN+gLbkgzS2cVeNT6X7TAiBmnySlTO7xUH5VqyLQkG1Sf+7vD78z/w55Nv47Ud56ooAl2ZMf0/+Oy7QQge7K0SEFeRXhxdm5TZ5Rxc75ymB1+E6s5V4/i4wDs0ClscHp+GoJZpvhrHoHzwxoiYFFP6rDo9j8CcmC0O0nPt0hVR41SKQ3t/QY/Vx2o23KocW9cOeHVyP5ye4IVhyiRqBOSc4vp1Vkg31PJ5XhrcRc+pWpFRYlTm2TMv6xOZKEqUKWYlUhwxxbwOn0iRaDuzTC8St34sIgI10vw+ImTZPqEvU+bZKEuNFkGmffAXEXFZylQ1lm2NE9Gp15VpipJEEekjr8NHhGjPKhOpnM33JA89XxHaDLtjaKUsa/99NgV6rZCCYvXPnp8sokP6CAS+KeL0xcrE283yGw4UkYn5yjRyLkckRj4tes/ZI644Ot3JrOcUeRgpHd+rygx7+dL6AqVlVM5L1nnSOoKiRar9+a/shIgOks+PtuetYqFP1IpIOa3J79OEiegTucq8W+W6SI0eZ95+iFbolall+kShjQwRGtMxkc7p0cnSJ1Sh+rnKlSRGCh9oRFD0CWF7SMqvBVOEVm/5AcrHY4fQRkeIQNPxCBHLDugrvM/MKK4lRonHe88XcVdKlWnVUSB+Xh0sOk79WlxUTQ/VSy/mzyTvuzQELhOJ+SoXO5klXamlB2uaq3xsZKrHR77OaiNFiMa8bU3IOnHC0bZrypgvzv162e6aX0u1TPPqacTC0W9RPT2b71E2i+iIINM8TcgqcaDSuf1m0xVRY1UikuJ/FvevOS32FtqcFMtyxLKPj4r7P/pZLDtj+9ssFnt3HBf3f5whkuro1FQtORfFXz+S9udWb5fqxS3L6NcEj8OYjgU4uWYRFm8/o5qDeFNcNfAfPRlL4v6LuLne2DBrMPxfWo+UgoqPilx9B2F8kHSbhSRs3HUMeebJKnJw4kAiEPQUBvs26sK89UfzNMaN6QmcjMY/F3+Ls6wrVX3ufRC2Phli7xsYqrmdRaepNoynt2PhW63xSshv4OmsOGRhLrIKlXHswLKP4nFB9Sn3VWQkn5Pu8Qeifw/781IRcrPyTWM+w/ujh/1ZvUCP1GSDNNIVfbt1NE9DC2j8gzFr0VsIk0+LhhjM/zTRyXmxPhTgfOpp05hP327oZBqTT+n+CJ71NlaF9ZFeHceG+V/gYJ7KQVH9XPa88XD3u22KRBlRcD4dyfJo0ED06WypuyAfjz8gOGwxvk5chkDDBsx6bDKWJeUo8y1c0GZAMF55ZAte/ywZ1c5fv3ESezYaMHncb3CPSnqoXnoxSsklG9bkkhCDj2LPqeQ8SrIykHzKQXqwprleGN7/XrviYjbHx8cX3Topx0e+zga/jEWrpsOUXDasxKcHs83zaiszFq8NWIy47DJlQh2oVZp3cAzsaXzR3cv2HG1JzxoEPfEgOpsnKvcozyJsySYkRo6Ujt0MPDbhQyRVuEe5yXRF1Ni5NkP7ltWpU+CK9q2rsxyRY7csKG7z+HS898FL6CgFpWv++QG2n63jwrKuXTB03juIDNRIF525mLYmUbpE2XDtgRFTgs0X9I17kKh2kyXLO4ZdG/UIGj8Ivrfs6DQybYbg1ffewJ/r4yEIUYNXgORvNmHroJEY2rutMk2dMfMMjhg0GBQ4yHxuionB/x22D8QkpZdw+odT0IwdgJ729+jGyzhzRC+N+OC3Pe5BpdmmbchjvdDDu2JA7drlUYwcbi4ab9Aewslb+UN1tt/S+fzxkb81jxt+xKGT1lDQytnnkrl6D8H/00Zh0kBPZYrsBjLPpEN+m+bh7vCqdI53hbv/RLwe4S+N70D4PJ256LUtl64YMmEETqzehgOOriMVCBQmx+HL7BH4Y4DtvlhUN71Y9t0fgYHyd3YcMSt1OGz3AFhWqj+NH6Tlxg7oVqP0YHt8pC8F3hXe3AJdHh+K4abxJGgPqVePuSlXC3CtuO4entYuzTs7BrIW8B4SDu1nL2Jge5sEZE3P9g9iLDzg/7dZiJB/6AmRmPdVWsUHGjVOV0RNQMdW8K7WvXgzeHsyI4Fq5xaGfe7wef6f+ODP9ZiD6N4Pz0wcLI0YkLBsA2Iv2D5vlS7oTwZjounOMxa7EtWechuRl7gHGw2DMX5w91t5cBoZF7Tw+RPeqdVDkBswJH2DmDkjYK2XZaoLloC0SjeBcgvJOmVZc11LFKRAZ3mvqT6d0vLzliiEervA9z0dftqmU1pVVtY/ZB50aUq+gdGApG1KK9H28+yZlv0CUaF9zcuahhGYs/5gzereFaQhXqesx65+adV11tTqGJo/c4XPKB9DnZM6gfI+KMfIum7v57EyvXJQQg7cSMd3m45h8J8GwsfpScSSI9ULf1qyHAtNJVl2YNlXhyrnXply/jTo28tbOpPaseaKDcATfSz5rRY2uV4VckZVqAYA9cjpfttSC95KcfH4QcTKow4+l5zjPDo4EH7utl9CFo5/d0j67+BYmngiYESQ6SEFYg/i+EX7qMkNnR7yx+9TvsY3qtcRe7k4tnMH8l8Igr9tEGVR7fSi5ET6PI8lH85DkDwp4XN8VSnHtlRKLuk4hR7oda/9J6wqPTjI7axE/QFMw1DbNF+eRtSPgVKqYKhfxfRz8Rd8FyunZ7XjrmjfDyMmyg9cDIj97hdUbDWipumKqDFzw4AhD+L0s/fAS5ninAu8+vvi9GS5sSsjMjMuY9vhs5i89hh6bLmETGUpmbnV6AuYvyG50jwrUYxDx5RllPrKfbacxbaMYukMU4XcS5hsW895dTImH7W/By7FydSL5parna2/+BoSKuyrQMHFS8p+qa2XauPWxn3Ne+L5d+ozB7EVfAc/Zb5ZUGuoyHpBclSEOhuJu6TbrIipeNavcs4D1USbm38IYryA+Hmj4B0wF995LYC+TEBIJyj91oFIfnkIeo16B/HWRlLkhmUGoNewsZi01HSLDOQnI2b6OIy1vJYZtmJ6ryEYOy4cG6T7llO7DuCXdn3w1Oz10MvrPrAKIamLMTZwphR466D7Wg/vUZOxZO8Z6OPeRGCCPO89xNs/wS84jpiXghAwbT96LEqS6+hDlJ1H3Fxg6YtjMGHZwYolFhySPsf0P2DY2L8gfMNxZZq9cYhOvW7ehmkoxnmtuTgjMBJTh/jY3KTegCH+HYzqNQEfZo1GQn6ZtHwuUld1wY6xAfCfrLMrpivdSKasR6hfLwwzHaMgRERvhlb7MSJ6/YqE/aZ8E6oG45lD2LH/Xgx5yBvO2w8uxMlDP8KgeRwDeg/As3NeNH2XhqVrsCXN9kJnRN6JROx2kANVevIQtPLXU6k4p0zZhjSmmjOadxIHdsvNofdB2Gh/J0FQ3XO+30o1FokmLAiPVQpsiqA/nWoaq/i5pGMVPw/e3vMq/1ZlSo6749w8mSvadPCUzmCyVJzWV77pcLmvH4Y+chq7Dp1BsTLNobxj+PYz4PlhDyjrrKja6aU0A4e0SabSAr0ffAZzTLnZSVi6ZLtdbrZy7G4mPSjbUD8+lnQo0TyF0Y/dytRSE7VM8w7TyGXEzwmA95x41WoG5tx5iepxt2iFDp3amUd/OA293Q1QjdIVEakrvo6UnDLkGK4hzv4yYMzFB19l4JX9V/DFNfV7UmPuFbyxMQ3P/ngNdw3sgWPT+uH0i/dizJUcvPrtaXyQUaIs6UCHe/BJWDfMbOuC3r27Se/vi0/628QUoggJ/z6JEfHZuNLzfvP6w3zwbptr0vpPYsbR6+bAWA6uY04hzLqvAvmZmXh1a6bDfafaUb8nqDcuaF7rHETnXL2642FTlHBKuuZcsgu6y3MADBt12FMhJ1liKjoNTBzRD+2VSVQLN/UQ5AYubF2MFxbHSjfDb2HRK7+FxpRKW0AzcBpWfjYXmoQ3McxaJ6srgtenQ5QkItJUIi4RK2euRe70WJTJwW7iDmhD+6CdJhjrRQn02inyQvAZ+RxCrE/65XWPR6j8wMSwAWvOdMMz0s2SdbtDp5uLU1YqYVCEtK/exiQ5iG3THd06KzdCclH+mVMQIt2WJaz5HqnVevKjfA4nLVPb32wZL3yDBTM+lLaiQWDkAkz191DmmOfNf+FNJAQtxNrFwUpuWXv4Bc8yfRZDzCKsSCjvLdV4YSteGfqiFAxL65obC33ZLiwJexbBwfKDgQNsfbraynAl7Qj2owd63uu86LS1nnBfX9zr7ob2gSFKbvFmzI/eb3PjbSnOGYDHHij/js0suYIS03rsT+nKNqQ0UilnVH749N4SLDV958uwcEy3W3hBcLbf8gOdD/HOUik4C3wTny38I7pU2jFHn0t5sDnxSQSo5coqdW2heixroJkn7u3riaP7TkDv9N5ELn20E//r+Sf8cUAHZZqtGqSXCqUF7kbgpL+bHwDHfoRom9+ytRjv8AA8UOkYOEkPMuvxqZzbaTTE4b131knpMAhzpfPwmNvaXZwztUzzjo6B0/sDm/SsetyrqdrpiogcatkWgf3vwYguzZUJNpRWo9P+4AHVK4C4jq/jDNh4zQVP/aYrXund1nwOadkMd5l+1iXYeLrQ+b1scT7Wf30euzt5Iyawg9151gj9sfOYcaYU/R65D2/3t6y/LUYP6YwJrkbs/CkT38vd2crBtRQwW/e14ArC95fhb8/3wempvbDlt174i1fDLK9zp7rJM3dt1CIHsTradEAn5XH8qeQMZJlHFa5oH/CkUoRah7W7TpufxpgoRaelC/4I1XpfVHM38RAkbx9WmAI9f0z8y+/tboal788SOKgWG5R5YeSi9/DqQI20tINibqpsnuBXYpmXg8yc6+ZJVenUDX3lOPJUOjKyqhUVO2WqH7l6LB6wBA/GDGxd8AZi5OyQwHBETQ2w+YyXkbBikTTPByFThsOvwjH0wAOPBUj/bUtLFCF915fmdclB9MLhygMBqjk5B/MkCjp64Z4OVVysLPWELblZtu0eVMgtthSbVWv0xyZHVTXnTyXXy1Lc/6WnMGwxELFuK7645d+5Wk6vXGXiW2yJmgz/YWulHduAxC/mqjc4Z83tMyB20gNoZinq79IJw5bq1QM++Rxvyel01oCStFx5g1ad4NlObbmO6Na3K3D8Ipy2DyUM+H7zTtw//nd4oIVaIzDVTy/mnMjy79HVdximmBojs8stVoql2zZeZmU9buo55Wq5nUZDErZticJL/kFYjIlYl7gOC4d2qfTeBqNWad4mjWAzJvVqraQraegwTAqmHRWNLv8dqh53q/JG8eDjiXaVtl/NdEVE9UAgLy0Tr12UTqbtPPFqv9bl5zmXFughR8WurfHKA20dVx2Rc4HjzyMSnlg+1BNe9qf96zn46KdC6frSGi890KbiebR1Gzx6l/QGYyH2nFXJjXZthwUju+DRDtK7XFpiQL9OCHRWPYRqrNIp+Zao92LUTrQfhEkLx0kj0s3Upv1It0bFVeQw0E2q2UOQ8iKVDh5OuN6N7g97SyOOisDfix7eVYfAdaMV/MK+MhdlTp8Nf9O5yXxjr9u6F8l1WA3XVD/Smnst56ZHYkaMXMx6JCKjXoK/bU6btQiks1Z5pV/AkTPIlNO/8Qz2bdonjfgjYs4zdkE01YxA6Q0pmPX0wt3tnReeNp4+it0V6gm3QJegEMwKlMPifdi4/Zi56L3l+1Sr/2jTWNXwx3pWysEyb0MekwKnYZ3MN/fNvBEwZjGSH15jLhEQOvDWPwQxnsfR3eag2LB0GDqYAo+W8A4YiZeTB2Kr/gz2LpkIfwctsJc3pDQFWn2JUp1AGnLjEKFRD/jKc9wlTutP2yzntCispIqHXiLrMHZs8sWkp3pL366a6qaXIpw+erBiPWHXrgj6exgC5fFYHbYrDbSZz6FVNbqmllNu2YbEsBjDOjQzpZdm3gEY83IyHt6qR9neJQj1lx84Nly1S/M2332IFnprVZUy5MbNhcZReqiisTsr63IOHmJZ1NHDVCKqiTKk66+bHoi28WyFzrYBrUtrjA7ug9NTeiLUYe5sCQ4l/IqwLHdsGOWFXiqtZpdeKsC38n2XWwt0baf2oFRmxPGrJdJfO22ka2S1WuKmm3Wbrm31WIzaposT9Se2NvWOY3diX7p5u8a07ViylEWn60W1H4LYFEFr44kObdSSZ3mOriEzB9dMY7ebJYdLbtDKfGM/dvkOnFXm1jVnxaZNrMX/EhAe0M58U2gdmsN77FrTYjiVjXz5rFudBmKomvJgSFdttsNOeSNbFbrFcX8Yf54p5xbbNBaoFJtVbfTHabdENg0O+UQiscR8g1+m34dlIcCGWW9jZcKFyhdeNSWnsWtlFKKibmL4PAlX7Z+DWfc7EJGJ+ebAo0yPA6YdexdzVn7npJE6289ll+N7LQeZDnPz1LuAqszS0JIUuDh8SNocnp27KOOOlMCw71tse2IUAh1271fd9GIpLWDbJZcr3B8JxkxTbrGlOy/LObSKRtdUc8ptjk9kIkpMwaDS3gI2YNacj5FgbcuhJgqQ9s0a9bQhD6u34Wccw7bVy9TnR72PdT9dRPXKk9U2zTtKI0YpaWXDoFpFQeL0d2jDeq71d3CvUZ10RUT1oxTnrpiLaLRo3Uy1DQiHjEWI3/srQlJKpOtQAb7LVLvLFbiccwOmx5elOXhWbgSsQoNcaXg1Sz7TCZy9XurkPEX15TYFxbL6KUZd/iRcvTsKWXmfxfuwad8ZKeEVIX3fTsQG/R2TAu82L0R1qP7rkt8uRsMPWB7qbwqEx+3wwkLtXqTKjVp9F4WRNTqjVpPTYtP27HLR7Adr7raFJzxUi4pS9TVD81YtlXFnLDlS9i0r2+QWK1U8btgVm7VlPd/JjXX1tE9w6jmjrprf4pXXXkUQYrH4hQ+RUJ3uX1xaoYNndT6XvWZod7cH7LuPVO0yx1WDga/MxcIgIGHxXLxvW0+2gvLPZd9FlbFdEFaLrxCm1lCitQSF42uDzJi2G2s3yE+VHAUu1STO4z9bDiLw+cG43+GVtprpxZLDaJ/DbZNbbIj5ErvSc8zF0lVzNB0fNxPV3E65vYVJeE0uXZXwJl54f59K6ZyqNEc7r07VqMLiQAtPeHs6eqhgr5Zp3noMKqeRdkHvQ+wKUy1JU17CSe13aFGEtH9/iQ3yqKOSUER0x2rm2QHh3eR6zCVY+V0mDjnrZq6TF/bLDWw5GA4N6eC4xAnVm9sYFEsq5SCmS5e02lCCW3nU2UXHtTsGjzd33RS78d84nHca+zYdYt/E9cr+IcgOnLlhf2Pihk7dfKVbMklhNnIL1W5cyutkabw8UFVTRvXKmIJ1L47DrA1XzI1TxS1BWKUuYOpSFcWmLdp6wEt+5oNs5ORXowheTZcnJ9ri7nud5BRZKbmRajl2Nl3Lxc5fhRW7f6hYbNbKplsi1Rwsxzmj1geDDruns+Pmjd/8ZSZmz55dw+FVTBnhg4ohjZMcS+u52VH1CJnjbpVc3d0dP9130ohUuRwc3q4zHVNN2Dy87PAhaQmyL16QvqsWaOGmXpzN+Os+fLmzP0Y/3gWOC7xVM70oOYyVc7jl3OKnMdHSQNva/8VuuVi6anqoojsqh7md5aWrnPbx71BLaALGYqpq+pCGaaPxEPph9LRZ6vNfDkGQXwcnx9BWLdO8w1IzbnB3dxSYO2s0zkbBMWzfKFdT6YOwVVMQqFoCoep0RUT1xQ1d7zJXY7lxvUxpV6KaXFvhif6dETrM29TqtFxqaf7+POmMVFGbVkoOdFEp8mufD0h1zMHZ+1axz0F8A2uTa9E/n/Wio0HgrDEVO9avoBX8np2qdKL/Ob74+Etsih3AvonrW4WHIG9i3tqDyoxybj0HYKz8vTi6cbF5kn/bi7pbb6AGY+KLv6v3eplOW5uWG8PZpvQ/bO16zFISogru3ujVVz7o1VyenHBFa/cOUto4C8NVJy3lWBrZUsuxsz0/GT5E+Nyt0h2+bbFZC0fdEimc5YxWK/isLzZd5lT6/NUIwBx2mWMjLx5zvAMwJ748t7nqLnPkVq8/wOzwHdIy07HqbbVWr+10vg+ajmp1gYuQnvA1vhv/Jwzp6qROcjXTi3nfHeRwu/qVd+e1bC7mysHz8P7oUSk9OD9uznI7a/wQ5XapZZqvOo0YVbr8quJ3KJNbvV70OsITpLN32Ft4u6qW3h2mKyKqP83g693aFLQWnsvFIbkF6Jpq2R6Tn/BAbwikpOjxSYXum1zQ/r4OGCP/+PPzsf8S77YaGqfn5VvDNgdxHxIOX1Wm15DtRSdkMVY7LVYqsemzeFn4O4gNegqDHdb7orph+xAkBQkJR5XpNqwNoUk3Lp9/D/u+dPMSNmC+HIgG/gXPDbzNxc+sOay3Qg4O/1+Mg2LTpbj44ycY8z97oTcdL08MfO4vCLSUhDB1XWUvDykbt+GwnDFsbfXY2fJUPS3hdb8vOhZk4tJVJ30ZKvWE1VtJllh/BwrVRrYsjVU5WI/TnNEW8Oruaw6kbir3rzacdwtk7VbPUQBWZY6v0pOAwbYxKZtGpFRz8+SAeDEmDHsTCYFzoU1YhGCnXQ4pnyGgK+5Ri11upGBndDrGj3wEnZxm+FUnvVhyIh19XptW+U0cNLJlbYBKbT1V5HZW2cBhA1GrNF+dHN9sU4OcBttul6r6Hcr3JvPDMGxxMgIjtEj4YIyThy1VpCsiqiYX3O3RwtyVUbVzZaWgtbsnJsk5vcZr+CqtSCWTQKCwuMxJ5oEL3Lt5YWFvB8WoW7dDsJ887wY2/ZJfKSfZpDgfXxzNl85IdKs5PDXXidICXDbocSnnBm5kGXA+MwdFagnTmoOovK6JgjTE6z7BnGGPll90PpyI3o6KMFmV91ksX8yqKjotinKQed6ALFP57hvIuaQ3NfSk+nmapFIUXDZAfylHOjyXYTh/ETlFaqcNm4cgqlrB78XliJsbBEPMG5j3wQ9KgzvSTevB1Zj5wmIYAt9E3BfTKxYdtjaw5qwIsHRizDHfZBdm5dagaIylyHYhMnOulZ8MbXJkN0Z/izRTMJmHtPhtTlufNuZLaUkeUSkirj7PiIKkT805WKrFpgugP31eGZe5wt1/EtZq5yIwYRZGTV8GXZJB2W+5UTAdokKHYtqJNkquRgt0GROOVXKDPablV+OgpUEduSsT3SZsM91N5yMrt3HUBa8/zeBx/4N4FKeRel71ciexdPsiHX+Ptg5Owja5xfL5yWkjW2o5f7Zdy6jVFZcCqYFjlLrL6/DOu1uV9HsLWLsFcvD52w/Ac7NGSiNJWPqOlHbTbEMwm8/lMDdPCVyCBqKPtbsKm2K1FXJR5d+rDjFzRsF72BbcF7kTqV8vlG5aqiiDUnwBJ77PxuDAh+BdKegVuHHiP9j061MY93uNdIvkTHXSi6W7Hyd1/m1yi1FVI1uqx628SyHpS1HpKsjyoE1KLkuX4F1divrN3G1V2zRfRfdmMlNfxfqKv0fr79Cu0Tzbe5N1XoiMTcDXSyx9xjvgNF0RkTGvGCdNP1sjTuaotNBsw82rAybKAW5+NpYesASgAgUXs7H9dJF0NySxD5hbdsArz3TGU3J/wftPYcreKzhpCWqLryHhp18Rsr/Aul2j9H5T16/GMuRZg9/mGDDIUTFqed59WN7NDSkp5/Dq3ks4lKusTRTj0NGzmLzuPFJbNVfOJVIQXlSmvq9U90S9OSu0IT7y12cz+IgQ7Vllvr1rIn3DS0KKi4VPZKIoUaYKvVaEVFiHyqAJEZGbt4q41FzlTdWUGyekm07p/dOF9nyxMlFFSaKI9LHbpmlw9nmakhLpa5pS+fiEaIVeWaIio7iR/pn4c0dpGZ9IkWj9sm3litS4L0VkSJ/y9Zm+570iNb9MWUaWLxIjAytu1zQEisjEfGUZiWo6UpZRnTdFaPXSjjmbJ8tPFbGRIUK6zZKm9xEhkV8q6dAu/cvHwlE6Mh0ntd+LZZ6D42s/VDqWZdLu7RWbrfsnD0EiInqz2Jqol+baKdOLxHURQrrxVZaVP8/n0rI/is22++bwOyOT0mSxerBG9I/8ryhSJlmUJEYKH+vxtQw26amCq1LaHinN9xcRcVnKNInD85F5PerbkAaV761Mf0CsiwgqX8bhb7YOONxvu9+qrFJanCK+1C5U/1wOBk1EnHQWcXR+sAwaERjxsdBq7c8rzpWlRosgab8X/nhVmWLrqvhxYaCy/WpwmF4c7Luj7yj/gIgM1EjnybkiLrf8szhMD6b1OD4+Fa7DJsVCn7hBRMjbMC1TR9c/0znW0W+gemqX5qOF1mkasR+U36PD9GwZzOdabVyqdJSrx3m6ImrCynLEso+Pivs/sh+Oib8eua4sZM8o8jMvi2Wbk5VlfxGv/XhR7M2UrpNnMsQjztZRVCD2/nhKPG2zzNM7zoutKQXK7/m62Lr5mDKvfHgkPkc5b5aIpPifbeadFFtzjKY5ZiUiLSXTZt+kYf0pse5IlkjKUc7fjj7zxxkiqfqXK6oBF/mPdAInIqI6UYzTG/+K/msGYt/eGejfglk+jcsNnN00DQ998CAS9syCfxu777fwR7z72GvAJzq89hv7voDVNPH0YtAh1DsWo/WrEKxxkBPeJFSRroiIqF45KcdDREQ11xL3D/sTxp34FruTG2ztS7pZJWn4Nno/npz2DB6pFLgYkZcUi88wHMP6dVCmVaWJpxe3FmjdR4NObZv47YjTdEVERPWNQTERUR1z8X4K/4zyxLIP46BnWZxGpAzZ/9mEDwr+ivljfVUuoNlI/GYXPCc/jQE1CGyadHrp9EesSX4Dv3PYW0RTUFW6IiKi+sZzLxFRnWsDvwlzsOBKDNbuyzJVMqQ7n8hLRMySXzDx/4WqBr3i0k/Y/Iknxj/hC2dtV1fG9NKUVZWuiIio/jEoJiKqD6364q+rpyJv4UrEGoqViXTHEpn4z7KV+GX8G3j5N3ertCpdiqyDe7ApYBSefLCtMq0GmF6apirTFRER3QoMiomI6oUL3LyfxjvLH8Ku1z7F0ULm/925CnH6q/fx5X0RWPFSP7irRi4FOH00DU9MHIrezW8mtGF6aXqqk66IiOhWYOvTRERERERE1GQxp5iIiIiIiIiaLAbFRERERERE1GQxKCYiIiIiIqImi0ExERERERERNVkMiomIiIiIiKjJYlBMRERERERETRaDYiIiIiIiImqyGBTTHeoGDEkbMWeIN1xcXOAy5C3EG24o82RVzSciIiIiImJQTA2OEQVJyzFECmS9J+lwwahMriAPKTHT4D/7OHpNn4UQjTQp4U387fNklFZrPhERERHdSYy5ufj6p9P4w+p0bMsVytTGSCDzaDp6bDiN9UezcbK4MX/WhsNFSJRxoptn0CHUeyw2KC8r0yAw4i3MfKwLuj3+JPw1LZTp9gqQFDUKAeEJ0vgUaPWrEKxxM88ykYPmDzAq4HMMjNuJJUM9UZC2Fe9M2YhOUZ9itn/7KuZ7KOshIiIiooavFCePnsMr+6+hS+97MG3A3RjQwT5fT6Dg4lXEZV7Hf6VA8oviDtgy6T4McJr9Z0RmxhXs+vky3sooUaa5YljvTvjLg3chsLPt/WcpDu1Nw7Mp1cxe6eSF/c/eAy/lpUwO6necuILVhwuQokxr08kDb/e9C0G92sJdmWYm79tl/N9/L2HllZZ4Y/T9CPWy3R+qawyKqQ6VSrHxDHiPXQv4RCIxZTb8Lb9fowFJX3+Dr95/A0sT7kLIsjV475XfQlPpZCUFvSkbMX3oXJx9cT2+WDjcbpnLiJ/zFIZtDEJcykIMbW+/gqrmExEREdGdwQj90dMI2l+E3w/ywar+rSsWcy2+hoRfruDzgzmIsy1d6ObhPCgWxfjv9xl46ZcbeLy3BhGDPNGzpYsUuObgw93nsTyrGSYOvR9v9GqlbE8Jiq/cXSnYtRLXsP7z03grH+jd+z58NaSDEuhKAe4ZPV7flY0f7+qID36nwTA54LbuQzHu6+6NmKfugpeL6Q3lRBESdv6KsLPNsXx8D4z24H1tfeGRpVvDVQP/0ZOxJO6/iJvrjQ2zBsP/pfVIKbAvH+0K996hWK/XY+8i+4BYkncMuzYmAW080aGNSvKtaj4RERER3RGMOZex8KdCoPM9mN/PLiC2cG2FP/7GG1smPIT9g9ooE52RAu1j58zBaO+uWD7kLlNALHPt4IGZI70xwbUEGxPO4+ucivepHne1xN3KeEUCeWmXEJkvpJW0xpRH2llzfuXP8LYUEMe17ogNo+41B8Qyl5Z49InuWNXNFSlnDHj72HVpz+y4tEJgYGdMQCFei78MPbMy6w2jBrq1XLtg6Lx3EBmogWHDXExbk4gCZVZ1GDPP4IhBeaGiqvlEREREdCcowZHDV7DT2AxjHvKAt30uqqxlWwT2vwej+6sVqXbgeg4+kgLtQrTA+AfLg1er1u54smsz6aZSCkT35yDPNNENA4Y8iENDOkhjKorzEH2gQFqnC/r112CUNUf3Br7fnyV9Bmm6nyceVoLvcs0xwKcN2kjh8M6fMvH9dZWot3U7BPs1R+HFLHyUxkZj6wuDYrr13PvhmYmDpREDEpZtQOwFyw/ciIK0BOi2RCFUOvP5RiXZNYx1A4bjh5CsvKqsqvky8za2RIVKJ1cXc8vU3qGI0iXBUOHxnLIvMXMwxMUXobpz0rQ8pOnmmRoBc3GZCp3BZu8K0hCv7LdpnS59ERqlQ1KFFq/tPt97Ovy0Tadsw2Zfdqc5fFBgNCRhm+3yqttRVGufiIiIiBqg6/nQpZVI0UobPHlfc2Vi7ZVeKsC38j2fawt0a68WaVsCVaDwQgHSK2Xf2jNCn5KF6GtSQNvWAwseaVMeYBmv4/CFMmnEFX06NlcJvFzQ/r4OGCPPkJe9JC9rzw2+3q2k/SnD1lMFSpBOdY1BMd0GreA7+CkEyaOGndh24KJpKgxbMb3XEIwdF44NlXJ7z0EX+iDuHfuhFEpLToUjoLkS7IXqpGlVzZdJQXP8OxjVawI+zBqNhPwyCJGL1FVdsGNsAPwnW1q7lutG/x3t5H2ZtBRyk19ALlJiXkXg2MXK63JGw27MGxWIYR9mY3RCrrTOMuSnvgWvHTMQ4D8LOkvQb/f5Tu06gF/a9UFQ2BLsFQJl+ljM7bUb4UET8E78ZfN7rOR9fwvDvAMw7TsvzEs1byc3bhR2h49FwIQPkWRTFL3a+0RERETUABnzinBcvrVp2xJdWqkFr7Xk2gztK+XcylzQplUzmJqELb2Bc3KRaGeK87Hp6HUUSmHVU/3vVskNlrngrlYOwq6WzXCXaVYZfslRa8hLCpy92uJxaawwuwgXWYS6XjAoptvC1as7Hpa7SsIp/HD6kjlHWBOM9aIEeu0U+ZWdrghen46SxEj4yC/lhrxKhBTsScP6YGiqnC+dXC98g/kvvImEoIVYuzgYfu5y8m8Pv+BZeD3CH4aYRViRIAejbtKurJHem4/EyEDpdSHSV/4TkblhSCqTg9dEbNU+jz7tpPcbM7B1/iwsThiM6LULEOzXXlreFe5+Y/Da6y9CY/gQM1bsMz/Vs/t8PiOfQ8hQP2uxHVfNEMyc+Yw0loSNu45VeBJo3XfNdKxaNB3Dle206eBpepKJhO3Ym1ooj9Vsn4iIiIgaHIGCnGKkS2NtPFuhcx3GxK6t3HCfPFJ6HclZVWYDV8GIk4czsVLOJW7niVft6z27uMGztbzzZfjOUCwtfZNauKGzvOL8QvySx6i4PjAoptujTQd0UtpCOJWcgSzzaD26jIQVixBj8EHIlOHwq5DyPfDAYwHS/8rBqEWLkQvwwavm1rJdNf4YHRwoBdVAXsJazIg5DoQ8j6f9WilLy1zR/oEADJfGDBv3IDGvOqdBN3Tq5msK6g2ZObhmniix7LsGQQtnYEyX8u6sXL164Akp4teEvIg/9pIPqLGO94mIiIjo1issKoP8uL9F62bmDIA64npPB/ypnRyo3sC/flVp3Komrudg/dFiaaQ5Zv6uE3raB+8urTHIV75vEziWnotTNxvP2uQm5xQxKK4PDIqpaSjNwCFtkjTSFX27dTRPU2E4cgaZlc6ObXBfD03lhhikU/XJQz+aimb79O2GTuaJlRnScSazFsWVrfvujYe7313hR+vaJRjRegH9+lD0NuV836J9IiIiIqo3AvnX1erX1gGXNhj75N0Y5ioFqofPYsHBXGRa4ky5iydp2rSdOciRX7s2Q4fyvAg7Rpw8moUvpPvGNt06Y1I3tXrPruj5iDfe6CTdo+VfwSv/NuBQruVGsxQnUy9iue4cVpqKTLqis6Mi1lZlyC5ipkZ9YFBMt0dhLrKU0r5Og7e6kpWB5FPySALCA9opDU9ZhubmvpVlp7KRX+1zzVVkJMsNcMlVmAPQvMI6pcF7LDaY5mYhO1+tjkg1Wfe9HTp1sM35VXOL9omIiIjojuQCdy8N1j7fDR880hKHkjIwaM0x9FgtDZsuIsPVHX/7jbs5d9pJfWa5q6Xlci6xaxu8O8gDcmU1VS3bIXRsT2z5rScGXL6MZ784bt7W6pNYf9UFjwR0wgRTROaGnh6qbVvTLcCgmG6L8q6T/DF2QDf15u3rxRRo9SXmusZqQ/ps+Nd4Z3wQoj2rvj7TsBez/SvnM9evhrhPRERERNXhgnatmynj9cO1QweM+k0PfDutH05bhpAeCO3vjmsX5IazXNDPtwN8VGNiS3dRLujt1wnDrF0wOeDSEgP6dcHCkL7l25r2ABb+phMGFBdiq5wh064dBt1TVWjWDJ5V5ibTzeBRpdugCOn7diJWHtUEYUSAp2lqvWrrAS9Tw17ZyKmzHNLW8PDykP4XIjPnWu3qpDjTqRv6mloPy0dWbpFpkmO3aJ+IiIiI6pHcArScW3vjurlu8S1zvQB7zpVJUVJrvNTbruEshTHnKv7X1F2UOyJ+016lil11leDQKbnPZFc81bejgwBcUlyGK6abumbwqI+WuIlBMd0GBcewfeM+aUSDwFljMLD9LUiG7fthxER/aWQfNu07U0fBoicCRgRJn8KA2E37q9GP3U1y64YBY+V9d9wQWLlbtE9ERERE9cYF7h4t4SuN3dpuiKQg9aeL+MIoBam/6YJRqjnAN/D9/izsNC3jhd+bWpe+GQIFGRexNKMMbTrfg/n2LVfbulGKi/I9Xbs2eFC1b2WqLQbFdGsZLyB+0esITzBAE7IYq6cG1OLpWk14YuBzf0GgHCxu/DcO2/TpWy4PKRu34XC1M5Jd0X7gGMwK1ACxOmw/bGqSwY4RBSnboDtcoLy+GZZ9l1uN1mGPah/DRSgokHf8Vu0TERERUf1x7dQWT8hV2q4V48ItaXG5FKk/nUFIShmGPXgvFjgIUo0XL+N9KZBV7YKp2qSAODMTr+68irOdPPHpsLvh7TDWFcjLvIYfpbG67p6KyjEoplujIA3xuk8wZ9ijGLY4GYERWiR8OFFpMdlWKfJzsk1jhVm5dVhcxhXu/pOwVjsXgQmzMGr6MuiSDEqO8Q0YknSICh2KaSfawMu6S0XIzcqX/jspiuwegKlrVyEi8BDCR72CKF0SDMqCRkMSdFEvwW/aEXh4WZoudPb5jCjMzTZPy8yxafBL3vfp+Ew73dTH8NhHJyNqdxrMIa0U4KbFI2bOdKxJVYpW13ifiIiIiBoY1zZ4wre5dPNSiD1nS5SJ9cGIzIwsrP/2JJ4+KjBpyP1Y/oQHvFSDzxv4PukqjjnqgqkajLm5+PqnX/Hcv64Afl3wr1Fd8GgHZyGZpYh1M4zxcXfcoBfVjiCqC3qtCJEfZTkbNCEicvNWEZeaq7zJjuo6fESI9qwQJYki0sd+njSEaIVefm9V863KRH7qXrE5MkRorMsFiYjozWJrol6aa1aSGCl8bNejDD6RiaJEWaaC/FQRtzlShGgsy2pEYMTHQrs1UegtK1X9fIEiMjFfmnlWaEN87OYpn91K3vc4ER0RZLOMvO9a9WNanX0iIiIiaqDKrl4U09YcFQ9pL4oLRmWinbKcHLH9yEWx9YhBLNucLO7/6Kg0/CJe+zFTmnZRbD9TZL2/s1VyJkM8Yrvs0RxhcLANM6PIP3NWPC2/5+MMkVSTe6myHLHsY3lbx8TTO85L+5UlknKquYLCK+K1Ko4B1Z6L/Ee6YSYiIiIiImpAjNAfPY2g/UX4/SAfrOpfubiynPO640yxeok+iatHB4zs1vLOLB4ripCw81eEnW2O5eN7YHRVrVzTTWNQTEREREREDVQpTh49h1f2X0OX3vdg2oC7McBpcePGQC7SfRn/999LWFnYFstHdMXozuzDuD4xKCYiIiIiogbNlCN84gpWHzZiygQfjO7QWFucEsg8egqDjrrijf4eGNS7I3q2ZOta9Y1BMRERERERETVZLJhORERERERETRaDYiIiIiIiImqyGBQTERERERFRk8WgmIiIiIiIiJosBsVERERERETUZDEoJiIiIiIioiaLQTERERERERE1WQyKiYiIiIiIqMliUExERERERERNFoNiIiIiIiIiarIYFBMREREREVGTxaCYiIiIiIiImiwGxUQNTg6Sov4IF5e+mKTLgFGZSkREREREdY9BMdWBc9CF+kpBnEvFwTcKSaXKIhalSYjyrbicb1QS7Bdr0kpPYe+aHdLIccRsS8JF81QiIiIiIqoHDIqpDnRF8Pp0lKVGI8j02h8RcVkQ6bPh72aaUM7NH7PTS6DXTpFejEN06nWkz/aH/WJNmltP/HFeGDTS0Zwb+hg6K5OJiIiIiKjuMSimOuPqOwjjgzTSWBI27jqGPPNkFTk4cSARCHoKg31bKdMaLmNaDEa4TIXOUFf52UVIi3kOLqE6GJQpFbVH77Bo6MUuLBrahT9SIiIiIqJ6xPttqjuuPTBiSjDksNiwcQ8S8xzUhs07hl0b9QgaPwi+DT0FGjOwdclyxCov64LxwrdYMn+z8oqIiIiIiG4nBsVUh1qgy5PBmGiKimOxKzHbPLkCI/IS92CjYTDGD+6ungAL0hC/JQqh3pZ6x30RGqVDkuGGsoCtPKTFb0JUaF9lWW8MmROD+DTH+dSV3+MC79Ao6JIMNo1a3YAh/i0MadYdY2OOS6/XYqx3c2V5X4TqzpkXkxkNSNr2RYX1ubiMwJz1B2GwfS5gvID4eSPQ7N6xiJGziDeMhbd1eUtOtLxv27AlKlSaNwRRSQWmt9ozGpKwLWYOhljfLx+jTSqfu+L63tPFY5tuC2LmjFDeJ3/25djt9HgRERERETVigqhOZYm4CH8hJy1NRJzIVaaWM89XnydEmT5WzA3UCATOFdpUeYkykZ+qFRHyNM10oT1fbF7Q5KpIjBwpbauPCFm2T+jLpEn5J4Q2Isi0/fJhitDqS8xvKTsv4ubK84NEhPaEyJenWd/TR4Rpz0hbtKHXihD7ddjKTxbRIX0q7pt1GxoRGHnAvA2rEmmVU6R50jpDtEKvTDWzmWcaAkVkYsV3C1Es9HFvikBpviZklTigN2+zTL9PLJP3Q/pcc+POK5/Bfn3S/kREizjTcZWVrwuauSIut8InJyIiIiJqEhgUUx0rE7lxc4XGFGjZB7GS3DgRofEXEXFZygQbZWeENkwO7MaJ6NTrykRZ+TrLg2kpWE5cZg7ogqJFqm08Z9qGWqBXLM5rp0vr0Yig6BMVg19H73EaFF8XqdHjzAGnT6RItJ1teZ/9dKdBscVZoQ3xkZapHBSXndeKMNN+Ojq28r6OlN53VZkoc7y+8nkOvhMiIiIiokaOxaepjrmifcCTShFqHdbuOm1TJFkpOo0gjAjwVKZZSPMS1mKGXFQ55Hk87WfbAJe0zgcCMFwaK6+rfAP6oz8iQRrzGd4fPWxTsrs3evWVdsC+CHfePqyY8SEMeAZTnvatWHS7fU88NtzHSbHvGurUDX2l1eFUOjKy6qqBrstIWLHIVPRaMzEYT3ZpoUxXtB+ESQvHSSM7sOyrQ04aOrPVEd36dpX+5yAz57p5EhERERFRE8KgmOqeNTgzIHbTfqRbo+JsJO6KBSY+iYD29kmvECcP/Whqjdmnbzd0Mk+szJCOM5ly3eJS5GdnmadVU+nJQ9CaNuCLbp0cdQKlx5Ezl20CeWdawS/sK7m0hU33UzdgSPoWuq17kVxoWqjulGbgkDZJGvHHxBH90N481UYLeHX3rbqhMyIiIiIismJQTPWgFXwHP2Xuszh2J/alF5mmGtO2Y8lSKSZWDeiuIiPZ3HjVqfAANLc2IKUM3mOxwTQ3C9n5cs5rG/Qc8LgpADy1+yhO28Z/BXqkJsvRbw/0utfdPE0KorMy0nFKHj0VjoDmdut3uQ9jN8hzDTiVfa2aQbGFORA2N2bVEt4BIzF2+Q6cVebWmawMJJs+QDt06qDWlZUr2nTwlI6MxJCNnGsMiomIiIiIqsKgmOpFeZ/F+7Bp3xkpyCxC+r6diA36OyYF3m1eSJUPQrRnzbmvqsNezPaXA11XtA+cglVhfaTAezne/eAHc0vPBSnQvbsESw19EBK9AM9VKIatCNFCr7pu85A+2x+O8pHtGQ0/YHmovykQHrfDCwu1e5GaXwbxXRRGmqJTIiIiIiJqyBgUU/1w7Y7B4wdLIwbEbvw3Duedxr5Nh5z0TdwaHl4e0v9CZOZUM6fWtRuCP4lFojYUiBwM72YucGk3FCvxLLYmxuJTKWC25BPLSb2th6cpZ1naAPLrIhPVmIJ1L47DrA1XEDg3Fvq4JQgLDoSfez39rCz1lJGPrFxz7ntFRhTmZktHUKLxhEdb/ryJiIiIiKrCu2aqJ63g9+xURMhRaMLn+OLjL7EpdoDjvonhiYARQVLQal8PuQqundGrWzOcxVzE5ZZBCD32LpmM0f4au+3YNABmU6S7Vi7+gu9i5WLagzHxxd9BU9+/JrduGDDWXxpJwsZdx1Qa0rqBzDPppnrZGtV620REREREZI93zVR/2vfDiInmIG5Z+DuIDXoKg33V6sLKpKB14BjMCpSi1lgdth/OUabbMqIgZRt0hwuU17JsHPzqcyTgAg7FboVOl4C0AgcRdfsBeG7WSGlkHzZuPwbbtVgVHMdG3XFUbi86Gzmmusw22nrAy5T1fJNqnGN9NwIn/d1UV9uwUYc9F+QGx2zk7Uf0/M3SyEjMem6ASr1tIiIiIiKyx6CY6pEl91emcVJ0WuEegKlrVyEi8BDCR72CKF2SuZ6wxGhIgi7qJfhNOwIPL9uuiK4jRwouYdiA8HFjMXbsEPRq1wwuLn0RGqVDksE2cPSA/9QoaCP6IiF8EqbbzjcakKSLQqjf/+CER8fyH4a1yLIUSK/7j3l/pGUPHzbAaA36pXnR3yrBeB7S4qXA3WHr027SKn1hWmXsJqxLuGAqKm40HMdh675ckz6T/ObKxaRd/V7Aurg3EWj4EDPmfYKDyntMdZtnvoKlhiDMjVuLWf5yUXSFk/UBRcjNypf+16DYOhERERFRYyKI6lNunIjQQEAzXWjPFysTq5CfKuI2R4oQ+X1SEpUCahEY8bHQbk0U+jJlGUmZ/oBYFzFSmqcVqfnKDPm92s0iOiLI/F7V7eaK1LgvRWRIH2X90hAYIaK1O0Si3n7ZYqE/sMpmX4JERPRmsTVRL0xblLYXGxkipMBfmtdHhER+KeJSc6UZZ4U2xKd8/SFaoZeXl5XpxYFllvdIg3Xb14ReO6X8PdZhitDqS5Q3y8qkze4Vm63blQfbbVuUqK/PJ1IkyqvTa0WI/bxK2yIiIiIiatxc5D/SzTDRncWYgpinh2JS8ouIS1mIoZXqz+YgKeoFBISnSPHoXqwP7qpMJ6K68EzYy6b/22NWmP4TERER3alYfJruTJZGrtp4okMbtWTsDu8e90r/PeDl0do8iYiIiIiIyA6DYrozWRq5OpWAvUdVGuUypuPfa7dDEzYPLzvtF5mIboacQ8xcYiIiImoMGBTTnal9AF5aGAYNdpgb5dqdprQmbURBWjxi5s7GxodXIeGDMejCVE5ERERERA6wTjHdweSWnv+N7esXInzDcWVaH4REzkXwkCEYVamvYiIiIiIioooYFBMREREREVGTxYw0IiIiIiIiarIYFBMREREREVGTxaCYiIiIiIiImiwGxURERERERNRkMSgmIiIiIiKiJotBMRERERERETVZDIqJiIiIiIioyWJQTERERERERE0Wg2K6cxWkIV73BaJC+8LFNwpJpcp0IiIiIiKianIREmWc6KaJnF9x+FQ2KiemtvB+qBc0rVyU13WkNAlRvQMQfkp57ROJxJTZ8HdTXhMREREREVUDc4qpThgvHcSnK97Hktl/RkBAgDSMwpQ3lmHFqp1Iv25UlqpDbv6YnS4g9FqEKJOIiIiIiIhqikEx1YlmfuOxcv1GfBH1N/iYpjyDeZ+sx/pP/4HfdWxmmkJERERERNTQMCgmIiIiIiKiJotBMRERERERETVZDIrpFslDWvw2bIkKhbfLELyni8c23RbEzBkBFxcX0+Aduhy70/KU5e0ZUZCWoLzfvLzpPRNWIl1ZQpXcQvWWKIR6W97TF6FROiQZbigLyG12RcHXZp2mQWnNutI8tnJNRERERNSoMCimW6AUBl0Eeg0bg3HhG2BAKnYdOIN2fYIQtmQXhCiGPu5N9NowC0GB7yE+z75hrjykxEyGX68h5vcHRiBaq4U2WlpnQgL2K0vZMxp2Y96oQAz7MBujE3Kl7ZQhP/UteO2YgQD/WdBdMAfGbv6zkS6uIjFypOk1gqKRmmZuyVqel5YajSD0QZj2DMrS2cI1EREREVFjwqCYbgE3aILXSEHpWWhD5Ga4emHkc89hqF9782y0gGZoGGbK8wyx2JWYrUyX3cAF3TwMnRQjBdNBmBt3HmV7lyAsOBjBYUuw11Hr08YMbJ0/C4sTBiN67QIEm7blCne/MXjt9RehMXyIGSv2SeG2hQf8py5AZKAGiF2OJVszYArN5fUs+Qg3IqPxQXA3/mCIiIiIiBoZ3uNTA9ER3fp2lf7nIDPnunmSzHgau9bqpIBYg6DoD7BwaJdqJFoj8hLWYkbMcSDkeTzt10qZLnNF+wcCMFwaM2zcg0TbXGn3AEyNCkcgjiNmRiS2XriMlHVvY8bpvyBqagDclcWIiIiIiKjxYFBMDZoxfT82xRoAzYuY86xfNRNsIU4e+lEKpAGfvt3QyTyxMkM6zmSW1y025ST7v4QouRi1nJP8wjhMmt8aqz6bDn93/lSIiIiIiBoj3ulTA1aKi8cPIlYe7euLe6sdmF5FRvI509ip8AA0t20oSx68x2KDaW4WsvPtW80qL0ZtSEjAxVkv4ZkuLZR5RERERETU2DAopjuDlwfa1Ti1+iBEexZCCAfDXsz2VykU3aYzevS4yzR6atmn2K40yEVERERERI0Pg2JqwFzR1sMTGnk0Mwf59o1SO9QaHlIQLRejzsy5Zm4wq9rylHrEQYiMCDIXo17wDS7UbCVERERERHSHYFBMDZgr3O/1RV95NHYn9qUXmaZWzRMBI4KkYNqA2E37kV7tgNaIgqRoTJsPLFz9Bma//o65GHXMG1hgaY2aiIiIiIgaFQbF1KC5+g7DlLA+0tg+bNx+DAXmyVVwRfuBYzDL1L2SDtsP5yjTbUkBcMo26A6Xr9FoiMOi2Z+jx6oFeLF3e8D9Yfx5ZrAUXFtao2YxaiIiIiKixoZBMdURI4pyLuK84TLMoWMOLun1yMwpgjC9lhivISezUBrJR1aufa5vEXKz8qX/dkWeXbthzNtvIUxjQEL4JExf/gMMykyjIQm6z7dht/yiMBu5hTZ5uXL3SmtXISLwEMJHvYIoXVLF90W9BL9pR+DhpTSipfRrvK7HPLw9xtIfcQt0GTMDC4Ok4JrFqImIiIiIGiUXIbc4RFRLpUlR6B0QjlPK63JToNW/j8d//Ae8x65Vpil8IpGYMhv+WTqEWluEtpDftwrBGjfTK6PhIDa+/zpeXGpqixrQhCByxXgMuT8HKwL+Yn2vT2QiUmb7w/wuSUEa4ndux/qXw7FB7qMJGgRGvIWZgwbg8VH+0LiWwqCbYbdvlm0boAsdgrEbbD9VICITv1ZvoIuIiIiIiO44DIqJiIiIiIioyWLxaSIiIiIiImqyGBQTERERERFRk8WgmIiIiIiIiJosBsVERERERETUZDEoJiIiIiIioiaLQTERERERERE1WQyKiYiIiIiIqMliUExERERERERNFoNiIiIiIiIiarIYFBMREREREVGTxaCYiIiIiIiImiwGxURERERERNRkMSgmIiIiIiKiJotBMRERUZNWhoLzZ3G5VCivqfGQvtvMSyjgV0tE5BSDYrozGQ1I2qbDlqhQeLsMQVRSgTKjqTOiIC0Bui1RCPV2gW9UEkqVOURElRXD8P0qvLxoH7J5smiESpH/cwxefms3DHzoQUT1TqDgYja2Hb2A+RuS0eOTszhkVGY1cC5Coow3GiLnVxw+lS19LfbawvuhXtC0clFe052pAElRoxAQnqC8DkRk4teY7e+uvG66SpOi0DsgHKeU1z6RiUiZ7Q835TURUbkyFBz/FH97/QbmbJyC/u7NlOnUuBQgbeNcRJwbj0/nDkZH3gIRUX0x5mJ5dAZWWh6yunlgy6T7MOAOyIatx10shUE3FS4uLtUcpkJnkI6gQYdQlflqOV5yAOBbYTlzjqHx0kF8uuJ9LJn9ZwQEBEjDKEx5YxlWrNqJ9Ot3yOOKO42D70198EWo7pzyxpvhDv/ZeyHEWWhDfJRpJHPzn410UQK9dooyhYhInbi6D5F/24vfLwypHBCXJiHKt+K5W73kyTnoQn0rLGcaQnUwmB5gDqk8T7kGVL6G2w99ERr1BbYlGdBgrtwqx8V+8A6NwpZtSTCo7HTVn9l2eA4xaUXV2KY3hsz5BDoH25SvmX5//gf+fPJtvLbjnEqGAVHDU5pxFgNWH0MP+2HLJWQqy5jIQdgnKsvdQTmUjYprB7w6uR9OT/DCMGXSHUPOKa5fZ4UUuMjnYOETmShKlKnlskRchL80f4rQ6i1zr4vU6HGm90AzV8TllinT1SjrD4oWqXaLlSRGCilksls31Z8SIQVj5u/NJ1IkVjrkZSI3bq7QwEeEaM8q02rDkrYCRWRivjKNbL8H9d8cEVGOSIx8WvSes0dcMSqTVJRfR6UhcJlIzHdwPS5JFJE+0jIq12LrPGhEUPQJ6Upgy+Z6H6IVemVqmT5RaCNDpOuF/L4+IiQ6WTSks3xZarQIMu2bzf1FmV4kaiNFiEaeDqEJWSdOqB4v9c9s5eBYqm5TFAt94g6hjY4QgfI8TYhYdkBvd4xlRnEtMUo83nu+iLtSqkwjaujKRNqPKeL+j46K+9ecFnsLHZ+syjIviNHych8dF6+lFCtT6bbJuSj+Kn8fH2eIJLXTYAPUADKzPfDAYwHKuEUr+A5+CtLJHzDEYlditmmqqryTOLC7EEHjB8GXNaQbOFe0fyAAw5VXRER0exhPb8fCt1rjlZDfwNNhcVojCnOzUai8QkIMPoo9p55rm5WB5FOAz/D+6GF/LS7MRZZpJb0wvP+9dkXUCnA+9bRpzKdvN3QyjUlXC40/gme9jVVhfaRXx7Fh/hc4mNdQsn2MKDifjmR51McX3TopFVRcNfAPfhmLVk2HFMzDsGElPj2odv+i/pntaR7uDi/rwbLZZtBA9OlsqRTTAhr/PyA4bDG+TlyGQMMGzHpsMpYl5SjzLVzQZkAwXnlkC17/LBk3lKlEDZsL2rVWSrG4NkP7lo7L/ru2clN+Sy64q9XtCwiMF/UYszod23Ll514NS0Pet4bg9qUaKzd0fnwytmqfR5925bvj6jsMU0wXwyRs3HUMeebJdozIS9yDjYbBGD+4O1sNuxN0fhwvb/1/CO3TQZlARES3VgGSv9mErYNGYmjvtso0NTeQeSYdBvgjMFCuqnIcMSt1OFxQOTgt1Z/GD9JyYwd0q9SGgTHzDI4Y5LFe6OHdyjTNyngZZ47opREf/LbHPRXf69oFj4/8rXnc8CMOnbSG57eZ5bhIftsD3hV2ugW6PD5UefibBO2hjMpFzp19ZpmrN4b8v634bFIA2iuTbLdZMVi2cIW7/0S8HuEvje9A+Dwd0uy/JpeuGDJhBE6s3oYDDeYBA1EjIq7j6x+ycUx52aA05H1rIBpEHCk/ER4dHAg/d5vdce2KJ/8yyvy0deMeJKqewLORuCsWhqCnMNjX7kJLDZP8JH30aAz1s1zq7VpLfk+Hn7bpoIuZgyGW+lLeoYjanSbdxjlWmnEQ23RbEDNnhPk90uAduhy709Qfp5hbr/4CUaF9rcu7uIzAnPUH7epk1X7/jIYkbLNd3lRPTockg8qz+oI0xCvbqnJZkzykxW+y+xy9MWFlojKfiMjOjXR8t+kYBv9pIHyc3gUoOZo+z2PJh/PMpbcSPsdXlXI/S5GVkY5T6IFe99o3eOgoh1NRoEdqshzqDcATfRzlmcpUAurbxpLTq0HQEw+is3miCgdB78Vf8F2sk89c6Topy8Lx7w5J/zXo28sb6s1KeiJgRJDpvgmxB3H8on047oZOD/nj9ylf4xtnJfCIGhNRjEPHLkG3Nw19Vidj8tEiZYbMiMyMy9j202n8odI8i1KcTL2I5VuOW+sr99lyFtsyiqV3W0jrST2DP6w5iVcvylML8eoXycry9us1t85s3h+l/vPaNCw/movMGmfgVmddNdk3J0zHMbPCceix+gTmH7yZ/W6Ybm9QbGqcSWlgqxJXtA94EhNNUbGDItR5x7BrIxAx5xn4NYjwnhyTG2MJqNzAlmErpvcagrHjwrFBukc4tesAfmnXB0FhS7BXCJTpYzG3126EB03AO/GXlTfZu4wTp7PQrk8QwpbsgpB+uPq4N9FrwywEBb6HePsHKgXHEfNSEAKm7UePRUlyvXqIsvOImwssfXEMJiw7WB7g1mr/bsAQ/xaGeQdg2ndemJeaK22rDLlxo7A7fCwCJnyIJJscF6NhN+aNCsSwD7MxOsG8bH7qW/DaMQMB/rOgu2AXGMufI/S36DXseYRvuILAiI+h1W5GdIQPEhKSlIWIiCoynjmEHfvvxZCHvOG0venSDBzSJkEzdgB6P/gM5phyIZOwdMl2u1zIHJw4kCjFa77o7tVCmWZRiJOHfnSYw1l68hC0pplq71XWK9GEBeEx+4D6dlGOC+CNh7vfbXcjZUTeiUTslkc1T2H0Y5VDZnOuusT+M+fFY450vZijdq0rvYTTP8j9Cqht08IVbTp4oo1pPBWn9ZVvdl3u64ehj5zGrkNnUKxMI2q8pKDx0jWcEyU4dK64vCqIojTjPP7wrR6vHi5AijKtAlGEhH+fxIj4bFzpeT+OTeuH02E+eLfNNbz67UnMOHpdCYxd4dWrO761Ni7VBssn9MVpeflpffFJf8sDPTlAzcBzugv43+se+FeYvMyD2PWb5ti9PwNP/usS9NUOMKu7rurumxPF+VivPYlnfyxAjycfNL93qh9iugNfJJ1FmHTP2hg6Rr2toaT1wuBI+34YMdF8Ed74+fe4UOEirBSdRhBGBHgq06jBMl3Q7es4STTBWG/TWrLPyOcQMtTP+hTcVTMEM2c+I405K0Z/N/oOGWnzVL0FNEOnm4uRGb7C+j0XlOmyIqR99TYmbTgunRe6o1tn5YbEtQuGzpyCEOnWLWHN90i1PKepxf4ZL3yD+S+8iQTNdKxaNB3DTftnc9OSsB17U5VTtDEDW+fPwuKEwYheuwDByrLufmPw2usvQmP4EDNW7Ctfv7S87pU/mz9H4JuI05/B3iWTERz8LMKW7GDr00TkQBmupB3BfvRAz3udFZ2WmOoJW3Im70bgpL+bc4tjP0J0gk3gZikOPDwAD7S3v624ioxk+WGoWg6nJYdZ0tcX99qWFjM9VPwQ7yyVgk/pHPfZwj+iy229Y7Gh1J+GSs640RCH995ZJ11JgjD3s7kY08U+0Hf0mau4p7FuMwCPPeBhmnRTmnni3r6eOLrvRA1uvonuVC5w7+yJ0f3vwqPmp0UVuHW7D4ekQHJLb7UHbkboj53HjDOl6PfIfXi7f1vz+atlW4we0hkTXI3Y+VMmvr9e/R+SMecy3k7IQ0q7u/DB0/egp6mOtBt69u+CiG7NUHgxCx+lVa/Gf12uyzkjTh7W460sKQhzbYGulnO8SysEDrpLCrQFUtJzK1fXuAPd0kvMqfAANLcW8XRBc5v+VNWVFwUyxHyJXem2Tz3NRacx8UkEVLoI0213KhwBzcu/a5fmAQh3/mU74IZO3Xwh12YzZObgmnliNbRCh07tpP+n8MPpS5XrdKnp1A195Q2dSkdGVrXeIXG0f5eRsGIRYgwaBC2cUeHGyNWrB56QErUm5EX8sZd8lpZuhhLWYkaMFOCGPI+n/Wyf2pU3TmZbjcCYHoe18vIYJwXRczBUY3/jRUSkpgj60ydR0NEL93RwnvNqfnBdnjNp29ZHhdxipQi0aqNRpsYw5ZO/Wg6nvC+pprHyXGQpGE76FluiJsN/2FogYgMSv5jboM5xajm9pmoyW6Lwkn8QFmMi1iWuw8KhXVRusspzvxE7Cb2aWa6TzdBh2GIYKj0ckNnkPts27FWJbcNoneDZTm25jujWtytw/CKyy5RJRHeC0hw8u9ZSbFdl+CITccqideJ6Dj76qVD6PbXGSw+0qfhbbt0Gj94lBaHGQuw5W6JMrMoNfL8/CzuNLhjW1xM9K7QZ1hy9u7SU/pdh66kCBxlAtupyXbXQriUelE8zpTdwLv/Of8pW+Xxdj3wiE1EiF1VVhpLESFMw4ZgUEASGYGGQHBbvw6Z9Z6RTvkIpOj1xRD+bhiiowfCJRGJJ+XctShIR6fzLvkVawS/sK/M+pc+Gv+mewXwTptu6F8l11Y6Lk+J1rl2CEa0X0K8PRW/TzU958UJnLZHCkI4zmfJTvyKk79uJWGlMEzEVz1YIoomInBHS/UsR4OmFu9s7KzxdhNNHD1asJ+zaFUF/D0OgPB6rw/bD5tI/5iLQ6vVnyxvZUsnhNJ7H0d3moNiwdBg6mILDlvAOGImXkwdiq6kEzET4N6iHfpbjIjEsxrAOzUxBbTPvAIx5ORkPb9WjbO8ShPpr1G+wbBrZCtGeLb9GiizERfg7aETLWcNetmyWUy2ObqNGD3+JGgA3D2yZIhf5dTDUcb+4pZcK8K0cdLi1QNd2FaJOG0Ycv1pSHps4Y7yOwxfkJ1HN8KCHwx8xCrOLcLGq+LIu11UlV/T8TS/zMZ58HwaYzk9KXeyjufilWh/+zqB6zr5V3Lx7QGlX0jHX7hg8frA0YkDspv1INx38IqRtWYOlLDp953C7Bz1+W4siX3XOkhsRCm/lJmzs8h04q8ytNWtRt3bo1KGqoNVSvLByaQrT4D0WG0xzs5CdL9/EVKfBFSIiNXkwpGcq485YGtkaiP49LOcwV7g/EoyZptziHVj2UTwuGC3FgdUajXLQdZGFtZGtQEQm5puDwzI9DiwLATa8izkrv7Nr+LAKJaexa2UUoqJuYvg8CVerdfNo052S9UF/MfQHViFEOlPPmvMxEhw2jCixfuau6Nuto3mayXXkZBY7OKdXrwun8muDdHVwWIquOTw7d1HGiUidwOWcGzA99lPNoU7Dq1nyCUPg7PXS6gXF+cX4xfQcqhQrv/3Fbn3JGLRfyZWR1ldlpmtdrqvazIGwuVGv4xgk18U+WgDbCop3utsaFJvra65BsMbxU44KfRbH7sQ+uQi18Qz2bTqEoIUhCGTR6TtEVwSvT8T64K7K69vHaPgBy0P9TYHwuB1eWKjdi9T8MojvojBSpc7JrWOfc2A/7MVsf9vbpTbw8mh7m3/ERHRnaYbmreSidVWw5Gja50za5BabqzXlmItAq+ZM2nQjNHYAetpd6lW7anLVYOArc7FQuugnLJ6L923rLlfFpRU6eFbjs1XSDO3u9kBrR5lBtlS7U2oBzcBJeG3hOGmn38QL79u0/2DH+pk1j2NAT5sLjvEuBK0+il1hvSuf060lj9S7vLIwpu3G2g3y01h/lqIjqiudvLDfPlfaZjg0pIPD36Q624auVAZrbmx11OW6HDPm5mDlll9MgfDsc24IH3SvdK6SthvSBcMb0U3oHfFRXH0HYbxShHrj9mPIS9+PTbED2Dcx1ZwxBeteHIdZcmvNc2Ohj1uCMPvuwOqCpX4y8pGVW1Vz963h4SXnohciM+daNZ441nR5IiKLtrj7XtscSgeUboMq50zKucVPY6LpmrwZ89f+L3bLRaBV68I6K9XiJBfZWkLMWQOLKty88Zu/zMTs2bNrOLyKKSN8UK2KKA5zessf4DvuRrIUF48fNFV9qXS8XNvAvY2D65CThr3K5eDwdp25Wk3YPLwceLd5ciUlyL54AXBvgRZu1XkKQNQ0tWnVzNwoalEd5ba2cENn00+8DDlFtVxhXa6rKuIaNn59DsuzBHp374L9E3sgtL+n0rBX4+LgDHyrlcKgmwqXUJ25Low9Vz88O+dF6bJqQMKyDfhY9zVi2TfxnctpV1z1zNo/5GBMfPF30NTXL8CtGwaMVVpOr/KmztKgnG0VAWfccW+vHtL/6i5PRGThitbuHaRz4VkYrjpuacncmJSDnEnrNVk6Cy2bi7ly8Dy8P3rYn0+ddiNk01VTpVzk6gSYt0d5F1J2Ob0S6wN8R91IqjYsZu8y4ucEwHtOvPW64bALJyu5pe4PMDt8h7TMdKx6uxotdXe+D5qOTjvkImrCXND+vg4YI/+O8vOx/1IdnINau+PJrvJv7gb+9aulK6ebVJfrqkreNewzPRVogfEDOsKrET9Lq+q0eYuUXyjU2fZZ/CHC5x5A0PhB8G0ge081U2VXXPWprQe85HRU7zwx8Lm/mIsYbtRhj30fwyZFKCiQHwxI6XvgGMwKlHbMpvGaiowoSNkG3WG5JzjphnHE8wiTP4fD5YmI1LSE1/2+6FiQiUtXHbWaaqkn7Chn0rYRTJmDRrZOH4Wp4WnV9Tjrqknagld3PGy65jsKMG8HZ11ISVzvRveHvaURRw9DnX9mE1MjojkY/lhPpfizTcNeqrnxckC8GBOGvYmEwLnQJixCcKVuoGwp+xDQFfcwJqYmww1d7zIn+KzrZdULIlu3Q7Bfc2nkBjb9kq/eD29xPr44mi+dGeyp5eA2R8BD7dEbAsfSsnGkWC2HtxSp/83C0Sp3sDbrqmHusjVXuq7I/SufwR9WH0OfLQakqu777VH/YaXxGnIyq2jS16YFSoesfRbLBldRdNqIopyLOG+4LCVlWQ4u6fXIzCmSkg/Vn1Lk51R182Jzgbcqf19hVi4qphabLiYyc5Bv++O2pi21IspFyM3KV8ZtWNPRPmyM/hZpBfIK85AWLwWcDlufvpn9c4W7/3R8pp1u6mN47KOTEbU7TTmpSgFuWjxi5kzHmlRlv90DMHXtKkQEHkL4qFcQpUuyNjAjd/Whi3oJftOOwEPJJXDt8ke8vUpaN3aYll9+0CCtVSY3ILYdn28zP3aovL9E1LQ1g8f9D+JRnEbqedXbPIml2yBPeKh26yOxyS1GVY1sqeVwWrtqctA2QvsBeG7WSGkkCUvfWQZdWrULUdcjm+6UvDzQrtJO2zwMXboE7+pSKt5IO+2eSqb0VWywPZ42jWxVyI2Xr1s66ToyCt7DtuC+yJ1I/Xqh0se9E8UXcOL7bAwOfAjeLD1NDV1xIQ5cUB7eGYvww9li5V7HXilOnrmmNPpkxC9nCpBZ4Ya/Gfx6tDMHkUf12JhpCWOl96VewXdXzGutGDA3x4BB92F5NzekpJzDq3sv4VCuMlcU49DRs5i87jxSWzUv/y1buiiSA+lDV837IC179Jy83y5w76bBB4Ok/bh2FSFfn8O2DMvnkRuxuoTlW1Lx6mVXdK7yt3kT63K6b07Y5EpvSrqMk6YgVj5uWU5bnzYWlSLLNFKGvAqB7w0cSM5HijRWmHUV32Y2oL7hRL0pEXrtFNMhr/YQohV65d2VlYncuLlCugALTZhWnC9TJqsoSYwUPvbrNg1ThFZfoixFdUqvFSGqx9zRoHwXqu8LFJGJ+dJKzwptiI/dPB8Roj2tnrYs6Ud1nTbffX6qiI0MMaUloI8IifxSxKXmSjPstiev76b276xpM2Zl0ubiRHREkM0yQSIiWqts0460b3GbI0WIxrKsRgRGfCy0WxOFvlKaLxb6xA0iIlBjXbcmJFJs3vqjSNxse3ws+0tEJClNFqsHa0T/yP+KImWSWb5IjAy0OXcog6Nrc/4BESmffzRzRVxu+QnK4TVYXk9Jooj0UZmndp4q04vEdRFCCjKVZW7XNdzBcZEGn8hE6W7Hlv15WbomfPmlg8/sYDAdz1yH2zQPyrVBu1ek5ju5IbJTlhotgqRjvfDHq8oUooap5EyGeOSjo+J++2HzRWFQljEpyxHLPlZZ7uMMkVThp1Ei0k6cFX9do8xff0qsO3JFpBWViKT4n23ee1JszTEq75FJ70vJFMs2J5cvY3pvlkjKsf/tlQnDr+fKt/HRL+K1HzPF9jNF0hwLo8jPvCK08aniIes21Zarjpqsqzr75kBRgdhj3Uay+Gt8ptibKZ/5routm48p65MG+btx9H1YvzdpP1J+FU9L0x7arBcpRbbH+vZykf9IJ1giIiJqEopxeuNf0X/NQOzbOwP9WzDLsGm4gbObpuGhDx5Ewp5Z8G/D752IyKJy6R0iIqpjShH9mDkYYt8P9ZA5iNHpsC3JUgSeqL61xP3D/oRxJ77F7uSGUCyZbomSNHwbvR9PTnsGjzAgJiKqgEExEVG9kYLh3csR6t0BvV7Q4XT7p7FW7hPb1O90MfSJWkTe9y0mjV2E/bk29ZKI6pmL91P4Z5Qnln0YBz3LizUBZcj+zyZ8UPBXzB/ry3MNEZEdnheJiOpDQQp0c8ahV1Akzk7UIjXtU8x+1rZP7BbQ+AdhSF+5P1Fn/Y8S1Yc28JswBwuuxGDtvixTRVVqvEReImKW/IKJ/y8UA5hLTERUCYNiIqK6VnAcMdPHYezSZATOXY8vFgfbBMMqfAaifw/2u063WKu++OvqqchbuBKxhmJlIjU6IhP/WbYSv4x/Ay//5m4wJCYiqoxBMRFRncpB0pp/YtKG40BgOKLmDYPG4ZnWDb2m7oZInw1/Bz3fmJXCoPs7HnhpPX4ucNZ9gUCpYTfeGDoGK45eU6YROeICN++n8c7yh7DrtU9xtJD5xY1PIU5/9T6+vC8CK17qB3dGxEREqtj6NBFRHTKmxeDpXpMQC39ExO3EkqFy8ejaEwXH8OnMMLyHmfjXyhfwkLvcb6AtOSDeg3f+8jL+87sV+Pz1J6Fx4x0wERERUVWYU0xEVGdycHi7TgqIJZogjAjwNE2tCy7u/fDSyhj8Eyvxp5mf2eUYMyAmIiIiulkMiomI6ooxE0d3HzKNaiY+iYD2dXuKVQ+MGRATERER1QaDYiKiunLxF3wXa5BGfDD8sZ5ob55aQWlSFHzt+yqWh1Ad5HdWpWJgvBFHUncxICYiIiKqBdYpJiKqKwYdQr3HYoMUFIdo92J9cFdlhh3jBcTPD8OwxbFA4Fxo1/4TwX5qIbRj5jrGL2LSussYsiC6VgGxHJQTEVHjxdt9IueYU0xEVFfaesBLo4w749oBHTxvmEY1A5/EkzUMiOUi02X5F5GRkQcfn2Y4f1aP7CKjMq/m5JslDhw4cODQeAcico5BMRFRXXH3Rq++clRciMyca3AYphrP4+juVGlEg769vOFunlpNtnWIV+P7g1sdNL5FRERERNXBoJiIqK64dsfg8YOlEQNiN/4bhwschMUFeqQmyzWIe2F4/3trcCKu3KiWt2d/J61SExEREVFVGBQTEdWZVvB7bjYiAzVAQiRmL4qDQSUuNmaewRFTq1q90MO7lWla1Ry3Mu28uyaqH2UoOH8Wl0tZLJGocZJ+45mXUMCfOFGTwKCYiKguuQ/ErC/WY26gFBcvDoL/S1HQJRnKi1IXpCFu+3dIlsd9fNGtk5tpsnNVd7vEwPhWKobh+1V4edE+ZJcqk4iokSlF/s8xePmt3TDw4RdRo8egmKjByUFS1B/h4tIXk3QZjuulUoPlqhmORXFJSNz6OWZhPcYGeKOZpeuldmPxGUZglVYL7cfPoFd1YmKU4eoviTg3fJXTVqYtgfHrHj/jiL5EmUp1qwwFxzfif5Y3xytLx8OvFVvuJmqcWkIzbAb+6bMd05b+gKuMi287Y24uvv7pNP6wOh3bchvzF1IKg24qXIbMQYwuAWmOqmJR3RJEtXZWaEN85LNTxcEnUiSWKItYlCSKSJ+Ky/lEJgr7xZo022MUohV6ZTJRvck/Ir6MnCtCHtUov8ueYvyaIyLfqMy3VZYh4la8LqYM6aksqxH+42aJhat2iO9iPxFLX58shvi4K/Okwf1RMS78HRH5ZZz47sulIiJkiPCxzKs0uAufIVPEwvWx4uesImWDDYsxO0EseHyCWH08X5lShTK9SNy6WURHBNl91iAREb1ZaLV7RWp+mbJww1eSGOnk+5OHPiIk8nOxNVEvKn+qfJEYGajyHgdDULRIlVZS9TbNx1J9mw1JsdAn7hDa6AgRWGH/NSIw4mMpLWwVcam5yrJ3AJXreaVBEyIiN+8Qifpi5U1mDr9Th9c8x2mn4j1EidBrp1ReznQ/cnPpT5Skiy9fHC6mfX1WqJ0Sb6eaH8c7VYlIO3JaPP1Rsvhr/EWRlGP/S5fmp1wU63b8Iu7/6Kh1eGhzhtCmFEipx7GynByx/cdT0rqV961JFcsOXRFpRc6+7TJhOHOpwvaq3lZN91E+X2hFZEgf6XcUJqJP3EHnhjsUg2KqM2Wp0SLIdEL2FxFxWcpUNZaL1jgRnXpdmUblcsWJ6DChkW705sadb+A3edSYmAK+Rzuab6rcnxYL9pyTfq0O3EgWq4dLQfTwNeLnG7Y3D/Lve6pwN50LuorRG05WvJE0nhdfT5Uu8qb5f5bOAdfMk/MzROKez8XC8f3N83pOFtHHc+rmJtSYL879etnxZ6m2HOmm+mnRe84ecaXKHcsVqbHLRIhG+iymwMA2+JVvdjaIiED5IcRIEZl4VZl+p7guUqPHmb8nm5vvMn2i0EaGSOcu+buVguPoZPUbxLITIjpI/uw+IkR7VplYznyjrxFB0Sdszn/q27R/6KAJWSUO2AVgt1+ZyE/dab65NT00+LJC8FumPyDWmfZfCo4jDzi9gW+Iyq/9U4RWb/mV2aZxaV7gMpFY6eGPTZCqOl9N+UN4TUSc9CtzRFm3Zq6Iy7Vbb43Tn1FcS4wSj/eeL+KulJqm1FqdnZNkN3Mc7yRl4sKRk+IhKSCedqSw8j2RsVBs1Sabg9kTluDSKPIzL4tlm6XpHx0TT397WRgqnbOlZQx68dc1cmB6Thw0Bdry+y6K19YfE/ev/1XsrRR8y0pEyo9ppv35a8JVZb2WoN3Btm56HyVl50XcXOn8oJkutOcb2rmtcWHxaaozrr6DMD5I7o4mCRt3HUOeebKKHJw4kAgEPYXBvtVtZOj2MabFYITLVOgMdVV5sAhpMc/BJVQHU1tLlbRH77Bo6MUuLBrahXUc6JZx6dgD/R/wNL8o+DfenrYQ/5dWYH5tr3l3PBrUC92f6A+f5rZFiN3QqZsPOpvGW6BD25aoUMDYpQM0PncrL9rDo10L05iL+33wHzYB8/73Y0QOkc4jJz/BpMn/i0OF8r1eLWXG4rUBixGXXbt61sbT27HwrdZ4JeQ38HRWatpowMHlMxEYNAu7h6/DibRPMfvZQPi5W37NLaDx/xOeG9lLioP6YUDPmvZTfbsV4HzqadOYT99u6GQak6sN+CN41ttYFdZHenUcG+Z/gYN5KsX+rK2vd0Xfbh3N0yrxxsPd77Y5/1m2qUHQEw8q6UviqoH/6GcRtmQTEiNHwrBhBh6b8CGSGkxxwxswHFyN6YFPIXz3QESf+AHrZ4/HUJu+yV01A/GX54bDR/rMAwf0qGEXbbebEQXn01XaSJDT+F/w2usvSt+YJOFzfHUw2zSnXBFys/JNYz4jf4/+1t+HE6WXcPqHU9KIPyaO6CedQRy5iozkc8DwADzQ3m69NU5/LmgzIBivPLIFr3+WLH2jdaCOzklmN3Ec7yDGnMtY+FMh0PkezO/X2u6eSCAvLROvXZR+766t8IRfW+X34wL3znfh1ZHemOAqkHLGgLePXa9YHa04D5/EXkYc2uDdJ73xaAd5zfL7OuGfT3ig97U8zIi7LN2LmRc3EyjIMODVw9dN+/PW7z3gZboWuKFn/3uxsLebyrZqsY8y1y4Y+s85iMCHmLHgG1yotADVlcb1y6Hby7UHRkwJNl0ADRv3IFHtZkiWdwy7NuoRNH4QfBt6CjRmYOuS5YhVXtYF44VvsWT+ZuUVUUPTGr9/YQKGyFftk2vx96mr8eNVxzduzVo2RzNlvC64uPfBH54baH7x4x78cFK6GaoLVwtwrbg2AXYBkr/ZhK2DRmJo77bKNDU5SFo2GY/N2gCEafHfT0PR29lNal9f3Hun3cQaL+PMEb004oPf9rhHuh20Id3APT7yt+Zxw484pPL9VdX6uqv3EPw/bRQmDVQe0Mis27QPli084P+3WYiQL0AJkZj3VVoDaI9BChiTPsSEx2ZgA6ZD+9/VCOvt7AFID/S6984KieWgP/NMuukBr2bsAPSsmBjgfq8v+iqvKnGWjhwwnj6K3XJMXNWxMgXPhRUfoChuKv25dMWQCSNwYvU2HHB0b1NTtT4nKW7iON45SnDk8BXsNDbDmIc84K3yMLKwqAwOrxKt2yPYTz4iRuxMvopT1sNtxMnDmVh5TaBNV08M8bA9o0jB6n2eGN/OBYUXs/BRms1jEFEI7X9ykCJd9SrvT3M8/GAH9JO39VMmvr9e/t3e3D7aaD8Az80aCUPMIqxIuKxMpLp2h12JqWFrgS5PBmOiKSqOxa5E+6fCMiPyEvdgo2Ewxg/urp4AC9IQvyUKodLZxtQwkUtfhEbpkGRQez6bh7T4TYgK7ass640hc2IQn+Y4n7rye1zgHWrXQrD8dD/+LQxp1h1jY45Lr9dirHdzZXlfhOrOmReTGQ1I2vZFhfW5uIzAnPUHK3bHY7yA+Hkj0OzesYiRL8gbxkonVMvylpxoed+2YUtUqDRvCKKS1HPpjIYkbIuZgyHW98vHaJPK5664vvd08dim24KYOSOU98mffTl2Oz1e1LS0RPcxc7Ai6gXIeSgFe99G6P9swemSOrh5qxZXuLUw5x4DWbhw5boyfpvdSMd3m45h8J8GwsfhlVMOgj7F7PAdUoQwHave/iO6OFzWHf6z90LsCoNfnV6J5QZa/o4HXlpfRQvkcovmu/HG0DFYcfSaMq2arDltA/BEH0s+sRq1oKMUF48fND9oDBqIPp0r38LLOc6jg21z1iUXf8F3sfI2nQRD7fthxER/acSA2O9+wUXz1NunIBFrZkciAX0QtiocY7pY0nVlbv6zkS6+QphfXZaeugVpQfqNHv/ukPRfg769vO1yuW1ykTVBGBFgE2TKqpVja8t2fb7o7uX4eCIrA8mn1B6g3GT6k0LNTg/54/cpX+Mb1Xub26jGx/EOcj0furQS6Utpgyfva65MtOUCr94axAzywvLHOqgEzc3g7amkk2vFuFCkXMfEdexPl+8ppeDWx71yiQOXlujbRX7cW4atpwqsJR+Nl3Lxr3xpHQ72x7VTWzxhim8LseespbHLm9zHCtqj54B+0q+sqpKYVBt1eikmKr8pcfTDzUbiLulyFDEVz6pc/I3ShXneqEAM+zAboxNyIUQZ8lPfgteOGQjwnwXdBdvAWG6leQJ6DVuI5IfXQF8mIPLjMRObMKxXB1iCvvKAU2IKTMdJ74lB1ujNyJfr1eefwCqv3RgbEITJ1taeW0Az9A3s1WsRYno9BVp9iVwHXxrSsT64q2kqCo4j5qUgBEzbjx6Lkszzy84jbi6w9MUxmLDsIKxhrVwEZtEO6LVTzK9DtNCb6/VLwxoEa6RbOV2EtG9jMC58g4Oi1eZgfZh3AKZ9dx+W6ItN7y/Tr8HDyQulzz0O8+IvKJ9BviGyXV8qdh04g3Z9ghC2ZJf0vmLo495Erw2zEBT4HuLr6uk33flcOqLPpEX4vzmB0osCnPw0HFM/OIi8WxEXiytI++8J5UXDyTkznjmEHfvvxZCHvB3njBvT8NU8OQjSIGjhDKdBUP1xg1fQVIQ77ZrLtouv6Rj3UBtlevWUnjwErXyCUg1MlOoxEk1YEB6rFHQUQX861TSmebg7vKx3IUbkxc+Dt/c81XNRqf40fpBHnAZDrdChUzvz6A+nob+t3WUVIe2rKIQnSAcq6FXMGdPtNtxw1X9aKC/OXDkANRri8N4766Rrj/xQYAoC7Yoxl6ejxzGgZ3W2W4iTh340XxvVikVbSWnpRCJ2q54/bi79yVzu64ehj5zGrkNnUKxMawhqfhzvHMa8IhyXv462LdHFUUv/LdsisP89GN2vg1KU2ZZA/nWVdJ93Dfvk4Fb6jfT0qPxgxDZQLbxQgHRTkhC4lFmIY/Koo/1xbYkeHeXpZfhWf126C1PczD5W4Ir2DwRguDRmOHIGmbxdqxe3/hxNjZwnAkYEKUWoddhTIYiVmIpOQ70ukFxUef4sLE4YjOi1CxBsqnPlCne/MeZ6SYYPMWPFPiXQtsmRkW44Xnvlt9DIqdm9N4Jfm2MuQqeZi7jcMiXglE96N3Bh62K8sDgZQdEfYHFwb/NTbet7pAB3xlokVDs4lG963sakDceBNt3RrbNyoyYHvzOnSMG0AQlrvkdqtW/M3KAJXiPt71loQ3yUaRUZL3yD+S+8iQQ5F2rRZAzUmLfpqvktXl35gfQZYrF42BQsS8qRptqvrxdGPvecTV02OfAPw0x5nsOcfWqy3LoiaP77WDO+p/TiHHaHv4o3dpwtv8jXB5GH09tW4e01cumMrhjyxt8xqmdd5pzdrDJcSTuC/dJNds97HRWdlm6qEzZgvik300lJmFvAeZ/VVfd57VwpsjLSYSrBWqnot/zQ7kO8szQJCHwTny1UyylX6npWyllUHphOfBIBlYIdm206DYYakLz9iDZVk9Hc1qpC9ZsWJKYcWXnEJgA1lZ76BHMnhGIxJmJdYiw+CbZ/KOAsHTliSTuoUJe9MqVIt89A9O9hf/64mfSnaOaJe/t64ui+E3b1TG+nmzmOdwqBgpxipEtjbTxboXMNk6aJNUdYWkfXDhjQ2ryS0pwiSGcpSTN4qAbbLrjbowU85NHSGzhnCqDLoM9W7mlbuaGd6v64oetd5semOVeKUa2Czg72sZK2HvCS721jD+L4xdv6xK/Raky/HmoQXNE+4EmlCLUOa3edlm4VLZSi01ApRmW6oVyLGXJR5ZDn8XSFXGSbJ2TWuso3oD/6IxKkMZ/h/dHDNiW7e6NXXznb1S7Qy9uHFTM+lELVZzDlad+Kib99Tzw2vA6Dw07d0FeOQ0+lIyOrrk5el5GwYpGp6LVmYjCetM+Faj8IkxaOk0Z2YNlXh6pZvKYjuvWVc71zkJnTQIqpUoMh31BPWr4Ccx6Vi+T9iPf/PBurj+ZItyp15Vcc+PdW6HRfIuaDBZg6LAA+f3oP/3UfhBc/2IjP5z+BTjdzI1Tn5Nylkyjo6IV7OqjlKsjK61Y2hEYE1YOhOgiCVHPapGA46VtsiZoM/2FrgYgNSPxiLoYqD+0qyDuJA6ZKoQbETnqgvP9ul04YtlSvUgRXVp777DwYKm9wCD6eaHcb73DK663e3gcksvpLC5YcWdlmTOrV2vxdNvNGwJg3cHDgW9DOfBqP9+qs8vkd5dg6YU07/hg7oJsUfjhibpStch1nyU2lPwvlenn8Iuqkfaw6cRPH8Q5iqYvbonUz1DwP3Aj9MQMiTQFtc0x6qJ2ThtlulxrsY5sO6GQ6CNnIyWdQXB8a2c+HGgRrcCZddDbtV4qdyJw9iS0vFuX0pseQjjOZ8hO1UuRnZ5mnVZO1iFGFFjLt6XHkzGXpNFUdreAX9pWp+LJInw1/0yrNN4e6rXuRXEftA1mVZuCQVn626ajVzRbw6u6r5NI7aeiMqNpc4KYZjvkxSzHeVMF4M16e/P8Qa6irwoO/4uDOr/HlyrmY9I93sHbv3XjlsyPIuroPn778xE3cpNcXKYC4UQR4euHu9o4KT1vqVjacm9OKwdBGHEndVcsgSGI8j6O7zTfhhqXD0MEUULSEd8BIvJw8EFv1Z7B3yUT4qwXEkvJg0bZKijTkxiFC46ARreo2JGRd7nZ/Bzb1Vquq+3qL1EtasH0QVKE6kFzt6TNMxBaMHTsEvfwmIybF7jGtNR2p1UVWV552qmpkS75Wqge4N5X+7NXpw+5auonjeOeoTrFixyytVhdK17Hevb0xuZtaneTb6+b2MQvZDIrrRQO4bFPj0wq+g59CkDwauxP70qWbSYkxbTuWLHVQdNqmWNSp8AA0tz69VQbvsdhgmms5GbRBzwGPmwLAU7uP4rRt/GdtdML2wmlTxOhUOAKa263f5T6M3WB+enwq+1o1g2ILSy6J3JiV+eZw7PIdOKvMrTPWYmrt0KmDWi6UK9p08DQ/TTVkI+cag2KqC83g3mcilm0IR2/55X/fx8x5Xzqon1hTQzHzg2h88flK/KO3/Fv9EdHr9+JMYU3TbgHSvlmDqKgo9WH1NvyMY9i2epn6/Kj3se6ni05ywPNgSM9UxqvWplOHm8jVkJkbxtOZGtELwJz42rcyWh4MrcAjvf9WyyBIYj2/BiIyMd8cUJTpcWBZCLDhXcxZ+V3FBgYrsGkoyf7h5LUcZBocBDvVbUjI2hhXVd31SEpOY9dKtbRQjeHzJFytbnGJNp7o0OYmbrXkBidtG1P0DkWULsnJsa1anacFJUdWDsgqtvIsV3sairDFHyBa7qbREIP5nyZWLL1k/U57YXj/e6txM2rzoEG1WLQNh41s3WT6s2oOz85dlPGq1Pc5SVHj49g0GHOv4K3tF7FT+r206XQ3lg9q3+AeGNwJ+9jU8PdD9aK8z+J92LTvjHQpKkL6vp2IDfo7JgVa+ihV44MQ7dnyp7eVhr2Y7S+fNlzRPnCKuT/M2OV494MfzDcLBSnQvbsESw19EBK9AM+pteRZ4Yl25SF9tr+TYlkVGQ0/YHmovykQHrfDCwu1e5GaXwbxXRRGNq72LqhJawnvkfPw5Ypx0kW7ACfXvY6ZUXuhr8UNui0376exIGaBqRuogt2vY+Ib/4a+tLpRh6w52nl1uvkbihae8PZ0Vty5GZq3aqmM15O8eMwZ8S725ZTBmJ0Jc15sXRAoy7+IjIw8+Pg0w/mzemQX3fwXp9qdjasGA1+Zi4VBQMLiuXjfYZchjrvvMbYLwmoHrS9XryGhIqT9+0vzw1O1lo7tubRCB8+b+U6bod3dHnBU7a9OyA04Tp+Ad9KfxBdyA5IiF6mrumDH2FEVG2+ssbpNC1V2k+V6L/oP72UaNWgP4aRN5pZqOnKqvJgwftsD3o6LCyhFugPw2AOmGqE2bi793Zz6PieZ1fw43klc0K51TTv8Eyi4eAkLtumxUe5uqVMnaEd5oVfLij9YN49WkJuElesJ56i29ixwOecG5NZZ4NYCXU0ViG1aiS4qhanEcyWlOHfF/MDY466WUL/brd4+OtYJnu2qe5dKNSIFAUT14LpIjR4nnzIEApeJxNyfRXSQjwiKPiHKlCUqyhJxEf7S8hony6go04tEbaQI0UjbkbclvT8w4mOxNVFvt44ykRs3V0hhukBQtEit7gb0WhFiWu8UodWXKBMVZSekz6Qxb3NurNDbrrMkUUT6qL2vRFrlFPO+hmiFFJyrOCu0IT7SMoEiMjFfmSaxrtNfRMRlKRNt2XxGzVwRl2vZIQfrM8kXiZGB0jwfEaI9q0yjpktOK/6O00JJhvj6H4+b0y+6Ch+fjsInMlFK1RWVJEYKH9MyaunKkubk+ba/j3yREh0iOpqm9xTj1xwR+UZlVm2Zfscqv+FqU/bZJ1IkOlyFzTmvqnNMfqqI0+4QifpiZYIty+/Y0e+8JoyiRB8rFgzpLYYsiBUXrhwR0S/6i54vrhPH80uVZWrC5hxT6ViUf35NRJzIVaZWZDkX1eQ8b3POdHZc8w+IyED5fNxHhGnPVHPd9acsNVoEmdLyOBGdel2ZqiZXpMZttblmWY6x/TFSrpEVzu01UddpQWK9Pjr6jJbrurRMheudzXeq+psqk34ie4V2a6LNddWSdqB6zimnpEPVtHIz6c+Wch5wnym+vnSTx8yi1uck2c0cxzuJUeSmnBYPfXRUPLTjioNziq0yYfj1nPjrmqPi/o+Oiad3XBRpRQ4uIsYCsW7jMWm54+K1FLXzcIlIiv9Zml9x22WZF8Roadr9a06LvYUq6y7LEcs+lrfvaL012Ed7uXEiwnSvW9t0Q44wp5jqSSv4PTvV3Ap0wuf44uMvsSl2gJMGRyytVtvXQ66Ca2f06tYMZ2FpaVqPvUsmY7S/xm47Ng2A2RTprhVrUb3BmPji78ytX9cnt24YMNZZd1c2T8GdtaBJdLPc7sPId1ZixTPdpRfncOrUVfP0OuGOXiHvYMM/HpfGT2LT7New4qfL8h1AA+CK1u4dpN/8WRiuOio2rl5tpDIj8g6uwwtj1+Fofh1ltauq3JCSt2d/lQaXaqK87YfKjRiVf36HbRo46b7HSs4x97YtOl6NhoTkrvYWvW7q/kgT9hbevi3dH1VUubSUA3mJiH5hGj46mqtMkK5VA1/EZ9rVmDPYu/LnsLarURP1kRakr7OqbrKsOcn2xattvlO1xrCQjYPRszFjfy7aWg9Aa3h4mXN+C7NyTY0vqSo4hu0bD6m3+H1T6U9F5/ug6VjTHMz6cDPH8U7iAnePlvCVxgqzi3DR6cWgFCePZiDs39mIM7pi2INdEfP0PejpKPfVpTUG+cpptmI/xFaiGMkX5N9ExX6MXe/pgD/JucYV+iEuZ8y6hu/kEhGq/RjXcB/tmYr4S/8d9K9NtXdH/kzoDmHTZ/Gy8HcQ67RFVvlGYAxmBUo3EbE6bD9sKrRix4iClG3QHbYtPCad9L/6HAm4gEOxciu2CUgrcHD70X4Anps1UhrZh43bj6kXQSs4jo2649Kpy55Ka3+W5vFvVmYOanZPfDcCJ/1duelU6+7K0gXISMx6boDz+nREDhlRXFLmMBh1cR+AaastdYDrmBx0L1iKd4d0lX6LO/Ba6EL862wdPMCqtZbwut8XHQsycelq5RshC1e/YCyKlM8xmzH/3U1IUT0XmRscNNRrA0yOWxZWb4m4uhx1Z2Pm6tUdD8vnREet+Kt131OB0kOBwaboa1UNCckB8fwwDFucjMAILRI+GKPSDdRt4OqH5xaFI1B+0Ds/EuvsG5oysXxeuyDN3Q9Dg0fbdJ9no8Ytm9dXWqiqK6A8pKyLNHdRpgnGlBE9bG44nacjc9eN9g1luePeXj1MY44bkpS2+dVaLMN0LHrOr/IN7s2kvwqU/Q7oinsaQkx8U8fxzuLaqS2ekOO/a8W4oFrMWSKKkPDvkxixPx8paI4Jg+7H8iek+zPbWFNcw/rPTmB5huU+zhU9H/HCzLYuKDyXjb05tulJoOBsNjblC7Tp3Al/97M5T7u0wdjfeaC3HEz/nGPXNVcJjvySi2PSup/6jRd+b1vH4qb20ZalWoD0bTfCVsYbCh5WqkflfRbLJ+0q+2p0D8DUtasQEXgI4aNeqdCoiNGQBF3US/CbdgQeFW4kryNHCi5h2IDwcWPNLV22awYXl74IjdIhyWAbOHrAf2oUtBF9kRA+CdNt58v9KuqiEOr3Pzjh0bH8h2HpWkkOpNf9x7w/0rKHDxtgtAb90rzob5VgXGkox2Hr027SKn1hWmXsJqxLuCCd6uRVHsdh675ckz6T/OZ8ZOVWDAhc/V7Aurg3ESj32TzvExxU3mOq2zzzFSw1BGFu3FrM8re5oDtZn/yk2dyFSaEUo9e0gTFqbET2L/jP7sP4/qdUJw0JuZjqAL/z5RI8o3qnJd8sn8JF03ghDJdypVsFGyIbGT9fUF4U4FpRxRtxl46/xazVb5tbuz75AUJnxuBonTTqVRvN4HH/g3gUp5F63lmNTukcM2st4uYGSaekF/HAqLmIiU8rfwAnn2fWR5r78a23PkUdB0EWNx0MWbuzaQMvj7aVbyCsDx6TsPSdZdCl2QaC5Td1jltkVh4Y2OaEOGpISG6ISvcJ5gx7FMPWeSEyNgFfLwmGX4Ppp9UV7v7T8YXpfB2DSQ+Mw5yYeJuHtnIDjZ/j3XfWSWFzVQ08yf3yb5TSjfQ5F0mfsdofsR7Tgm03WRW6RZT2NS0eMXPG4YFJMTBowhAdvwjBtl0IWtORemNY5sDUvuGoVvB7bgGiQ/pI1/vFeGHmB9htk77M9wgzMXTjffjsi+nwr5QObjL92Sq+gBPfZ2Nw4EPwrngYb4+bOo53GNc2eMK3ufRx1HNm5d9Rwr9PIeyMNM+1Nd74U08s7N9W5QHBNeyzrwTcsj0mB92NYdJ16rU9evw3V/5tyvV9s/DedzlIadseq4bdbfddu8C9mwbLH2kNXLyEN77PQaZptXIu8HnMTylF7+4aLOjX2uaY12IfrZS0WZ1GBOnmKcWoieqHpQ6EZrrQnlerX6FCrm+3uXI9Yft6MWX6A2JdxEhpnlak5iszTHX1NovoiCDze1W3K9fh+lJEhvRR1i8NgREiWrWOX7HQH1hlsy9BIiJ6c3n9L2l7sZEh5jp26CNCIr8Ucaly7ZPy+k+mwbY+VZleHFhmeY80WLd9rbx+UIXBvv6IuZ7QZut25cF22xY29Y1sB0vdI2t9MNuBdVWapPwj4st3Z4lx/nKdTDkdaIT/uFni3S+PCPta6OWuiwztK+JRa/2+InE27hOx9PXJYoiPe3macn9UjAt/R0R+GSe++3KZeH1KkFLf2Dy4Pxoi5i/9RMSdLTKtxaxIXPg6XPS2LOM/XoS/+5U4Yvmd11Rd1N8rTRarB2tE/8j/SntXFem8kbjD7jcqD8q5TKtVaffAorZ1ikvEpT2LxEuL9gh9ifO6asb8o2LDP8LFZ07rvEqs7RnYDyrtFMjtPKyLEIHWZaaIL7ULK3znVQ2mOskOt2kZzOdibVyqkzTaMJTpE8XWCtc0ZTCd+7VV1PmUzvcn1knvDRJz4847SDOO1ENasNSrtf0clQb1a7bjdKQ2OPi9yulr6+cVr9/SoAmJFJsdHMfyNg6qNziqE2+uJx4oFv54VZlSC7U5J9XFcbyDlF29KKatOSoe0l4UFyol4+vSb0uuGyzX0a1q+FksO1P5WJTl5Iit8ammusvm5X4Rr/14pYq6vmXCcOaiWLY5uXz960+JdSkFKuej2u+j5V5aE6YV52t2EqAacJH/SD8cojuLMQUxTw/FpOQXEZeyEEMr1Z/NQVLUCwgIT5Hi0b1YH9xVmU5ETY5Bh1DvWIzWr0Kw5mbrYhXj9Ma/ov+agdi3dwb6t6ivrCIj8uLno/ewWEyM24klQ5211k+N2w0Y4hdjwrD9eDwuBguHdrlzc/zueDdwdtM0PPTBg0jYMwv+bWr5+6+Tc1JTYYT+6GkE7S/C7wf5YFV/21zYJsBSRWRdT2j/u6xiqQuqUzy/0p3J0siVwz4g3eHd417pvwe8PFqbJxFR0+TWAq37aNCpVq3NtMT9w/6EcSe+xe5ktfqhRHXIaMDB5ZPh/04xZqZuxiJTQCwXTf4P4isUS6dboiQN30bvx5PTnsEjtQ2IZXVyTmoqXOHdvzv+Nagtzuw/hSl7L+GQqahzYydXsdAh6qWnMOxHf2gT7KohUJ3jr5HuTJZGrk4lYO9RlUa5jOn499rt0ITNw8tO+0Umokav0x+xJvkN/K6WLbK7eD+Ff0Z5YtmHcXYNrBDVHVMbES+NwpzM0Uj4eiGCrQ1u3YB+3xos2aeXwmO6dcqQ/Z9N+KDgr5g/1rdubpzr6JzUdLihZ//78c2ErnimdQHmf3Ea23Ib80m4FAbdy/CefQCeo1citcJ5gOoLi0/THSoPKTGvYqipIY8QRK5/DVOH+8Hd9CQ9AV9FL8NGhGHt62MaUMMrRHTHKzqGNePnwTD7U7z5u06o+0LULD7dtBUhLSYEvSbJPQmo0SAoOh7/DuvNXI1bROQdwP8btxQ33lyLuY/fXQ+/eSJqCBgU0x1Mbun539i+fiHCNxxXpvVBSORcBA8ZglGV+iomIqotgVL9DoS/dBBPrXsNIzQtlem1JT/Q+x6xx+27MvJEn6Df8+Ee0e0gMvH9W7Ox7r4IrHipH9wZERM1WgyKiYiIaqQMBb9swYKoqwhdNQX966KOIRE1MIU4veltRF2bgKUMiIkaPQbFRERERERE1GSxPBYRERERERE1WQyKiYiIiIiIqMliUExERERERERNFoNiIiIiIiIiarIYFBMREREREVGTxaCYiIiIiIiImiwGxURERERERNRkMSimO1dBGuJ1XyAqtC9cfKOQVKpMJyIiIiIiqiYXIVHGiW6ayPkVh09lo3Jiagvvh3pB08pFeV1HSpMQ1TsA4aeU1z6RSEyZDX835TUREREREVE1MKeY6oTx0kF8uuJ9LJn9ZwQEBEjDKEx5YxlWrNqJ9OtGZak65OaP2ekCQq9FiDKJiIiIiIiophgUU51o5jceK9dvxBdRf4OPacozmPfJeqz/9B/4XcdmpilEREREREQNDYNiIiIiIiIiarIYFBMREREREVGTxaCYbpE8pMVvw5aoUHi7DMF7unhs021BzJwRcHFxMQ3eocuxOy1PWd6eEQVpCcr7zcub3jNhJdKVJVTJLVRviUKot+U9fREapUOS4YaygNxmVxR8bdZpGpTWrCvNYyvXRERERESNCoNiugVKYdBFoNewMRgXvgEGpGLXgTNo1ycIYUt2QYhi6OPeRK8NsxAU+B7i8+wb5spDSsxk+PUaYn5/YASitVpoo6V1JiRgv7KUPaNhN+aNCsSwD7MxOiFX2k4Z8lPfgteOGQjwnwXdBXNg7OY/G+niKhIjR5peIygaqWnmlqzleWmp0QhCH4Rpz6AsnS1cExERERE1JgyK6RZwgyZ4jRSUnoU2RG6GqxdGPvcchvq1N89GC2iGhmGmPM8Qi12J2cp02Q1c0M3D0EkxUjAdhLlx51G2dwnCgoMRHLYEex21Pm3MwNb5s7A4YTCi1y5AsGlbrnD3G4PXXn8RGsOHmLFinxRuW3jAf+oCRAZqgNjlWLI1A6bQXF7Pko9wIzIaHwR34w+GiIiIiKiR4T0+NRAd0a1vV+l/DjJzrpsnyYynsWutTgqINQiK/gALh3apRqI1Ii9hLWbEHAdCnsfTfq2U6TJXtH8gAMOlMcPGPUi0zZV2D8DUqHAE4jhiZkRi64XLSFn3Nmac/guipgbAXVmMiIiIiIgaDwbF1KAZ0/djU6wB0LyIOc/6VTPBFuLkoR+lQBrw6dsNncwTKzOk40xmed1iU06y/0uIkotRyznJL4zDpPmtseqz6fB350+FiIiIiKgx4p0+NWCluHj8IGLl0b6+uLfagelVZCSfM42dCg9Ac9uGsuTBeyw2mOZmITvfvtWs8mLUhoQEXJz1Ep7p0kKZR0REREREjQ2DYrozeHmgXY1Tqw9CtGchhHAw7MVsf5VC0W06o0ePu0yjp5Z9iu1Kg1xERERERNT4MCimBswVbT08oZFHM3OQb98otUOt4SEF0XIx6syca+YGs6otT6lHHITIiCBzMeoF3+BCzVZCRERERER3CAbF1IC5wv1eX/SVR2N3Yl96kWlq1TwRMCJICqYNiN20H+nVDmiNKEiKxrT5wMLVb2D26++Yi1HHvIEFltaoiYiIiIioUWFQTA2aq+8wTAnrI43tw8btx1BgnlwFV7QfOAazTN0r6bD9cI4y3ZYUAKdsg+5w+RqNhjgsmv05eqxagBd7twfcH8afZwZLwbWlNWoWoyYiIiIiamwYFFMdMaIo5yLOGy7DHDrm4JJej8ycIgjTa4nxGnIyC6WRfGTl2uf6FiE3K1/6b1fk2bUbxrz9FsI0BiSET8L05T/AoMw0GpKg+3wbdssvCrORW2iTlyt3r7R2FSICDyF81CuI0iVVfF/US/CbdgQeXkojWkq/xut6zMPbYyz9EbdAlzEzsDBICq5ZjJqIiIiIqFFyEXKLQ0S1VJoUhd4B4TilvC43BVr9+3j8x3/Ae+xaZZrCJxKJKbPhn6VDqLVFaAv5fasQrHEzvTIaDmLj+6/jxaWmtqgBTQgiV4zHkPtzsCLgL9b3+kQmImW2P8zvkhSkIX7ndqx/ORwb5D6aoEFgxFuYOWgAHh/lD41rKQy6GXb7Ztm2AbrQIRi7wfZTBSIy8Wv1BrqIiIiIiOiOw6CYiIiIiIiImiwWnyYiIiIiIqImi0ExERERERERNVkMiomIiIiIiKjJYlBMRERERERETRaDYiIiIiIiImqyGBQTERERERFRk8WgmIiIiIiIiJosBsVERERERETUZDEoJiIiIiIioiaLQTERERERERE1WQyKiYiIiIiIqMliUExERERERERNFoNiIiIiIiIiarIYFBMREZG60is4c74AQnlJRETUGDEoJiIiIhU3cFYbgQELE3BZmUJERNQYNdqgWOT8ikNJSUiqNKTAUMRn3tSQ5SAp6o9wcemLSboMGJWpRES3lDED332ZjDFB/XC3MomIiKgxqr+g2KBDqIuLdGNfcfCNSkKpsohFaVIUfCssNwRRSQXKXFt5SIvfhi1RofCusLw3hsz5BDrdNsSn5ZmWNF46iE9XvI8ls/+MgIAAaRiFKW8sw4pVO5F+nWFG3ToHXaivzfehDL5RSKr8ZSPKt+JyammiSSs9hb1rdkgjxxGzLQkXzVOpoSs4ik1R8xA60FtJ2354fu1RFKg9gzOeRfzKBZg61E9Z1hsBz/0P3v3wK+i+WI4FU0fYnRPtBt+hCJ0ThZgdR5FVar+BHBzdtBT/+OMDNu/xxsDQeYj8MB7n7E9/9vvtOxr/WB4nLVeMc/H/i8gFf8NQ33bl62o3EM9FLETUJumzKauoe0Zpt7Yg6vVQDGynbNdzItYez1Utxms8F4+Vtvtp2sep+G3ABMyr1bGUNYbjeXOM6f/BZ98NQvBg6bPwO2k8Gsy5SlYX3+UOfL+7CX6PjV3uJUxefQw97Ictl5CpLFKacRYD7OYP2JvLe0q6OaJeXRep0ePks6CAZq6Iyy1Tpqs5K7QhPgJB0SK10mJlIj9VKyICNdK6+oiQSK1I1Bcr86S5+kSxNTpCBMrbCdEKvTJdVpIYKXzk6ZgitPoSZSrVh7LUaBFkOtb+IiIuS5mqpkTotVOk5caJ6NTryjQqlytORIcJDYLE3LjzUuqnO4kxO0EseLSj+bzn/rRYsOeclOIduJEsVg+XzmvD14ifbxiViRKjQez8xyPmdeAZEZmYLcxzi0RW6gGx58v3xT9G9jbP7zlBvPv1CZFv83aZMT9RrHimu7KOqn5rlt/kELHg+0vKtizkeVOFu2k9XcXoDSft5tenUpH9/TviUdO2IdyHvCP26IuUefaM4sbPa8RwaMTw1cnihjK1Lo6lrHEcz5ooED+vDhYdp34tLlbYQX4njUVDOVfJ6ua7bJrfY+NmFIYjJ8X9Hx0V93+cIZLUboiKcsSy9cfEQ9qL4gK/cKqFei4+3Qq+g5+CFCgBhljsSsw2TVWVdxIHdhciaPwg+FbYKyMKkj7AqF5jsTT1aUSf+AHrZwfDX9NCmQ+4avwx+sWXMDFIo0yh28HVdxDGm76DJGzcdQzmPHs1OThxIBEIegqDfVsp0xouY1oMRrhMhc5QV88ei5AW8xxcQnUwKFMqao/eYdHQi11YNLQLK/7fYVw69kD/BzzNLwr+jbenLcT/pTnIp2jeHY8G9UL3J/rDp7mLMlHi4o67u3RQXmjQw7sdzHNb4m6/gRg2/hUs3xqH/SteQs+TX+C1Uc/jr8v2IUu+pVS4uD+Mv7zyAnqbXu3Dl/HpKDGNqylAxolUuI95CaG/7aRsy8INnbr5oLNpvAU6tG1pN78+NUNH3wfxgPKqYO8STJu3BWmqVWBc0NwvAEE+Pnji4a5orkyti2MpaxzHswZunMSejQZMHvcb3FNhB/mdNBYN5Vwlq5vvsml+j02auI5tO85hJTywYWQnePMLp1qo9/ttV99hmBLWRxpzFigZkZe4BxsNgzF+cPcKO2W8sBWvjJqFBPRB2KoFeLF3e2WOHde70f1hb+UF3RauPTBiSrB0WQQMG/cgMc9BMfW8Y9i1Ua/yAKQBMmZg65LliFVe1gXjhW+xZP5m5RU1Tq3x+xcmYIi7NHpyLf4+dTV+vFpmnqWiWcvmUqhRQ27eeHzGMmxeMQ7uOIpNs/+BBf/61abYWDN4Dh6LaYM6SuMG7N6wC8cK1QIXifSb/Pazyxg38Qnc3yB/k7/HCyFDpM9ZgJPr5mLqsh9w1cFHkW+MWzav4dGs8ljKGtPxrIpAYXIcvswegT8GKEFTJfxOGoeGcK6S8bukmirBoYQzeDWrFZY/0wUDWjIiptqp/9OJa1c8+ZdRVQRK2UjcFQtDpZzDHBz+vxjEyNlpQa9izphuTnb4bgxdkgix3hyU0e3QAl2eDMZE05ftqGSA4wcgVgVpiN8ShVBvS/2ivgiN0iHJcENZwJZcz3wTokL7KsvK9ctjrHXL1RmlTSRUrJvuHYooXRIM1uR5A4b4tzCkWXeMjTkuvV6Lsd7NlW34IlR3zryYzGhA0rYvbPZBHkZgzvqDNuuTGC8gft4INLt3rDlNbxhrUzfekhNtW2/eUd16eZNJ2BYzB0Os75eP0SaVz11xfe/p4rFNtwUxc0Yo73OBd+hy7HZ6vKjmWqL7mDlYEfUC5Fu8gr1vI/R/tuB0icOo4ea4eKD/pHC88bi8lSSseS0G32fb3NC2eAjP/s/zpn3Aj/+LD3eek8sV2inFpe91WJX7NMYHdmmgOSsPYMxrSxE1vqc0fg57X3sZ//PVSSc5STehqmMpazTHsyq5OLZzB/JfCIJ/e0dXXX4njUMDOVfJmsR3WQqD7u944KX1+LnA8cMH+cFUqWE33hg6BiuOXlOmUTkj9EczEJICzHyqG0Z7OAlnRDEOHbuA+RuSrfWO+2w5C13qNTisa158DQmHz2LyWktd5ROY/1M2ThY7+l0YkZlxGbq9aeijbKPH6mT84VsDDuXaxT3yuo9mYvmW4+jxyRls+/Uyth213b/jmLz3ipNtUX2p/6BY2kT7gCedB0qmnEMgYs4z8LPdo7xD+GqZ3OCQ5s7IVSSgfT+MmOgvjTgqGWB+AIKIqXjWr3LRaaN0EZg3KhDDPszG6IRcCFGG/NS34LVjBgL8Z0F3wTYwlltpnoBewxYi+eE10JcJiPx4zMQmDOvVwRr0lQecMjnYfQejek3Ah1mjkZBfJm0jF6mrumDH2AD4T9bhgun81QKaoW9gr16LENP7pkCrL5Hr4EtDOtYHdzVNRcFxxLwUhIBp+9FjUZJ5ftl5xM0Flr44BhOWHSw/6bp2wdBFO6DXTjG/DtFCb1qfPKxBsPQbMegipM8zBuPCNzgoWm0O1od5B2Dad/dhib7Y9P4y/Ro8nLxQ+tzjMC/+gnR6lskXX9v1pWLXgTNo1ycIYUt2Se8rhj7uTfTaMAtBge8h3lHOPt0cl47oM2kR/m9OoPSiACc/DcfUDw4ir66vc236Yey0P5jHU77G9v/adp7THN5PPo8ZveVsoBRs3rAHJ+1vdoUU0HzxLbpM/xN+51njPKBbxqXdw5i0fAXmPCrfMh/Gp38NxwfS9aROD6fTYylrPMfTKVNOHPD8sAfQRpmkht9JI9EgzlWypvBdusEraCrCsRJ/mvmZg8BYDoj34J2/vIz//G46xj3k7FfYFAkUZF7EGz8V4feDuuOVbtaKGZUYc6/gjY1pePbHa+j8ez+kT+uH01N74dNORVgQfxrP/fsKMu3TeXEulm86jbCDReg3opf0nr44FnwXkHYBI2LKA+vyBr9KkfrTKTz5bSb2eHbFMXkb0/pg/9B2QEYWnt12AYesAW4Rtn0trXv/JazMku65Sq/jvxdd8WBvbywM6Svtmx9iujdDXMoF/CnuqoPStVRfbk2YaRsoff69EnRYKDmHCMIIu2JaxswzOGKKDLzxcPe7b9HOUu14ImBEkFIyQIc9FYJYifIAZOKIfqhUEF4uqjx/FhYnDEb02gUI9pOXcIW73xi89vqL0Bg+xIwV+5SThFzX/FPMDt9hKkXw2iu/hUZOIO69EfzaHETIO6CZi7hcOeiVA04387sufIP5L7yJhKCFWLs4GH7u8pvawy94Fl6P8IchZhFWJFS3R84ipH31NiZtOC5d7LujW2elnrsc/M6cIgXTBiSs+R6pFcuIOeEGTfAaaX/PQhvio0yryLr/mulYtWgyBip16101v8WrKz+QPncsFg+bgmVJOdJU+/X1wsjnnsNQ03GVyYF/GGbK86qq8083x60rgua/jzVKbtru8Ffxxo6z0iW0LrVE1wcfhjnFHMU3yecrrr99AF4IfwbybWbBtk/x2U+237PAjWPfYMX/+WHyH/s6DYAaAjfNcMyPWYrxpiytbQif+B526IvNM+tEFcdS1oiOpzr5mrwT/+v5J/xxgKWuqGP8ThqJhnCukjWB79LFvR9eWhmDf6oGxrYB8Qp8/vqT0LixbIMtY242ImMv44JfVyzt39pxbCCu///27gQuqnL9A/iPkVyQTRNlMEUBwcwlhWtlZqiFlpmGaV1LMKyrXvVW/gXTLFvMrsLVm1pqXciluprOhLmUKItdcwtUxFQQEFRmWBSHVRCY9/+eM2eGYRgWERTk+X4+Rw9nn7M/592wO1KNrUUWGPt4D8zp1U43rUU7/OXpXljnLMOFNBUCYvKMUozLcPKICmuLgIGDukvzWMC6mwOCHrMWzzkr54dwWgh8X+4KR/63NisbC0/dRDGfso/9A9L2yODo4YiZDvzYFRXgUKb+GLfHhJd58DvVEaOFPy07wndoZ/TRZ/22aA/vYQ+K44qv5OHkzcb+MkVqU+O51LiMAqWwbdifXKIbLJJSDqc9Ay+TbFraglykiH02cLBr/hUyEYFxzgAlNu5PlVItBTV/ABHHxWzEXCGrst+reK5KKjJf5sNeeJb3VWbBvwVV/FHE8D7XZwfBxfjUsXaCxwAh2dU00LuGmDXLEaZ2hd/MZ6vmSoA9Hn7Mi/9fVyVh9eTgjAHCkz8lGek5jfVaod9+Hu9P88Uz3SsrmxPZDsOMZZN5z16s+vFkPX9DJzgPEFK9NcjU3NQNIo1KeAGqTE07in//dQHWx2v4q0/jsXRywZNSf0pCOnKkfh0r9Hnhr3hdWD0OY923h6AyrJw/dPcoceav0zBxoPAa2ty1gXX/aVj93yX4i/DnhWD8dXYo4mvNhnh7at+Xgvtpf5rB1Phtx6/o/cpTeLhtfV7G6ZjcL+79vUrQOo6l+cCYAuI6lRRg6wFdoNurc1sxSDWPIT8pE+9n8fdFWUdM4e+UVSOMthjh2QkD+XQXkngcog8+2S0kZAjvbG3wtFwKokU8MLZvBzfeV/9g1RI9HhRyM1TgnOY23gNt2qGfkI6jrUCeSboSaVpVz5Emw4Mabz8sE2smPozth9MqA6XaUg5Jy2QIztSI2H4EyYaDXfMHEH6bwcWTR8Usw64DnOGgG1idOhlpmcJdohwFudUfp7UqT8dJRRzv6YEBzuIT1yz16TRkVkbytWgP94AfxezLLHkBPMXE6FtQx+2DMjwaCcXiRI3HsP2eNVwvbeHYy62O8vvk7rMwSU3bgX+89S9EqBszNa1Sp04d0U7q17Po+hTeXDxW7L/xbRh2ntF9F2e5x7H9y2t4fepw9Ggx717tIPdZgLANUhnIn5fgrWUHoDbbBuqdMbcvBc1rf5ZCHbUG80OiGmUfsJxT2LvdDTPG9uV3lPqiY3J/uPf3KkGzOpblVxEV8j5Cosykat+hqoHxVpxO3E8BcW3KNXh58yV8LGQ75lHEr8cysFtT03tOBZJVQuotYNXDDkM6VN+XMtv26C+8imqLcfCyVBsCK0fubabOyro5IVzMMt0P7zpLuRLz8rA7/hoOXaf3sJbkLgXFnKwXhr8ynPcYB0olSNq5ASvNphzyWWw6S9lsriAh/YbYR1oCo6a4In7FYSlngDbpZ6xYWdMHkBtIT9BVXpUS6IUHDOWBpc5pEraIY3OQWyA8mqzQZ8gTYgCYciAeqcb3nUIVEhOE8NoFHg8ZfU3OSUeCmPUgBoFeRg38i90DcJq0UZwMKbkouK37mC4Q1lVm1Q5OXuMwafVeXJbGNhrD9teUc0IGK7vOui+n6lxoiuhm3HzoUtNWbQnUNTnyx78xb/G2Oipaqb+K7KtIEPus0cvFEdUzvdphsO9UTBQvh0NY/9/jyGVlUMfswma7lzF1hLzxKqwpS8X+tSEICWlA931cLTUYG7GwQ/8Zn2HLO0/wP27gjxWLsXhLQs2VptyGuvel4C7uzzoVIjlmB1aH/g/JNdXWW2/8Nxzeh11Pj4f37TaXR8fk7mjy6+te36sEzehYFqciJnQ9QmNSxQCrsVUGxmswuO/fKCCujaU9ds7kwWeAM+Z15PuHB7PvR10zyklgrBxXruvO2bYd2phPUW7XBg+KUZAWWSXS+5KsAwZ316XuHlKXVibggaFQU4pkobdjO3RvX/34iIGwVDmX2w/pePvIdRy443syuZvuXlBsLlDSpuHw9pPwWeYHbzM1XMoce+FRIepBCn5PzW70r3Sk6VS2WazPGVCC5MO/IsLn75jh3UU3kVmu8FNc1qW+mu2iscBTeFIKuQ9mYp3Q3FfEanz2xe+6mp4LL0D52QqsVPeHX+iHYpaZ6owrzTLTGVJ966ZV/47V/p5iIDx5ryOWKaKRKFTedSgE41pqgSfSRNrBadxibBObJRGasfkA80KiobrjbxfluH4lFWlivwee7d+dv9ZWJ+s9BvPmDON9hbjw5Q84kJ6IyK0H0XfG87XUMNwAFu1h19lc+k9d2sCmiz3MfNA3z7Inxn26Fmte7MX/OIVNb7+HkENXjF5iGqJ++1Jw1/ZnnR7EU5/8D+z8Ujx1p+tlV/G/nSfg/erwhjV1Q8ek6d2V6+ve3qsEzeZY2o7AJ+dzcf6TEU2Um5GhoiAL6en5cHVtg6uXVcjVB2jEvHa2eOtpe/GjTXFWNpaduXmH9xhjbTFimAPGyhjOxGfgyzQhMOYBcVYOVh4vRDEPmpc+0xV9jK8jVoo/DiVhoBAIHytCt0GOCPPth9TZHljWo6YznDRLPAi4eyrOs1AfOQPkzDv4OMtLDGU+mMxCE29KE5i6yRJDJwufWRi8V7HYggppuDmlTBW7lykiE1mBNERQFhvMXIX5MZPxQEgaSpqeybHL+5Mfe1fmE3qemT+KOSwyyFM8N2qexowKFYtVBDM/uXCMhY6fW0Ffs/BYVfVl5EWyIHG62s45EyoF86vp/DE+nxdFMJXxCstiWbCrufnK+CJn8uF8nJ+CqaShVV1mCj9XPo03C441OpsNy/RkQZE50kBjFfwnLmJyYdnyRSwyT79BNSxPVMBig735OFfmp7gsDSN3RtjfnjXvz7J0tvudJ3TnAHowV9dOzDU4lp8ZxvTHxdw5ZEKbzhRv9NVN2385O1qklUaY0rLS02sYf83k03ZinuPGMk/4svV/Fkrja1Z5H70H54l4Dda0D7SsLGM3e6evte7393Jlrtam53lT7EtBC92ftahI2cImdgpg29JLpSE1oGNyn2iu9ypBw45lyzqO/FpRRbAPR/ZlIz+MYBnXT7PQ6Z6sz/RN7GxBuTRNa6dl6tMXWe+v4lnvr9NZnOE9q4xdOJrEHhGGb7jIwm+YvvGVsbioP8X5Htl7neVJQ6sovs7e38Dn/+ose/9C1XtehUbDwqMSdcsXu3Ps/aPZLE5jup4KlnT0gm6azZdYdJXx+m04w948bfLOqclibwrzVPlNkgoNW/W1sE7+uzS1XSOksd3dT6cyd7y8cDrkQq28q7bga+VuRFRrm9hYe7hPWYBgb/6aHxOGryJq++KchaNr/oFJm8+iQBpC7iV+7F6epasFOuZ7/PD1NmyPGFJz28SGythMyyHXQdYNHs5tcBn6mqZViF7xFiZ4yquvx1ALukm59obKOodDEUI27eGYNv0pXe3XTcnSGUMm1dbc1S1kpiWL5bLlZsttk2ahSmraFaSk3EnRkArcOLwF//z2Au/3xOzPX8djVjUlBVmg7cAJ+L83hO/rNxC391ck/nUKnn+4o250i2QBS6fn8Om2FXhRyECSloKUBufXvZ19KWjs/VmES7/9F2ve88dIr4+g/O1rzBrqBKHt9aGztyEx+xzCP3sdXjYWsLB5Hh/9lsnf/CtQePkE9oR9hlmj3pWanuPLidqEz2aNgVvv+Qj98WNMcBOKiwzBG2FnUCiEJGaVIDlmNw698hJG9qh/aeLqWvsxEQgVJh3Cmr/Pw9LQzdiw8GWMmv29lAW5FOo4JUL8h/DluGNKyCGkJv2M90YOxauffY/fLjWjNmnv2b1K0JjHkqHk0m/4fs0i+I98AcuU+7Bh1lOwsbCAzdB3sC0xA0nhy/Gql3Bse2LURzHIEUP3Qlw+vgdhn83CqFnh/NkqLCda97fbkwgK3YSlEx7m89jAvc52h01Vr1TLqfOgWmqlJlVZwuOxh/BZN/6eYzYbdRu4OXUQs03XVDGWNr8EZ4UXQZkVnulZtVknmZ0VevBzFvqapmc/jGWPO2CInel71S2cuyrUc2OBge4OGFFtPGlJ7vLRkxnVTPwlAhcdr7v9YWsvzFr/OfzkZxE290N8cUJtPpjJv4jjB3R1VZNmwqgprlWBn9bxAYSfG0MnYr7wASRCiZ9PCU0KmdKi8MIuKE8Zv2Hl4sSP3yMGGTgZEQ6lMgZJhTWFu50xdMpr8BYC762/4JTZ6fJxYesunKqWVz8XGrEss5GO9nAUzuWGytTcZtnlLvCe8XexCIL55q6OIHTJDt4zDvOnDKGK6+4pLUrLKqQX5OosrIdg9vq1eEdsj7Oh+Mv10Y14Z8YK/IHBmB4ahpXjevBHcy0sHsIzb7yqKyuI/i2o8qFbKKux0qY2sB40A+v/K5WBbJAG7EtBo+7Pjug9YgwGt72ImLho/O+KFz49cgV5v83GzQ1/x/h/RKLb30IReyMRW8Yl4eP3w3G+ogQ3bhQi+8QObIzW1x7PlzNyOHpmnkfKtfO4aPkKvr+Yht8+tMGmBVvw+40aXrRvXcCvocl4ZdxgCK2I1I2OifljIsx3Hb/9+//wdu5wvBngj1mfLMDoXwMx/8eL/M7QDnLPl/DOp+9heqdrSCtgaH8rC5cffg8rF07FiN53+yNVM71XCRrtWFqgfe+nMHFwO0THHMHP/9PgiU8PIj/vEObfDMVb49/Dr90C8F1sKlK2jMYfH/8bivPFfLM1uFGShRNfbkT0TeFhLSxnGEb2LER0yhXEXrTFa9+f4edDENptWo1vfq9vc4411zJtvlZqYpZFB4wf1RVjeQxRPRu1BWzduyLQhu9XbRF+TCoxGie4hd/ibuAMn66ve2d4mZYruFkAZVIZX3AhDsZnY1diEcx/25PBzooC4fvF3T+ShkBJMLyWlEM9Gaz7TsOXMb8i+NmTmP+YD94I2Y6oJKN0Mq0acT/tB4+XjWhRosnCVfU1fuoLNMhWqXgcUlLjzZ80tsqmuMD/rdcHkI3rEOR9EoHj30aIMk5XTpjTquOgDHkD7rNPw97ROBXjJjQ8uIR6CwInT8KkSSPhYdMGFhYD4B+iRJzaOHDk55LnDGxULIJ3zHyMn7MKyjj9Rxahsizh6/0ozD5vBUf9duqbVsJhbN30P9328PPt1Ck+n1HK89bQfVIwno+kKB6411j7tCVfpJuuArmI7dgUkyGuX6s+i1P6beU3cE2mMHMBcvKMmy/jv8D9dWyK/AjeQpvNi7/h57xuHrFs87y3sVLtg0WRGzHf014cLqpleULqUF6OkLeimF8bRSYPDdIQLPcc/nfgFH47llhLpTYmqWmmWCGuZeRJf+Qg+4a+9lf+MnUtEYd/3YrgN0bBfdgcbMEEBP/6I9a+MRDWdb4wymD7+GQETugF9K1vhTXlyElPQZbYXwx1dh6kejrvggrknjmGAziNY+eu13LvNi4DaaLJ9qWgsfdnW1jZCuVFH8ZTowbCwbINbN0ewRDcgNZrGP7iwMdZOqGfVw/g9Dmk5rZHj0FDMcjNpDZ9i3boaMfvk91GY/KLfflvsYPboIeBG3FIuGSu6TWGW+f/h+2XxmJynb+Bjkntx0QIYqzQ+6nX8dmUR40+MKiRkqu/x/Lrv+cLWPLFRCSvCsJr713Ey+89j553uXKl5n2vEtzusaztOFqgnZU1P5qd8fBTT2EQP24Wtr0xaEg3FGoH4cm/OPKnc3v07PcIuiERp1P5e0X7hzDoyUfhVqV+kDZo31HYEa54frIP3K0fkM6HGtpdrqbmgFiPAmNjDAU3a/79MvsuWPK4Fb/izNRGbdER08Y7YVpHxsddkcoHc2IZ4DTMTdeiby8nhHnbVb9H3SqH0JpTcY4GC45k4t2oFAxcfwYuG5OwOj4PmYbr5QEMcRXWz3AmKRu7s4QzQCiDnItdtdQ+rS3h56rYU4H8UpOLr7QCutkqoCmp+Q5LmoCUjfouqiz3KA9QsKumeelrlccSI8PZjmA/XblJo07uF8x2KBSGMsWV5UpMuzrKvJDGpS/HK5/DFFfrKKemV5DIIndULyesCI+tUm63QnWcbQoax8cpWKK+vLkwr2IHCw3y0c1rdr0VfLJok/PIhwWF7jBTFrmUqY6vM9oWk+n4+iIMy+nP/IK3schEofSKvhyvNJ9x+eEKFTu+ymjd3kEsVLGXxaqKKssbV+lMz1lz22+8bj2j8svGnWswixUWZygvbdzR9dFgBafZts/ms8meQjlzYV/Kmefk+eyzbafFe5J5N1m64m32F0M5vRvs9LZV7IOZPjXcv6TO1Zu98vZnLHTPaZZddrtljspY1u532fDgE6xIGmJeCbsc+Q1b+cFbbKSrVD5U6Kz/wiYHfsqCa/1dd4qf46d/ZJ8FvsI8rY3Xu5JtO31DmsaMslSmmDVZKr96N/aloDH3p758ptF1KF2nlWU5TacxM4/+/qO/1g33AnP1CghusKPLvJk8KNJ82TsRHZP6HxOBlpVln2KKkEXsnaVvs8n8GVKtPO7NeLb+xV4MI9ew0zfvYtnBFnOvEtTnWNbvXqV7LzQua2x6nZiZRl+Xh+EZbuZaqnY+1KaMZR9czt5YfpCp6tgf2oJ4tuWdQPZdfetAud/oy92adjuymFqaRKQtZJu2njGa5k+2Ks3oSJQUsuiT6exNsfywrntkRzpTXCg0c75XMHWair2/+Rx7/7R+vJYVZF5n4aev8uG69TyiyGIZhsNXxpLOXzYsv3LZRuWhxU4oI1zEwncYb6uuGxyl4UsxnV7qTH8vaTL3ICgmpBHoK7mqUqGUsRv8JWUcf3C1pkpTCCEt2z0KiouOsGX9R7JlR2sJbluthhyTcpb7x5fslWHz2fbkPKaVAivToEmb9Qub/0Qf1gt92F+3JLJb0nDSNJpHUEyas4rMDDaBB6I1Vs5VomGrxMCYKsG6H1FGeNIy6Su5supcQ3kOazi5PMT/t4ejfQfdIEIIISa0yI+LwHd4FqMHmm81ltym4pMI/ccSHH9+Mia42prP8stUiFihhPOX4djwbhf899OvsPuyafEWQsjdw5CdWYwzvK/mto3bwUUYIWsDoYQKub9QUExaJn0lVykxiI43UymXNhm/bPwZ8oDF+Eet7SITQkhrlovYPfvR+a3nMKTW2oBJvRVlITnhBvKSkpBWqMGlyAjEZAG3ruUi84oKeUyoiXkT1lu/hmmPPozR77yD6ddC8f6/Y5DNpGUQQu46q/a6YFhzJR9nTMv6ctqsXHybY4GxjztiRL0b1SctRZuPOKmfkJaj3YPo0Skbyp9/hHK3GtYDH8FA1wfRFloUJkXju+CPsdXxfSg+n4je7ejGRQhp7opw6X+78dNPPyPqXAnkfXrBxekW4ncrsG3PcaS17QbnHt3RSXMUym0/6aZxKUfaqQTE7t+D3y6WQe4mh7yXA27G/owff9iN4xkd0NPDFb3aJuGnrVvxS1wO7Hv2hnu/PnCUctiw7CgEB/wJ76V/w7AqlRiSBh0T4Rj0G4L+9pfxS8hn+HTtSVg8+zIm9EjFf1b+ghuDn0L/awp88Lef0HnSqxg7wAG4cQmxxyOwa9txZFt3g4u7m+H4kMYgNKX0O5Q/hWNn1Flo5b3g6uKAsvhfsXMbv07SLNDNuTt6dsrFb8od2C5O0wOOFtdx8dhB7PzxN1yEHG5OjujWJgl7duzAnuMq3bXUqw0Sf/oOG3+JwzV7Z3i490Vfx451VAhGmicLtLOxRMer+TikuYk9V8vg8WBHuFgL12I5LiZm4t+H8tD1L73w8SArCNXvkfuLhZCHWuonpIURanr+BT9vXobALWelYf3hF7wIviNHYry5tooJIYRIypG9ZwH6rnkYh/f+Df0eoFd5QkgrV1qEmHPX8f0JDSL1lUfL2mPe0M542qWzmbaKyf2CgmJCCCGkVdLg2GdTsaLnF1BM60MfEQkhhLRaFBQTQgghhBBCCGm16MMwIYQQQgghhJBWi4JiQgghhBBCCCGtFgXFhBBCCCGEEEJaLQqKCSGEEEIIIYS0WhQUE0IIIYQQQghptSgoJoQQQgghhBDSalFQTAghhBBCCCGk1aKgmBBCCCGEEEJIq0VBMSEGWhQmxUC5MwT+ThZwC4lDuTSGNAXa34QQQggh5N6joJgQSXncKjzqMRKTJgdii1oaWAUP4uJWY6SFBZxmKJGhlQbXmwZxIS/AwmIAZijT+dKak3JoLsUjLi6uendOjRJpqsZU9/4mhBBCCNHR5uVh97FUPL8+GbvymDT0flQOtXIWLEYuRJgyBkmFzeuN8X5FQTFpIlVTAS14IGnoxItcCWVUEgqlqZsDS88FSGZlUClmSkNMFSMx+mfE8D51WASOZ91mumZ5CqI37OU9ZxG2Kw5ZuqHNRDmyT/wXa9Z8jgWveMPLywte3jOx9N9rsG5fMm5KUzWmuvd3S5ePpKhdUIYtFD+k1C8l/BbUcXsQtnCM4Xpx8g/BzrquFa0acbu+wcKRTtJ8A+Afsh1RSfnSBIQQQkhLVY6L8Zfwwg9X8PNNayyb6oIJdhbSOD2Gwqxc7IrPwJItCXD55jJO1hlLapGZnoPN+87DZf0ZqTuLt6KzEFPbOx4rxckz0nr0821MwupTubhYaiZY1+Zh9Tf65dfUncPqdP06LSH3XQNVyGPI3TUPHu5vIewCPc+bGgXFpPEVXoBy4XOw8RiJubuBCbtVqGAMTOgqVIh9xw2Ja+di0uhViFC3pAyzVvB4YTr85HJ4L5qEJ7pZSsPrybIPXlgcADl8sMj/MXSTBjcP7eH+yj+xefMmhMzy0g3yXYxvtm7GtwueQifdEFIn3cegnSH+cLKwg8foiZg0Y6X4IaVu+bgQNhueXotwyPFDqCqEayYPMRNy8eVob4xffABqcw/4wrMIe8MHXrMPw3FFnO5aK9iBCTlhGO0xGYujMppZrgRCCCGkvrRQxafhpSNF6DXMFRtHdsUQO6PwpbQIMacu462NCRiovIp3j1zHD0X1SEXmge0fh5LxzL4sHO7QFfsDBiB19kAkT30IA6/nIEB5EUsTS6o9P7V5GqxVXMTLR4vw4FAXnOHzpM7ujyNjrHDuxFWM2Z6OmLwanroOjjgiTm+u64d3nY3fK9tC7umLBd/+isjpVzFj1GIoM25J40hToKCYNK7CEwgZPwqTVqrgF5qApM0L4OsprzzRZHJ4TpiGGdOGSwNaEhms+/pjs0qF6OXPQl7t6ilBUtgUWPgrYT43sC36BoRCxfZj+ajudPHdx2QuE7AuPJYHtpeh8HOVhtZGyJofitkzwoCAj7H87Sel88sW7r5BCAkegpjP52NJuGm2ew3iNryHGVv4bOs+wdtDpWvNui98P/gUwd4J+Pz1zxFOD1JCCCEtkFZzDcuOFQPdumLJwA7m351k7fHC407YOfURHBlmJQ2sDQ+0z1zBG+dK0bNvD6we+SD6tNOlPMvs7DFvnBOmysqwNeYqdmuMnrrsJnZHXsXqnDaYN7Y33u3bEdbiCBkce3XHv7xtYFWUj7mR1/i7njjizsm6Y9R7CxGELzH3wz0NKLpH6ovey0nj0aZD+fYMBMaoIRde7Kf3l24Wptrym4cb5NJf9wttxj6sWLJD+ou0TjJYu3vD19cXvhM8zXw4qYE2CT8uDkYMPDHttRHoXmU+ewx+0Rc+Qrb7uRsRk1/5RNQmKbE4cC8gH4/XnulR9YZuPRAvCh+f1PxBuuYwKOMVIYSQlqUMp09dx6/aNpj4iD2cTHNMC9p1hPegrpgwqEvVFOTa3NTgKx5oF/P30Vf62VR/V+1gjWd6tOEP2WK8f0QjPT8Z8pMy8X4Wfwbb2OGFng+IQytZwLanHSbyTSjOysFXSY34Mdp2CKbMHwd12HKsibkmDSSNrb6vbITUQYvCU0qsDTvL+ydj2cLnTV7sjclgO2o5VGwDfOUmWZCrlY2sqUxl1TLLbv9U4tgupaH8pjivkz9CDtRWFlMo87kdIf4DDOuysOiLqWtjpfHGTNZnXD5Um4GoxWPQ5qFJCBOSiLdM4jdu/fJmQSlmEdeVL9Vlqx2JkDjzW6VVx2GX8W+osWxo1eX9UxmFXcqdJmVRV+NAY5YpLUxClPIH3f5y+xjKY/ugVJqWY91fS4UQt7O/9YyzI0vzCMdVGWeUlbgQcSEjjZap63THqPq45ljLtTb5CLZH8JNH7oMxXp2loZVkLoPwrJDgrI7A/thc3UCUIPnwr4jgffJpz8DL1vSCaw+XQUMhzrb1IGKNgmlCCCGk2btZAGVSGX8IWuGZakFow5VnF2Kf8EiUtYWzrblI+wEMcbWCkOZcnFGIZPHxWYFk1U0eSANWndujm7nZ9ME0n3Yfn7bx3jVs0WfIQMgRh637z0hBOmlsFBSTRpKLEz9+rys76TMWw93ai0Nvh1Z9AItHe1YtG1mhQvijCfiHaZlKdTjmGNVcnLL/OM7Z9IdPwApE8/kqVBFY5HEAgT5T8WmUma9qQjlM/yfhMfpVBG65Du+gr6FQ7EBokCtiYuKkiYyYrK8KIWvL8r2VFUb5KXjAL5WhFgN/PrsySCxfOjlwSw1Zq29BHfUxRjt5YfahnlihKhXnr1BtwKMJy0zKhgq1EhovLxH7j6fBpr8PAlbs5/OVQhX5ETy2zIeP9z8R1SjB0BUo5zyP0ZNe4/vrLN/hR3D8XHv095mBFdEqfpyuInKRE7YEjoX3pzHVb9i3u79Fwj75FOM9puLLnAmIKagQy9gmruuOvZO84PmWvgZwa3guiAYrOI5gbyH/gRw+oeeRtMATluK4X5AYOpkPngPF1VIki8Obk3JknT0hBrcY4IaHrM3cli27wuVJIbyNg+JkuvSgzcHZQyf5/3IM8HAymyvD0skFTwo96qM4eVF4lBNCCCEtgza/BGeF53zHduje3lwUeodkbWArZZuuygJW7dugrdBbfgtXCqrmhW7boY0YMFcng20H3fI010vReGm6fLkPe+FZ3qc+nYbMxnitI9VQUEwah/Ya0k6rxF75o73geLtnljYd4Uvm4/OYB6uWjZTJMfTdf+G7ICfEfO6PqatO6FJ+5b7YbFRzseu4KfAb5W4IDGTykZg370XeZ+armpjN+6+YIQR33h8hUpWG6BVvwdf3ZR5UGgW3xkzWd3uEWgQ38ICu5vKl2ow9WPL6R4jhgdu65W9hqFy8FfPf8STeXfsFguQR+Hz0TKyK0/ChpsvzwLgpUzDK3VacR6ycYVQA5gnjqqQs3oke8N2cDKZSwE/40/VZTPEbBXd9ACd8GJg3UxxXLVWyIfubM+wTn2XY+LmvtC6hjO18fBDkWT0bkbUXZoUEwhtqRCxZZyhHq8vWXozg3cvg2123X5uXEqhSE3W9jvawMXvtdILzgB5iX0pCOg+HufJspP6ewnus+Gwdzd/MHZwxQDzlriAh/YY4iBBCCGn+GAo1pUjmfTWmzDaQrL0lego95TeRkFPfCFMGGx4MCzQZRbjUkDLDxYXYL1YKZlTrdG21VhvraA9H4bt/xAmcvd3WT0i9mH2PIuS2aYuQm6JLA7VysKvhC1pNtMiP2Yi5QtZrc2Uj0QXeM/4OHx7sxKwKx4l6pXxa8njATZd1NFODIt1AkTY5EhulbN6hGxdilBSA3jvXELNmuZj1Wj7NF8+YBm62wzBj2WTesxerfjxZz2wz+iBKg0xNUzSoZIY+AFPnQlNUeYwatr/1+8QVfjOfhXuVE8IeDz8m1JBt+sFDBmvPNxASPI5vg1QhRf5ZbFq8HKnzP8QsT3tpOkIIIYQ0d8UlFWJ25ZpTZhtG1tUOL9kIUfYt/HTpppQLry4yuPa2wUCht6AAR7LrG0wLZHDx6IrVjz6IMY/2xDczhdqmB+CM70NY2qMCa49dxZhNydicWUuwa2UHB3En8HesAgqKmwIFxaQZKMbFk0fFbMXmy0byE9WxFx4VvpDdccqnUTnMoFl42f32s3k3uvJ0nFQIWYg9MW3MQOjTeytVVkzW8sqGNnB/G/ZJDwxwrrlBqOrZiOzhOetDMRu1OiwIr0+YjiWWi/Hd/KFmsxcTQgghpDliKLhZIfU3MgsrTHqmC0bLGM6cuowPT+QhU59QKzXxNPtXDYS8eUIWazvpW76sW1esGNyBB+il+Hh/Gr5LL5UCal0bycroVPhd0AWsVlaWlYG8zAYTRjhiwkA7OBpSvC1g3a0z/J/rhdXd+Huv9iY+PpiNi3WmQOcgl4LiJkFBMWkcso7o7CqEbUbZO+vtBtITroh9NaYyG76Q3WnKZ93lMO+6nHQkCLlgYQMHO3NBo4z//M66/WKSCtv8NXB/G/ZJDAK9bKpUlGVh8QCcJm0UJ0NKLgpMd4chG3UKYmJsMP/vPrVU+kYIIYSQ1oUHpI5ybHzVGV8MboeTcekYtkHKzrw9C+kya/ztcWvde1eV8syW8HjcFQefl2Npl1J8uC8RbmI26LOYEncTbZwc8JmzkMXaAm6d29XvnceiA8Y/2bmBKdCkMdGrImkcsi7o9aiTrv/3VKia/UesWsphkibQ0P09EwpVGXSVlpnpkhfAs1qtWTJYOTrDRfxGE4NVX0U083b92sPJxUPXm6mpHuSLKj8cuQ5whoPQY6h8q5jPVmQ++5fh40LtKe6EEEJI82JhKMPbVGR2dhj/uAv2zRayM0udnwv8B1mjKEOoadoCA93s4FqlPLMMjs4O8H/+4cp5Zg/Avue7Y0JPhj+uCKnbbfFS7xraVDZDZtse/cWJK5BbUtcLiwM62zSv6kLvFxQTkEaiL/fLpcQgOl7MdFIjsekhZYzUfE9lJULFOXli+ZFqivOQI46w58FVB3FQw3SAvaNQtrSWQOJuM1SGVICcvBJxUFVa/vNzdftF3hn2HVvSZdvA/a2vUKIhZWcKpXLE05YhSMxGvRQfhqc3j2NtliW69R+qu3YSknHVXJNWhkq1PDFpiDOfQ+CA/k8P4f+rkZCoMtv0WLkqFb8LPfInMKSP2TwYhBBCSLMk1AAtPLlu3dSVLb5rbhbioBDcyjrgjb71DW4Z8i/nIZw/wq26dcKzXRv5Xc3wHszfAykobhIUFJNGI3P3xXKhkiOhQqivompJnStH1tFvMHHSNpwVk8Ws0GfIE7WWmdVmpuG0WOjYfDuu9WeNhzxc+P9qRGw/IrU9d49ZOmPIJE/eU1P7c7eQmZZca5nr5quB+9t2IMZME/bJYWw/nHYbAa0GcRvewxLMw/oPFuIDMRv1WYTNDTbURt0cydyG4RUffgXUUGZemxqPA0JMXOX8bw+34WPFYNr8dVOC1PgTEGdrcecNIYSQ1s0C1vbt4Mb7inNLkNWQ2p4bpAwnj2XhB60MYx/vjvH29Xx2luYj9HghimVW+GxUFzgZUpfLkXjsIvqv/xNLEs29h1QG00IQPrhrDanjRRpkCi+CPkPRvxsFxU2B3pJIIxIqOfonQv36i6lzi7/4vbJd4So0OH88VuoXyGDr7YdlYlCwG98fvGISBF1DTOhXiOBhs/f8iRh6Ry/3PJAY8yoChAg8QomfT9Weot0gNWaBrUllKrt6qxIHTYO3/CMIXbKD94zD/ClDzFTE1Zw1dH93xtApr+maV9r6C06ZSz1FPi5s3YVThoRkoV3jL7BgVS+sW/5X9LW2hPVgX8wL6M93rFQb9W0dl7tI5o4py4UAPg5bv//NZDs1OPWzkp///RGwbia8jc5/w4coc9dN4Rn8vPUwj4jnYN0/hrew84YQQkhrJ3PoiKeF+K+oFBkldyMqFgLYNPhdqMDofg/hw4H1TCUuLcDm3Vew9mY7vDumR9VAmpXiWHIJilGB8JTC6gkfpYX4KaGIjxeCcEeMkNo5rkqL/POxOMD7GtTsKakX2q2kcVnzF/cvFYgIHoID84fD840Q7IxKMsrayQOXuF+w/4SuTWMDWV9M37QZi7yvI2zuh/jihFr3gq9V48Tq/8PrK1XwXrQZP1SpRbgcBRpdqlr1bNdGWY5NglRZ9xfwybo5PMTei8Dxb2O1fl3itv2M73eJGU7NLLO29VU2AYWI7dgUkyEuU6s+i1NqKcjVFkGTKcxVPZu0zP11bIr8CN5C8Lb4G5yQ5tGqf8fqeW9jpdoHiyI3Yr5xs0K1LE9IJczLKeD/30a2ZVbCl6eCOkdqwEqTDZU6Gxqj8i3aAg0yhZ7iXOQVmyzVkLWnapbnhu1voXmlGdioWATvmPkYP2cVlHHG8ykR4j8Ks89bGR4OunaNd8JlXSAm6pu1kjlj4sJ3dR8cmnU2at3vXR8aAFT5oJSPJOVKLAg8yc//VVg20dnkpq3/EMVnM75uCi9A+ekHCIwZgEXfLarcH4QQQkhLIbPC024P8Ad8MQ5eLpMGNgUtMtNzsHnfRTwXzzBjZG+sftreqKboGvCA9+SZDCzZnoZg2OGbiS6Y16td1ee0oaZr/p6TnoWVhpquhXVmY/XudHycgzqC8FzE7o+AusZWSkijYIQ0iQpWkBjNFDuCmZ8cwuVf2cn9WPAOBVMoolliQYU0vaQgkUWazCP3C2Y7IhNZgTSJSKVgPA6oulx4s+BYYarLTOHnajLOlfkpLuvmFZUyVewWFuQtN0wjrif8KIvdMdNoPmmZZtdnsswKFTu+yo/J9eO9g1ioYi+LVRXx2Y2Xqe9mMoWqTJpZoNtnO4KNloH+zC94G4tMzJOmEZSZX55rMIsVFmd2W03XZaqAxQZ7m8wjdX4KpjK7T8Fcg2P51tSwPeJ8ere5vw3M7RMfFhS6g4XHqvhYgZlt06/b3L7Q76cmI/zWvfz85ue48bksng/CeS+cE6XStKaEeRUs2K9/5fYK85me/6b4uRerML5u5Mw7KNTkvCGEEEJaloobWWz2hnj2iCKLZWilgSYqNBr28+ksFn5azVbtSGC9v4rn3Tn2/tFMPiyL/ZxWIr0vVFWWls4GG08br2HqGtZRqYzFRf2pW8fmFLapluUbE7fxaAp7Tlyf1G1IZKtOZrPozDpeSvIiWRB/vssDFOxqXSsiDWYh/MNfogghhDQKISX7II6mm6s0TdAezk88A085pd4SQgghtdNCFZ8KnyMlGDHMFesGVU9N1eblYW+avs3g6mT2dhjnbJKC21JoMxC1JACjN/WB4o9V8KWcX02GgmJCCCGEEEJIM1WOi/FX8PaRInTv2xWzh3TBELsWGeLeBuED+x58v2YpAi+Ph2Lje/B1p4zTTYmCYkIIIYQQQkizJqYIn7+O9ae0mDnVFRPs6ir021KVQ62cC6e1dgid9xyG+4yAu/X9/hHg3qOgmBBCCCGEEEJIq0WfHQghhBBCCCGEtFoUFBNCCCGEEEIIabUoKCaEEEIIIYQQ0mpRUEwIIYQQQgghpNWioJgQQgghhBBCSKtFQTEhhBBCCCGEkFaLgmJCCCGEEEIIIa0WBcWEEEIIIYQQQlotCooJIYQQQgghhLRaFBQTQgghhBBCCGm1KCgmhBBCCCGEENJqUVBMCCGEEEIIIaTVoqCYEEIIIYQQQkirRUExIYQQQgghhJBWi4JiQgghhBBCCCGtFgXFhBBCCCGEEEJaLQqKCSGEEEIIIYS0WhQUE0IIuQ9UoPDqZVwrZ9Lf9xv++zKzUXi//jxCCCHkHqKgmBBCSAtXCvVv6/CP5YeRWy4Nuu+Uo+DPMPzj4wNQ37eBPyGEEHJvWDBO6r9PlUNz6U+kmHtT6uCER/rJ0V76k5DmQYO4kNfhFZiOAMUefOPrTF+vCKlRBQrPfou/fXALC7fOxCDrNtLw+1EhkrYuQtCVV/DtouHoZCENJoQQQsgdabp3bbUS/hYWsDDp3ELieJhaVXlcCNyqTDcSIXGZPDAYaTRM37nBX3lFmlOn+vy6TreucmSf+C/WrPkcC17xhpeXF7y8Z2Lpv9dg3b5k3JSWQe7EFSj93artfwu3EMRVP9gIcas6nblzolUrT0H0hr285yzCdsUhSzeUtBqF5u99/kqopSn0qt/7qt8fRVo14nbtRNjCMUbTCt0YLAzbCaUyBkmFWnHSmu6n5tbfHLAbhxH8t2iMWOZXS0Ccj6SoXVCGLcRI/lta7j3HGu5/fQd/vfgJ3t97BTV/0a7hnlxrV8O5g1tQx+0z7LvK6Z0wcuE3/NzZhaikfN2kZu7vum4WlGq6yxNCbkNeNt5afwYupt3ObGRKk5SnX8YQk/FDovPonZI0jJBS3HRussTQycJzm0G+iEXmVUjDzbnMFH6uDD6hLNF4sorzLNRHLi5DHhTJ8qTB1dW1rgIWG+ytG++nYCppKGk8FYmhzEfYv/BkQZE50lBzyphKMZNPN5mFJt6UhpFKeex8aACTw4ctirzKartqyH1MpWB+4vXkzYJjC6SBZujvkd6rWGyB6dmSxxIjVjE/uXBf9GPBO6JZomGaUqaK3cKCvIX76zi+jhvScIHR/dL0ntxQ2gJ25dI1fvU3Jg3fzudY34UH2XWtNMigghUkRrMdwX78WhL2Y2XnGhzbyNtxN2lZUWwIe6LvEhZ5vVwaZqIslgW7mh67ymNa9VmqH256ngn771cW7Nefj+vP/IK3scjEyrkqVMfZpiAfPk7OvIOP86VUKosNZq7ivqZ7PCHkTmiZ+vRF1vureNb763QWZ+5ZVKJhqzafYY8oslhGtecAIfXXxLky28Nt+FjwQAlQR2B/bK441Kz8izh+oBg+rwyDm/FWyTrC3tFK7LVysIOuzxxL2Nh31vVadYadFWU4vdtkbsPwig9//UQctu4/AyntwAwNzh+PBXzGYrhb88+8rk0Kw5hGTekoQVLYlFpS3mzRNyAUKrYfy0d1p6zTrZWDMwbwyAIoQE5eiTioOi0KT/2CrRFOCPpgGjytjc4WrRonVs+Dt898HHh2E84nfYsFL3vD3TBNW8g9X8KUcR48rhmIIX1speGCEuTlFIh9rs8OgktjnISZEXh/yOeIzK2QBtw5berPWPZxB7zt9zg615CVWOYyAevCY6GquAyFn7hDWzgLWA3xxduDd+KD7xJwSxpaRU46ElLkJs/TG0hPEFKC5Rjg4QRr3cBK8if4OaB/wt6C+sR6zPEei8ADQxF6/ndsXvAKRrlXniMy+VC8NuVZuMIJQ4e4GC1Pi+K8XBQLva5DMciFCigRQpoIu4lde69gLeyxZZwDnKhICbkDTf6+LXMbjZkB/XlfbYGSFvmxB7FVPRyvDO9FQUBLJXPBmJm+/JULUG89iNh8XXbMavLPYP9WVfUPIM2RNh3hK1YjQvqzMWgz9mHFkh3SX4TUwLIrXJ4UgjgVTqdd43dJM7RJ+HFxMBIDFuMf3l2kgQIN4la9hcfmbwECFPjjW3/0NQ6YTQ1ww0NVAuprSDut4j2ueNKlKyx1Q+/cjUIUlQqJlY2hEAl7tiN82DiM6ttRGmZMBmt3b/j6+sJ3gifk99ODxaIHRk4dg/Prd+G4mftsuSoVv8PkeVqejdTfU3iPEx7t1aX6c9ZwDmhRGPclpj42F1swB4o/1iOgr/EHE1Mu8HjIOMS+hcy0ZN0Hvydd4NRoJw8hhBgrw8mYNLyb0x6rX+yOIe0oIiZ3pulfE2Q98Mxr4+sIlHIRuz8C6haSckhq0hbdn/HFNPFg15QzoB4fQAqTELUzBP5O+vJoA+AfokSc2lyaiFBWcDtC/AdI0wrl3MIqy7iZxV/6kmKwM8QfTvoyb07+CFHGQW04PW9BHfUxRrbphUlhZ/nfGzHJ6QFpHSZl78Tymj8YbYPQjcHCzSeMlsdpMxC1eAzaPDQJYcIb45ZJles3pETryj7qtk0oW18ozmpKq47Dripl/IR9tN3M7666vH8qo7BLWbVsqZP/ahyodX+Re6MTnAf04P+rkZCo4iGgqVvICF+HJRFDMP/vo9DdcDEJQc23WBC4F5DPwbpPXjAaZ8oanguiwfYHwN14mkIVEhOEk3QInu7voBvW3NxKxqHtZzD8paFwbfonWTNjCYdHPDHiwm7sqXaf1eKWx9+RxH5EgHvl81SbGo8DQkxcLYg1OQcKY7FhQTBi0B8B6wIxsXtb3WRmWHouQLLJevgCcDUxlf8vh8/T/dBNN5AQQhqRFqr4dPhdAOaNdcYE+1oeAqwUJ89kYMmWBEO54/47L0OZWGTmuSopLULMqct4a6O+rPJ5LDmWi4s1ftTVIjP9GpTRSegvrcNlfQKe36fGyTyTuEdYdnwmVu88C5dv0rDr0jXsijfevrN4K/p6LesiTeUuvErIYOv1TO2BkphyCAQtfLHqixlpeWwHYsw0T95TU84A3QcQBM3Cy1VepHS06gNYPN4bo7/MxYSYPDBWgYLEj+G4dy68POdDmWEcGAu1NE+Fx+hlSHh0A1QVDKwgCvOwHaM97AxBX9VKXoRg91OM95iKL3MmIKaggq8jD4nrumPvJC94vqVEhnj/agv5qKWIVingJ843EwpVmVAGn3fJ2OwrBCtc4VmEveEDr9lH4LI8Tje+4ioiFwErp0/E1FUnKm+6su4YtXwvVIqZur/9FFCJyxO6DfDl14haGcR/z0RMDtxSQ9ZqXbA+2skLsw/1xApVqTh/hWoDHk1Yxn/3ZCyOyuC3Z0G5yfISsf94Gmz6+yBgxX4+XylUkR/BY8t8+Hj/E1E1peyTBqhA4eUT2BO2FiEhG/D9r3/gcqG5bMOlyIk/gB/DtiDqSqk0TK89nFw8xD716TRkmh6ewtP471olv5bm42+e9tJATko9jhGCkmVzaw1qalJ+8SQUwgkod0Mvx9uf/27Qpp3E3iMPYeQjTmhp9U2zwnQc37MZa0JWY8P3v+D45UKxsHNVDOU5ZxDxYxi+ibosXdOVLHoOxKjBqdh/Mo2fRcZksLK2Mnm4a1F4NRkJQm+tx7QEST+GIDCGH3yfd7FwYgNqvi9Px0lFHO+pIUWaEELuCENhZhaWHivBiGG98LbzA9Lw6rR517F0axJePlqEbiPckTx7IFJneeBbhxJ8GJWKKb9cR6bpzbc0D6u3pyLgRAkGjvHg8wzAGd8HgaQMjAmrDKwrK/wqR+KxFDyzLxMHO/fAGWEds/vjyCgbID0HL+/KwElDgFuCXbv5so9kY20Ov6uX38QfWTL06+uEZX4D+La5I6xXG0ReyMBLkTdqyF1Lmgx/ob4LclhkkKdwRjB5gIJdrVJQvoLlRS5i8hor4pIq4OLz1l45ir7yJn61uAaz2GoTUkVbd4d0PIX9LJ/DFFdLpeGSvEgWJK+hIq6KNKYIECp1Ma2cpXKZlRXEVLCC2FXMW1iPaUVA4jqE9Vc/pyquKliAMK5a5UH6c9Rk2wyVHc1kPCiWBuoZVe5mes7p56t2LhqdpzWeh/pzvnoFS4btr3HfCttqWmlSzcurHFdX5Wik3rQadnbLPPYXa+FYVHbWf5nHtpzVMEM9IGVX2MEPn2PW4njzlWkZKiyqdi6XsquKOfy+aXoeGF1/Da7kyOgcbaxKtgTiNWHuOmqIcpa9ex7fd6+xLakl0rC61PdZ0pTKWcHZ79isv+gqjzR01sPZrC3xrMBwcpQw1cFP2UjpHDK/vdLvmbCFpdZZuYzRvaq255/hHiJnPqHn+dnUAIZ7JlWyRQi5U9Ur2qrQXGMfbj7DnovSVKngrxptMQtXJPB5E9js08Um97NSFr33LB9nupxbLC7qnDh8wtFCo3m0LO9CKnuEb8cje69XqfS3IjODTRC276s/2ao04zv1TRa+44yZ4Zwmi71ZU+Vh+nEbUll0MdUcdjfdpY+4neE1xkeXhTpsG/YnG1caI6UcTnsGXra1b05KoBceMKT+mXYPwGnSRmlKcu8Y5wxQYuP+VKMUDinrNHwwxkuqFM2Aj4vZiLlCVmW/V/FclVRkvsyHvfAs76vMgn8LqvijiOF91SoCsnaCxwC+AdVyJlxDzJrlCFO7wm/msya5Euzx8GNe/P+6KgmrJ30lSSnJSM9prAq69NvPX1mn+eIZ0xRA22GYsWwy79mLVT+erOdv0GfR1SBTQw2U3bkSXP5pKV769CYC9l1CgTYPqVHf4G3vHij8Yy38XgrEt38KOSCu4ejKWZj4yS8otPbEuNcfQw+b6oUvLZ1c8KTQo05GWqZRLon8w1gzVwmP+X7wqXIeGJXnbHBxFKkiPE7+aC84NsukvhKoUi+isJMjutq1lEKrDOWXdyHwpdUoCdiG9IJbKEiNxn/efhbWhYexwW865n17Bvw1DDeOrsFrEz9AdKEcnuNew3M9bFC9tJx07Z7NQt11l+mzNPP75QBn1JQhXpuZhtPiydPQ+j34ffx8LA4Ivc04lwEhpIUqKcDWA2psLbJAr85ta6l8lyE/KRPvZ/H3RVlHTOHvlFXvZ20xwrMTBvLpLiTxOOSm8M2QY7eQkCG8s7XB0/J2RvNYwNq+Hdx4X/GVPJzUT18rS/R4UMjHVIFzmtt4D7Rph37CY01bgTyzNSmSpnKXXnd4UOPth2VizcSHsf1wWmWgJGWdnjZmIGqrykPgGhyLMkN2U9OurDJbKrm3DMGZGhHbjyDZcLBr+wBSjIsnj4ov87W9tFUGB+UoyM3RDasvQ7a+Hhjg3Ek3zAyzWVXNag/3gB9151/yAniK7+ZSm57h0UgQq19tRIbt96zhemkLx15udVd0RppO8SlsXRqD0as+wsynesHawha9R85AyA+h+HAkD2AufoMZL3+Cbcov8X+f38KbW/5A9o0/sGfrP/GKmeIE6GgPR+GAIge5BfqHqgZxX6/CSkzHB3/zMqlFOAdnD50U+xoc0BpVsvXsY33qvC/fGzzAvFUCdHZEF9uWknk6D7Fb12L76I+wYuYI9LR+ANa9vTEjJAzhHz7Hj+MpbJoxCx9s244v/28j2JtbEJt9CbF7vsPaV9xrziJenw9v9ao4rRxZZ0/oKhVscEBr9FHmWS88XMeHbkIIqbdyDV7efAkfC9mOeRTx67EM7NbU9J5TgWTVTbEWfKsedhjSofpnRZlte/QXblHaYhy8XKYbyMqRW6+At5KsmxPCxSzT/fCus+7uqs3Lw+74azh0nd7DWpK798SS9cLwV4bzHuNAqQRJOzfwlztzKYek5TJqiiviVxyWcgZok37GipU1fQDRNxdSQ44Ap0nYIo7VBwdW6DPkCTEATDkQj1Tj+46hkiCTCmXEZkqEnhgEetlUXb5xToOUXBTc1n1MFwjrKrNqByevcZi0ei8uS2MbjWH7beBgZy4FUAYru866L6fqXGiK6GZ8t1Vc/AOKs0PgPairUcqeBSzlz+CDTf/GrD78fLywClNf3o1BmzcieJoXHCxrqTFTn+sBV5CQfkMcpM2Iwler0hGwbia8awk6am/CrhaG66f2j0fVFSJpzwaEhISY79bvwp84g13rV5kfH/JvbDqWJeS7rYd8qJN1pbmaXFkq9q81t7316L6Pww39D6pIxwnFFfh494eD8SG3fAijP/gSm2cJdTEcxb+nzsSWQSuxOfh1eDq0001j1gPo3K271F+HrHM4FCEc03pWnNbgZg3rlyJNCCG3zdIeO2fy4DPAGfM68psoD2bfj7oGldmHRjmuXNdloWnboY35Z2G7NnhQvM1pkVUivS/JOmBwd13q7iF1aWUCHn8yFWpKkSz0dmyH7u2rP7fFQFiqnMvth3S8feQ6DhTfXoBN7q27FxSbC5S0aTi8/SR8lvnV+nJHWp7KNov1OQNKkHz4V0T4/B0zqjQdY8oVforLJrkAjLtoLPAUAl0h98FMrBOa+4pYjc+++F1X03PhBSg/W4GV6v7wC/1QzDJTnXGlWWY6Q6pv3bTq37Ha31MMhCfvdcQyRTQShcq7DoVgXIMiEtJylSM75RxOSX9VxQPjns9j0T9noI/494Po4WRXdwVRsi7o9agT70nB76nZfA0anPpvGMI8AvB3nx5NcgM3ZKGt0m5tfTwAG0cHk5Tr29C2M5w61ze7dxs80L62gLERWbSHXeeGrKsNbLrYw5BAkZ2CuFM15HO27IUXFy3WfTTh+7FLDzns29TyseQ26Zpo4po6S7MhRdoTk4Y4N15TXoQQotfOFm89bY++vLc4KxvLztw0Cl7vVFuMGOaAsTKGM/EZ+DJNCIx5QJyVg5XHC1HMg+alz3RFH+PbMyvFH4eSMFAIhI8VodsgR4T59kPqbA8s69FScjIRwV2NRI0Dpa0/n0F+8hFsjxhCbRPfj4xzBmz9BafyU3UfQGpsm7gD7B2FGnSLkakpqt8NTuYM328iEKvwB4KHw4m/RFrYjMJavIzw2Ah8ywPmKi/ohqyoudAYsqLeAe0FbJo+GfO3XIf3ogioIlcgwNcb7rW1B3sn9OWUUYCcPONy+XpaFOflitmFIO8M+450Vd0bp3Hs3HUzKZ7t0fOF6Zg7TEh9jcDnH25BXH5dhUGt8ZCHi9iXkpCOrCQlFgemI2CeLwabPc8c0P/pIWJftRwUpoSmz5T7TJo6M8pCa9p2cZ3aQe41CbMWLMACc93sCXgEAzFh9nzz4//hBx93OzNlZ83piC4P3U4q9h2wdMLjr80zv821du9i5hhXftSNpeG3Y4mVqccGwkcTH8ya+zTvv4Gjn6/A13G5daSalyE3K4OfIm3RtrbcBvyY5qQnQ8xkUusxtUS3/kN1H65TTiA+1dw9Rk/X1NuuOHXVe7UhRdq02SdCCGksFrB2lmP14A6w4ncg89mo9eV5gVs3K3TvRaZKK6DL3SxDt/aV90WZfVese9UZq92Bjb8kwm19AgYqrwPujtj5qiv8HY0/92lx8XgaXjlXguKOtgibygPhx7vCuxt9EmyJ7u5bs8wdLy+cDjkPlGJWbcHXyt2IoLaJ71Pt4f7yLAQJQWjM9/jh6211fADRV8ZmWg65DrJu8HBug8tYhMg8oXklFaJXvIUJnvLq6zE0F2VSrr2hDC+AwzFt+lOQN/XVZOmMIZNqa+6qsjyfvB4V15HG1gadnd0wCKfwn/X7cLHMJKRhefjzu6+wTtUZrjxeKDywCkH/ioK6vLbQp7KcOA5sxeKPV/N7Zm1N5ZgvulCdFvknNuH1SZsQX6WsgFCBVaLY13wr2RLI0MHajl+Dl6G+UWctU81D554YMMga6v9sQfhF01e0ChT+qcC/1/0JV1ce7BfuwsdBXyFKbdpMlxndekLeqbbUiPof0+o5fGqQH4vQ12fjq/g8aYDOXUuRJoS0cpbweOwhfNaN39DMZqNuAzcnIWiuuWIsbX4Jzgo3OZkVnulZtVknmZ0VevD7MpwfwmmxvPDDPNh1wBA70xvoLZy7KnxYtsBAdweMqDaetCR3+ejJjGom/hKBi47XknJIWjyjNotXBX5axwcQfm4MnYj53vzkiFDi51MaabgxLQov7ILylHFz67k48eP3iEEGTkaEQ6mMQVJhTa9ynTF0ymvw1qdem50uHxe27sKpagnJZlKXDSnPDZSpuc2yy13gPePvYsCj3qrEwSptNnP5RxC6ZAfvGYf5U4Y00wqS7mcWaNdnKF7sa81jmiV4fd567D+Xg3JWiCtxvyL03cl4fMZZvLBhL/Z8NRN9cAXRn8zA1AWhiL6UX0OqoAzWD7lhgNCrDseWH5wRvNy31vbcZe6+WB48jvftwJLPtuOC2fNcV+md2jR40V5F/AEhgJJjgIdTw7NCN7l2cOzthk6Fmci+IVWQ0ty1643HXnyUB7w/4O3XF2D9/j9xrZwHw1dOYn9oIMY/PhfHXvgSkXvWYnoffg5Ff4CJUxchNDoFhWZPDqkeBq8e6FpbTHw7x1TmjinLA3X3yCXB2HTBXB32UisCatN2iEuQGn+iHinShBDSCCw6YPyorhjLbzXVs1FbwNa9KwJtLPgtqwg/JpWYfOS7hd/ibuAMn66ve2d4mVbEdbMAyiT+bCkuxMH4bOxKLILxm2clWQPrXyDN0d0/koZASVBXsw88CEr6A8cv676qFyccw8kqWf2MFCbj6PFLuv7iBPx20ihbFyuBJlMFdU6R7m9NNlTqbGj0BetJE6lsikt4IavzA4i1F2ZtXIcg75MIHP82QpRxunLCnFYdB2XIG3CffRr2VVIgbvJjywNo9RYETp6ESZNGwsOmDSwsBsA/RGmSNZQHGJ4zsFGxCN4x8zF+ziooDdn/hMqylAjxH4XZ560qU1MMWZYPY+um/+m2R6vGqVN8PqOU562h+6RgXJetsObapy35It0gLjJiOzbFZIjr16rP4pR+W/kNXJMpzFw9m7TM/XVsivwI3uovMXfxNzghzSOWbZ73NlaqfbAociPmewpZ0SW1LE94kc3LKeD/30a2dVIz28cwK3g2+vKg4o+NczD2ka54QGaDnl7P4c0vruHl0A34xMcDfV9fgZ9C3xID45gv3sIolwn4V1wNj1zHXnhU+vgiDwjAXwcbHVuz7OE5fyMiF/nwy2I6Hh6/CGFRSZUPdH7+xm0Oxqcr46oHL4ZKtkwDnuamDex798NfkIrEq+b3W/PTGU/MWoh3hI8mf6zH38f2h8MDlrDp6Ymxb36DjJfXYecnY+Dc91Ws/WmdLjCOWY03R7nh0X/Fodp3utIMnP8tF8O9H4FTLbmntepz+L3ex1S4R87BD+I9JgwzHp6MhWFRRh8ahfvk9/js0038DDfNIl1ZyVbzzmVACGk5GApu1pwbSGbfBUsetzKfjdqiI6aNd8K0joyPuyKVD+bEMsBpmJuuRd9eTgjztqv+sfBWOYTWnIpzNFhwJBPvRqVg4PozcNmYhNXxecg0fKh8AENchfUznEnKxu4s4U4tlEHOxa5aap/WlpRDbD9FW4H8UpOvnoZs3RU8TjH/uZw0EXbXVbC8yEWMv+MxeYCCXTVttNqggMUGewtng0nnyvwUl6VpdMpigxkPMqpN6xocy8pqXA7v/BRMJS2DNJG8SBYk5/taPocprpZKA+tQkMgidwQzP2E+8VjJmXfQ10wRHstURudLheo42xQ0jo9TsMQCaYQwr2IHCw3y0c1rdr0VfLJotiPYTzwPdevwYUGhO1h4rKpaA++q4+uMtsVkOr6+CMNy+jO/4G0sMlFo1v0yU/i5SvPwzvhcq1Cx46uM1u0dxEIVe1msqoipFDMr5zF0M5lCZdzwu7ntN163Xpn55bkGs1hhcSoF8zMdV21d5PaVMNWhL9mskX2kfSpnnpOXsNCoZFZg3A6/No+lRoWyoHF9+TTeLDi2QBphouI8C/WR82kms9DEm9LA+uDnbuxek/NEtz3i9aRQVJ7HZbEs2NV4Gn3XiOeDeL414vLKE9j64XI2KPgPvsdrotsHwm9VGN9TxGuODxOvu3relxqFlpWpYtiaWT6GZ5a151/ZktBollpQLk0jKGcFqdH8PjZBnE73LKuqIjGU+fDzZtnRG9IQE3d4TCtUsSy8yn1Y6vT7znA/rv+zmhBC6k2Txd78Kp71Nu12ZDG1NIlIW8g2bT1jNM2fbFWa0T2upJBFn0xnb26oXMYjO9KZ4kIhv3uZqmDqNBV7f/M59v5p/XgtK8i8zsJPX+XDdet5RJHFMgzP8zKWdP6yYfmVy9Yy9emLhnX2/uoiC9cU8fuq8bbqusFRGr4U0+mlzvT3kiZjIfzDH2CEtCzaCwh7bhRmJExH5IVlGFWt/KwGcSGvwyvwAo9Ho7HZt4c0nBByT6iV8HeKwATVOvjKG6MSklKkbn0TgzYMxeHouRjU1lxyqZCyeRBH02sqW90ezk88A095Syv/eguXt8/GI1/0Q8zB+fC0qq2iLUIIIfWhzVLBV3kNyc4P4cjznasXQyvNw+rtl7G2qANWT3XFBDu6995PKIMTaZn0lVzV2J6mNZxcHuL/28PRvoNuECHk3rFsiw795XBotFrR26H36Jcw+fw+HEgwV/ZV0BZyz+fh6+tbQ/d8CwyIubIk7As9gmdmv4jBFBATQkgjYMjOLMYZ3ldz28bt4CKMkLWBHdUleN+hoJi0TPpKrlJiEB1vplIubTJ+2fgz5AGL8Y9a20UmhNwVDi9gQ8JSPNWItaJbOI3FeyGdserLSJOaR+9nFcj933Z8Ufgmlkxyo4c4IYQ0Eqv2umBYcyUfZ0zL+nLarFx8m2OBsY87YoRp5VykxaPnKWmZbL3wxrIAyLFXVynXAX1FQkLlbFEIW7QAWx9dh5gvJqI7neWE3Kes4D51IT68HoaNh3PEwqz3O5Yfi7AV5zDtX/4YQqnEhBDSSCxg26sLAh34S2PRDfjtvopIseIsQTkuJqrw4f489B/WGysHdaAA6j5EZYpJCybU9PwLft68DIFbzkrD+sMveBF8R47EeHNtFRNC7jMM5aq9CHzjBMZueh9j5O2k4fchlonfPl6ATT2DsOaNgbCmmJgQQhpXaRFizl3H9yc0iNRXHi1rj3lDO+Npl85m2iom9wsKigkhhLRwFSg8txMfhtyA/7qZGHRfpqAWI3X7JwgpmoqVFBATQgghjYqCYkIIIYQQQgghrRblASCEEEIIIYQQ0mpRUEwIIYQQQgghpNWioJgQQgghhBBCSKtFQTEhhBBCCCGEkFaLgmJCCCGEEEIIIa0WBcWEEEIIIYQQQlotCooJIYQQQgghhLRaFBSTVkaLwqQYKJXfYOFIJ1i4hSCuXBpVD1p1HHYpf0CI/4DbnrdZKUxC1P3wOwghhBBCCLlDFoyT+gm5/5XHIaSvFwJTpL9dgxF7YQE8LaW/a3Mn89aoHJpLfyIl10xU2sEJj/STo730Z6Npkt9BCCGEENJ0tHl52Hv+Otaf0mLmVFdMsLOQxtxvyqFWzoXTWjuEznsOw31GwN2a0jGbGgXFpFGUx4Wgr1cg9HGWgZ8Cqs2+kEt/VgvI9O52YKZWwt9pErY0ZL13Mm81JUja/hE+25eMy7/vR0xKIWDtiXETH4HDoDexasFT6CRN2ega9XcQQgghhDSFclyMv4K3jxShe9+umD2kC4bYmQaJDIVZNxCZeRN/xOfih1I77JzRE0NqjSW1yEy/jv1/XsPH6WXSMBlG93XAa/0ehHe3Gl6MWClOJlyD8jRfT5EURsnaY97QLnihXyf0aWcSrGvzsDo0HWtrzZVniXnPu+NdZ/06b0Edtwffr1mKwANDERq1GgF9baVxpCnQZwfSKCw9FyCZ3URi6GTdAPkiROZVgBkHxAJLTyxIZqhIDIWPOMATQZE5YMmtNShrD/dX/onNmzchZJaXbpDvYnyzdTO+bcqAmBBCCCGk2dNCFZ+Gl3hA3GuYKzaO7Fo1IC4tQsypy3hrYwIGKq/i3SPXKwPV2vDA9o9DyXhmXxYOd+iK/QEDkDp7IJKnPoSB13MQoLyIpYklfO1VafM0WKu4iJePFuHBoS44w+dJnd0fR8ZY4dyJqxizPR0xeaZzSRwccUSc3lzXzyggFrSF3NMXC779FZHTr2LGqMVQZtySxpGmQEExaUSWsLHvrOu16gw7q5pPL5mNPRzFPhs42DV6BuE7pk0KwxiLWVCqqbAtIYQQQsi9oNVcw7JjxUC3rlgysIP5wEXWHi887oSdUx/BkWFW0sDa8ED7zBW8ca4UPfv2wOqRDxpSd2V29pg3zglTZWXYGnMVuzVGAS67id2RV7E6pw3mje2Nd/t2hLU4QgbHXt3xL28bWBXlY27kNagaKx+urDtGvbcQQfgScz/cg4wa4m1y5ygoJsSUNh3hK1YjQvqTEEIIIYTcbWU4feo6ftW2wcRH7OFkrghxu47wHtQVEwaZy1Jdg5safMUD7WK0xSv9bKTA1kgHazzTow1/HyzG+0c0yBcHMuQnZeL9LB6V2tjhhZ4PiEMrWcC2px0m8k0ozsrBV0mNmKprOwRT5o+DOmw51sRckwaSxkZBMWmmdLVE7wzx5zdBC1gInZM/QpRxUJv7SqZVI26XVJuyfnqLMVi4+YT56c26BXXUxxjZphcmhZ3lf2/EJKcHpGW5wV95RTeZQRHSY/dV1mQtTjcA/iH7kVTYiJ/yqtQU/TGUx253nWb2Je+cpq5FsjSFWcJ6d4bAnz+FKtejRJxaf6MvRFzISGlcZecWEodyM+N0wwkhhBBC6uFmAZRJZTxascIz1YLQhivPLsQ+4ZVJ1hbOtuYi7QcwxNUKQppzcUYhksXXqwokq27yQFrIDNke3czNpg+m+bT7+LSN985jiz5DBkKOOGzdf0YK0kljo6CYNENCcPopxntMxZc5ExBTUAHG8pC4rjv2TvKC51vKqtlHCs8i7A0feM0+ApflcXxaBlZxFZGLgJXTJ2LqqhM8RKuPtpCPWopolQJ+4t8zoVCV6ZbHkrHZt4c41KA4FalXrdDfZwZWRKukdTphS+BYeH8a00g3rStQznkeoye9hsAtPFBPOYLj59rfxjrzcSHsLbh7jMTkwC1QewchVKGAIjQIHjExOCJNZUqrPoDF470x+stcTIjJ47+/AgWJH8Nx71x4ec6XyrVYw3NBNFjBcQR7CyXH5fAJPY+kBZ6wFMf9oitjLp8DxdVSJIvDCSGEEELqps0vwVnhfa9jO3Rvby4KvUOyNrA1rRRLZAGr9m34WyFXfgtXCqrmhW7boY0YMFcng20H3fI010vReGm6fLkPe+FZ3qc+nYbMmtJAyB2hoJg0O9qMPVjy+keI8VmGjZ/7StXQ28Lddz4+CPI0yT5SgqQfP8EMIWC06gXnbuItjJ/Z3TFq3kwe3KoRs+E3JDZFEqXVAIyc6F1ZTb6+3AePD9Urf8TBRimP3AO+m5PB9IG667OY4jeq6jrF38nXufUgYvON75S3kKFcjFEzwvhe8MGiyKuoiF6BAF9f+AasMAr+TQjZx5fMx+cxwxG68UP4ugu1Hcpg7T4R738wHXL1l5i75nBlAG7thVkhgfDma4lYsg7hUkUQ2ox9WLGkGMG7l8G3u3RcCCGEEELqxFCoKRVztNWYMttAsvaW6Cn0lN9EQk59I0wZbHgwLNBkFOFSQ8oMFxdiv1gp2Bm4rJe6jUlYfSoXF0vrWGBHezgK6Q8RJ3A2i/LdNQUKiknTSAmE1wNVs9VW6YSmgKRJq7qGmDXLEaZ2hd/MZ+Fe5Qy1x8OPCTU01zP7iIMzBrjy/1OSkZ5zl24gVnZwED8fJiJVVSIOanL636nOhabI6OauTcX+jUoeqgopuF9g2aju9bjgtciP2Yi5QvZxv1fxnLtxJWhGXyqrBOA8YPZ8AyHB4/gIqSKI/LPYtHg5Uud/iFme9tJ0hBBCCCH1U1xSIWZXrjlltmFkXe3wko0QZd/CT5duVqth2jwZXHvbYKDQW1CAI9n1DaYFMrh4dMXqRx/EmEd74puZQm3TA3DG9yEs7VGBtceuYsymZGzOrOVd1fB+yd/1CigobgoUFJOmIbR9WyZkO66hqymVsjwdJxVxvKcHBjjX3CBRZfaR9nAP+FG3TEOzTkLbbvugDI9GgnA3baW0yUewPUINyKdj4cvu9bzYi3Hx5FEeSPNDOMAZDrqB1amTkZZpXImEPTxnfShmo1aHBeH1CdOxxHIxvps/tHoFFoQQQgghtWIouFkh9TcyCytMeqYLRssYzpy6jA9P5CFTn1ArNfE0+1cNNMLfsjaw02dC7NYVKwZ34AF6KT7en4bv0kulgFpoIzkXyuhU+F3QBaxWVpaVgbzMBhNGOGLCQDs4GlK8LWDdrTP8n+uF1d34G5r2Jj4+mI2LdaZA5yCXguImQUExaV5y0pGQIvTEINDLxiSF+QE4TdooToaUXBRU+UinC4R1lUm1g5PXOExavReXpbGtTzmyzp7Q1aA9wA0P6bNb1+kG0hN0FYqlBHrhgSr7n3eGFH4zN2VDNuoUxMTYYP7ffdCd7jCEEEIIaVZ4QOoox8ZXnfHF4HY4GZeOYRuk7Mzbs5Aus8bfHrfWBbVVyjNbwuNxVxx8Xo6lXUrx4b5EuInZoM9iStxNtHFywGfOQhZrC7h1ble/RAGLDhj/ZOcGpkCTxkSvrKSZMq7kykxnSBUGtOrfsdrfUwyEJ+91xDJFNBKFyrkOhWBcY+a3aakc7WFz21e6K/wUl83ve7GLxgJP09u9DFaOznARyrwgBqu+iqD29AghhBDSABaGMrxNRWZnh/GPu2DfbCE7s9T5ucB/kDWKMoSapi0w0M0OrlXKM8vg6OwA/+cfrpxn9gDse747JvRk+OOKkLrdFi/1rqFNZTNktu3RX5y4Arkldb04OaCzDVVb2hQoKCbNi74igfqWmdBewKbpkzF/y3V4L4qAKlKoSMqo8qtWS8Z3ZWeIuzJTY5KqXpsOsOdBtJCNOlNTVM9yNpJCqRzxtGUIErNRL8WH4em3twxCCCGEEE6oAVpI27h1U1e2+K65WYiDQnAr64A3+tY3uGXIv5yHcP7SY9WtE57t2sjvocV5yBF3QmfYU1DcJCgoJs2L7UCMmebJew5j++G0ugOqrHM4JJSbxXBMm/4U5HRGS2SwfsgNA4TeiF9xOLm+lX51htcYHx5MqxGx/YjUNl99aBC34T0swTys/2AhPhCzUZ9F2NxgQ23UhBBCCCH1YwFr+3Zw433FuSXIakhtzw1ShpPHsvCDVoaxj3fHePt6vliW5iP0eCGKZVb4bFQXOBlSl8uReOwi+q//E0sSzb0PVQbTQhA+uGsNqeNFGmQKr7s+Q9G/GwXFTYFCCNLMdMbQKa/pmvfZ+gtOFZqLyvJxYesunBISkg0py02hZdfwJ3MbjZkB/XnfYWz9+Uw922qWwXboRMwX2h2OUOLnU2I1Eya0KLywC8pT+iUK7Up/gQWremHd8r+ir7UlrAf7Yp6wbn1t1PUOrgkhhBBC+BuJQ0c8LcR/RaXIKLkbUbEQwKbB70IFRvd7CB8OrGcqcWkBNu++grU32+HdMT2qBtKsFMeSS1CMCoSnFFZvOaW0ED8lFPHxQhDuiBFSO8dVaZF/PhYHeJ/80V5wpOitSdBuJY2nMBlHj1/S9Rcn4LeT6hpSevORdDRWqgTrGhJ+i4faMKHQvM8MbFQsgnfMfIyfswrKOP1yhMq0lAjxH4XZ5610NwWjlOWtofuQJAbRfPlRPGirpfZpbYEGmUJPcS7yik22Ut/EkbDMTf/TbZtWjVOndNtR67yG7C23gZVAk6mCOqdI97cmGyp1NjRG5Urqt06TIF7mjImffIwAuRoxgTMwZ/Xvhv2sVcdB+f0u8QZbbZlChVkb1yHI+yQCx7+NEGVc1flC3oD77NOwd9RVx6hrV3onXNYFYqK+PWJh3QvfhQ/vpWzUhBBCCLltMis87fYAf9EoxsHLZdLApqBFZnoONu+7iOfiGWaM7I3VT9sb1RRdAx7wnjyTgSXb0xAMO3wz0QXzerWrGlwZarrmr1vpWVhpqOlaWGc2Vu9Ox8c5qCMIz0Xs/gio4YlpYwbCVhpKGhkjpBGUxQYzHkcKl3nVzk/BVNI0orJYFuxqZjrXYBZbJk0jqmAFidFsR7Afkxum82FBoTtYeKyKjzVSkMgiDNP1Z37B21hkYh4fcZkp/Fwr1yFsS03rr7KdpUx1fB3zk+vH69d7hP1ovDyxc2V+ist8njKmUsw0Gcc7099fTQGLDfauPp9hXpPfIHWuwbF8jfVbZ4XqONsU5FM5Xu7HgnfsZbGx3zM/o/l0yzTC92vkjmCj/SBn3kFfM0V4LFOJB8DMtunXrVJUWbbYVTvGhBBCCCE1q7iRxWZviGePKLJYhlYaaKJCo2E/n85i4afVbNWOBNb7q3jenWPvH83kw7LYz2klVd8bJWVp6Wyw8bTxGqauYR2Vylhc1J+6dWxOYZtqWb4xcRuPprDnxPVJ3YZEtupkNovOrOPlKC+SBfF3MXmAgl2ta0WkwSyEf/gLKyGEEEIIIYQ0I1qo4lPhc6QEI4a5Yt2g6qmp2rw87E3TtxlcnczeDuOcTVJwWwptBqKWBGD0pj5Q/LEKvvoceaTRUVBMCCGEEEIIaabKcTH+Ct4+UoTufbti9pAuGGLXIkPc2yAUGdyD79csReDl8VBsfA++7pRxuilRUEwIIYQQQghp1sQU4fPXsf6UFjOnumKCXV2FfluqcqiVc+G01g6h857DcJ8R1NToXUBBMSGEEEIIIYSQVos+OxBCCCGEEEIIabUoKCaEEEIIIYQQ0mpRUEwIIYQQQgghpNWioJgQQgghhBBCSKtFQTEhhBBCCCGEkFaLgmJCCCGEEEIIIa0WBcWEEEIIIYQQQlotCooJIYQQQgghhLRaFBQTQgghhBBCCGm1KCgmhBBCCCGEENJqUVBMCCGENBfl15F2tRBM+pMQQgghTY+CYkIIIaRZuIXLiiAMWRaDa9IQQgghhDQ9C8ZJ/fcHpsGlUynIrfarLNDBqS/6ya2kvwkhhJBmRHsRWye9huhpOxHq25M/tQghhBByNzRdSnF5HELcLGBhcXudW0gcyqVFVFGYhCjlDwjxH2AyzxgsDNsJpTIGSYVa/lKRjRPfrsOaFQvwipcXvHjnPXMp/r3mG+xLLpIWRhpXIeJCRpocl3p0biGIM3uwCWlpNIjfHoygKUNhYzjHbeA20h8LP/sGUVdKpenqxgovYE/IDAy1MbpWLJzgNWU+PnxnAgYsjEK+OGUDrzuLp/DZsTxxCfevmvaNG/yVV6RpapKPpCglwhaOqTqvkz9CdiqxK04N/qThrkDp71Z1mjq72tevTf4fvjs0DL7DnXhA3FjnVAV/fO5FyBtPGi2HdzZDMSVoMd55wQcLo4R0aTqfqqPrmpB7Ji8bb60/AxfTbmc2MqVJytMvY4jJ+CHReebjCELqIqQUN4myWBbsCiYPimR50iBBWWwwc+WrhWswiy2TBgryIlmQHMw1OJYZD+YjWKJiEfMW5pH7sWBFLFNVSKNYKVPF7mahQT4McGV+isvScE5af7XhpAkUsNhgb358FrHIPMPBMToG3iw4tkAaKMhhkUGe1c8BQlo67UW2ZUIPIZ8K795g2y7fkkbU060ktu2NwQzWY9nCbSdZdpmWX0fZ7M/9X7O3vaXl+imYSpxYuu76TGWf7Yxhpy8XMD610XVnPG0Jy0k8xn754g3WpzXdEw37Qs68g4/zPVa7CtVhtsqvf7VnTYXqONtk+pzRL9snlCUabnvSMeH7vuqzTz/c9F5orJD9ud6XdZq1m2WJB1JyR+eUlt1K2cbe6GPNrEcuYttOZ/Hnq5aV5Zxl+//zLvO2Fpap/010PtWIrmtC7hEtU5++yHp/Fc96f53O4oxeMQ1KNGzV5jPsEUUWyzC+dxJym5q8TLGVgx3qlWHZyg4O1SbUIC5kKjwmfY5Ev004n/QtFvh6Qm7Y6raQe76A6TNegY80hNxDVp1hZ1WfU6o97BxspH7SOEqQFDYFFv5KqKUh5B6waIeOdm11/a794CZ/QNdfL1rkH/sBH317CvI330HQlMFwsLQALB3Qz+ctrN69B6HTBwMJV5FdIc3C74HPzl+EwElPY1AP61qy27ZDF/fHMHbeR/jnG12lYa1AcR5yioUeD4wb2Q/W4sAaaC9g0/TJmL/FGcG7v6jyrJHJh8Dnsd68bwie7u+gG5iTjoQUOXxeGQY3w23vBtIThJRgOQZ4OFVfn/wJDOlTwxPx1kUc3KrGW5MfR1fjA3lH51Qujm1ah28v9sGbC/+BKYO6wpKfJZZdHoHPjGDsPrYJ0/vk8lMqF7pTis4ns+i6JqR5Yjexa+8VrIU9toxzgFPNFwshdWrioNgVT7oID+F6sOwKlyddpT8Et5ChXILxgXv5i8QcrFv+V/S1Nr+5MsdeeFQu/UHunSdd4FSvg90eTi4eUj9pDNqMfVixZIf0F2mZbuLSqWO4wPssbazQzuThbmE9ANMWzcWEG7nILxESjASu8B3hgnq/ols44YkXHms1NSxqM9NwWvxK5AEXp/biMPN44BKzBUsi+MQ+vnhxsL003ITcDb0cdcFRuSoVv2M4Xhneq3J/lmcj9fcU3uOER3t1qb6fB7jhIbPPMYbihEhsyx2DF7w6S8MaQcVVnNpzmve0h41VW5Pgqg2sH5mMRe89hxvX8lEiDqPzqfHRdU1I0yjDyZg0vJvTHqtf7I4hphcXIbep6e6hlp5YkJyMzb49pAF16QHfzclIXuCpC6ILT+O/a4VULzl8ls3FxO7SV1pzbEdhhep21kUalzU8F0SDbfblR6s+LCH33QCWvACeVYJooSzf9irlxp38Q6A0lOETaFGYFAPlzhD4O1nA7Z9KHNulxM4Qfzjpy1aNXAxlkq50FrRqxO36BgtHOlUfpydOo1/GSPxTGYVdSqN5LAbAP0SJOPUtaQZT9dlugXFZxVlQqsuBwgtQ6ssuGqfyittkWoZ+DBZuPgG18UK1GYhaPAZtHpqEMGHmLZMq94O0Dq06jv8e/bKk9eqJ69lZdZv0xHL80n4Qt03Y90ppv5iWjdQdlyrHQSiDqYyrur2kFhZ4oG07se/Kuq/x3dk8Ma9kJT6+z0j89QkNcvKFJKUH4DxhAV5276AbXS+WcPQJxNIRrSFViZ+TV5ORIPS6usHZobYvdsW4ePKo7vpztIdNtSejDDb9X4Xiu+kYaiuM1OKWx9+RxH5EgHtlsK1NjccBISaGCzweMk4nlu6R+wPgbvapm4czv+5Fwes+8BSX31jaoG1HIbQ6inVfKnG20JAUKbFCn2dexBNXcvjdic6npkHXNSGNTwtVfDr8LgDzxjpjgn0t901WipNnMrBkS4Kh3HH/nZehTCxCoTRJNaVFiDl1GW9t1JdVPo8lx3JxsbTq1VtJi8z0a1BGJ6G/tA6X9Ql4fp8aJ/NMXoKEZcdnYvXOs3D5Jg27Ll3Drnjj7TuLt6Kv17Iu0lQa8+nbiLTIPxGOVTHCK4rJl3hyfxKDu8nwGB2GnAk7UMAYWMF5rHM8gElePnhLmc7PCk4djjkeIzFpciC28NMjZf9xnLPpj7ELNkPFb3yq4+vgl/g5JnnPEyvFUe5WwWn8W1gRnQZV5EfwjhHG/RNR+fqbFH9xTk5EesV1/LH3AH8pTsT+42n8BfgVPo8KrEKF2E3P43LgJHhN/RxRpoFxfbdbrJRnCJ9uEmasjBCHoCABYXMmY5L+b73Cswh7wwdes4/AZXmcUO6fb8dVRC4CVk6fiKmrTlTeyGXdMWr5XqgUM3V/+yn4fuDTi90G+MqLkXz+Kio08di75axuGoNCxK2aCq+Jkyu3SU+thL+NB0ZP+htWitehFgUXtmKO9yTpb2O3oI76FOM9puLLnAmIKajg685D4rru2DvJC55vKZFBgXE9dECvvzyFJ4TeG99hlu8c/Gt/MgqNn4sWvfHKlk8wylb4It4OXfq4oIuQFfM2WFg7oVcX3Uv6/a0y0JVPGoI+teZisYRNZylb9JaNWBuVIV23ejJYu3vDd5S7lCVaBitrK5PnklEQbpSiXC/5Z7DvO+DV0Q/Xr7hRfbXpgb9MeEzsvbH9Xfi+uRr7U/OrBGUWPadgy79Hw5bR+dQ06LompHExFGZmYemxEowY1gtvO9ecp0KbdwrxvFwAAClcSURBVB1Ltybh5aNF6DbCHcmzByJ1lge+dSjBh1GpmPLLdWSaxp6leVi9PRUBJ0owcIwHn2cAzvg+CCRlYExYZWBdWeFXORKPpeCZfZk42LkHzgjrmN0fR0bZAOk5eHlXBk4aAtwS7NrNl30kG2tz+FOm/Cb+yJKhX18nLPMbwLfNHWG92iDyQgZeirwhVb5H7pZmGmveQmZasu6r/e2+XJAW6BYywj/H658nwCf0C3zu21f34mndF77vL0SQnAeJczciRghk5b7YzMoMQaDruCnwM7yotoV86Cvwn+bJg7ot2JDmjBcn6MsF8nGj5uCDIGFcBPbH5opzGF52fcfisZ7C66gHxk2ZglHuttJoOTz9FyEkeBwQ8xFeX7LHKMC7je2WckKwslgEi6UEYrF23kbkzYlAhRDMx+6Fwr8/bISywT9+ghlCAGvVC87dpHNfCH7nzYQfvypiNvyGxHpXrWgL91ET4PvcY+gpDakkpV4ZtsmIuJ8ZymKDIY5K/hLzggsxJ65U96Eg/F/w728nTqrN2IMlr3+EGJ9l2Pi5L9zF7KF8vb7zxf2tDluONTHU6mrdLGA15DX8c+lzuvPo4vcIHDsCowJCsCfJKHXJ0hb2HdtIf5Ca1VG+t4r2cBvzKgLErC4R+Hz0WLxRa+4Qc4yeW8964eF6p/hqkR/7K/7T+SW8MER3TTUeOwzxX4ilI4VcVIW4uD0QYwc9h4CQvUgypBpbwNLODh1vLwYj9UbXNSGNSZuXi+CIa8hw74GVgzrUHMiwm9gdqcbWIguMfbwH5vRqp5vWoh3+8nQvrHOW4UKaCgExeUYpxmU4eUSFtUXAwEHdpXksYN3NAUGPWYsfLa2cH8JpIfB9uSsc+d/arGwsPHUTxXzKPvYPSNsjg6OHI2Y68BtrUQEOZervt+0x4WUe/E51xGjhT8uO8B3aGX30Wb8t2sN72IPiuOIreTh50zRiJ02pvk/tu6wcBbk5ut56V95EWqz8w1gz90v+MvkiZj7nVvWktO2Dx57lYVmVQLY2tVXipR+nQabmpm5Qvdhj8Iu+YmVu6rBt2J+sK313Z9vtiHHL/4l3h8r5fEKFcc8bpULVwMEZA4QINSUZ6Tl3ucGBti9i+RezMVTOg3ThQ8GECdKHg2uIWbMcYWpX+M181iRrqD0efsyL/x+HrfvP0BfP+rBwxIgl/0HE+tn4i3gyqPHHpkCM93gcE5eGGwUypE51le81Iev+ApaFr4OfGBifxRYhd4iTZx1FJ4wV4mpiqtjnOsAZUrpz3Zgav+34Fb1feQoPt238yNTC4Wks+f6/WD9zuO7+UngEmwJfgMejU7A0/ELVFEvSNOi6JqRxlBRg6wFdoNurc9tactYw5Cdl4v0sLb+5d8QU9/Ymz4C2GOHZCQP5dBeSchGrDz7ZLSRkCO9XbfC0XAqiRTwwtm8HN95X/2DVEj0eFD50VeCc5jbe2WzaoZ+Qs0lbgbzb+S5L7lhd7wmENLnyiyehEJJXai33p8LptGsmWRrvHpnbMLziI7wtn8Shs7oPNne23Q/BxclcCNwe7gE/6rI/G8pc34I6bh+U4dFIEGvSvQd6OsPJXAVB5ek4qYjjPT0wwLmTbpgZ6tNpyLxXB6+lsXTCE7PWIupMNEKDJuhS6nEBP3/yEjxf/ByR6vq3jdqa1Vy+tyZCTpM52JyUiMjQIHiLw6Tg2PMtrD5hWkeACe01pJ1W8Z7bqGCSYzmnsHe7G2aM7cu3oClYwFL+JGat34szUaEIGtdXNzhFiU9e8sGLHx2Aupwi4yZ3N65rloP4vVsQ8sYwCPU62Ezdjss1HFp2eTumim0m98Sohd9gb3wODw9KoY5ag/khUXROkOanXIOXN1/Cx0K2Y343/vVYBnZrarorVyBZJaTeAlY97DCkQ/UPjjLb9ugvvNZoi3HwcpluICtH7m2mzsq6OSFczDLdD+866+782rw87I6/hkPX6cWnJWmmQbFR+a57kSpG7qJy5KQnQ3x3TQmE1wP6SqL0XU9M2iKMVSMlt+ieBcXCl0Z7R+Nvkk293bpAWFdxVTs4eY3DpNV7cVka22yIzdIIPTEI9LIx2QcPwGnSRnEyvhNQQM+G29AG1r29EbBiO47GbsE73rpKBAujP8DE19bg6I37MGWpLBX714YgJKQB3fdxuFHlPca4kq2hGORSW83TJqzdMSpgBaILjIJj9RbMn/gZwjNq+WyfdQ6HhNqrjZttqlMZ1If3YdfT4+Htdhvb2BAWtug9MgArwmMQu+X/4C1+J7iC6E9m4LWVv5vsv/tEo55TjaGJr2sLBwwa54d35vqKQXfhf7ci/Iy5qoSKcH7fj/ivOGoIpvi/hnGDHGCBQiTH7MDq0P8huZiCYtLMWNpj50wefAY4Y55Q3oMHs+9HXYPK7KlajivXdddT2w5tzKcot2uDB8UoSIusEukFRdYBg7vrUncPqUuN3t0YCjWlSBZ6O7ZD9/bVg2wxEJYq53L7IR1vH7mOA3QdtSjNNChuC8deblJNxolIVUnZVcn9rUolUdU7Q83kzU0jb7dW/TtW+3uKgfDkvY5YpohGolB51aEQjKs5r9A9NhMKVZnZ3y921WoaJ/XTDg6e07BK35YpVxj9FVbuSb13H4iaikV72HVuSEVBbWDTxR5VEwKMyvfWu6k4E2Jw/Cl+ECroE/5W/4pdx7PEUebommjibqceDHYV/9t5At6vDkfvu/U0tuwGz2krpDaKhciYB8afb8SeS/dhDoRGPaca0926rg9hveJk9aIrxWfw09eX4DlIyN3jiK6d9Ofrg3jqk/+BnV+Kpxq1FnRCGlE7W7z1tD2EPC/FWdlYduZmI143bTFimAPGyhjOxGfgyzQhMOYBcVYOVh4vRDEPmpc+0xV9jO8NrBR/HErCQCEQPlaEboMcEebbD6mzPbCsB9UT0JI007ueDLbeflgmZldNxN7oc0aF4M0Qm5XZhSjTpnZICyBDR/vOug8gmZrmm5qoLYImU8iIYw9He6GpjCbabu0FbJo+GfO3XIf3ogioIlcgwNdbqryqGerI94e4E3KhKaAcHbeLFV7FhSuF/JELVJzbiBfei0SumQ/LFtYD8cbHC/FXMXUvDacvX4eU2ev+YemEx1+bhwULFtxm9y5mjnFF1XTWHJw9dFLsM1++V2gebRd2Cc2m5UdhodC8W0gcqp/BbSEf8QLG6fK61sIo50iNbRFXp710GNt+HYQJT3RHY8VfledUMc5t+Bvei8oWz6+qhDaK/4qPP50ilTNOw+Xs+/Djc6OeU/XXHK5r+0Wf4oP+wIV123BQZbzUCuT+Lxw/TXoH8wY1YpvYhNw1FrB2lmP14A6w4iGr+WzU+vK8wK2bFWI26mpKK6DL3SxDt/aV92yZfVese9UZq92Bjb8kwm19AgYqrwPujtj5qiv8HY2/smpx8XgaXjlXguKOtgibygPhx7vCuxulArREzfdToMwdU5YHwhtqxKzagohas60dxZqJ/4fNZ/OkAaTlkMHW6xlMEwKriF9xWF+JVTOjTT6C7ULWSLkPxngJLxJNtN2GLJjDMW36U1LN2c2Y7UCMEWr7xmFsP5zWyKkc97s8nNywAF/E6+5bbRy646GvwxB+0XzBcQsnNwzpJvRZo5NNhzvMNVGES7/9F2ve88dIr4+g/O1rzBoqtD/thKGztyEx+xzCP3sdXkKZQ5vn8dFvmVJgVQr1b1/i77M/RujWL7FwwguYvfUMChkfHqdEiP8Qvgx+7w45hNSkn/HeyKF49bPv8dulInHuu8ZQyZYnJg1xrr6v8mMR+vqnOJL3AJDJgxF1LeWAi/OQIx6S2rJFl0CVmij2yR/tBcd6XbclSI7ZjUOvvISRPRqrNLHxOdUODg+1x9dr9uBimZmIjAf8Tm4PQzyl+Dll0+EOX+JKLuG377/Ae/6j4LVMgd82/B1DxfPnKczedhbZSbvw2atDYWNhAZtRy/GboVhUCzmn6u1eXtdGOg/HpDk+wI1fsOXXi5XBNstAzPYr8HvBC1WrpKxA4eUT2BP2GWaNelfXZn1JKqLEv93RO+hr/Lh0EtyEojHuf0PYn6btLRNyN1nC47GH8Fk3frM1m426DdychKC55oqxtPklOCu8tMis8EzPqs06yeys0INfE9DXND37YR7sOmCInenN/RbOXRXiEwsMdHfAiGrjSUvSjI+eDNaeM7A+NABy9ZeYu/gbnDBbA6gW+edjcUD6i7RAtkMwZf443nMYW3/mL0O6oVUVnsVW5VkzKTl3gTYd4StWIwJyeM+fiKH6bGVNsd2GlNcGqinVWl9zdaOn6HbG0CmviR+vIrb+glOF5laejwtbd+HUPTl4zRV/AT27A8HLLTHskS66VMJOcrh1/gFvB25CfLXaaBnKkmIRIcR51s9g+tO9+SP/TnRE7xFjMLjtRcTEReN/V7zw6ZEryPttNm7yYGb8PyLR7W+hiL2RiC3jkvDx++E4L2xS/u/496shyPX2R8C0v+OTRcPwq98y/HiRQe75Et759D1M73QNaQUM7W9l4fLD72HlwqkY0bujbrV3i6Gsu7lKtoQmkA5iq1oYZyWVPdbnADHFz92d3/Np+bUfvECswdQs7VXEHxCC4vo0/yS5dQG/hibjlXGDIbTacedMz6k2/JTqic67PkXghpNmapkuQtIfR8XUbetnn8fTfe6wbEb73hgxcQjaRkcj7ucjuPLERziSfw2/zZdhw1uv4x+/dsHfvjuOGynfYdwfIXhfcUF45Ww551S93Ovr2pgN+r34Gt7olIZd//kFZ8SyjXx953/BxpIJmDjQtJWGEty4UYjsEzuwMVpqnaG9C0aO7InM6Iu4FpsOy9fCcDHvED5s918s+OYYbuimIuTesOiA8aO6Yix/JauejdoCtu5dEWjDr0JtEX5MKjH5aH8Lv8XdwBk+XV/3zvAyLStxswDKpDK+4EIcjM/GrsSiGnKsyu5eCzmsBDG/nIfL+rN461hB7TloSYPc5aD4FrLS03TZGIrTkJ5VV13jtugbsBoxEavw7IG5eMzzLYTsjEGS0Yu3Vh2Ln/bH6cqOSViJBplX1cgRF38LmmwV1DxYKKHPmneVNisd58WDfQ3n06/XkopoD89ZIVAEDUBM4AzMMW4CRcgarwyBv/v/4bx9J+mELUeBRtfMUXFOnvlsMWaVIC+ngP9fzGPHmiq/uoaE+DTDzUarPoHNi/6GSWFCdubN+GH+UKMX3tvdbs6Q6lRDcGqU8ro1dJ90ruuyetZc+7Qlj3nddLWZRmzHppgM8bdp1WdxSr89lq4YOUsI4HdgyWfbcUF/DRUmIcqwXNNt0vLNzdXt3xqziOs+Xm1ULIJ3zHyMn7MKSiFLqjhOqCxMSOkZhdnnreqZetbCsVIU6dtQyD2P+JR8k9QU/tJ85ST2h72PVye+i+1/GYXHnKUyj5Zd4fKkKwp/noPh4wMRGvEnrok1wJYiJ/5HfDD3MxzAYEz/4mMEDJTa0TaD5QqVu0l/qHNww2wqoaAtrGyFdT+Mp0YNhINlG9i6PYIh/FVX6zUMf3Hg4yyd0M+rB3D6HFJz+Qt9B2c8NW8upgyWXvhFOcgVzxsLWPZ8AUu+mIjkVUF47b2LePm959HTslEivttg9KHUbPneXMTuj4BarIBLi4snj/LnRxy2bt6Enbv4s0Q6z7XqOChD5mHUjF/gUe3ar0qrPoffE4SnUP2afxKCk1vn/4ftl8Zi8gi50b404w7OKUsnFzyJNPz8j5cw/t1vEHEuR/eBrjwb8ds/w9xAJdDnLXyx2g8DrcxvRf3PJ66dFWyF3f3wkxg1qCssLezgNuhhfp/pBK8nB/FzTDhH+sKr2w2cPp3GjwTXEs6pFnVdV7KQD8frfxsGHN2E/0Sp+Dbn48y+aLhMHY4e1XZhR/QYxK8Jt6qtCFi07wih9exuz/viRXc7WNj2xqAh3XBjTwIumXmEEdK4GApumn5MqiSz74Ilj1uZz0Zt0RHTxjthWkfGx12Rygdz/Hr+41Aa5qZr0beXE8K87arf22+VQ2jNqThHgwVHMvFuVAoGrj8Dl41JWB2fh0zD5fcAhrgK62c4k5SN3VnCRSGUQc7Frlpqn9aWlPO7nNBTgfxSk2vZkK27AhrjwCU/H9+nCXk+tIjkyzY0I0UaD7tLymKDGX9pF46gSTeTKVRl0lS1KEhkkYrvWbBff5P5+zO/4O+ZQhHOIhPzhBWxYFfj8frOlfkpLksLI02qwccgjyVGbqt6jL2DWKhiL4tVleomUSmYX5VlCp03C44tqGGcdH7VNk50mSn8XE3GC52ceQd9zcJjVaxCmrK6emw3K2Cxwd5Gy9V30rYb4+d6RLAfk4vjhfN7m+7cNt1GPwVT6eZgrELFjq/Sz8O7auvnqixX97sUkYmswPR4Ccut6Ri6BrNYs5drBV98NNthWL7Q+bCg0B117Lv7xQ12etsq9sFMnxruc+Y6azYo+A9WIi2BMQ07umwCmxz0IQuc/BfGH9JG08qZ5+QlLPRoBqvpbllxOZKtW7mEzRzZx2S++WxZ8A52usD0KOjPSaPrQLpOXINjpfWYmYZvcfbpn1jIwkC29G1ffrxNzuGb8Wz9i70YRq5hp29qpYF3R83PGTOdeP3cZAWqP/mzZQcLDfIxmUY4fxXStVeDGu91dT3XbvBj7c3kQZH87lGTRjinSo6yZZ6TWdCn89lkT3nVaa3/wiYv2cyOqirPQGO3fz5x+v1huDeV8VNqJp/P6BypNo2guZ5TLfG6FnZxMPMUr2EtK4oNYU/weawnbmHJ1w6yhSM+Z0eLhH2of54Yn6v1uSdI89X4LCCkkWiy2JtfxbPept2OLKaWJhFpC9mmrWeMpvmTrUozOjlLCln0yXT25obKZTyyI50pLhTyM95UBVOnqdj7m8+x90/rx2tZQeZ1Fn76Kh+uW88jiiyWYbgVlbGk85cNy69ctpapT180rLP3VxdZuKaIhe8w3lZdNzhKI16vVaeXOv3vLdGwVdL6q/1G0ijuWlBMSPOmf0EwE6QScl9qQFCsvcb+WOPHhr29gyUXlEtBaNVrRpv1C5v/RB/WC33YX7ckslvScGKk6Ahb1n8kW3b0hjTgPtGQoJjOqUZXGRRzFUlsy8Re4jGY+/Zf2YgvTjHdp1IKigkxVZGZwSbwoPORvdfNf7A0BKZCgHt3P/rqlaWls8FfXWCbMu//5Ia7rTVkaCSEEHLHGIpPbsI//pGK5199Fq7WZko/MhUiVijh/GU4NrzbBf/99CvsvkxN6lWlRX5cBL7Dsxg9UMiY2prROdXkZL0xZsYEdEIM1oV2wN8n9kNjVetGyP2FITuzGGd4X81tG7eDizBC1gZ29+RC0uKS+iZudeuEZ7tSCNfYaI8SQgipBy2K1OlIwDUknbuCwsIURP76O7JQhGuaLFy5movcw5uw3vo1THv0YYx+5x1MvxaK9/8dg2wmLYJwuYjdsx+d33oOQ2oox9t60DnV+BhKiwtRlF8MXcvTlug66hX8X39rdHrdqKZzVoGyUqGsZiayb0jlpQlp5aza64JhzZV8nDEt68tps3LxbY4Fxj7uiBFN15B5Dcpx8UIGVia3w7rRXeDU2h8fTaDNR5zUT0jrpVXj6Mb/4OeUdhj8yqt4tvcd1sRKSLNWhEv/242ffvoZUedKIO/TCy5OtxC/W4Fte44jrW03OPfojk6ao1Bu+0k3jZsT3LwGocflPQgJ/hRrj7bDs34+6HEsDCt3J6HigVTs+ogHe5NexdgBDsCNS4g9HoFd244j27obXNzd4Hi3aulsxlh2FIID/oT30r9hWLVKwFqwkkv4n/In/LQzCue0cvRx7QWnsgTs3qnAnuPpaNtNjh49baH5LRzbtuumcXPqjn7D+sL+wi46pxoDy0H8vp3Y8p9N+PHAZVjZO6CHR0906tAZXWTX0GnsdDzXoz3YtXjs+u8mbNqwFxdLilH0QEfYO1qh5ORBhO/Yhd8ulvHrXQ55N4akPTvxA78nZNg7w8P9IbRN3IutG8MRd80aPT36oF9fR7T6bzvkPmGBdjaW6Hg1H4c0N7Hnahk8HuwIF7HdeR6QJmbi34fy0PUvvfDxICtIVendJSXYtTMZ31bYYra3HE9Q009NwkLIQy31E9IKlUOtnAunSRulv/W8ERy7Gws8a6pvlhBCblc5svcsQN81D+Pw3r+h3wMUTRBCSLNSWoSYc9fx/QkNIvWVR8vaY97QznjapbOZtorJ/YKCYkIIIeSu0ODYZ1OxoucXUEzrQ+WXCCGEkGaCgmJCCCGEEEIIIa0WfagmhBBCCCGEENJqUVBMCCGEEEIIIaTVoqCYEEIIIYQQQkirRUExIYQQQgghhJBWi4JiQgghhBBCCCGtFgXFhBBCCCGEEEJaLQqKCSGEEEIIIYS0WhQUE0IIIYQQQghptSgoJsRAi8KkGCh3hsDfyQJuIXEol8aQpkD7mxBCCCGE3HsUFBMiKY9bhUc9RmLS5EBsUUsDq+BBXNxqjLSwgNMMJTK00uB60yAu5AVYWAzADGU6X1pzUg7NpXjExcVV786pUSJN1Zjq3t+EEEIIIYQ0PQvGSf2ENCIhFfA3RJyJxa5/mAQ93kEInfcY7O37w2eUO6ylwc1DOdTKuXCatBGuwbG4sMATltIYoJAHtePhFRjD+2dCoVoHX3nl2DqVxyGkrxcCU3i/nwKqzb6Q68Y0AyVI2v4RPtuXjMu/70dMSiFg7YlxEx+Bw6A3sWrBU+gkTdm4atvfhBBCCCEMhVk3EJl5E3/E5+KHUjvsnNETQ2pN2tMiM/069v95DR+nl0nDZBjd1wGv9XsQ3t1qeNtgpTiZcA3K03w9RVKIJGuPeUO74IV+ndCnnYVumJ42D6tD07G21qxulpj3vDvedaY3nOaMUopJ4yu8AOXC52DjMRJzdwMTdqtQwRiE7y+sQoXYd9yQuHYuJo1ehQh1S8owawWPF6bDTy6H96JJeKKmG2pNLPvghcUBPBD2wSL/x9BNGtw8tIf7K//E5s2bEDLLSzfIdzG+2boZ3zZZQEwIIYQQUoPSIsScuoy3NiZgoPIq3j1yvTJQrQ0PbP84lIxn9mXhcIeu2B8wAKmzByJ56kMYeD0HAcqLWJpYUi3HnjZPg7WKi3j5aBEeHOqCM3ye1Nn9cWSMFc6duIox29MRk1dDPj8HRxwRpzfX9aOAuAWgoJg0rsITCBk/CpNWquAXmoCkzQvg6ymvPNFkcnhOmIYZ04ZLA1oSGaz7+mOzSoXo5c9CXu3qKUFS2BRY+CthPjewLfoGhELF9mP5qO508RFCCCGE1EbWHi887oSdUx/BkWFW0sDaaKE6cwVvnCtFz749sHrkg4bUXZmdPeaNc8JUWRm2xlzFbo1RgMtuYnfkVazOaYN5Y3vj3b4dpZyMMjj26o5/edvAqigfcyOv8fc4cQS5z9B7OWk82nQo356BwBg15AEfY/n0/jVkjW7LbzBuzSjrcOPQZuzDiiU7pL8IIYQQQkiDtesI70FdMWFQFwyxq2fIclODr44Vo5i/a77Sz6b6e2gHazzTow1/aSvG+0c0yBcHMuQnZeL9LB4k29jhhZ4PiEMrWcC2px0m8k0ozsrBV0m3pOHkfkJBMWkkWhSeUmJt2FnePxnLFj6P7jWeXTLYjloOFdtQvUyuVo24Xd9g4UgnWFhYiJ2Tfwh2RiWhUJpEx6Tm4n8qcWyXEsqwhWJFWOK8Tv4IOWA6n7F8JEVtR4j/AMO6LCz6YuraWGm8sVpqStZmIGrxGLR5aBLChCTiLZPgZFjeLCjFLOLCunZhZ4g/HzcSIXHmt0qrjsMu499gMQD+IdsRlaS7bVequrx/KqOwS7kTYQvHSPMJ+201DlSb7w4UJiFK+YNuf7l9DOWxfVAqjY+VsK37kVRYUxVit7O/9XT7Xfc7pXmE46qMg9qwGqGs90ijZeo63TGqPo5quSaEEELuT+XZhdgnvB/I2sLZ1qT8r+gBDHG1gpDmXJxRiGTxXaICyaqbPJAGrDq3Rzdzs+mDaT7tPj4tvUfcfygoJo0kFyd+/B5CFVTwGYvhbu3FobdDqz6AxaM94TX7MBxXxOnKIVeoEP5oAv4x2hvjFx+oDITU4ZhjVHNxyv7jOGfTHz4BKxDN56tQRWCRxwEE+kzFp1HXpJmMFJ5FmP+T8Bj9KgK3XId30NdQKHYgNMgVMTFx0kRGTNZXhaw7Ri3fC5Vipu5voRItfRlqMfDnsyuD+LomYnLglhqyVt+COupjjHbywuxDPbFCVSrOX6HagEcTlmG0x2QsjsrgIaJAqJzKeHmJ2H88DTb9fRCwYj+frxSqyI/gsWU+fLz/iah8Q/R4B65AOed5jJ70Gt9fZ/kOP4Lj59qjv88MrIhW8eN0FZGLnLAlcCy8P42Rvrwaud39LRL2yacY7zEVX+ZMQExBBf9teUhc1x17J3nB8y19DeDW8FwQDVZwHMHeQv4DOXxCzyNJrLRLGPcLEkMn88FzoLhaimSqzIsQQgi5v8nawNa0UiyRBazat0Fbobf8Fq4UVM0L3bZDGzFgrk4G2w665Wmul8LMmyVp6YTapwm5YxXnWaiPXLizMHlQJMuTBtdbRRpTBPTn8/dnAYo0xgNiIzksMsiTj5Mz7+DjrEAaylgZ44GouE7X4Fj+l7HKcdW2x7AuMHh/xCJVpdIIQf2WWds4HhQzHhSbcZkp/Fz5NN4sOLbyVwgqripYgJzPK5/DeOAmDZXkRbIgYRzG8fluSAMFNS+vcpwnC4rMkYbVRwGLDfau+XeoFMxPGOcazGKr7oDKcfJFLDLP6Ag2cH8b9olPKEusckLozwfT31bBCmJXMW9xGyr3o245pvuOEEIIIS2HlqlPX2S9v4pnvb9OZ3FVXxQNKjIz2ARhmq8usE2Z5icqS0tng8VpLrJwjZYPqWBJRy/olr01gyUJg6opY3FRf+qm2ZHF1NJQVqFhq77mwzansE0n09mbG4TlSt2GRLbq5HWWVGJ2gaSZoZRi0ji0RchN0aWBWjnY1fCVrSZa5MdsxFwh67V8PF57podJFoYu8J7xd/hAjZhV4ThRr5RPSzg4u8GV96kzNSjSDRRpkyOxUcrmHbpxIUbJxe+F99A1xKxZLma9lk/zxTPdTbbHdhhmLJvMe/Zi1Y8nq6fCmtUJzgN68P81yNTc1A1qag7OGCDu8FxoiiqPUcP2t36fuMJv5rNwr3JC2OPhx4QasuOwdf8Zo/0hg7XnGwgJHse34UvM/XAPMvLPYtPi5Uid/yFmedpL0xFCCCHkfiTraoeXbIQU3Vv46dJNKYddXWRw7W2DgUJvQQGOZN9ODjsZXDy6YvWjD2LMoz3xzUyhtukBOOP7EJb2qMDaY1cxZlMyNmdShuvmjoJi0gwU4+LJo2K2Yvm0Z+BlW/20lDn2wqNCzlh1BPbH5uoGNkgJkg//igjeJw+ahZfdbz+bd6MrT8dJhZCF2BPTxgyErW6okcqKydRbDyK2UbJD3y0N3N+GfdIDA5xrbhBKfToNmVV2hz08Z30oZqNWhwXh9QnTscRyMb6bP7SGSt8IIYQQct+wsMKkZ7pgtIzhzKnL+PBEHjKF/GgCqYmn2b9qoBH+lrWBnfSdXtatK1YM7gArlOLj/Wn4Lr1UCqiFNpJzoYxOhd8FXWBrZWVZmfgjs8GEEY6YMNAOjobc2haw7tYZ/s/1wupu/J1WexMfH8zGRf12kGaJgmLSOGQd0dlVV590SkI6csS++rqB9IQrYl+NqcxWdnAQR9xpymcOzh46yf+XY4CHU/MIlHLSkZAi9NjAwc5c0CjjP7+zbr+YpMI2fw3c34Z9EoNAL5sqFWVZWDwAp0kbxcmQkosC091h7YVZIYHwRgpiYmww/+8+tVT6RgghhJD7Bw9IHeXY+KozvhjcDifj0jFswxm4rOfd9iyky6zxt8etde9UHduhe3t9JGsJj8ddcfB5OZZ2KcWH+xLhJsyz/iymxN1EGycHfOYsVLRlAbfO7er3PmPRAeOf7NzAFGhyt9GrImkcsi7o9aiTrv/3VKiafS4RKzjad6QL4K5p6P6eCYWqTKx0zGyXvACe1WrNksHK0Rku4jeaGKz6KkKqkIsQQgghrYHMzg7jH3fBvtlCdmap83OB/yBrFGUINU1bYKCbHVyr1MUlg6OzA/yff7hyntkDsO/57pjQk+GPKxV8mrZ4qXeHer/PyGzbo784cQVyS+hlpDmjmIA0En25Xy4lBtHxYsaUGolNDyljpOZ79OVfgeKcPLFK/GqK85AjjrDnwVUHcVDDdIC9o1C2tBiZmqJ6ljVpYvqyuChATl6JOKgqLf/5ubr9Iu8M+44t6bJt4P7uyI+zGNTmQlNwm19YCqVyxNOWIUjMRr0UH4anN49jTQghhJB752YhDgrBrawD3uhb3+CWIf9yHsL5i4RVt054tiuFT/cjOqqk0cjcfbFcqORIqBDqq6haUufKkXX0G0yctA1nxbyvVugz5Ilay8xqM9NwWix07IMxXp11AxvEGg95uPD/1YjYfkRqn+4es3TGkEmevMe04ii9W8hMS661zHXz1cD9bTsQY6YJ++Qwth9Ou42AVoO4De9hCeZh/QcL8YGYjfoswuYGIzyDGtsnhBBCWq8ynDyWhR+0Mox9vDvG29fzfao0H6HHC1Ess8Jno7rAyZC6XI7EYxfRf/2fWJJo7h2jMpgWgvDBXYXs16S5oqCYNCKhkqN/ItSvv5g6t/iL3yvbFa5Cg/PHY6V+gQy23n5Y5sPDYvVufH/wikkQdA0xoV8hgofN3vMnYugdBYXt4TbmVQQIEXiEEj+fqj1Fu0EyNdXLudaqMpVdvVWJg6bBW/4RhC7ZwXvGYf6UIWYq4mrOGrq/O2PolNd4QMuD6a2/4JSYo8BUPi5s3YVThoRkoV3jL7BgVS+sW/5X9LW2hPVgX8wL6M93rFQb9W0dF0IIIYTcH4QANg1+Fyowut9D+HBgPVOJSwuwefcVrL3ZDu+O6VE1kGalOJZcgmJUIDylsHqiRmkhfkoo4uOFINwRI6R2jknzREExaVzW/RHwpQIRwUNwYP5weL4Rgp1RSSiURouBS9wv2H9CJf0tkfXF9E2bscj7OsLmfogvTqh1gbFWjROr/w+vr1TBe9Fm/FClFuFyFGh0NVFXz3ZtlOXYJEiVdX8Bn6ybw0PsvQgc/zZW69clbtvP+H7X7+Jf1ZdZ2/oqm4BCxHZsiskQl6lVn8UptRTkaougyRTmqp5NWub+OjZFfgRvIXhb/A1OSPNo1b9j9by3sVLtg0WRGzHfuFmhWpYn1Pqcl1PA/7+NbMushC9PBXWO1ICVJhsqdTY0RmVgtAUaZAo9xbnIKzZZqiGLe9Uszw3b30LzSjOwUbEI3jHzMX7OKijjjOdTIsR/FGaft4KjdBfTZuzBktd3wmVdICbqm7WSOWPiwnd1HxwoGzUhhBDSymiRmZ6Dzfsu4rl4hhkje2P10/ZGNUXXgAe8J89kYMn2NATDDt9MdMG8Xu2qBk6Gmq75O0x6FlYaaroW1pmN1bvT8XEObi8IJ/cOI6RJVLCCxGim2BHM/OQQbhGVndyPBe9QMIUimiUWmDSsXpDIIk3mkfsFsx2RiaxAmkSkUjA/42WKnTcLjhWmuswUfq4m41yZn+Kybl5RKVPFbmFB3nLDNOJ6wo+y2B0zjeaTlml2fSbLrFCx46v8mFw/3juIhSr2slhVEZ/deJn6biZTqMqkmQW6fbYj2GgZ6M/8grexyMQ8aRpBmfnluQazWGFxZrfVdF2mClhssLfJPFLnp2Aqs/sUzDU4lm9NDdsjzqd3m/vbwNw+8WFBoTtYeKyKjxWY2Tb9us3tC/1+IoQQQkizVqHRsJ9PZ7Hw02q2akcC6/1VPO/OsfePZvJhWezntBLpXaCqsrR0Nth42ngNU2ulkTUqY3FRf+rWsTmFbapl+cbEbTyawp4T1yd1GxLZqpPZLDqTXjhaCgvhH/6iSAghhBBCCCHNhjYvD3vT9G0GVyezt8M4Z5MUXEIagIJiQgghhBBCCCGtFn1YIYQQQgghhBDSalFQTAghhBBCCCGk1aKgmBBCCCGEEEJIq0VBMSGEEEIIIYSQVouCYkIIIYQQQgghrRTw/5umPL92JuL4AAAAAElFTkSuQmCC)\n",
        "![image.png](data:image/png;base64,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)\n",
        "Source : https://reader.elsevier.com/reader/sd/pii/S1470160X20309729?token=89B25AE7E53EBBB80D34AB86C7ECDE8487597A711142CA24C3A6E4E050E3B2AFC3024DBAA1A5158774B5CC81B92DE2C0&originRegion=eu-west-1&originCreation=20220114142410"
      ],
      "metadata": {
        "id": "fAunh6Va75jr"
      }
    },
    {
      "cell_type": "code",
      "source": [
        "def add_features(data):\n",
        "  #Vegetation Condition Index\n",
        "  data['VCI']=((data['NDVI']-data['NDVI_min'])/(data['NDVI_max']-data['NDVI_min']))*100\n",
        "  data['VCI']=data['VCI'].astype(float)\n",
        "\n",
        "  data['VCI']=data['VCI'].replace(np.nan,data['VCI'].mean())\n",
        "  data['VCI']=data['VCI'].replace(np.inf,data['VCI'].mean())\n",
        "  data['VCI']=data['VCI'].replace(-np.inf,data['VCI'].mean())\n",
        "\n",
        "\n",
        "\n",
        "\n",
        "  #Temperatur Condition Index\n",
        "  LST=pd.DataFrame()\n",
        "  LST['LST_DAY_jan_mars']=data['LST_DAY_jan_mars']\n",
        "  LST['LST_DAY_oct_dec']=data['LST_DAY_oct_dec']\n",
        "  LST['LST_Night_jan_mars']=data['LST_Night_jan_mars']\n",
        "  LST['LST_Night_oct_dec']=data['LST_Night_oct_dec']\n",
        "  LST_MAX=LST.max(axis=1)+273\n",
        "  LST_MIN=LST.min(axis=1)+273\n",
        "  data['TCI']=(LST_MAX-data['LST'])/(LST_MAX-LST_MIN)\n",
        "\n",
        "  data['TCI']=data['TCI'].replace(np.nan,data['TCI'].mean())\n",
        "  data['TCI']=data['TCI'].replace(np.inf,data['TCI'].mean())\n",
        "  data['TCI']=data['TCI'].replace(-np.inf,data['TCI'].mean())\n",
        "\n",
        "\n",
        "\n",
        "  #Vegetation Health Index\n",
        "  data['VHI']=(data['TCI']+data['VCI'])*0.5\n",
        "  data['VHI']=data['VHI'].astype(float)\n",
        "\n",
        "  data['VHI']=data['VHI'].replace(np.nan,data['VHI'].mean())\n",
        "  data['VHI']=data['VHI'].replace(np.inf,data['VHI'].mean())\n",
        "  data['VHI']=data['VHI'].replace(-np.inf,data['VHI'].mean())\n",
        "\n",
        "\n",
        "\n",
        "\n",
        "  #Vegetation Supply Water Index\n",
        "  data['VSWI']=data['NDVI']/data['LST']\n",
        "  data['VSWI']=data['VSWI'].astype(float)\n",
        "\n",
        "\n",
        "  data['VSWI']=data['VSWI'].replace(np.nan,data['VSWI'].mean())\n",
        "  data['VSWI']=data['VSWI'].replace(np.inf,data['VSWI'].mean())\n",
        "  data['VSWI']=data['VSWI'].replace(-np.inf,data['VSWI'].mean())\n",
        "\n",
        "\n",
        "\n",
        "\n",
        "  #Leaf Area Index\n",
        "  data['LAI']=(data['AI']-data['LAI_min'])/(data['LAI_max']-data['LAI_min'])\n",
        "  data['LAI']=data['LAI'].astype(float)\n",
        "\n",
        "  data['LAI']=data['LAI'].replace(np.nan,data['LAI'].mean())\n",
        "  data['LAI']=data['LAI'].replace(np.inf,data['LAI'].mean())\n",
        "  data['LAI']=data['LAI'].replace(-np.inf,data['LAI'].mean())\n",
        "  return data"
      ],
      "metadata": {
        "id": "pf7RsVgXbbDB"
      },
      "execution_count": null,
      "outputs": []
    },
    {
      "cell_type": "code",
      "source": [
        "#We take into consideration only the indicators that we have already calculated ans we delete the columns with which we have calculated them \n",
        "columns=list(data.columns)\n",
        "columns.sort()\n",
        "data=data[columns]\n",
        "columns_test=list(data_test.columns)\n",
        "columns_test.sort()\n",
        "data_test=data_test[columns_test]\n",
        "I=['Column1']\n",
        "for i in I:\n",
        "  columns.remove(i)\n",
        "  columns_test.remove(i)"
      ],
      "metadata": {
        "id": "xI3KoDpubrhr"
      },
      "execution_count": null,
      "outputs": []
    },
    {
      "cell_type": "code",
      "source": [
        "data.replace(np.nan,data.mean(),inplace=True)\n",
        "data_test.replace(np.nan,data_test.mean(),inplace=True)"
      ],
      "metadata": {
        "id": "RsbtasT9M_By"
      },
      "execution_count": null,
      "outputs": []
    },
    {
      "cell_type": "code",
      "source": [
        "'''data.replace(np.nan,0,inplace=True)\n",
        "data_test.replace(np.nan,0,inplace=True)'''"
      ],
      "metadata": {
        "id": "CKHkx7Fwm8mL"
      },
      "execution_count": null,
      "outputs": []
    },
    {
      "cell_type": "markdown",
      "source": [
        "**Exploratory Data Analysis**"
      ],
      "metadata": {
        "id": "Vsj_JbPMEudO"
      }
    },
    {
      "cell_type": "code",
      "source": [
        "def show_correlogram(df):\n",
        "    plt.figure(figsize=(150,150), dpi= 50)\n",
        "    sns.heatmap(\n",
        "        df.corr(), xticklabels=df.corr().columns,\n",
        "        yticklabels=df.corr().columns, cmap='RdYlGn', center=0, annot=True, cbar=False\n",
        "    )\n",
        "    plt.title('Correlogram between features', fontsize=16)\n",
        "    plt.xticks(fontsize=10)\n",
        "    plt.yticks(fontsize=10)\n",
        "    plt.show()"
      ],
      "metadata": {
        "id": "9-F83lxqGLik"
      },
      "execution_count": null,
      "outputs": []
    },
    {
      "cell_type": "code",
      "source": [
        "#The correlation between the different variables \n",
        "#show_correlogram(data)"
      ],
      "metadata": {
        "id": "5KFUf-tfE0uS"
      },
      "execution_count": null,
      "outputs": []
    },
    {
      "cell_type": "code",
      "source": [
        "#We see the distribution of the column in the data \n",
        "data['Target'].plot(kind='hist', bins=30, title='Target')\n",
        "plt.show()"
      ],
      "metadata": {
        "colab": {
          "base_uri": "https://localhost:8080/",
          "height": 281
        },
        "id": "O3rHiX-wH9zh",
        "outputId": "5daccec2-c058-4c70-966b-df50243d3bb8"
      },
      "execution_count": null,
      "outputs": [
        {
          "output_type": "display_data",
          "data": {
            "image/png": "[encoded data removed]",
            "text/plain": [
              "<Figure size 432x288 with 1 Axes>"
            ]
          },
          "metadata": {
            "needs_background": "light"
          }
        }
      ]
    },
    {
      "cell_type": "code",
      "source": [
        "#We see the distribution of Target taking into account the variables with the most correlation (in modulus)\n",
        "plt.figure(figsize=(40,9))\n",
        "plt.subplot(131)\n",
        "data[data['Code_Stage_S1'] ==1]['Target'].plot(kind='hist', bins=40, title='Target when Code stage is S1')\n",
        "plt.subplot(132)\n",
        "data[data['Code_Stage_S2'] ==1]['Target'].plot(kind='hist', bins=40, title='Target when Code stage is S2')\n",
        "plt.show()\n"
      ],
      "metadata": {
        "colab": {
          "base_uri": "https://localhost:8080/",
          "height": 417
        },
        "id": "OM6-WCmaJkRc",
        "outputId": "78081243-71f6-4d47-f61f-bfd121548f5f"
      },
      "execution_count": null,
      "outputs": [
        {
          "output_type": "display_data",
          "data": {
            "image/png": "[encoded data removed]",
            "text/plain": [
              "<Figure size 2880x648 with 2 Axes>"
            ]
          },
          "metadata": {
            "needs_background": "light"
          }
        }
      ]
    },
    {
      "cell_type": "code",
      "source": [
        "def plot_create(x, y):\n",
        "    plt.plot(x, y, '-', label=y.name)\n",
        "def process_visualisation(df, ID):\n",
        "    plt.figure(figsize=(14, 6))\n",
        "    plt.title('Code_Stage_S1 is {}'.format(ID))\n",
        "    plot_create(df[df['Code_Stage_S1'] ==ID]['Column1'],\n",
        "                df[df['Code_Stage_S1'] ==ID]['Target'])\n",
        "    plt.legend()\n",
        "    plt.ylabel('Value')\n",
        "    plt.show()"
      ],
      "metadata": {
        "id": "X1OmEQvlKZjO"
      },
      "execution_count": null,
      "outputs": []
    },
    {
      "cell_type": "code",
      "source": [
        "process_visualisation(data, 1)\n",
        "process_visualisation(data, 0)\n"
      ],
      "metadata": {
        "colab": {
          "base_uri": "https://localhost:8080/",
          "height": 763
        },
        "id": "mydC37gUQDDY",
        "outputId": "9f7eff97-5e2c-4731-cf78-0f1b127a6c91"
      },
      "execution_count": null,
      "outputs": [
        {
          "output_type": "display_data",
          "data": {
            "image/png": "[encoded data removed]",
            "text/plain": [
              "<Figure size 1008x432 with 1 Axes>"
            ]
          },
          "metadata": {
            "needs_background": "light"
          }
        },
        {
          "output_type": "display_data",
          "data": {
            "image/png": "[encoded data removed]",
            "text/plain": [
              "<Figure size 1008x432 with 1 Axes>"
            ]
          },
          "metadata": {
            "needs_background": "light"
          }
        }
      ]
    },
    {
      "cell_type": "markdown",
      "source": [
        "**Train and test section** "
      ],
      "metadata": {
        "id": "_uGF-s734PU6"
      }
    },
    {
      "cell_type": "code",
      "source": [
        "#We define our dependent and independent variables \n",
        "X,X_Kaggle = data,data_test\n",
        "X = X.drop('Target', axis=1)\n",
        "X,X_Kaggle = add_features(X),add_features(X_Kaggle)\n",
        "Y = data['Target']\n",
        "X=X[[i for i in columns if i!='Target']]\n",
        "X_Kaggle=X_Kaggle[[i for i in columns_test]]\n"
      ],
      "metadata": {
        "id": "P7aCmdQLb1rT"
      },
      "execution_count": null,
      "outputs": []
    },
    {
      "cell_type": "code",
      "source": [
        "X_train, X_test, Y_train, Y_test = train_test_split(X, Y, test_size=0.2)"
      ],
      "metadata": {
        "id": "nBr_rhkAMSN9"
      },
      "execution_count": null,
      "outputs": []
    },
    {
      "cell_type": "code",
      "source": [
        "from sklearn import model_selection\n",
        "from sklearn.model_selection import train_test_split\n",
        "from sklearn.preprocessing import RobustScaler\n",
        "\n",
        "import lightgbm as lgb\n",
        "import xgboost as xgb\n",
        "from catboost import CatBoostRegressor\n",
        "\n",
        "from IPython.display import display # Allows the use of display() for DataFrames\n",
        "\n",
        "import warnings\n",
        "warnings.filterwarnings('ignore')\n",
        "def run_lgb(X_train, Y_train, X_test, Y_test, X_Kaggle):\n",
        "    params = {\n",
        "        \"objective\" : \"regression\",\n",
        "        \"metric\" : \"rmse\",\n",
        "        \"num_leaves\" : 40,\n",
        "        \"learning_rate\" : 0.004,\n",
        "        \"bagging_fraction\" : 0.6,\n",
        "        \"feature_fraction\" : 0.6,\n",
        "        \"bagging_frequency\" : 6,\n",
        "        \"bagging_seed\" : 42,\n",
        "        \"verbosity\" : -1,\n",
        "        \"seed\": 42\n",
        "    }\n",
        "    lgtrain = lgb.Dataset(X_train, label=Y_train)\n",
        "    lgval = lgb.Dataset(X_test, label=Y_test)\n",
        "    evals_result = {}\n",
        "    model = lgb.train(params, lgtrain, 5000, \n",
        "                      valid_sets=[lgtrain, lgval], \n",
        "                      early_stopping_rounds=100, \n",
        "                      verbose_eval=150, \n",
        "                      evals_result=evals_result)\n",
        "    \n",
        "    pred_Y_Kaggle = model.predict(X_Kaggle, num_iteration=model.best_iteration)\n",
        "    return pred_Y_Kaggle, model, evals_result"
      ],
      "metadata": {
        "id": "RQsVVKS_rhPe"
      },
      "execution_count": null,
      "outputs": []
    },
    {
      "cell_type": "code",
      "source": [
        "# Training LGB\n",
        "pred_test, model, evals_result = run_lgb(X_train, Y_train, X_test, Y_test, X_Kaggle)\n",
        "print(\"LightGBM Training Completed...\")"
      ],
      "metadata": {
        "colab": {
          "base_uri": "https://localhost:8080/"
        },
        "id": "RLV9UvutsmPG",
        "outputId": "487852f6-64da-4666-c4cc-cf8acde253f6"
      },
      "execution_count": null,
      "outputs": [
        {
          "output_type": "stream",
          "name": "stdout",
          "text": [
            "Training until validation scores don't improve for 100 rounds.\n",
            "[150]\ttraining's rmse: 0.821209\tvalid_1's rmse: 0.906064\n",
            "[300]\ttraining's rmse: 0.681494\tvalid_1's rmse: 0.825272\n",
            "[450]\ttraining's rmse: 0.592053\tvalid_1's rmse: 0.790002\n",
            "[600]\ttraining's rmse: 0.526712\tvalid_1's rmse: 0.773254\n",
            "[750]\ttraining's rmse: 0.474515\tvalid_1's rmse: 0.76629\n",
            "[900]\ttraining's rmse: 0.430012\tvalid_1's rmse: 0.759818\n",
            "[1050]\ttraining's rmse: 0.390956\tvalid_1's rmse: 0.755506\n",
            "[1200]\ttraining's rmse: 0.357014\tvalid_1's rmse: 0.752198\n",
            "[1350]\ttraining's rmse: 0.326686\tvalid_1's rmse: 0.749426\n",
            "[1500]\ttraining's rmse: 0.300258\tvalid_1's rmse: 0.747811\n",
            "[1650]\ttraining's rmse: 0.27688\tvalid_1's rmse: 0.746338\n",
            "[1800]\ttraining's rmse: 0.255869\tvalid_1's rmse: 0.745151\n",
            "[1950]\ttraining's rmse: 0.236879\tvalid_1's rmse: 0.743787\n",
            "[2100]\ttraining's rmse: 0.219498\tvalid_1's rmse: 0.743191\n",
            "[2250]\ttraining's rmse: 0.203855\tvalid_1's rmse: 0.742569\n",
            "[2400]\ttraining's rmse: 0.189515\tvalid_1's rmse: 0.742107\n",
            "[2550]\ttraining's rmse: 0.176606\tvalid_1's rmse: 0.741642\n",
            "[2700]\ttraining's rmse: 0.164805\tvalid_1's rmse: 0.741355\n",
            "[2850]\ttraining's rmse: 0.154013\tvalid_1's rmse: 0.740855\n",
            "[3000]\ttraining's rmse: 0.144257\tvalid_1's rmse: 0.740504\n",
            "Early stopping, best iteration is:\n",
            "[2993]\ttraining's rmse: 0.144714\tvalid_1's rmse: 0.740472\n",
            "LightGBM Training Completed...\n"
          ]
        }
      ]
    },
    {
      "cell_type": "code",
      "source": [
        "# feature importance\n",
        "print(\"Features Importance...\")\n",
        "gain = model.feature_importance('gain')\n",
        "featureimp = pd.DataFrame({'feature':model.feature_name(), \n",
        "                   'split':model.feature_importance('split'), \n",
        "                   'gain':100 * gain / gain.sum()}).sort_values('gain', ascending=False)\n",
        "print(featureimp[:50])"
      ],
      "metadata": {
        "id": "Vh96TrkXtY1e"
      },
      "execution_count": null,
      "outputs": []
    },
    {
      "cell_type": "code",
      "source": [
        "def run_xgb(X_train, Y_train, X_test, Y_test, X_Kaggle):\n",
        "    params = {'objective': 'reg:linear', \n",
        "          'eval_metric': 'rmse',\n",
        "          'eta': 0.001,\n",
        "          'max_depth': 10, \n",
        "          'subsample': 0.6, \n",
        "          'colsample_bytree': 0.6,\n",
        "          'alpha':0.001,\n",
        "          'random_state': 42, \n",
        "          'silent': True}\n",
        "    tr_data = xgb.DMatrix(X_train, Y_train)\n",
        "    va_data = xgb.DMatrix(X_test, Y_test)\n",
        "    \n",
        "    watchlist = [(tr_data, 'train'), (va_data, 'valid')]\n",
        "    \n",
        "    model_xgb = xgb.train(params, tr_data, 2000, watchlist, maximize=False, early_stopping_rounds = 100, verbose_eval=100)\n",
        "    \n",
        "    dtest = xgb.DMatrix(X_Kaggle)\n",
        "    xgb_pred_Y_Kaggle = model_xgb.predict(dtest, ntree_limit=model_xgb.best_ntree_limit)\n",
        "    \n",
        "    return xgb_pred_Y_Kaggle, model_xgb"
      ],
      "metadata": {
        "id": "zBt2HsJStw5-"
      },
      "execution_count": null,
      "outputs": []
    },
    {
      "cell_type": "code",
      "source": [
        "# Training XGB\n",
        "pred_test_xgb, model_xgb = run_xgb(X_train, Y_train, X_test, Y_test, X_Kaggle)\n",
        "print(\"XGB Training Completed...\")"
      ],
      "metadata": {
        "id": "BgU8bWSFuTJ9"
      },
      "execution_count": null,
      "outputs": []
    },
    {
      "cell_type": "code",
      "source": [
        "cb_model = CatBoostRegressor(iterations=500,\n",
        "                             learning_rate=0.05,\n",
        "                             depth=10,\n",
        "                             eval_metric='RMSE',\n",
        "                             random_seed = 42,\n",
        "                             bagging_temperature = 0.2,\n",
        "                             od_type='Iter',\n",
        "                             metric_period = 50,\n",
        "                             od_wait=20)"
      ],
      "metadata": {
        "id": "tdIU-9vbulFa"
      },
      "execution_count": null,
      "outputs": []
    },
    {
      "cell_type": "code",
      "source": [
        "cb_model.fit(X_train, Y_train,\n",
        "             eval_set=(X_test, Y_test),\n",
        "             use_best_model=True,\n",
        "             verbose=50)"
      ],
      "metadata": {
        "colab": {
          "base_uri": "https://localhost:8080/"
        },
        "id": "OcZyojjJuyol",
        "outputId": "38cbc81b-5a1e-45a0-fe54-69bb5629926f"
      },
      "execution_count": null,
      "outputs": [
        {
          "output_type": "stream",
          "name": "stderr",
          "text": [
            "Warning: Overfitting detector is active, thus evaluation metric is calculated on every iteration. 'metric_period' is ignored for evaluation metric.\n"
          ]
        },
        {
          "output_type": "stream",
          "name": "stdout",
          "text": [
            "0:\tlearn: 1.0555743\ttest: 1.0845497\tbest: 1.0845497 (0)\ttotal: 158ms\tremaining: 1m 18s\n",
            "50:\tlearn: 0.6601371\ttest: 0.8241957\tbest: 0.8241957 (50)\ttotal: 8.12s\tremaining: 1m 11s\n",
            "100:\tlearn: 0.5209055\ttest: 0.7966120\tbest: 0.7966120 (100)\ttotal: 16s\tremaining: 1m 3s\n",
            "150:\tlearn: 0.4289148\ttest: 0.7836066\tbest: 0.7836066 (150)\ttotal: 23.8s\tremaining: 55.1s\n",
            "200:\tlearn: 0.3625971\ttest: 0.7779735\tbest: 0.7778769 (198)\ttotal: 31.5s\tremaining: 46.8s\n",
            "250:\tlearn: 0.3020721\ttest: 0.7738256\tbest: 0.7738243 (249)\ttotal: 39.2s\tremaining: 38.9s\n",
            "Stopped by overfitting detector  (20 iterations wait)\n",
            "\n",
            "bestTest = 0.7734614395\n",
            "bestIteration = 256\n",
            "\n",
            "Shrink model to first 257 iterations.\n"
          ]
        },
        {
          "output_type": "execute_result",
          "data": {
            "text/plain": [
              "<catboost.core.CatBoostRegressor at 0x7f94ccd20750>"
            ]
          },
          "metadata": {},
          "execution_count": 72
        }
      ]
    },
    {
      "cell_type": "code",
      "source": [
        "pred_test_cat= cb_model.predict(X_Kaggle)"
      ],
      "metadata": {
        "id": "fU0bG0-Ju_cN"
      },
      "execution_count": null,
      "outputs": []
    },
    {
      "cell_type": "code",
      "source": [
        "R=pd.DataFrame()\n",
        "R['Id']=data_test['Column1']\n",
        "sub_lgb = pd.DataFrame()\n",
        "sub_lgb[\"target\"] = pred_test\n",
        "\n",
        "sub_xgb = pd.DataFrame()\n",
        "sub_xgb[\"target\"] = pred_test_xgb\n",
        "\n",
        "sub_cat = pd.DataFrame()\n",
        "sub_cat[\"target\"] = pred_test_cat\n",
        "\n",
        "R[\"Target\"] = (sub_lgb[\"target\"] * 0.5 + sub_xgb[\"target\"] * 0.3 + sub_cat[\"target\"] * 0.2)"
      ],
      "metadata": {
        "id": "qsU6IGeMvMj8"
      },
      "execution_count": null,
      "outputs": []
    },
    {
      "cell_type": "code",
      "source": [
        "#We initialize several regression models \n",
        "linear_model = LinearRegression()\n",
        "tree_model = DecisionTreeRegressor(max_depth=100, random_state=0)\n",
        "catboost_model = CatBoostRegressor(loss_function='RMSE',verbose=0,iterations=4500,learning_rate=0.01)\n",
        "xgb_model = xgb.XGBRegressor(eta=0.1,min_child_weight=2,colsample_bytree=1,n_estimators=100,normalize_type='forest') \n",
        "lgb_model = lightgbm.LGBMRegressor(boosting_type='gbdt', num_leaves=10, max_depth=- 4, learning_rate=0.1, n_estimators=350)\n",
        "dummy_model = DummyRegressor()\n",
        "rf_model=RandomForestRegressor(n_estimators=1000,random_state=3,min_samples_leaf=10)"
      ],
      "metadata": {
        "id": "FeCV_3a8cLw7"
      },
      "execution_count": null,
      "outputs": []
    },
    {
      "cell_type": "code",
      "source": [
        "#A function that calculates the RMSE on a part of the data (testing data)\n",
        "def train_and_score(model):\n",
        "    model.fit(X_train, Y_train)\n",
        "    return np.sqrt(metrics.mean_squared_error(Y_test, model.predict(X_test)))"
      ],
      "metadata": {
        "id": "dgu_iaUSLy8B"
      },
      "execution_count": null,
      "outputs": []
    },
    {
      "cell_type": "code",
      "source": [
        "X_train, X_test, Y_train, Y_test = train_test_split(X, Y, test_size=0.1,random_state=0)\n",
        "display(\n",
        "    pd.DataFrame(data=([train_and_score(linear_model)],\n",
        "                       [train_and_score(tree_model)],\n",
        "                       [train_and_score(catboost_model)],\n",
        "                       [train_and_score(xgb_model)],\n",
        "                       [train_and_score(lgb_model)], \n",
        "                       [train_and_score(dummy_model)],\n",
        "                       [train_and_score(rf_model)]\n",
        "                      ),\n",
        "                 columns=['Result RMSE'],\n",
        "                 index=['Linear', 'Tree', 'CatBoost','XGBOOST','LightGBOOST', 'Dummy','Random Forest'])\n",
        ")"
      ],
      "metadata": {
        "id": "EdbSAkIDLy-q",
        "colab": {
          "base_uri": "https://localhost:8080/",
          "height": 286
        },
        "outputId": "cd7c3c40-ba3e-41f7-bbde-2e98a11f61b2"
      },
      "execution_count": null,
      "outputs": [
        {
          "output_type": "stream",
          "name": "stdout",
          "text": [
            "[15:53:38] WARNING: /workspace/src/objective/regression_obj.cu:152: reg:linear is now deprecated in favor of reg:squarederror.\n"
          ]
        },
        {
          "output_type": "display_data",
          "data": {
            "text/html": [
              "\n",
              "  <div id=\"df-70a16380-a3f4-4231-8bb2-14aaa6928ed9\">\n",
              "    <div class=\"colab-df-container\">\n",
              "      <div>\n",
              "<style scoped>\n",
              "    .dataframe tbody tr th:only-of-type {\n",
              "        vertical-align: middle;\n",
              "    }\n",
              "\n",
              "    .dataframe tbody tr th {\n",
              "        vertical-align: top;\n",
              "    }\n",
              "\n",
              "    .dataframe thead th {\n",
              "        text-align: right;\n",
              "    }\n",
              "</style>\n",
              "<table border=\"1\" class=\"dataframe\">\n",
              "  <thead>\n",
              "    <tr style=\"text-align: right;\">\n",
              "      <th></th>\n",
              "      <th>Result RMSE</th>\n",
              "    </tr>\n",
              "  </thead>\n",
              "  <tbody>\n",
              "    <tr>\n",
              "      <th>Linear</th>\n",
              "      <td>0.833271</td>\n",
              "    </tr>\n",
              "    <tr>\n",
              "      <th>Tree</th>\n",
              "      <td>1.131641</td>\n",
              "    </tr>\n",
              "    <tr>\n",
              "      <th>CatBoost</th>\n",
              "      <td>0.777127</td>\n",
              "    </tr>\n",
              "    <tr>\n",
              "      <th>XGBOOST</th>\n",
              "      <td>0.799755</td>\n",
              "    </tr>\n",
              "    <tr>\n",
              "      <th>LightGBOOST</th>\n",
              "      <td>0.827176</td>\n",
              "    </tr>\n",
              "    <tr>\n",
              "      <th>Dummy</th>\n",
              "      <td>1.133465</td>\n",
              "    </tr>\n",
              "    <tr>\n",
              "      <th>Random Forest</th>\n",
              "      <td>0.798486</td>\n",
              "    </tr>\n",
              "  </tbody>\n",
              "</table>\n",
              "</div>\n",
              "      <button class=\"colab-df-convert\" onclick=\"convertToInteractive('df-70a16380-a3f4-4231-8bb2-14aaa6928ed9')\"\n",
              "              title=\"Convert this dataframe to an interactive table.\"\n",
              "              style=\"display:none;\">\n",
              "        \n",
              "  <svg xmlns=\"http://www.w3.org/2000/svg\" height=\"24px\"viewBox=\"0 0 24 24\"\n",
              "       width=\"24px\">\n",
              "    <path d=\"M0 0h24v24H0V0z\" fill=\"none\"/>\n",
              "    <path d=\"M18.56 5.44l.94 2.06.94-2.06 2.06-.94-2.06-.94-.94-2.06-.94 2.06-2.06.94zm-11 1L8.5 8.5l.94-2.06 2.06-.94-2.06-.94L8.5 2.5l-.94 2.06-2.06.94zm10 10l.94 2.06.94-2.06 2.06-.94-2.06-.94-.94-2.06-.94 2.06-2.06.94z\"/><path d=\"M17.41 7.96l-1.37-1.37c-.4-.4-.92-.59-1.43-.59-.52 0-1.04.2-1.43.59L10.3 9.45l-7.72 7.72c-.78.78-.78 2.05 0 2.83L4 21.41c.39.39.9.59 1.41.59.51 0 1.02-.2 1.41-.59l7.78-7.78 2.81-2.81c.8-.78.8-2.07 0-2.86zM5.41 20L4 18.59l7.72-7.72 1.47 1.35L5.41 20z\"/>\n",
              "  </svg>\n",
              "      </button>\n",
              "      \n",
              "  <style>\n",
              "    .colab-df-container {\n",
              "      display:flex;\n",
              "      flex-wrap:wrap;\n",
              "      gap: 12px;\n",
              "    }\n",
              "\n",
              "    .colab-df-convert {\n",
              "      background-color: #E8F0FE;\n",
              "      border: none;\n",
              "      border-radius: 50%;\n",
              "      cursor: pointer;\n",
              "      display: none;\n",
              "      fill: #1967D2;\n",
              "      height: 32px;\n",
              "      padding: 0 0 0 0;\n",
              "      width: 32px;\n",
              "    }\n",
              "\n",
              "    .colab-df-convert:hover {\n",
              "      background-color: #E2EBFA;\n",
              "      box-shadow: 0px 1px 2px rgba(60, 64, 67, 0.3), 0px 1px 3px 1px rgba(60, 64, 67, 0.15);\n",
              "      fill: #174EA6;\n",
              "    }\n",
              "\n",
              "    [theme=dark] .colab-df-convert {\n",
              "      background-color: #3B4455;\n",
              "      fill: #D2E3FC;\n",
              "    }\n",
              "\n",
              "    [theme=dark] .colab-df-convert:hover {\n",
              "      background-color: #434B5C;\n",
              "      box-shadow: 0px 1px 3px 1px rgba(0, 0, 0, 0.15);\n",
              "      filter: drop-shadow(0px 1px 2px rgba(0, 0, 0, 0.3));\n",
              "      fill: #FFFFFF;\n",
              "    }\n",
              "  </style>\n",
              "\n",
              "      <script>\n",
              "        const buttonEl =\n",
              "          document.querySelector('#df-70a16380-a3f4-4231-8bb2-14aaa6928ed9 button.colab-df-convert');\n",
              "        buttonEl.style.display =\n",
              "          google.colab.kernel.accessAllowed ? 'block' : 'none';\n",
              "\n",
              "        async function convertToInteractive(key) {\n",
              "          const element = document.querySelector('#df-70a16380-a3f4-4231-8bb2-14aaa6928ed9');\n",
              "          const dataTable =\n",
              "            await google.colab.kernel.invokeFunction('convertToInteractive',\n",
              "                                                     [key], {});\n",
              "          if (!dataTable) return;\n",
              "\n",
              "          const docLinkHtml = 'Like what you see? Visit the ' +\n",
              "            '<a target=\"_blank\" href=https://colab.research.google.com/notebooks/data_table.ipynb>data table notebook</a>'\n",
              "            + ' to learn more about interactive tables.';\n",
              "          element.innerHTML = '';\n",
              "          dataTable['output_type'] = 'display_data';\n",
              "          await google.colab.output.renderOutput(dataTable, element);\n",
              "          const docLink = document.createElement('div');\n",
              "          docLink.innerHTML = docLinkHtml;\n",
              "          element.appendChild(docLink);\n",
              "        }\n",
              "      </script>\n",
              "    </div>\n",
              "  </div>\n",
              "  "
            ],
            "text/plain": [
              "               Result RMSE\n",
              "Linear            0.833271\n",
              "Tree              1.131641\n",
              "CatBoost          0.777127\n",
              "XGBOOST           0.799755\n",
              "LightGBOOST       0.827176\n",
              "Dummy             1.133465\n",
              "Random Forest     0.798486"
            ]
          },
          "metadata": {}
        }
      ]
    },
    {
      "cell_type": "code",
      "source": [
        "from sklearn.model_selection import RandomizedSearchCV\n",
        "# Number of trees in random forest\n",
        "n_estimators = [int(x) for x in np.linspace(start = 200, stop = 2000, num = 10)]\n",
        "# Number of features to consider at every split\n",
        "max_features = ['auto', 'sqrt']\n",
        "# Maximum number of levels in tree\n",
        "max_depth = [int(x) for x in np.linspace(10, 110, num = 11)]\n",
        "max_depth.append(None)\n",
        "# Minimum number of samples required to split a node\n",
        "min_samples_split = [2, 5, 10]\n",
        "# Minimum number of samples required at each leaf node\n",
        "min_samples_leaf = [1, 2, 4]\n",
        "# Method of selecting samples for training each tree\n",
        "bootstrap = [True, False]\n",
        "# Create the random grid\n",
        "random_grid = {'n_estimators': n_estimators,\n",
        "               'max_features': max_features,\n",
        "               'max_depth': max_depth,\n",
        "               'min_samples_split': min_samples_split,\n",
        "               'min_samples_leaf': min_samples_leaf,\n",
        "               'bootstrap': bootstrap}"
      ],
      "metadata": {
        "id": "XKU6cgEpyZkh"
      },
      "execution_count": null,
      "outputs": []
    },
    {
      "cell_type": "code",
      "source": [
        "# Use the random grid to search for best hyperparameters\n",
        "# First create the base model to tune\n",
        "rf = RandomForestRegressor()\n",
        "# Random search of parameters, using 3 fold cross validation, \n",
        "# search across 100 different combinations, and use all available cores\n",
        "rf_random = RandomizedSearchCV(estimator = rf, param_distributions = random_grid, n_iter = 100, cv = 3, verbose=2, random_state=42, n_jobs = -1)\n",
        "# Fit the random search model\n",
        "rf_random.fit(X, Y)"
      ],
      "metadata": {
        "colab": {
          "base_uri": "https://localhost:8080/"
        },
        "id": "unVQPmT2yjD8",
        "outputId": "4b9fa857-cc13-417e-8ae9-1baf990da3d3"
      },
      "execution_count": null,
      "outputs": [
        {
          "output_type": "stream",
          "name": "stdout",
          "text": [
            "Fitting 3 folds for each of 100 candidates, totalling 300 fits\n"
          ]
        }
      ]
    },
    {
      "cell_type": "code",
      "source": [
        "rf_random.best_params_"
      ],
      "metadata": {
        "id": "XLSRGim2zV8w"
      },
      "execution_count": null,
      "outputs": []
    },
    {
      "cell_type": "code",
      "source": [
        "xgbr = xgb.XGBRegressor(eta=0.1,min_child_weight=2,colsample_bytree=1,n_estimators=350,alpha=0.1) \n",
        "print(xgbr)"
      ],
      "metadata": {
        "id": "QA8ELmHhO2Ek",
        "colab": {
          "base_uri": "https://localhost:8080/"
        },
        "outputId": "f7ab670d-f502-443c-ca63-578fb0db27ef"
      },
      "execution_count": null,
      "outputs": [
        {
          "output_type": "stream",
          "name": "stdout",
          "text": [
            "XGBRegressor(eta=0.1, min_child_weight=2, n_estimators=350)\n"
          ]
        }
      ]
    },
    {
      "cell_type": "code",
      "source": [
        "xgb_model.fit(X,Y)\n",
        "Y_Kaggle= xgb_model.predict(X_Kaggle)"
      ],
      "metadata": {
        "id": "0xJMuj8wO670",
        "colab": {
          "base_uri": "https://localhost:8080/"
        },
        "outputId": "5f4832ae-a05e-4306-a51d-4e7f3863d226"
      },
      "execution_count": null,
      "outputs": [
        {
          "output_type": "stream",
          "name": "stdout",
          "text": [
            "[01:22:52] WARNING: /workspace/src/objective/regression_obj.cu:152: reg:linear is now deprecated in favor of reg:squarederror.\n"
          ]
        }
      ]
    },
    {
      "cell_type": "code",
      "source": [
        "sub_lgb = pd.DataFrame()\n",
        "sub_lgb[\"target\"] = pred_test\n",
        "\n",
        "sub_xgb = pd.DataFrame()\n",
        "sub_xgb[\"target\"] = pred_test_xgb\n",
        "\n",
        "sub_cat = pd.DataFrame()\n",
        "sub_cat[\"target\"] = pred_test_cat"
      ],
      "metadata": {
        "id": "GqaSE2Kaxdeo"
      },
      "execution_count": null,
      "outputs": []
    },
    {
      "cell_type": "code",
      "source": [
        "R=pd.DataFrame()\n",
        "R['Id']=data_test['Column1']\n",
        "R['Target']=pred_test"
      ],
      "metadata": {
        "id": "AsZ-IaoOcWXT"
      },
      "execution_count": null,
      "outputs": []
    },
    {
      "cell_type": "code",
      "source": [
        "R=R.sort_values(by=['Id'])\n",
        "R['Id']=R['Id'].astype(int)"
      ],
      "metadata": {
        "id": "KdGhOoSXcbpC"
      },
      "execution_count": null,
      "outputs": []
    },
    {
      "cell_type": "code",
      "source": [
        "\n",
        "print(statistics.mean(data['Target']))\n",
        "print(min(data['Target']))\n",
        "print(max(data['Target']))\n",
        "print(statistics.stdev(data['Target']))"
      ],
      "metadata": {
        "id": "WHwL9geYceZk",
        "colab": {
          "base_uri": "https://localhost:8080/"
        },
        "outputId": "b500fb12-0c2f-4db5-94f8-f7f2eaf137dd"
      },
      "execution_count": null,
      "outputs": [
        {
          "output_type": "stream",
          "name": "stdout",
          "text": [
            "2.8031059160305345\n",
            "0.64\n",
            "6.89\n",
            "1.0795889079905152\n"
          ]
        }
      ]
    },
    {
      "cell_type": "code",
      "source": [
        "print(2.827311918014238)\n",
        "print(1.069901704788208)\n",
        "print(5.231398582458496)\n",
        "print(0.8468073288586955)"
      ],
      "metadata": {
        "id": "Z0VzTo5zchKG",
        "colab": {
          "base_uri": "https://localhost:8080/"
        },
        "outputId": "b2694e6d-7a8c-4ab4-899a-dc05f61119fb"
      },
      "execution_count": null,
      "outputs": [
        {
          "output_type": "stream",
          "name": "stdout",
          "text": [
            "2.827311918014238\n",
            "1.069901704788208\n",
            "5.231398582458496\n",
            "0.8468073288586955\n"
          ]
        }
      ]
    },
    {
      "cell_type": "code",
      "source": [
        "print(statistics.mean(R['Target']))\n",
        "print(min(R['Target']))\n",
        "print(max(R['Target']))\n",
        "print(statistics.stdev(R['Target']))"
      ],
      "metadata": {
        "id": "ZaTl9pOyXAX1",
        "colab": {
          "base_uri": "https://localhost:8080/"
        },
        "outputId": "d8f557c1-0f66-4aaa-8d6f-5034b0261f67"
      },
      "execution_count": null,
      "outputs": [
        {
          "output_type": "stream",
          "name": "stdout",
          "text": [
            "2.7010894863790043\n",
            "1.5555030335447309\n",
            "4.611429096752848\n",
            "0.7383838245439643\n"
          ]
        }
      ]
    },
    {
      "cell_type": "code",
      "source": [
        "R.to_csv(\"/content/Classeur).csv\",index=False)"
      ],
      "metadata": {
        "id": "Oh-FUG5XcogZ"
      },
      "execution_count": null,
      "outputs": []
    }
  ]
}