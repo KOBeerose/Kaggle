{
 "cells": [
  {
   "cell_type": "markdown",
   "metadata": {
    "_cell_guid": "b1076dfc-b9ad-4769-8c92-a6c4dae69d19",
    "_uuid": "8f2839f25d086af736a60e9eeb907d3b93b6e0e5",
    "execution": {
     "iopub.execute_input": "2021-09-25T16:04:33.150882Z",
     "iopub.status.busy": "2021-09-25T16:04:33.150507Z",
     "iopub.status.idle": "2021-09-25T16:04:33.15925Z",
     "shell.execute_reply": "2021-09-25T16:04:33.157606Z",
     "shell.execute_reply.started": "2021-09-25T16:04:33.150842Z"
    }
   },
   "source": [
    "<h2 style=\"font-weight: bold\">Titanic Competition</h2>\n",
    "\n",
    "<h4>This is my first published notebook ever, So yeah it can't be about something other than the Titanic Competition 😄<br><br>I will be doing a simple then advanced EDA, Data Visualization and Pre-Processing. I also will test different models and techniques to improve my score.<br></h4>\n",
    "\n",
    "* <h5 style=\"font-weight: 700\">Your feedback is very welcome</h5>\n",
    "* <h5 style=\"font-weight: 700\">If you find this notebook useful, please don't forget to upvote it!</h5>\n"
   ]
  },
  {
   "cell_type": "code",
   "execution_count": 1,
   "metadata": {
    "execution": {
     "iopub.execute_input": "2021-09-25T21:38:41.336967Z",
     "iopub.status.busy": "2021-09-25T21:38:41.33615Z",
     "iopub.status.idle": "2021-09-25T21:38:41.770773Z",
     "shell.execute_reply": "2021-09-25T21:38:41.769881Z",
     "shell.execute_reply.started": "2021-09-25T21:38:41.336825Z"
    }
   },
   "outputs": [],
   "source": [
    "# Required packages\n",
    "import pandas as pd\n",
    "import numpy as np\n",
    "import seaborn as sns\n",
    "import matplotlib.pyplot as plt\n",
    "from sklearn.linear_model import LogisticRegression"
   ]
  },
  {
   "cell_type": "code",
   "execution_count": 2,
   "metadata": {
    "execution": {
     "iopub.execute_input": "2021-09-25T21:38:41.772359Z",
     "iopub.status.busy": "2021-09-25T21:38:41.772089Z",
     "iopub.status.idle": "2021-09-25T21:38:41.789664Z",
     "shell.execute_reply": "2021-09-25T21:38:41.7888Z",
     "shell.execute_reply.started": "2021-09-25T21:38:41.772318Z"
    }
   },
   "outputs": [],
   "source": [
    "train = pd.read_csv('../input/titanic/train.csv')\n",
    "test = pd.read_csv('../input/titanic/test.csv')"
   ]
  },
  {
   "cell_type": "code",
   "execution_count": 3,
   "metadata": {
    "execution": {
     "iopub.execute_input": "2021-09-25T21:38:41.7912Z",
     "iopub.status.busy": "2021-09-25T21:38:41.790948Z",
     "iopub.status.idle": "2021-09-25T21:38:41.815016Z",
     "shell.execute_reply": "2021-09-25T21:38:41.813986Z",
     "shell.execute_reply.started": "2021-09-25T21:38:41.79117Z"
    }
   },
   "outputs": [
    {
     "data": {
      "text/html": [
       "<div>\n",
       "<style scoped>\n",
       "    .dataframe tbody tr th:only-of-type {\n",
       "        vertical-align: middle;\n",
       "    }\n",
       "\n",
       "    .dataframe tbody tr th {\n",
       "        vertical-align: top;\n",
       "    }\n",
       "\n",
       "    .dataframe thead th {\n",
       "        text-align: right;\n",
       "    }\n",
       "</style>\n",
       "<table border=\"1\" class=\"dataframe\">\n",
       "  <thead>\n",
       "    <tr style=\"text-align: right;\">\n",
       "      <th></th>\n",
       "      <th>PassengerId</th>\n",
       "      <th>Survived</th>\n",
       "      <th>Pclass</th>\n",
       "      <th>Name</th>\n",
       "      <th>Sex</th>\n",
       "      <th>Age</th>\n",
       "      <th>SibSp</th>\n",
       "      <th>Parch</th>\n",
       "      <th>Ticket</th>\n",
       "      <th>Fare</th>\n",
       "      <th>Cabin</th>\n",
       "      <th>Embarked</th>\n",
       "    </tr>\n",
       "  </thead>\n",
       "  <tbody>\n",
       "    <tr>\n",
       "      <th>0</th>\n",
       "      <td>1</td>\n",
       "      <td>0</td>\n",
       "      <td>3</td>\n",
       "      <td>Braund, Mr. Owen Harris</td>\n",
       "      <td>male</td>\n",
       "      <td>22.0</td>\n",
       "      <td>1</td>\n",
       "      <td>0</td>\n",
       "      <td>A/5 21171</td>\n",
       "      <td>7.2500</td>\n",
       "      <td>NaN</td>\n",
       "      <td>S</td>\n",
       "    </tr>\n",
       "    <tr>\n",
       "      <th>1</th>\n",
       "      <td>2</td>\n",
       "      <td>1</td>\n",
       "      <td>1</td>\n",
       "      <td>Cumings, Mrs. John Bradley (Florence Briggs Th...</td>\n",
       "      <td>female</td>\n",
       "      <td>38.0</td>\n",
       "      <td>1</td>\n",
       "      <td>0</td>\n",
       "      <td>PC 17599</td>\n",
       "      <td>71.2833</td>\n",
       "      <td>C85</td>\n",
       "      <td>C</td>\n",
       "    </tr>\n",
       "    <tr>\n",
       "      <th>2</th>\n",
       "      <td>3</td>\n",
       "      <td>1</td>\n",
       "      <td>3</td>\n",
       "      <td>Heikkinen, Miss. Laina</td>\n",
       "      <td>female</td>\n",
       "      <td>26.0</td>\n",
       "      <td>0</td>\n",
       "      <td>0</td>\n",
       "      <td>STON/O2. 3101282</td>\n",
       "      <td>7.9250</td>\n",
       "      <td>NaN</td>\n",
       "      <td>S</td>\n",
       "    </tr>\n",
       "    <tr>\n",
       "      <th>3</th>\n",
       "      <td>4</td>\n",
       "      <td>1</td>\n",
       "      <td>1</td>\n",
       "      <td>Futrelle, Mrs. Jacques Heath (Lily May Peel)</td>\n",
       "      <td>female</td>\n",
       "      <td>35.0</td>\n",
       "      <td>1</td>\n",
       "      <td>0</td>\n",
       "      <td>113803</td>\n",
       "      <td>53.1000</td>\n",
       "      <td>C123</td>\n",
       "      <td>S</td>\n",
       "    </tr>\n",
       "    <tr>\n",
       "      <th>4</th>\n",
       "      <td>5</td>\n",
       "      <td>0</td>\n",
       "      <td>3</td>\n",
       "      <td>Allen, Mr. William Henry</td>\n",
       "      <td>male</td>\n",
       "      <td>35.0</td>\n",
       "      <td>0</td>\n",
       "      <td>0</td>\n",
       "      <td>373450</td>\n",
       "      <td>8.0500</td>\n",
       "      <td>NaN</td>\n",
       "      <td>S</td>\n",
       "    </tr>\n",
       "  </tbody>\n",
       "</table>\n",
       "</div>"
      ],
      "text/plain": [
       "   PassengerId  Survived  Pclass  \\\n",
       "0            1         0       3   \n",
       "1            2         1       1   \n",
       "2            3         1       3   \n",
       "3            4         1       1   \n",
       "4            5         0       3   \n",
       "\n",
       "                                                Name     Sex   Age  SibSp  \\\n",
       "0                            Braund, Mr. Owen Harris    male  22.0      1   \n",
       "1  Cumings, Mrs. John Bradley (Florence Briggs Th...  female  38.0      1   \n",
       "2                             Heikkinen, Miss. Laina  female  26.0      0   \n",
       "3       Futrelle, Mrs. Jacques Heath (Lily May Peel)  female  35.0      1   \n",
       "4                           Allen, Mr. William Henry    male  35.0      0   \n",
       "\n",
       "   Parch            Ticket     Fare Cabin Embarked  \n",
       "0      0         A/5 21171   7.2500   NaN        S  \n",
       "1      0          PC 17599  71.2833   C85        C  \n",
       "2      0  STON/O2. 3101282   7.9250   NaN        S  \n",
       "3      0            113803  53.1000  C123        S  \n",
       "4      0            373450   8.0500   NaN        S  "
      ]
     },
     "execution_count": 3,
     "metadata": {},
     "output_type": "execute_result"
    }
   ],
   "source": [
    "train.head()"
   ]
  },
  {
   "cell_type": "markdown",
   "metadata": {},
   "source": [
    "#  **Exploratory Data Analysis**"
   ]
  },
  {
   "cell_type": "code",
   "execution_count": 4,
   "metadata": {
    "execution": {
     "iopub.execute_input": "2021-09-25T21:38:41.81783Z",
     "iopub.status.busy": "2021-09-25T21:38:41.817534Z",
     "iopub.status.idle": "2021-09-25T21:38:41.824505Z",
     "shell.execute_reply": "2021-09-25T21:38:41.823305Z",
     "shell.execute_reply.started": "2021-09-25T21:38:41.81779Z"
    }
   },
   "outputs": [
    {
     "name": "stdout",
     "output_type": "stream",
     "text": [
      "(891, 12)\n",
      "(418, 11)\n"
     ]
    }
   ],
   "source": [
    "# Getting to know data\n",
    "print(train.shape)\n",
    "print(test.shape)"
   ]
  },
  {
   "cell_type": "code",
   "execution_count": 5,
   "metadata": {
    "execution": {
     "iopub.execute_input": "2021-09-25T21:38:41.826289Z",
     "iopub.status.busy": "2021-09-25T21:38:41.826034Z",
     "iopub.status.idle": "2021-09-25T21:38:41.866057Z",
     "shell.execute_reply": "2021-09-25T21:38:41.865271Z",
     "shell.execute_reply.started": "2021-09-25T21:38:41.826262Z"
    }
   },
   "outputs": [
    {
     "data": {
      "text/html": [
       "<div>\n",
       "<style scoped>\n",
       "    .dataframe tbody tr th:only-of-type {\n",
       "        vertical-align: middle;\n",
       "    }\n",
       "\n",
       "    .dataframe tbody tr th {\n",
       "        vertical-align: top;\n",
       "    }\n",
       "\n",
       "    .dataframe thead th {\n",
       "        text-align: right;\n",
       "    }\n",
       "</style>\n",
       "<table border=\"1\" class=\"dataframe\">\n",
       "  <thead>\n",
       "    <tr style=\"text-align: right;\">\n",
       "      <th></th>\n",
       "      <th>PassengerId</th>\n",
       "      <th>Survived</th>\n",
       "      <th>Pclass</th>\n",
       "      <th>Age</th>\n",
       "      <th>SibSp</th>\n",
       "      <th>Parch</th>\n",
       "      <th>Fare</th>\n",
       "    </tr>\n",
       "  </thead>\n",
       "  <tbody>\n",
       "    <tr>\n",
       "      <th>count</th>\n",
       "      <td>891.000000</td>\n",
       "      <td>891.000000</td>\n",
       "      <td>891.000000</td>\n",
       "      <td>714.000000</td>\n",
       "      <td>891.000000</td>\n",
       "      <td>891.000000</td>\n",
       "      <td>891.000000</td>\n",
       "    </tr>\n",
       "    <tr>\n",
       "      <th>mean</th>\n",
       "      <td>446.000000</td>\n",
       "      <td>0.383838</td>\n",
       "      <td>2.308642</td>\n",
       "      <td>29.699118</td>\n",
       "      <td>0.523008</td>\n",
       "      <td>0.381594</td>\n",
       "      <td>32.204208</td>\n",
       "    </tr>\n",
       "    <tr>\n",
       "      <th>std</th>\n",
       "      <td>257.353842</td>\n",
       "      <td>0.486592</td>\n",
       "      <td>0.836071</td>\n",
       "      <td>14.526497</td>\n",
       "      <td>1.102743</td>\n",
       "      <td>0.806057</td>\n",
       "      <td>49.693429</td>\n",
       "    </tr>\n",
       "    <tr>\n",
       "      <th>min</th>\n",
       "      <td>1.000000</td>\n",
       "      <td>0.000000</td>\n",
       "      <td>1.000000</td>\n",
       "      <td>0.420000</td>\n",
       "      <td>0.000000</td>\n",
       "      <td>0.000000</td>\n",
       "      <td>0.000000</td>\n",
       "    </tr>\n",
       "    <tr>\n",
       "      <th>25%</th>\n",
       "      <td>223.500000</td>\n",
       "      <td>0.000000</td>\n",
       "      <td>2.000000</td>\n",
       "      <td>20.125000</td>\n",
       "      <td>0.000000</td>\n",
       "      <td>0.000000</td>\n",
       "      <td>7.910400</td>\n",
       "    </tr>\n",
       "    <tr>\n",
       "      <th>50%</th>\n",
       "      <td>446.000000</td>\n",
       "      <td>0.000000</td>\n",
       "      <td>3.000000</td>\n",
       "      <td>28.000000</td>\n",
       "      <td>0.000000</td>\n",
       "      <td>0.000000</td>\n",
       "      <td>14.454200</td>\n",
       "    </tr>\n",
       "    <tr>\n",
       "      <th>75%</th>\n",
       "      <td>668.500000</td>\n",
       "      <td>1.000000</td>\n",
       "      <td>3.000000</td>\n",
       "      <td>38.000000</td>\n",
       "      <td>1.000000</td>\n",
       "      <td>0.000000</td>\n",
       "      <td>31.000000</td>\n",
       "    </tr>\n",
       "    <tr>\n",
       "      <th>max</th>\n",
       "      <td>891.000000</td>\n",
       "      <td>1.000000</td>\n",
       "      <td>3.000000</td>\n",
       "      <td>80.000000</td>\n",
       "      <td>8.000000</td>\n",
       "      <td>6.000000</td>\n",
       "      <td>512.329200</td>\n",
       "    </tr>\n",
       "  </tbody>\n",
       "</table>\n",
       "</div>"
      ],
      "text/plain": [
       "       PassengerId    Survived      Pclass         Age       SibSp  \\\n",
       "count   891.000000  891.000000  891.000000  714.000000  891.000000   \n",
       "mean    446.000000    0.383838    2.308642   29.699118    0.523008   \n",
       "std     257.353842    0.486592    0.836071   14.526497    1.102743   \n",
       "min       1.000000    0.000000    1.000000    0.420000    0.000000   \n",
       "25%     223.500000    0.000000    2.000000   20.125000    0.000000   \n",
       "50%     446.000000    0.000000    3.000000   28.000000    0.000000   \n",
       "75%     668.500000    1.000000    3.000000   38.000000    1.000000   \n",
       "max     891.000000    1.000000    3.000000   80.000000    8.000000   \n",
       "\n",
       "            Parch        Fare  \n",
       "count  891.000000  891.000000  \n",
       "mean     0.381594   32.204208  \n",
       "std      0.806057   49.693429  \n",
       "min      0.000000    0.000000  \n",
       "25%      0.000000    7.910400  \n",
       "50%      0.000000   14.454200  \n",
       "75%      0.000000   31.000000  \n",
       "max      6.000000  512.329200  "
      ]
     },
     "execution_count": 5,
     "metadata": {},
     "output_type": "execute_result"
    }
   ],
   "source": [
    "# summary of numerical variable\n",
    "train.describe()"
   ]
  },
  {
   "cell_type": "code",
   "execution_count": 6,
   "metadata": {
    "execution": {
     "iopub.execute_input": "2021-09-25T21:38:41.867839Z",
     "iopub.status.busy": "2021-09-25T21:38:41.867595Z",
     "iopub.status.idle": "2021-09-25T21:38:41.90653Z",
     "shell.execute_reply": "2021-09-25T21:38:41.905545Z",
     "shell.execute_reply.started": "2021-09-25T21:38:41.867811Z"
    }
   },
   "outputs": [
    {
     "data": {
      "text/html": [
       "<div>\n",
       "<style scoped>\n",
       "    .dataframe tbody tr th:only-of-type {\n",
       "        vertical-align: middle;\n",
       "    }\n",
       "\n",
       "    .dataframe tbody tr th {\n",
       "        vertical-align: top;\n",
       "    }\n",
       "\n",
       "    .dataframe thead th {\n",
       "        text-align: right;\n",
       "    }\n",
       "</style>\n",
       "<table border=\"1\" class=\"dataframe\">\n",
       "  <thead>\n",
       "    <tr style=\"text-align: right;\">\n",
       "      <th></th>\n",
       "      <th>PassengerId</th>\n",
       "      <th>Survived</th>\n",
       "      <th>Pclass</th>\n",
       "      <th>Age</th>\n",
       "      <th>SibSp</th>\n",
       "      <th>Parch</th>\n",
       "      <th>Fare</th>\n",
       "    </tr>\n",
       "  </thead>\n",
       "  <tbody>\n",
       "    <tr>\n",
       "      <th>count</th>\n",
       "      <td>891.000000</td>\n",
       "      <td>891.000000</td>\n",
       "      <td>891.000000</td>\n",
       "      <td>714.000000</td>\n",
       "      <td>891.000000</td>\n",
       "      <td>891.000000</td>\n",
       "      <td>891.000000</td>\n",
       "    </tr>\n",
       "    <tr>\n",
       "      <th>mean</th>\n",
       "      <td>446.000000</td>\n",
       "      <td>0.383838</td>\n",
       "      <td>2.308642</td>\n",
       "      <td>29.699118</td>\n",
       "      <td>0.523008</td>\n",
       "      <td>0.381594</td>\n",
       "      <td>32.204208</td>\n",
       "    </tr>\n",
       "    <tr>\n",
       "      <th>std</th>\n",
       "      <td>257.353842</td>\n",
       "      <td>0.486592</td>\n",
       "      <td>0.836071</td>\n",
       "      <td>14.526497</td>\n",
       "      <td>1.102743</td>\n",
       "      <td>0.806057</td>\n",
       "      <td>49.693429</td>\n",
       "    </tr>\n",
       "    <tr>\n",
       "      <th>min</th>\n",
       "      <td>1.000000</td>\n",
       "      <td>0.000000</td>\n",
       "      <td>1.000000</td>\n",
       "      <td>0.420000</td>\n",
       "      <td>0.000000</td>\n",
       "      <td>0.000000</td>\n",
       "      <td>0.000000</td>\n",
       "    </tr>\n",
       "    <tr>\n",
       "      <th>25%</th>\n",
       "      <td>223.500000</td>\n",
       "      <td>0.000000</td>\n",
       "      <td>2.000000</td>\n",
       "      <td>20.125000</td>\n",
       "      <td>0.000000</td>\n",
       "      <td>0.000000</td>\n",
       "      <td>7.910400</td>\n",
       "    </tr>\n",
       "    <tr>\n",
       "      <th>50%</th>\n",
       "      <td>446.000000</td>\n",
       "      <td>0.000000</td>\n",
       "      <td>3.000000</td>\n",
       "      <td>28.000000</td>\n",
       "      <td>0.000000</td>\n",
       "      <td>0.000000</td>\n",
       "      <td>14.454200</td>\n",
       "    </tr>\n",
       "    <tr>\n",
       "      <th>75%</th>\n",
       "      <td>668.500000</td>\n",
       "      <td>1.000000</td>\n",
       "      <td>3.000000</td>\n",
       "      <td>38.000000</td>\n",
       "      <td>1.000000</td>\n",
       "      <td>0.000000</td>\n",
       "      <td>31.000000</td>\n",
       "    </tr>\n",
       "    <tr>\n",
       "      <th>max</th>\n",
       "      <td>891.000000</td>\n",
       "      <td>1.000000</td>\n",
       "      <td>3.000000</td>\n",
       "      <td>80.000000</td>\n",
       "      <td>8.000000</td>\n",
       "      <td>6.000000</td>\n",
       "      <td>512.329200</td>\n",
       "    </tr>\n",
       "  </tbody>\n",
       "</table>\n",
       "</div>"
      ],
      "text/plain": [
       "       PassengerId    Survived      Pclass         Age       SibSp  \\\n",
       "count   891.000000  891.000000  891.000000  714.000000  891.000000   \n",
       "mean    446.000000    0.383838    2.308642   29.699118    0.523008   \n",
       "std     257.353842    0.486592    0.836071   14.526497    1.102743   \n",
       "min       1.000000    0.000000    1.000000    0.420000    0.000000   \n",
       "25%     223.500000    0.000000    2.000000   20.125000    0.000000   \n",
       "50%     446.000000    0.000000    3.000000   28.000000    0.000000   \n",
       "75%     668.500000    1.000000    3.000000   38.000000    1.000000   \n",
       "max     891.000000    1.000000    3.000000   80.000000    8.000000   \n",
       "\n",
       "            Parch        Fare  \n",
       "count  891.000000  891.000000  \n",
       "mean     0.381594   32.204208  \n",
       "std      0.806057   49.693429  \n",
       "min      0.000000    0.000000  \n",
       "25%      0.000000    7.910400  \n",
       "50%      0.000000   14.454200  \n",
       "75%      0.000000   31.000000  \n",
       "max      6.000000  512.329200  "
      ]
     },
     "execution_count": 6,
     "metadata": {},
     "output_type": "execute_result"
    }
   ],
   "source": [
    "train.describe()"
   ]
  },
  {
   "cell_type": "code",
   "execution_count": 7,
   "metadata": {
    "execution": {
     "iopub.execute_input": "2021-09-25T21:38:41.908231Z",
     "iopub.status.busy": "2021-09-25T21:38:41.907967Z",
     "iopub.status.idle": "2021-09-25T21:38:41.924196Z",
     "shell.execute_reply": "2021-09-25T21:38:41.92308Z",
     "shell.execute_reply.started": "2021-09-25T21:38:41.9082Z"
    }
   },
   "outputs": [
    {
     "name": "stdout",
     "output_type": "stream",
     "text": [
      "<class 'pandas.core.frame.DataFrame'>\n",
      "RangeIndex: 891 entries, 0 to 890\n",
      "Data columns (total 12 columns):\n",
      " #   Column       Non-Null Count  Dtype  \n",
      "---  ------       --------------  -----  \n",
      " 0   PassengerId  891 non-null    int64  \n",
      " 1   Survived     891 non-null    int64  \n",
      " 2   Pclass       891 non-null    int64  \n",
      " 3   Name         891 non-null    object \n",
      " 4   Sex          891 non-null    object \n",
      " 5   Age          714 non-null    float64\n",
      " 6   SibSp        891 non-null    int64  \n",
      " 7   Parch        891 non-null    int64  \n",
      " 8   Ticket       891 non-null    object \n",
      " 9   Fare         891 non-null    float64\n",
      " 10  Cabin        204 non-null    object \n",
      " 11  Embarked     889 non-null    object \n",
      "dtypes: float64(2), int64(5), object(5)\n",
      "memory usage: 83.7+ KB\n"
     ]
    }
   ],
   "source": [
    "# summary of categorial variable\n",
    "train.info()"
   ]
  },
  {
   "cell_type": "code",
   "execution_count": 8,
   "metadata": {
    "execution": {
     "iopub.execute_input": "2021-09-25T21:38:41.926343Z",
     "iopub.status.busy": "2021-09-25T21:38:41.92558Z",
     "iopub.status.idle": "2021-09-25T21:38:41.943294Z",
     "shell.execute_reply": "2021-09-25T21:38:41.942271Z",
     "shell.execute_reply.started": "2021-09-25T21:38:41.926304Z"
    }
   },
   "outputs": [
    {
     "name": "stdout",
     "output_type": "stream",
     "text": [
      "<class 'pandas.core.frame.DataFrame'>\n",
      "RangeIndex: 418 entries, 0 to 417\n",
      "Data columns (total 11 columns):\n",
      " #   Column       Non-Null Count  Dtype  \n",
      "---  ------       --------------  -----  \n",
      " 0   PassengerId  418 non-null    int64  \n",
      " 1   Pclass       418 non-null    int64  \n",
      " 2   Name         418 non-null    object \n",
      " 3   Sex          418 non-null    object \n",
      " 4   Age          332 non-null    float64\n",
      " 5   SibSp        418 non-null    int64  \n",
      " 6   Parch        418 non-null    int64  \n",
      " 7   Ticket       418 non-null    object \n",
      " 8   Fare         417 non-null    float64\n",
      " 9   Cabin        91 non-null     object \n",
      " 10  Embarked     418 non-null    object \n",
      "dtypes: float64(2), int64(4), object(5)\n",
      "memory usage: 36.0+ KB\n"
     ]
    }
   ],
   "source": [
    "test.info()"
   ]
  },
  {
   "cell_type": "code",
   "execution_count": 9,
   "metadata": {
    "execution": {
     "iopub.execute_input": "2021-09-25T21:38:41.9458Z",
     "iopub.status.busy": "2021-09-25T21:38:41.945154Z",
     "iopub.status.idle": "2021-09-25T21:38:41.958305Z",
     "shell.execute_reply": "2021-09-25T21:38:41.956471Z",
     "shell.execute_reply.started": "2021-09-25T21:38:41.945763Z"
    }
   },
   "outputs": [
    {
     "name": "stdout",
     "output_type": "stream",
     "text": [
      "training data\n",
      " PassengerId      0\n",
      "Survived         0\n",
      "Pclass           0\n",
      "Name             0\n",
      "Sex              0\n",
      "Age            177\n",
      "SibSp            0\n",
      "Parch            0\n",
      "Ticket           0\n",
      "Fare             0\n",
      "Cabin          687\n",
      "Embarked         2\n",
      "dtype: int64\n",
      "\n",
      "testing data\n",
      " PassengerId      0\n",
      "Pclass           0\n",
      "Name             0\n",
      "Sex              0\n",
      "Age             86\n",
      "SibSp            0\n",
      "Parch            0\n",
      "Ticket           0\n",
      "Fare             1\n",
      "Cabin          327\n",
      "Embarked         0\n",
      "dtype: int64\n"
     ]
    }
   ],
   "source": [
    "# checking null values\n",
    "print(\"training data\\n\",train.isnull().sum())\n",
    "print(\"\\ntesting data\\n\",test.isnull().sum())"
   ]
  },
  {
   "cell_type": "code",
   "execution_count": 10,
   "metadata": {
    "execution": {
     "iopub.execute_input": "2021-09-25T21:38:41.959735Z",
     "iopub.status.busy": "2021-09-25T21:38:41.959514Z",
     "iopub.status.idle": "2021-09-25T21:38:41.965342Z",
     "shell.execute_reply": "2021-09-25T21:38:41.96399Z",
     "shell.execute_reply.started": "2021-09-25T21:38:41.959709Z"
    }
   },
   "outputs": [],
   "source": [
    "# let's clean visualizations :)\n",
    "\n",
    "import warnings\n",
    "warnings.simplefilter(action='ignore', category=FutureWarning)\n"
   ]
  },
  {
   "cell_type": "code",
   "execution_count": 11,
   "metadata": {
    "execution": {
     "iopub.execute_input": "2021-09-25T21:38:41.967342Z",
     "iopub.status.busy": "2021-09-25T21:38:41.966765Z",
     "iopub.status.idle": "2021-09-25T21:38:43.558681Z",
     "shell.execute_reply": "2021-09-25T21:38:43.55785Z",
     "shell.execute_reply.started": "2021-09-25T21:38:41.967296Z"
    }
   },
   "outputs": [
    {
     "data": {
      "image/png": "[encoded data removed]",
      "text/plain": [
       "<Figure size 432x288 with 1 Axes>"
      ]
     },
     "metadata": {
      "needs_background": "light"
     },
     "output_type": "display_data"
    },
    {
     "data": {
      "image/png": "[encoded data removed]",
      "text/plain": [
       "<Figure size 432x288 with 1 Axes>"
      ]
     },
     "metadata": {
      "needs_background": "light"
     },
     "output_type": "display_data"
    },
    {
     "data": {
      "image/png": "[encoded data removed]",
      "text/plain": [
       "<Figure size 432x288 with 1 Axes>"
      ]
     },
     "metadata": {
      "needs_background": "light"
     },
     "output_type": "display_data"
    },
    {
     "data": {
      "image/png": "[encoded data removed]",
      "text/plain": [
       "<Figure size 432x288 with 1 Axes>"
      ]
     },
     "metadata": {
      "needs_background": "light"
     },
     "output_type": "display_data"
    },
    {
     "data": {
      "image/png": "[encoded data removed]",
      "text/plain": [
       "<Figure size 432x288 with 1 Axes>"
      ]
     },
     "metadata": {
      "needs_background": "light"
     },
     "output_type": "display_data"
    },
    {
     "data": {
      "image/png": "[encoded data removed]",
      "text/plain": [
       "<Figure size 432x288 with 1 Axes>"
      ]
     },
     "metadata": {
      "needs_background": "light"
     },
     "output_type": "display_data"
    },
    {
     "data": {
      "image/png": "[encoded data removed]",
      "text/plain": [
       "<Figure size 432x288 with 1 Axes>"
      ]
     },
     "metadata": {
      "needs_background": "light"
     },
     "output_type": "display_data"
    }
   ],
   "source": [
    "# Visualization\n",
    "count_plt = sns.countplot(train[\"Survived\"])\n",
    "plt.show(count_plt)\n",
    "\n",
    "Sex_plt = sns.countplot(x= \"Survived\",data=train, hue=\"Sex\")\n",
    "plt.show(Sex_plt)\n",
    "\n",
    "Embarked_plt = sns.countplot(x=\"Survived\", data=train, hue=\"Embarked\")\n",
    "plt.show(Embarked_plt)\n",
    "\n",
    "Pclass_plt = sns.countplot(x=\"Survived\", data=train, hue=\"Pclass\")\n",
    "plt.show(Pclass_plt)\n",
    "\n",
    "SibSp_plt = sns.boxplot(x=\"SibSp\", y= \"Survived\", data=train)\n",
    "plt.show(SibSp_plt)\n",
    "\n",
    "Parch_plt = sns.boxplot(x=\"Parch\", y= \"Survived\", data=train)\n",
    "plt.show(Parch_plt)\n",
    "\n",
    "Age_plt = sns.distplot(train[\"Age\"])\n",
    "plt.show(Age_plt)"
   ]
  },
  {
   "cell_type": "code",
   "execution_count": 12,
   "metadata": {
    "execution": {
     "iopub.execute_input": "2021-09-25T21:38:43.560136Z",
     "iopub.status.busy": "2021-09-25T21:38:43.559879Z",
     "iopub.status.idle": "2021-09-25T21:38:44.173134Z",
     "shell.execute_reply": "2021-09-25T21:38:44.170812Z",
     "shell.execute_reply.started": "2021-09-25T21:38:43.560107Z"
    }
   },
   "outputs": [
    {
     "data": {
      "text/plain": [
       "<AxesSubplot:>"
      ]
     },
     "execution_count": 12,
     "metadata": {},
     "output_type": "execute_result"
    },
    {
     "data": {
      "image/png": "[encoded data removed]",
      "text/plain": [
       "<Figure size 720x576 with 2 Axes>"
      ]
     },
     "metadata": {
      "needs_background": "light"
     },
     "output_type": "display_data"
    }
   ],
   "source": [
    "# Correlation heatmap\n",
    "f, ax = plt.subplots(figsize=(10, 8))\n",
    "corr = train.corr()\n",
    "sns.heatmap(corr, mask=np.zeros_like(corr, dtype=np.bool_),linewidths=0.1,annot=True, cmap=sns.diverging_palette(150, 10, as_cmap=True),\n",
    "            square=True, ax=ax)"
   ]
  },
  {
   "cell_type": "markdown",
   "metadata": {
    "execution": {
     "iopub.execute_input": "2021-09-25T17:16:35.951572Z",
     "iopub.status.busy": "2021-09-25T17:16:35.951237Z",
     "iopub.status.idle": "2021-09-25T17:16:35.959639Z",
     "shell.execute_reply": "2021-09-25T17:16:35.958488Z",
     "shell.execute_reply.started": "2021-09-25T17:16:35.951526Z"
    }
   },
   "source": [
    "# **Pre-Processing**"
   ]
  },
  {
   "cell_type": "code",
   "execution_count": 13,
   "metadata": {
    "execution": {
     "iopub.execute_input": "2021-09-25T21:38:44.176027Z",
     "iopub.status.busy": "2021-09-25T21:38:44.175783Z",
     "iopub.status.idle": "2021-09-25T21:38:44.184001Z",
     "shell.execute_reply": "2021-09-25T21:38:44.18307Z",
     "shell.execute_reply.started": "2021-09-25T21:38:44.176Z"
    }
   },
   "outputs": [],
   "source": [
    "# age_mean, fair mean\n",
    "train['Age'].fillna(train['Age'].mean(), inplace = True)\n",
    "test['Age'].fillna(train['Age'].mean(), inplace = True)\n",
    "train['Embarked'].fillna('S', inplace = True)\n",
    "test['Fare'].fillna(train['Fare'].mean(), inplace = True)"
   ]
  },
  {
   "cell_type": "code",
   "execution_count": 14,
   "metadata": {
    "execution": {
     "iopub.execute_input": "2021-09-25T21:38:44.185744Z",
     "iopub.status.busy": "2021-09-25T21:38:44.185478Z",
     "iopub.status.idle": "2021-09-25T21:38:44.199353Z",
     "shell.execute_reply": "2021-09-25T21:38:44.198721Z",
     "shell.execute_reply.started": "2021-09-25T21:38:44.185713Z"
    }
   },
   "outputs": [
    {
     "data": {
      "text/plain": [
       "PassengerId      0\n",
       "Survived         0\n",
       "Pclass           0\n",
       "Name             0\n",
       "Sex              0\n",
       "Age              0\n",
       "SibSp            0\n",
       "Parch            0\n",
       "Ticket           0\n",
       "Fare             0\n",
       "Cabin          687\n",
       "Embarked         0\n",
       "dtype: int64"
      ]
     },
     "execution_count": 14,
     "metadata": {},
     "output_type": "execute_result"
    }
   ],
   "source": [
    "train.isnull().sum()"
   ]
  },
  {
   "cell_type": "code",
   "execution_count": 15,
   "metadata": {
    "execution": {
     "iopub.execute_input": "2021-09-25T21:38:44.200933Z",
     "iopub.status.busy": "2021-09-25T21:38:44.200544Z",
     "iopub.status.idle": "2021-09-25T21:38:44.21592Z",
     "shell.execute_reply": "2021-09-25T21:38:44.214757Z",
     "shell.execute_reply.started": "2021-09-25T21:38:44.200894Z"
    }
   },
   "outputs": [
    {
     "data": {
      "text/plain": [
       "PassengerId      0\n",
       "Pclass           0\n",
       "Name             0\n",
       "Sex              0\n",
       "Age              0\n",
       "SibSp            0\n",
       "Parch            0\n",
       "Ticket           0\n",
       "Fare             0\n",
       "Cabin          327\n",
       "Embarked         0\n",
       "dtype: int64"
      ]
     },
     "execution_count": 15,
     "metadata": {},
     "output_type": "execute_result"
    }
   ],
   "source": [
    "test.isnull().sum()"
   ]
  },
  {
   "cell_type": "code",
   "execution_count": 16,
   "metadata": {
    "execution": {
     "iopub.execute_input": "2021-09-25T21:38:44.217738Z",
     "iopub.status.busy": "2021-09-25T21:38:44.217398Z",
     "iopub.status.idle": "2021-09-25T21:38:44.228632Z",
     "shell.execute_reply": "2021-09-25T21:38:44.227959Z",
     "shell.execute_reply.started": "2021-09-25T21:38:44.217701Z"
    }
   },
   "outputs": [],
   "source": [
    "# drop cabin column\n",
    "train.drop(columns=[\"Cabin\", \"Name\"], axis=1, inplace=True)\n",
    "test.drop(columns=[\"Cabin\", \"Name\"], axis=1, inplace=True)"
   ]
  },
  {
   "cell_type": "code",
   "execution_count": 17,
   "metadata": {
    "execution": {
     "iopub.execute_input": "2021-09-25T21:38:44.230096Z",
     "iopub.status.busy": "2021-09-25T21:38:44.229837Z",
     "iopub.status.idle": "2021-09-25T21:38:44.247511Z",
     "shell.execute_reply": "2021-09-25T21:38:44.24672Z",
     "shell.execute_reply.started": "2021-09-25T21:38:44.230059Z"
    }
   },
   "outputs": [],
   "source": [
    "# Removing insignificant variables\n",
    "\n",
    "# change categorical to int for train\n",
    "embarked=pd.get_dummies(train[\"Embarked\"], drop_first=True)\n",
    "sex=pd.get_dummies(train[\"Sex\"], drop_first=True)\n",
    "\n",
    "train=pd.concat([train, embarked, sex],axis=1)\n",
    "train.drop(columns=[\"Sex\", \"Embarked\", \"Ticket\"], axis=1, inplace=True)\n",
    "\n",
    "# change categorical to int for test\n",
    "embarked=pd.get_dummies(test[\"Embarked\"], drop_first=True)\n",
    "sex=pd.get_dummies(test[\"Sex\"], drop_first=True)\n",
    "\n",
    "test=pd.concat([test, embarked, sex],axis=1)\n",
    "test.drop(columns=[\"Sex\", \"Embarked\", \"Ticket\"], axis=1, inplace=True)"
   ]
  },
  {
   "cell_type": "code",
   "execution_count": 18,
   "metadata": {
    "execution": {
     "iopub.execute_input": "2021-09-25T21:38:44.249528Z",
     "iopub.status.busy": "2021-09-25T21:38:44.24918Z",
     "iopub.status.idle": "2021-09-25T21:38:44.27056Z",
     "shell.execute_reply": "2021-09-25T21:38:44.269594Z",
     "shell.execute_reply.started": "2021-09-25T21:38:44.249485Z"
    }
   },
   "outputs": [
    {
     "name": "stdout",
     "output_type": "stream",
     "text": [
      "   PassengerId  Survived  Pclass   Age  SibSp  Parch     Fare  Q  S  male\n",
      "0            1         0       3  22.0      1      0   7.2500  0  1     1\n",
      "1            2         1       1  38.0      1      0  71.2833  0  0     0\n",
      "2            3         1       3  26.0      0      0   7.9250  0  1     0\n",
      "3            4         1       1  35.0      1      0  53.1000  0  1     0\n",
      "4            5         0       3  35.0      0      0   8.0500  0  1     1\n",
      "   PassengerId  Pclass   Age  SibSp  Parch     Fare  Q  S  male\n",
      "0          892       3  34.5      0      0   7.8292  1  0     1\n",
      "1          893       3  47.0      1      0   7.0000  0  1     0\n",
      "2          894       2  62.0      0      0   9.6875  1  0     1\n",
      "3          895       3  27.0      0      0   8.6625  0  1     1\n",
      "4          896       3  22.0      1      1  12.2875  0  1     0\n",
      "             PassengerId  Survived    Pclass       Age     SibSp     Parch  \\\n",
      "PassengerId     1.000000 -0.005007 -0.035144  0.033207 -0.057527 -0.001652   \n",
      "Survived       -0.005007  1.000000 -0.338481 -0.069809 -0.035322  0.081629   \n",
      "Pclass         -0.035144 -0.338481  1.000000 -0.331339  0.083081  0.018443   \n",
      "Age             0.033207 -0.069809 -0.331339  1.000000 -0.232625 -0.179191   \n",
      "SibSp          -0.057527 -0.035322  0.083081 -0.232625  1.000000  0.414838   \n",
      "Parch          -0.001652  0.081629  0.018443 -0.179191  0.414838  1.000000   \n",
      "Fare            0.012658  0.257307 -0.549500  0.091566  0.159651  0.216225   \n",
      "Q              -0.033606  0.003650  0.221009 -0.013855 -0.026354 -0.081228   \n",
      "S               0.022204 -0.149683  0.074053 -0.019336  0.068734  0.060814   \n",
      "male            0.042939 -0.543351  0.131900  0.084153 -0.114631 -0.245489   \n",
      "\n",
      "                 Fare         Q         S      male  \n",
      "PassengerId  0.012658 -0.033606  0.022204  0.042939  \n",
      "Survived     0.257307  0.003650 -0.149683 -0.543351  \n",
      "Pclass      -0.549500  0.221009  0.074053  0.131900  \n",
      "Age          0.091566 -0.013855 -0.019336  0.084153  \n",
      "SibSp        0.159651 -0.026354  0.068734 -0.114631  \n",
      "Parch        0.216225 -0.081228  0.060814 -0.245489  \n",
      "Fare         1.000000 -0.117216 -0.162184 -0.182333  \n",
      "Q           -0.117216  1.000000 -0.499421 -0.074115  \n",
      "S           -0.162184 -0.499421  1.000000  0.119224  \n",
      "male        -0.182333 -0.074115  0.119224  1.000000  \n"
     ]
    }
   ],
   "source": [
    "# checking data\n",
    "print(train.head())\n",
    "print(test.head())\n",
    "print(train.corr())"
   ]
  },
  {
   "cell_type": "code",
   "execution_count": 19,
   "metadata": {
    "execution": {
     "iopub.execute_input": "2021-09-25T21:38:44.27307Z",
     "iopub.status.busy": "2021-09-25T21:38:44.271748Z",
     "iopub.status.idle": "2021-09-25T21:38:44.285714Z",
     "shell.execute_reply": "2021-09-25T21:38:44.2849Z",
     "shell.execute_reply.started": "2021-09-25T21:38:44.273029Z"
    }
   },
   "outputs": [
    {
     "name": "stdout",
     "output_type": "stream",
     "text": [
      "<class 'pandas.core.frame.DataFrame'>\n",
      "RangeIndex: 891 entries, 0 to 890\n",
      "Data columns (total 10 columns):\n",
      " #   Column       Non-Null Count  Dtype  \n",
      "---  ------       --------------  -----  \n",
      " 0   PassengerId  891 non-null    int64  \n",
      " 1   Survived     891 non-null    int64  \n",
      " 2   Pclass       891 non-null    int64  \n",
      " 3   Age          891 non-null    float64\n",
      " 4   SibSp        891 non-null    int64  \n",
      " 5   Parch        891 non-null    int64  \n",
      " 6   Fare         891 non-null    float64\n",
      " 7   Q            891 non-null    uint8  \n",
      " 8   S            891 non-null    uint8  \n",
      " 9   male         891 non-null    uint8  \n",
      "dtypes: float64(2), int64(5), uint8(3)\n",
      "memory usage: 51.5 KB\n"
     ]
    }
   ],
   "source": [
    "train.info()"
   ]
  },
  {
   "cell_type": "code",
   "execution_count": 20,
   "metadata": {
    "execution": {
     "iopub.execute_input": "2021-09-25T21:38:44.287431Z",
     "iopub.status.busy": "2021-09-25T21:38:44.287213Z",
     "iopub.status.idle": "2021-09-25T21:38:44.303846Z",
     "shell.execute_reply": "2021-09-25T21:38:44.302902Z",
     "shell.execute_reply.started": "2021-09-25T21:38:44.287405Z"
    }
   },
   "outputs": [
    {
     "name": "stdout",
     "output_type": "stream",
     "text": [
      "<class 'pandas.core.frame.DataFrame'>\n",
      "RangeIndex: 418 entries, 0 to 417\n",
      "Data columns (total 9 columns):\n",
      " #   Column       Non-Null Count  Dtype  \n",
      "---  ------       --------------  -----  \n",
      " 0   PassengerId  418 non-null    int64  \n",
      " 1   Pclass       418 non-null    int64  \n",
      " 2   Age          418 non-null    float64\n",
      " 3   SibSp        418 non-null    int64  \n",
      " 4   Parch        418 non-null    int64  \n",
      " 5   Fare         418 non-null    float64\n",
      " 6   Q            418 non-null    uint8  \n",
      " 7   S            418 non-null    uint8  \n",
      " 8   male         418 non-null    uint8  \n",
      "dtypes: float64(2), int64(4), uint8(3)\n",
      "memory usage: 20.9 KB\n"
     ]
    }
   ],
   "source": [
    "test.info()"
   ]
  },
  {
   "cell_type": "markdown",
   "metadata": {},
   "source": [
    "# **Training and Predicting**"
   ]
  },
  {
   "cell_type": "code",
   "execution_count": 21,
   "metadata": {
    "execution": {
     "iopub.execute_input": "2021-09-25T21:38:44.306208Z",
     "iopub.status.busy": "2021-09-25T21:38:44.305296Z",
     "iopub.status.idle": "2021-09-25T21:38:44.326086Z",
     "shell.execute_reply": "2021-09-25T21:38:44.325244Z",
     "shell.execute_reply.started": "2021-09-25T21:38:44.306175Z"
    }
   },
   "outputs": [],
   "source": [
    "# Classification Methods\n",
    "\n",
    "# Logistic Regression\n",
    "train_x= train.drop(columns=[\"Survived\"], axis=1)\n",
    "train_y= train[\"Survived\"]\n",
    "\n",
    "test_x= test.copy()\n",
    "\n",
    "logistic = LogisticRegression(solver='liblinear')\n",
    "logistic.fit(train_x, train_y)\n",
    "\n",
    "prediction_y= logistic.predict(test_x)"
   ]
  },
  {
   "cell_type": "code",
   "execution_count": 22,
   "metadata": {
    "execution": {
     "iopub.execute_input": "2021-09-25T21:38:44.327625Z",
     "iopub.status.busy": "2021-09-25T21:38:44.327394Z",
     "iopub.status.idle": "2021-09-25T21:38:44.334312Z",
     "shell.execute_reply": "2021-09-25T21:38:44.333704Z",
     "shell.execute_reply.started": "2021-09-25T21:38:44.3276Z"
    }
   },
   "outputs": [
    {
     "name": "stdout",
     "output_type": "stream",
     "text": [
      "0.8058361391694725\n"
     ]
    }
   ],
   "source": [
    "print(logistic.score(train_x, train_y))"
   ]
  },
  {
   "cell_type": "code",
   "execution_count": 23,
   "metadata": {
    "execution": {
     "iopub.execute_input": "2021-09-25T21:38:44.336214Z",
     "iopub.status.busy": "2021-09-25T21:38:44.335769Z",
     "iopub.status.idle": "2021-09-25T21:38:44.348488Z",
     "shell.execute_reply": "2021-09-25T21:38:44.34774Z",
     "shell.execute_reply.started": "2021-09-25T21:38:44.336182Z"
    }
   },
   "outputs": [
    {
     "name": "stdout",
     "output_type": "stream",
     "text": [
      "Done\n"
     ]
    }
   ],
   "source": [
    "# Submission\n",
    "\n",
    "output= pd.DataFrame({\"PassengerId\": test[\"PassengerId\"], \"Survived\": prediction_y})\n",
    "output.to_csv(\"Submission.csv\", index=False)\n",
    "print(\"Done\")"
   ]
  }
 ],
 "metadata": {
  "kernelspec": {
   "display_name": "Python 3",
   "language": "python",
   "name": "python3"
  },
  "language_info": {
   "codemirror_mode": {
    "name": "ipython",
    "version": 3
   },
   "file_extension": ".py",
   "mimetype": "text/x-python",
   "name": "python",
   "nbconvert_exporter": "python",
   "pygments_lexer": "ipython3",
   "version": "3.8.10"
  }
 },
 "nbformat": 4,
 "nbformat_minor": 4
}
