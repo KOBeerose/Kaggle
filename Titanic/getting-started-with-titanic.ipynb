{
 "cells": [
  {
   "cell_type": "markdown",
   "metadata": {
    "_cell_guid": "b1076dfc-b9ad-4769-8c92-a6c4dae69d19",
    "_uuid": "8f2839f25d086af736a60e9eeb907d3b93b6e0e5",
    "execution": {
     "iopub.execute_input": "2021-09-25T16:04:33.150882Z",
     "iopub.status.busy": "2021-09-25T16:04:33.150507Z",
     "iopub.status.idle": "2021-09-25T16:04:33.15925Z",
     "shell.execute_reply": "2021-09-25T16:04:33.157606Z",
     "shell.execute_reply.started": "2021-09-25T16:04:33.150842Z"
    }
   },
   "source": [
    "<h2 style=\"font-weight: bold\">Titanic Competition</h2>\n",
    "\n",
    "<h4>This is my first published notebook ever, So yeah it can't be about something other than the Titanic Competition 😄<br><br>I will be doing a simple then advanced EDA, Data Visualization and Pre-Processing. I also will test different models and techniques to improve my score.<br></h4>\n",
    "\n",
    "* <h5 style=\"font-weight: 700\">Your feedback is very welcome</h5>\n",
    "* <h5 style=\"font-weight: 700\">If you find this notebook useful, please don't forget to upvote it!</h5>\n"
   ]
  },
  {
   "cell_type": "code",
   "execution_count": 1,
   "metadata": {
    "execution": {
     "iopub.execute_input": "2021-09-25T21:38:41.336967Z",
     "iopub.status.busy": "2021-09-25T21:38:41.33615Z",
     "iopub.status.idle": "2021-09-25T21:38:41.770773Z",
     "shell.execute_reply": "2021-09-25T21:38:41.769881Z",
     "shell.execute_reply.started": "2021-09-25T21:38:41.336825Z"
    }
   },
   "outputs": [],
   "source": [
    "# Required packages\n",
    "import pandas as pd\n",
    "import numpy as np\n",
    "import seaborn as sns\n",
    "import matplotlib.pyplot as plt\n",
    "from sklearn.linear_model import LogisticRegression"
   ]
  },
  {
   "cell_type": "code",
   "execution_count": 2,
   "metadata": {},
   "outputs": [
    {
     "data": {
      "text/plain": [
       "'C:\\\\Users\\\\taha_\\\\OneDrive - ine.inpt.ma\\\\Coding\\\\Data Science\\\\Kaggle\\\\notebooks\\\\Titanic'"
      ]
     },
     "execution_count": 2,
     "metadata": {},
     "output_type": "execute_result"
    }
   ],
   "source": [
    "import os\n",
    "os.getcwd()"
   ]
  },
  {
   "cell_type": "code",
   "execution_count": 3,
   "metadata": {
    "execution": {
     "iopub.execute_input": "2021-09-25T21:38:41.772359Z",
     "iopub.status.busy": "2021-09-25T21:38:41.772089Z",
     "iopub.status.idle": "2021-09-25T21:38:41.789664Z",
     "shell.execute_reply": "2021-09-25T21:38:41.7888Z",
     "shell.execute_reply.started": "2021-09-25T21:38:41.772318Z"
    }
   },
   "outputs": [
    {
     "ename": "FileNotFoundError",
     "evalue": "[Errno 2] No such file or directory: '../input/titanic/train.csv'",
     "output_type": "error",
     "traceback": [
      "\u001b[1;31m---------------------------------------------------------------------------\u001b[0m",
      "\u001b[1;31mFileNotFoundError\u001b[0m                         Traceback (most recent call last)",
      "\u001b[1;32m<ipython-input-3-3e8806ad5c89>\u001b[0m in \u001b[0;36m<module>\u001b[1;34m\u001b[0m\n\u001b[1;32m----> 1\u001b[1;33m \u001b[0mtrain\u001b[0m \u001b[1;33m=\u001b[0m \u001b[0mpd\u001b[0m\u001b[1;33m.\u001b[0m\u001b[0mread_csv\u001b[0m\u001b[1;33m(\u001b[0m\u001b[1;34m'../input/titanic/train.csv'\u001b[0m\u001b[1;33m)\u001b[0m\u001b[1;33m\u001b[0m\u001b[1;33m\u001b[0m\u001b[0m\n\u001b[0m\u001b[0;32m      2\u001b[0m \u001b[0mtest\u001b[0m \u001b[1;33m=\u001b[0m \u001b[0mpd\u001b[0m\u001b[1;33m.\u001b[0m\u001b[0mread_csv\u001b[0m\u001b[1;33m(\u001b[0m\u001b[1;34m'../input/titanic/test.csv'\u001b[0m\u001b[1;33m)\u001b[0m\u001b[1;33m\u001b[0m\u001b[1;33m\u001b[0m\u001b[0m\n",
      "\u001b[1;32m~\\anaconda3\\lib\\site-packages\\pandas\\io\\parsers.py\u001b[0m in \u001b[0;36mread_csv\u001b[1;34m(filepath_or_buffer, sep, delimiter, header, names, index_col, usecols, squeeze, prefix, mangle_dupe_cols, dtype, engine, converters, true_values, false_values, skipinitialspace, skiprows, skipfooter, nrows, na_values, keep_default_na, na_filter, verbose, skip_blank_lines, parse_dates, infer_datetime_format, keep_date_col, date_parser, dayfirst, cache_dates, iterator, chunksize, compression, thousands, decimal, lineterminator, quotechar, quoting, doublequote, escapechar, comment, encoding, dialect, error_bad_lines, warn_bad_lines, delim_whitespace, low_memory, memory_map, float_precision, storage_options)\u001b[0m\n\u001b[0;32m    608\u001b[0m     \u001b[0mkwds\u001b[0m\u001b[1;33m.\u001b[0m\u001b[0mupdate\u001b[0m\u001b[1;33m(\u001b[0m\u001b[0mkwds_defaults\u001b[0m\u001b[1;33m)\u001b[0m\u001b[1;33m\u001b[0m\u001b[1;33m\u001b[0m\u001b[0m\n\u001b[0;32m    609\u001b[0m \u001b[1;33m\u001b[0m\u001b[0m\n\u001b[1;32m--> 610\u001b[1;33m     \u001b[1;32mreturn\u001b[0m \u001b[0m_read\u001b[0m\u001b[1;33m(\u001b[0m\u001b[0mfilepath_or_buffer\u001b[0m\u001b[1;33m,\u001b[0m \u001b[0mkwds\u001b[0m\u001b[1;33m)\u001b[0m\u001b[1;33m\u001b[0m\u001b[1;33m\u001b[0m\u001b[0m\n\u001b[0m\u001b[0;32m    611\u001b[0m \u001b[1;33m\u001b[0m\u001b[0m\n\u001b[0;32m    612\u001b[0m \u001b[1;33m\u001b[0m\u001b[0m\n",
      "\u001b[1;32m~\\anaconda3\\lib\\site-packages\\pandas\\io\\parsers.py\u001b[0m in \u001b[0;36m_read\u001b[1;34m(filepath_or_buffer, kwds)\u001b[0m\n\u001b[0;32m    460\u001b[0m \u001b[1;33m\u001b[0m\u001b[0m\n\u001b[0;32m    461\u001b[0m     \u001b[1;31m# Create the parser.\u001b[0m\u001b[1;33m\u001b[0m\u001b[1;33m\u001b[0m\u001b[1;33m\u001b[0m\u001b[0m\n\u001b[1;32m--> 462\u001b[1;33m     \u001b[0mparser\u001b[0m \u001b[1;33m=\u001b[0m \u001b[0mTextFileReader\u001b[0m\u001b[1;33m(\u001b[0m\u001b[0mfilepath_or_buffer\u001b[0m\u001b[1;33m,\u001b[0m \u001b[1;33m**\u001b[0m\u001b[0mkwds\u001b[0m\u001b[1;33m)\u001b[0m\u001b[1;33m\u001b[0m\u001b[1;33m\u001b[0m\u001b[0m\n\u001b[0m\u001b[0;32m    463\u001b[0m \u001b[1;33m\u001b[0m\u001b[0m\n\u001b[0;32m    464\u001b[0m     \u001b[1;32mif\u001b[0m \u001b[0mchunksize\u001b[0m \u001b[1;32mor\u001b[0m \u001b[0miterator\u001b[0m\u001b[1;33m:\u001b[0m\u001b[1;33m\u001b[0m\u001b[1;33m\u001b[0m\u001b[0m\n",
      "\u001b[1;32m~\\anaconda3\\lib\\site-packages\\pandas\\io\\parsers.py\u001b[0m in \u001b[0;36m__init__\u001b[1;34m(self, f, engine, **kwds)\u001b[0m\n\u001b[0;32m    817\u001b[0m             \u001b[0mself\u001b[0m\u001b[1;33m.\u001b[0m\u001b[0moptions\u001b[0m\u001b[1;33m[\u001b[0m\u001b[1;34m\"has_index_names\"\u001b[0m\u001b[1;33m]\u001b[0m \u001b[1;33m=\u001b[0m \u001b[0mkwds\u001b[0m\u001b[1;33m[\u001b[0m\u001b[1;34m\"has_index_names\"\u001b[0m\u001b[1;33m]\u001b[0m\u001b[1;33m\u001b[0m\u001b[1;33m\u001b[0m\u001b[0m\n\u001b[0;32m    818\u001b[0m \u001b[1;33m\u001b[0m\u001b[0m\n\u001b[1;32m--> 819\u001b[1;33m         \u001b[0mself\u001b[0m\u001b[1;33m.\u001b[0m\u001b[0m_engine\u001b[0m \u001b[1;33m=\u001b[0m \u001b[0mself\u001b[0m\u001b[1;33m.\u001b[0m\u001b[0m_make_engine\u001b[0m\u001b[1;33m(\u001b[0m\u001b[0mself\u001b[0m\u001b[1;33m.\u001b[0m\u001b[0mengine\u001b[0m\u001b[1;33m)\u001b[0m\u001b[1;33m\u001b[0m\u001b[1;33m\u001b[0m\u001b[0m\n\u001b[0m\u001b[0;32m    820\u001b[0m \u001b[1;33m\u001b[0m\u001b[0m\n\u001b[0;32m    821\u001b[0m     \u001b[1;32mdef\u001b[0m \u001b[0mclose\u001b[0m\u001b[1;33m(\u001b[0m\u001b[0mself\u001b[0m\u001b[1;33m)\u001b[0m\u001b[1;33m:\u001b[0m\u001b[1;33m\u001b[0m\u001b[1;33m\u001b[0m\u001b[0m\n",
      "\u001b[1;32m~\\anaconda3\\lib\\site-packages\\pandas\\io\\parsers.py\u001b[0m in \u001b[0;36m_make_engine\u001b[1;34m(self, engine)\u001b[0m\n\u001b[0;32m   1048\u001b[0m             )\n\u001b[0;32m   1049\u001b[0m         \u001b[1;31m# error: Too many arguments for \"ParserBase\"\u001b[0m\u001b[1;33m\u001b[0m\u001b[1;33m\u001b[0m\u001b[1;33m\u001b[0m\u001b[0m\n\u001b[1;32m-> 1050\u001b[1;33m         \u001b[1;32mreturn\u001b[0m \u001b[0mmapping\u001b[0m\u001b[1;33m[\u001b[0m\u001b[0mengine\u001b[0m\u001b[1;33m]\u001b[0m\u001b[1;33m(\u001b[0m\u001b[0mself\u001b[0m\u001b[1;33m.\u001b[0m\u001b[0mf\u001b[0m\u001b[1;33m,\u001b[0m \u001b[1;33m**\u001b[0m\u001b[0mself\u001b[0m\u001b[1;33m.\u001b[0m\u001b[0moptions\u001b[0m\u001b[1;33m)\u001b[0m  \u001b[1;31m# type: ignore[call-arg]\u001b[0m\u001b[1;33m\u001b[0m\u001b[1;33m\u001b[0m\u001b[0m\n\u001b[0m\u001b[0;32m   1051\u001b[0m \u001b[1;33m\u001b[0m\u001b[0m\n\u001b[0;32m   1052\u001b[0m     \u001b[1;32mdef\u001b[0m \u001b[0m_failover_to_python\u001b[0m\u001b[1;33m(\u001b[0m\u001b[0mself\u001b[0m\u001b[1;33m)\u001b[0m\u001b[1;33m:\u001b[0m\u001b[1;33m\u001b[0m\u001b[1;33m\u001b[0m\u001b[0m\n",
      "\u001b[1;32m~\\anaconda3\\lib\\site-packages\\pandas\\io\\parsers.py\u001b[0m in \u001b[0;36m__init__\u001b[1;34m(self, src, **kwds)\u001b[0m\n\u001b[0;32m   1865\u001b[0m \u001b[1;33m\u001b[0m\u001b[0m\n\u001b[0;32m   1866\u001b[0m         \u001b[1;31m# open handles\u001b[0m\u001b[1;33m\u001b[0m\u001b[1;33m\u001b[0m\u001b[1;33m\u001b[0m\u001b[0m\n\u001b[1;32m-> 1867\u001b[1;33m         \u001b[0mself\u001b[0m\u001b[1;33m.\u001b[0m\u001b[0m_open_handles\u001b[0m\u001b[1;33m(\u001b[0m\u001b[0msrc\u001b[0m\u001b[1;33m,\u001b[0m \u001b[0mkwds\u001b[0m\u001b[1;33m)\u001b[0m\u001b[1;33m\u001b[0m\u001b[1;33m\u001b[0m\u001b[0m\n\u001b[0m\u001b[0;32m   1868\u001b[0m         \u001b[1;32massert\u001b[0m \u001b[0mself\u001b[0m\u001b[1;33m.\u001b[0m\u001b[0mhandles\u001b[0m \u001b[1;32mis\u001b[0m \u001b[1;32mnot\u001b[0m \u001b[1;32mNone\u001b[0m\u001b[1;33m\u001b[0m\u001b[1;33m\u001b[0m\u001b[0m\n\u001b[0;32m   1869\u001b[0m         \u001b[1;32mfor\u001b[0m \u001b[0mkey\u001b[0m \u001b[1;32min\u001b[0m \u001b[1;33m(\u001b[0m\u001b[1;34m\"storage_options\"\u001b[0m\u001b[1;33m,\u001b[0m \u001b[1;34m\"encoding\"\u001b[0m\u001b[1;33m,\u001b[0m \u001b[1;34m\"memory_map\"\u001b[0m\u001b[1;33m,\u001b[0m \u001b[1;34m\"compression\"\u001b[0m\u001b[1;33m)\u001b[0m\u001b[1;33m:\u001b[0m\u001b[1;33m\u001b[0m\u001b[1;33m\u001b[0m\u001b[0m\n",
      "\u001b[1;32m~\\anaconda3\\lib\\site-packages\\pandas\\io\\parsers.py\u001b[0m in \u001b[0;36m_open_handles\u001b[1;34m(self, src, kwds)\u001b[0m\n\u001b[0;32m   1360\u001b[0m         \u001b[0mLet\u001b[0m \u001b[0mthe\u001b[0m \u001b[0mreaders\u001b[0m \u001b[0mopen\u001b[0m \u001b[0mIOHanldes\u001b[0m \u001b[0mafter\u001b[0m \u001b[0mthey\u001b[0m \u001b[0mare\u001b[0m \u001b[0mdone\u001b[0m \u001b[1;32mwith\u001b[0m \u001b[0mtheir\u001b[0m \u001b[0mpotential\u001b[0m \u001b[0mraises\u001b[0m\u001b[1;33m.\u001b[0m\u001b[1;33m\u001b[0m\u001b[1;33m\u001b[0m\u001b[0m\n\u001b[0;32m   1361\u001b[0m         \"\"\"\n\u001b[1;32m-> 1362\u001b[1;33m         self.handles = get_handle(\n\u001b[0m\u001b[0;32m   1363\u001b[0m             \u001b[0msrc\u001b[0m\u001b[1;33m,\u001b[0m\u001b[1;33m\u001b[0m\u001b[1;33m\u001b[0m\u001b[0m\n\u001b[0;32m   1364\u001b[0m             \u001b[1;34m\"r\"\u001b[0m\u001b[1;33m,\u001b[0m\u001b[1;33m\u001b[0m\u001b[1;33m\u001b[0m\u001b[0m\n",
      "\u001b[1;32m~\\anaconda3\\lib\\site-packages\\pandas\\io\\common.py\u001b[0m in \u001b[0;36mget_handle\u001b[1;34m(path_or_buf, mode, encoding, compression, memory_map, is_text, errors, storage_options)\u001b[0m\n\u001b[0;32m    645\u001b[0m                 \u001b[0merrors\u001b[0m \u001b[1;33m=\u001b[0m \u001b[1;34m\"replace\"\u001b[0m\u001b[1;33m\u001b[0m\u001b[1;33m\u001b[0m\u001b[0m\n\u001b[0;32m    646\u001b[0m             \u001b[1;31m# Encoding\u001b[0m\u001b[1;33m\u001b[0m\u001b[1;33m\u001b[0m\u001b[1;33m\u001b[0m\u001b[0m\n\u001b[1;32m--> 647\u001b[1;33m             handle = open(\n\u001b[0m\u001b[0;32m    648\u001b[0m                 \u001b[0mhandle\u001b[0m\u001b[1;33m,\u001b[0m\u001b[1;33m\u001b[0m\u001b[1;33m\u001b[0m\u001b[0m\n\u001b[0;32m    649\u001b[0m                 \u001b[0mioargs\u001b[0m\u001b[1;33m.\u001b[0m\u001b[0mmode\u001b[0m\u001b[1;33m,\u001b[0m\u001b[1;33m\u001b[0m\u001b[1;33m\u001b[0m\u001b[0m\n",
      "\u001b[1;31mFileNotFoundError\u001b[0m: [Errno 2] No such file or directory: '../input/titanic/train.csv'"
     ]
    }
   ],
   "source": [
    "train = pd.read_csv('../input/titanic/train.csv')\n",
    "test = pd.read_csv('../input/titanic/test.csv')"
   ]
  },
  {
   "cell_type": "code",
   "execution_count": null,
   "metadata": {
    "execution": {
     "iopub.execute_input": "2021-09-25T21:38:41.7912Z",
     "iopub.status.busy": "2021-09-25T21:38:41.790948Z",
     "iopub.status.idle": "2021-09-25T21:38:41.815016Z",
     "shell.execute_reply": "2021-09-25T21:38:41.813986Z",
     "shell.execute_reply.started": "2021-09-25T21:38:41.79117Z"
    }
   },
   "outputs": [],
   "source": [
    "train.head()"
   ]
  },
  {
   "cell_type": "markdown",
   "metadata": {},
   "source": [
    "#  **Exploratory Data Analysis**"
   ]
  },
  {
   "cell_type": "code",
   "execution_count": null,
   "metadata": {
    "execution": {
     "iopub.execute_input": "2021-09-25T21:38:41.81783Z",
     "iopub.status.busy": "2021-09-25T21:38:41.817534Z",
     "iopub.status.idle": "2021-09-25T21:38:41.824505Z",
     "shell.execute_reply": "2021-09-25T21:38:41.823305Z",
     "shell.execute_reply.started": "2021-09-25T21:38:41.81779Z"
    }
   },
   "outputs": [],
   "source": [
    "# Getting to know data\n",
    "print(train.shape)\n",
    "print(test.shape)"
   ]
  },
  {
   "cell_type": "code",
   "execution_count": null,
   "metadata": {
    "execution": {
     "iopub.execute_input": "2021-09-25T21:38:41.826289Z",
     "iopub.status.busy": "2021-09-25T21:38:41.826034Z",
     "iopub.status.idle": "2021-09-25T21:38:41.866057Z",
     "shell.execute_reply": "2021-09-25T21:38:41.865271Z",
     "shell.execute_reply.started": "2021-09-25T21:38:41.826262Z"
    }
   },
   "outputs": [],
   "source": [
    "# summary of numerical variable\n",
    "train.describe()"
   ]
  },
  {
   "cell_type": "code",
   "execution_count": null,
   "metadata": {
    "execution": {
     "iopub.execute_input": "2021-09-25T21:38:41.867839Z",
     "iopub.status.busy": "2021-09-25T21:38:41.867595Z",
     "iopub.status.idle": "2021-09-25T21:38:41.90653Z",
     "shell.execute_reply": "2021-09-25T21:38:41.905545Z",
     "shell.execute_reply.started": "2021-09-25T21:38:41.867811Z"
    }
   },
   "outputs": [],
   "source": [
    "train.describe()"
   ]
  },
  {
   "cell_type": "code",
   "execution_count": null,
   "metadata": {
    "execution": {
     "iopub.execute_input": "2021-09-25T21:38:41.908231Z",
     "iopub.status.busy": "2021-09-25T21:38:41.907967Z",
     "iopub.status.idle": "2021-09-25T21:38:41.924196Z",
     "shell.execute_reply": "2021-09-25T21:38:41.92308Z",
     "shell.execute_reply.started": "2021-09-25T21:38:41.9082Z"
    }
   },
   "outputs": [],
   "source": [
    "# summary of categorial variable\n",
    "train.info()"
   ]
  },
  {
   "cell_type": "code",
   "execution_count": null,
   "metadata": {
    "execution": {
     "iopub.execute_input": "2021-09-25T21:38:41.926343Z",
     "iopub.status.busy": "2021-09-25T21:38:41.92558Z",
     "iopub.status.idle": "2021-09-25T21:38:41.943294Z",
     "shell.execute_reply": "2021-09-25T21:38:41.942271Z",
     "shell.execute_reply.started": "2021-09-25T21:38:41.926304Z"
    }
   },
   "outputs": [],
   "source": [
    "test.info()"
   ]
  },
  {
   "cell_type": "code",
   "execution_count": null,
   "metadata": {
    "execution": {
     "iopub.execute_input": "2021-09-25T21:38:41.9458Z",
     "iopub.status.busy": "2021-09-25T21:38:41.945154Z",
     "iopub.status.idle": "2021-09-25T21:38:41.958305Z",
     "shell.execute_reply": "2021-09-25T21:38:41.956471Z",
     "shell.execute_reply.started": "2021-09-25T21:38:41.945763Z"
    }
   },
   "outputs": [],
   "source": [
    "# checking null values\n",
    "print(\"training data\\n\",train.isnull().sum())\n",
    "print(\"\\ntesting data\\n\",test.isnull().sum())"
   ]
  },
  {
   "cell_type": "code",
   "execution_count": null,
   "metadata": {
    "execution": {
     "iopub.execute_input": "2021-09-25T21:38:41.959735Z",
     "iopub.status.busy": "2021-09-25T21:38:41.959514Z",
     "iopub.status.idle": "2021-09-25T21:38:41.965342Z",
     "shell.execute_reply": "2021-09-25T21:38:41.96399Z",
     "shell.execute_reply.started": "2021-09-25T21:38:41.959709Z"
    }
   },
   "outputs": [],
   "source": [
    "# let's clean visualizations :)\n",
    "\n",
    "import warnings\n",
    "warnings.simplefilter(action='ignore', category=FutureWarning)\n"
   ]
  },
  {
   "cell_type": "code",
   "execution_count": null,
   "metadata": {
    "execution": {
     "iopub.execute_input": "2021-09-25T21:38:41.967342Z",
     "iopub.status.busy": "2021-09-25T21:38:41.966765Z",
     "iopub.status.idle": "2021-09-25T21:38:43.558681Z",
     "shell.execute_reply": "2021-09-25T21:38:43.55785Z",
     "shell.execute_reply.started": "2021-09-25T21:38:41.967296Z"
    }
   },
   "outputs": [],
   "source": [
    "# Visualization\n",
    "count_plt = sns.countplot(train[\"Survived\"])\n",
    "plt.show(count_plt)\n",
    "\n",
    "Sex_plt = sns.countplot(x= \"Survived\",data=train, hue=\"Sex\")\n",
    "plt.show(Sex_plt)\n",
    "\n",
    "Embarked_plt = sns.countplot(x=\"Survived\", data=train, hue=\"Embarked\")\n",
    "plt.show(Embarked_plt)\n",
    "\n",
    "Pclass_plt = sns.countplot(x=\"Survived\", data=train, hue=\"Pclass\")\n",
    "plt.show(Pclass_plt)\n",
    "\n",
    "SibSp_plt = sns.boxplot(x=\"SibSp\", y= \"Survived\", data=train)\n",
    "plt.show(SibSp_plt)\n",
    "\n",
    "Parch_plt = sns.boxplot(x=\"Parch\", y= \"Survived\", data=train)\n",
    "plt.show(Parch_plt)\n",
    "\n",
    "Age_plt = sns.distplot(train[\"Age\"])\n",
    "plt.show(Age_plt)"
   ]
  },
  {
   "cell_type": "code",
   "execution_count": null,
   "metadata": {
    "execution": {
     "iopub.execute_input": "2021-09-25T21:38:43.560136Z",
     "iopub.status.busy": "2021-09-25T21:38:43.559879Z",
     "iopub.status.idle": "2021-09-25T21:38:44.173134Z",
     "shell.execute_reply": "2021-09-25T21:38:44.170812Z",
     "shell.execute_reply.started": "2021-09-25T21:38:43.560107Z"
    }
   },
   "outputs": [],
   "source": [
    "# Correlation heatmap\n",
    "f, ax = plt.subplots(figsize=(10, 8))\n",
    "corr = train.corr()\n",
    "sns.heatmap(corr, mask=np.zeros_like(corr, dtype=np.bool),linewidths=0.1,annot=True, cmap=sns.diverging_palette(150, 10, as_cmap=True),\n",
    "            square=True, ax=ax)"
   ]
  },
  {
   "cell_type": "markdown",
   "metadata": {
    "execution": {
     "iopub.execute_input": "2021-09-25T17:16:35.951572Z",
     "iopub.status.busy": "2021-09-25T17:16:35.951237Z",
     "iopub.status.idle": "2021-09-25T17:16:35.959639Z",
     "shell.execute_reply": "2021-09-25T17:16:35.958488Z",
     "shell.execute_reply.started": "2021-09-25T17:16:35.951526Z"
    }
   },
   "source": [
    "# **Pre-Processing**"
   ]
  },
  {
   "cell_type": "code",
   "execution_count": null,
   "metadata": {
    "execution": {
     "iopub.execute_input": "2021-09-25T21:38:44.176027Z",
     "iopub.status.busy": "2021-09-25T21:38:44.175783Z",
     "iopub.status.idle": "2021-09-25T21:38:44.184001Z",
     "shell.execute_reply": "2021-09-25T21:38:44.18307Z",
     "shell.execute_reply.started": "2021-09-25T21:38:44.176Z"
    }
   },
   "outputs": [],
   "source": [
    "# age_mean, fair mean\n",
    "train['Age'].fillna(train['Age'].mean(), inplace = True)\n",
    "test['Age'].fillna(train['Age'].mean(), inplace = True)\n",
    "train['Embarked'].fillna('S', inplace = True)\n",
    "test['Fare'].fillna(train['Fare'].mean(), inplace = True)"
   ]
  },
  {
   "cell_type": "code",
   "execution_count": null,
   "metadata": {
    "execution": {
     "iopub.execute_input": "2021-09-25T21:38:44.185744Z",
     "iopub.status.busy": "2021-09-25T21:38:44.185478Z",
     "iopub.status.idle": "2021-09-25T21:38:44.199353Z",
     "shell.execute_reply": "2021-09-25T21:38:44.198721Z",
     "shell.execute_reply.started": "2021-09-25T21:38:44.185713Z"
    }
   },
   "outputs": [],
   "source": [
    "train.isnull().sum()"
   ]
  },
  {
   "cell_type": "code",
   "execution_count": null,
   "metadata": {
    "execution": {
     "iopub.execute_input": "2021-09-25T21:38:44.200933Z",
     "iopub.status.busy": "2021-09-25T21:38:44.200544Z",
     "iopub.status.idle": "2021-09-25T21:38:44.21592Z",
     "shell.execute_reply": "2021-09-25T21:38:44.214757Z",
     "shell.execute_reply.started": "2021-09-25T21:38:44.200894Z"
    }
   },
   "outputs": [],
   "source": [
    "test.isnull().sum()"
   ]
  },
  {
   "cell_type": "code",
   "execution_count": null,
   "metadata": {
    "execution": {
     "iopub.execute_input": "2021-09-25T21:38:44.217738Z",
     "iopub.status.busy": "2021-09-25T21:38:44.217398Z",
     "iopub.status.idle": "2021-09-25T21:38:44.228632Z",
     "shell.execute_reply": "2021-09-25T21:38:44.227959Z",
     "shell.execute_reply.started": "2021-09-25T21:38:44.217701Z"
    }
   },
   "outputs": [],
   "source": [
    "# drop cabin column\n",
    "train.drop(columns=[\"Cabin\", \"Name\"], axis=1, inplace=True)\n",
    "test.drop(columns=[\"Cabin\", \"Name\"], axis=1, inplace=True)"
   ]
  },
  {
   "cell_type": "code",
   "execution_count": null,
   "metadata": {
    "execution": {
     "iopub.execute_input": "2021-09-25T21:38:44.230096Z",
     "iopub.status.busy": "2021-09-25T21:38:44.229837Z",
     "iopub.status.idle": "2021-09-25T21:38:44.247511Z",
     "shell.execute_reply": "2021-09-25T21:38:44.24672Z",
     "shell.execute_reply.started": "2021-09-25T21:38:44.230059Z"
    }
   },
   "outputs": [],
   "source": [
    "# Removing insignificant variables\n",
    "\n",
    "# change categorical to int for train\n",
    "embarked=pd.get_dummies(train[\"Embarked\"], drop_first=True)\n",
    "sex=pd.get_dummies(train[\"Sex\"], drop_first=True)\n",
    "\n",
    "train=pd.concat([train, embarked, sex],axis=1)\n",
    "train.drop(columns=[\"Sex\", \"Embarked\", \"Ticket\"], axis=1, inplace=True)\n",
    "\n",
    "# change categorical to int for test\n",
    "embarked=pd.get_dummies(test[\"Embarked\"], drop_first=True)\n",
    "sex=pd.get_dummies(test[\"Sex\"], drop_first=True)\n",
    "\n",
    "test=pd.concat([test, embarked, sex],axis=1)\n",
    "test.drop(columns=[\"Sex\", \"Embarked\", \"Ticket\"], axis=1, inplace=True)"
   ]
  },
  {
   "cell_type": "code",
   "execution_count": null,
   "metadata": {
    "execution": {
     "iopub.execute_input": "2021-09-25T21:38:44.249528Z",
     "iopub.status.busy": "2021-09-25T21:38:44.24918Z",
     "iopub.status.idle": "2021-09-25T21:38:44.27056Z",
     "shell.execute_reply": "2021-09-25T21:38:44.269594Z",
     "shell.execute_reply.started": "2021-09-25T21:38:44.249485Z"
    }
   },
   "outputs": [],
   "source": [
    "# checking data\n",
    "print(train.head())\n",
    "print(test.head())\n",
    "print(train.corr())"
   ]
  },
  {
   "cell_type": "code",
   "execution_count": null,
   "metadata": {
    "execution": {
     "iopub.execute_input": "2021-09-25T21:38:44.27307Z",
     "iopub.status.busy": "2021-09-25T21:38:44.271748Z",
     "iopub.status.idle": "2021-09-25T21:38:44.285714Z",
     "shell.execute_reply": "2021-09-25T21:38:44.2849Z",
     "shell.execute_reply.started": "2021-09-25T21:38:44.273029Z"
    }
   },
   "outputs": [],
   "source": [
    "train.info()"
   ]
  },
  {
   "cell_type": "code",
   "execution_count": null,
   "metadata": {
    "execution": {
     "iopub.execute_input": "2021-09-25T21:38:44.287431Z",
     "iopub.status.busy": "2021-09-25T21:38:44.287213Z",
     "iopub.status.idle": "2021-09-25T21:38:44.303846Z",
     "shell.execute_reply": "2021-09-25T21:38:44.302902Z",
     "shell.execute_reply.started": "2021-09-25T21:38:44.287405Z"
    }
   },
   "outputs": [],
   "source": [
    "test.info()"
   ]
  },
  {
   "cell_type": "markdown",
   "metadata": {},
   "source": [
    "# **Training and Predicting**"
   ]
  },
  {
   "cell_type": "code",
   "execution_count": null,
   "metadata": {
    "execution": {
     "iopub.execute_input": "2021-09-25T21:38:44.306208Z",
     "iopub.status.busy": "2021-09-25T21:38:44.305296Z",
     "iopub.status.idle": "2021-09-25T21:38:44.326086Z",
     "shell.execute_reply": "2021-09-25T21:38:44.325244Z",
     "shell.execute_reply.started": "2021-09-25T21:38:44.306175Z"
    }
   },
   "outputs": [],
   "source": [
    "# Classification Methods\n",
    "\n",
    "# Logistic Regression\n",
    "train_x= train.drop(columns=[\"Survived\"], axis=1)\n",
    "train_y= train[\"Survived\"]\n",
    "\n",
    "test_x= test.copy()\n",
    "\n",
    "logistic = LogisticRegression(solver='liblinear')\n",
    "logistic.fit(train_x, train_y)\n",
    "\n",
    "prediction_y= logistic.predict(test_x)"
   ]
  },
  {
   "cell_type": "code",
   "execution_count": null,
   "metadata": {
    "execution": {
     "iopub.execute_input": "2021-09-25T21:38:44.327625Z",
     "iopub.status.busy": "2021-09-25T21:38:44.327394Z",
     "iopub.status.idle": "2021-09-25T21:38:44.334312Z",
     "shell.execute_reply": "2021-09-25T21:38:44.333704Z",
     "shell.execute_reply.started": "2021-09-25T21:38:44.3276Z"
    }
   },
   "outputs": [],
   "source": [
    "print(logistic.score(train_x, train_y))"
   ]
  },
  {
   "cell_type": "code",
   "execution_count": null,
   "metadata": {
    "execution": {
     "iopub.execute_input": "2021-09-25T21:38:44.336214Z",
     "iopub.status.busy": "2021-09-25T21:38:44.335769Z",
     "iopub.status.idle": "2021-09-25T21:38:44.348488Z",
     "shell.execute_reply": "2021-09-25T21:38:44.34774Z",
     "shell.execute_reply.started": "2021-09-25T21:38:44.336182Z"
    }
   },
   "outputs": [],
   "source": [
    "# Submission\n",
    "\n",
    "output= pd.DataFrame({\"PassengerId\": test[\"PassengerId\"], \"Survived\": prediction_y})\n",
    "output.to_csv(\"Submission.csv\", index=False)\n",
    "print(\"Done\")"
   ]
  }
 ],
 "metadata": {
  "kernelspec": {
   "display_name": "Python 3",
   "language": "python",
   "name": "python3"
  },
  "language_info": {
   "codemirror_mode": {
    "name": "ipython",
    "version": 3
   },
   "file_extension": ".py",
   "mimetype": "text/x-python",
   "name": "python",
   "nbconvert_exporter": "python",
   "pygments_lexer": "ipython3",
   "version": "3.8.10"
  }
 },
 "nbformat": 4,
 "nbformat_minor": 4
}
