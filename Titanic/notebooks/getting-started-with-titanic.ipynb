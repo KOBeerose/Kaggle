{
 "cells": [
  {
   "cell_type": "markdown",
   "metadata": {
    "_cell_guid": "b1076dfc-b9ad-4769-8c92-a6c4dae69d19",
    "_uuid": "8f2839f25d086af736a60e9eeb907d3b93b6e0e5",
    "execution": {
     "iopub.execute_input": "2021-09-25T16:04:33.150882Z",
     "iopub.status.busy": "2021-09-25T16:04:33.150507Z",
     "iopub.status.idle": "2021-09-25T16:04:33.15925Z",
     "shell.execute_reply": "2021-09-25T16:04:33.157606Z",
     "shell.execute_reply.started": "2021-09-25T16:04:33.150842Z"
    }
   },
   "source": [
    "<h2 style=\"font-weight: bold\">Titanic Competition</h2>\n",
    "\n",
    "<h4>This is my first published notebook ever, So yeah it can't be about something other than the Titanic Competition 😄</h4>\n",
    "\n",
    "* <h5 style=\"font-weight: 700\">Your feedback is very welcome</h5>\n",
    "* <h5 style=\"font-weight: 700\">If you find this notebook useful, please don't forget to upvote it!</h5>\n"
   ]
  },
  {
   "cell_type": "code",
   "execution_count": 1,
   "metadata": {
    "execution": {
     "iopub.execute_input": "2021-09-25T20:02:52.617203Z",
     "iopub.status.busy": "2021-09-25T20:02:52.616852Z",
     "iopub.status.idle": "2021-09-25T20:02:52.958653Z",
     "shell.execute_reply": "2021-09-25T20:02:52.957924Z",
     "shell.execute_reply.started": "2021-09-25T20:02:52.617148Z"
    }
   },
   "outputs": [],
   "source": [
    "# Required packages\n",
    "import pandas as pd\n",
    "import numpy as np\n",
    "import seaborn as sns\n",
    "import matplotlib.pyplot as plt"
   ]
  },
  {
   "cell_type": "code",
   "execution_count": 2,
   "metadata": {
    "execution": {
     "iopub.execute_input": "2021-09-25T20:02:52.962753Z",
     "iopub.status.busy": "2021-09-25T20:02:52.962552Z",
     "iopub.status.idle": "2021-09-25T20:02:52.979011Z",
     "shell.execute_reply": "2021-09-25T20:02:52.978186Z",
     "shell.execute_reply.started": "2021-09-25T20:02:52.962730Z"
    }
   },
   "outputs": [],
   "source": [
    "train = pd.read_csv('../input/titanic/train.csv')\n",
    "test = pd.read_csv('../input/titanic/test.csv')"
   ]
  },
  {
   "cell_type": "code",
   "execution_count": 3,
   "metadata": {
    "execution": {
     "iopub.execute_input": "2021-09-25T20:02:52.980541Z",
     "iopub.status.busy": "2021-09-25T20:02:52.980328Z",
     "iopub.status.idle": "2021-09-25T20:02:53.001975Z",
     "shell.execute_reply": "2021-09-25T20:02:53.001108Z",
     "shell.execute_reply.started": "2021-09-25T20:02:52.980517Z"
    }
   },
   "outputs": [],
   "source": [
    "train.head()"
   ]
  },
  {
   "cell_type": "markdown",
   "metadata": {},
   "source": [
    "#  **Exploratory Data Analysis**"
   ]
  },
  {
   "cell_type": "code",
   "execution_count": 4,
   "metadata": {
    "execution": {
     "iopub.execute_input": "2021-09-25T20:02:53.004296Z",
     "iopub.status.busy": "2021-09-25T20:02:53.004082Z",
     "iopub.status.idle": "2021-09-25T20:02:53.009519Z",
     "shell.execute_reply": "2021-09-25T20:02:53.008650Z",
     "shell.execute_reply.started": "2021-09-25T20:02:53.004272Z"
    }
   },
   "outputs": [],
   "source": [
    "# Getting to know data\n",
    "print(train.shape)\n",
    "print(test.shape)"
   ]
  },
  {
   "cell_type": "code",
   "execution_count": 5,
   "metadata": {
    "execution": {
     "iopub.execute_input": "2021-09-25T20:02:53.011224Z",
     "iopub.status.busy": "2021-09-25T20:02:53.010746Z",
     "iopub.status.idle": "2021-09-25T20:02:53.047283Z",
     "shell.execute_reply": "2021-09-25T20:02:53.046738Z",
     "shell.execute_reply.started": "2021-09-25T20:02:53.011191Z"
    }
   },
   "outputs": [],
   "source": [
    "# summary of numerical variable\n",
    "train.describe()"
   ]
  },
  {
   "cell_type": "code",
   "execution_count": 6,
   "metadata": {
    "execution": {
     "iopub.execute_input": "2021-09-25T20:02:53.048679Z",
     "iopub.status.busy": "2021-09-25T20:02:53.048484Z",
     "iopub.status.idle": "2021-09-25T20:02:53.080365Z",
     "shell.execute_reply": "2021-09-25T20:02:53.079395Z",
     "shell.execute_reply.started": "2021-09-25T20:02:53.048656Z"
    }
   },
   "outputs": [],
   "source": [
    "train.describe()"
   ]
  },
  {
   "cell_type": "code",
   "execution_count": 7,
   "metadata": {
    "execution": {
     "iopub.execute_input": "2021-09-25T20:02:53.081561Z",
     "iopub.status.busy": "2021-09-25T20:02:53.081349Z",
     "iopub.status.idle": "2021-09-25T20:02:53.096492Z",
     "shell.execute_reply": "2021-09-25T20:02:53.095551Z",
     "shell.execute_reply.started": "2021-09-25T20:02:53.081537Z"
    }
   },
   "outputs": [],
   "source": [
    "# summary of categorial variable\n",
    "train.info()"
   ]
  },
  {
   "cell_type": "code",
   "execution_count": 8,
   "metadata": {
    "execution": {
     "iopub.execute_input": "2021-09-25T20:02:53.097836Z",
     "iopub.status.busy": "2021-09-25T20:02:53.097593Z",
     "iopub.status.idle": "2021-09-25T20:02:53.110172Z",
     "shell.execute_reply": "2021-09-25T20:02:53.109316Z",
     "shell.execute_reply.started": "2021-09-25T20:02:53.097808Z"
    }
   },
   "outputs": [],
   "source": [
    "test.info()"
   ]
  },
  {
   "cell_type": "code",
   "execution_count": 9,
   "metadata": {
    "execution": {
     "iopub.execute_input": "2021-09-25T20:02:53.112472Z",
     "iopub.status.busy": "2021-09-25T20:02:53.111610Z",
     "iopub.status.idle": "2021-09-25T20:02:53.129360Z",
     "shell.execute_reply": "2021-09-25T20:02:53.128400Z",
     "shell.execute_reply.started": "2021-09-25T20:02:53.112425Z"
    }
   },
   "outputs": [],
   "source": [
    "# checking null values\n",
    "print(\"training data\\n\",train.isnull().sum())\n",
    "print(\"\\ntesting data\\n\",test.isnull().sum())"
   ]
  },
  {
   "cell_type": "code",
   "execution_count": 10,
   "metadata": {
    "execution": {
     "iopub.execute_input": "2021-09-25T20:02:53.130702Z",
     "iopub.status.busy": "2021-09-25T20:02:53.130495Z",
     "iopub.status.idle": "2021-09-25T20:02:53.138269Z",
     "shell.execute_reply": "2021-09-25T20:02:53.137692Z",
     "shell.execute_reply.started": "2021-09-25T20:02:53.130679Z"
    }
   },
   "outputs": [],
   "source": [
    "# let's clean visualizations :)\n",
    "\n",
    "import warnings\n",
    "warnings.simplefilter(action='ignore', category=FutureWarning)\n"
   ]
  },
  {
   "cell_type": "code",
   "execution_count": 11,
   "metadata": {
    "execution": {
     "iopub.execute_input": "2021-09-25T20:02:53.139546Z",
     "iopub.status.busy": "2021-09-25T20:02:53.139225Z",
     "iopub.status.idle": "2021-09-25T20:02:54.769806Z",
     "shell.execute_reply": "2021-09-25T20:02:54.769213Z",
     "shell.execute_reply.started": "2021-09-25T20:02:53.139520Z"
    }
   },
   "outputs": [],
   "source": [
    "# Visualization\n",
    "count_plt = sns.countplot(train[\"Survived\"])\n",
    "plt.show(count_plt)\n",
    "\n",
    "Sex_plt = sns.countplot(x= \"Survived\",data=train, hue=\"Sex\")\n",
    "plt.show(Sex_plt)\n",
    "\n",
    "Embarked_plt = sns.countplot(x=\"Survived\", data=train, hue=\"Embarked\")\n",
    "plt.show(Embarked_plt)\n",
    "\n",
    "Pclass_plt = sns.countplot(x=\"Survived\", data=train, hue=\"Pclass\")\n",
    "plt.show(Pclass_plt)\n",
    "\n",
    "SibSp_plt = sns.boxplot(x=\"SibSp\", y= \"Survived\", data=train)\n",
    "plt.show(SibSp_plt)\n",
    "\n",
    "Parch_plt = sns.boxplot(x=\"Parch\", y= \"Survived\", data=train)\n",
    "plt.show(Parch_plt)\n",
    "\n",
    "Age_plt = sns.distplot(train[\"Age\"])\n",
    "plt.show(Age_plt)"
   ]
  },
  {
   "cell_type": "code",
   "execution_count": 12,
   "metadata": {
    "execution": {
     "iopub.execute_input": "2021-09-25T20:02:54.771498Z",
     "iopub.status.busy": "2021-09-25T20:02:54.770829Z",
     "iopub.status.idle": "2021-09-25T20:02:55.374241Z",
     "shell.execute_reply": "2021-09-25T20:02:55.373391Z",
     "shell.execute_reply.started": "2021-09-25T20:02:54.771463Z"
    }
   },
   "outputs": [],
   "source": [
    "# Correlation heatmap\n",
    "f, ax = plt.subplots(figsize=(10, 8))\n",
    "corr = train.corr()\n",
    "sns.heatmap(corr, mask=np.zeros_like(corr, dtype=np.bool),linewidths=0.1,annot=True, cmap=sns.diverging_palette(150, 10, as_cmap=True),\n",
    "            square=True, ax=ax)"
   ]
  },
  {
   "cell_type": "markdown",
   "metadata": {
    "execution": {
     "iopub.execute_input": "2021-09-25T17:16:35.951572Z",
     "iopub.status.busy": "2021-09-25T17:16:35.951237Z",
     "iopub.status.idle": "2021-09-25T17:16:35.959639Z",
     "shell.execute_reply": "2021-09-25T17:16:35.958488Z",
     "shell.execute_reply.started": "2021-09-25T17:16:35.951526Z"
    }
   },
   "source": [
    "# **Pre-Processing**"
   ]
  },
  {
   "cell_type": "code",
   "execution_count": 13,
   "metadata": {
    "execution": {
     "iopub.execute_input": "2021-09-25T20:02:55.376946Z",
     "iopub.status.busy": "2021-09-25T20:02:55.376329Z",
     "iopub.status.idle": "2021-09-25T20:02:55.385800Z",
     "shell.execute_reply": "2021-09-25T20:02:55.384935Z",
     "shell.execute_reply.started": "2021-09-25T20:02:55.376913Z"
    }
   },
   "outputs": [],
   "source": [
    "# age_mean, fair mean\n",
    "train['Age'].fillna(train['Age'].mean(), inplace = True)\n",
    "test['Age'].fillna(train['Age'].mean(), inplace = True)\n",
    "train['Embarked'].fillna('S', inplace = True)\n",
    "test['Fare'].fillna(train['Fare'].mean(), inplace = True)"
   ]
  },
  {
   "cell_type": "code",
   "execution_count": 14,
   "metadata": {
    "execution": {
     "iopub.execute_input": "2021-09-25T20:02:55.387249Z",
     "iopub.status.busy": "2021-09-25T20:02:55.387028Z",
     "iopub.status.idle": "2021-09-25T20:02:55.402834Z",
     "shell.execute_reply": "2021-09-25T20:02:55.401902Z",
     "shell.execute_reply.started": "2021-09-25T20:02:55.387225Z"
    }
   },
   "outputs": [],
   "source": [
    "train.isnull().sum()"
   ]
  },
  {
   "cell_type": "code",
   "execution_count": 15,
   "metadata": {
    "execution": {
     "iopub.execute_input": "2021-09-25T20:02:55.404635Z",
     "iopub.status.busy": "2021-09-25T20:02:55.404392Z",
     "iopub.status.idle": "2021-09-25T20:02:55.419052Z",
     "shell.execute_reply": "2021-09-25T20:02:55.418147Z",
     "shell.execute_reply.started": "2021-09-25T20:02:55.404606Z"
    }
   },
   "outputs": [],
   "source": [
    "test.isnull().sum()"
   ]
  },
  {
   "cell_type": "code",
   "execution_count": 16,
   "metadata": {
    "execution": {
     "iopub.execute_input": "2021-09-25T20:02:55.420698Z",
     "iopub.status.busy": "2021-09-25T20:02:55.420437Z",
     "iopub.status.idle": "2021-09-25T20:02:55.431536Z",
     "shell.execute_reply": "2021-09-25T20:02:55.430683Z",
     "shell.execute_reply.started": "2021-09-25T20:02:55.420669Z"
    }
   },
   "outputs": [],
   "source": [
    "# drop cabin column\n",
    "train.drop(columns=[\"Cabin\", \"Name\"], axis=1, inplace=True)\n",
    "test.drop(columns=[\"Cabin\", \"Name\"], axis=1, inplace=True)"
   ]
  },
  {
   "cell_type": "code",
   "execution_count": 17,
   "metadata": {
    "execution": {
     "iopub.execute_input": "2021-09-25T20:02:55.433197Z",
     "iopub.status.busy": "2021-09-25T20:02:55.432886Z",
     "iopub.status.idle": "2021-09-25T20:02:55.452462Z",
     "shell.execute_reply": "2021-09-25T20:02:55.451683Z",
     "shell.execute_reply.started": "2021-09-25T20:02:55.433169Z"
    }
   },
   "outputs": [],
   "source": [
    "train.info()"
   ]
  },
  {
   "cell_type": "code",
   "execution_count": 18,
   "metadata": {
    "execution": {
     "iopub.execute_input": "2021-09-25T20:02:55.453926Z",
     "iopub.status.busy": "2021-09-25T20:02:55.453699Z",
     "iopub.status.idle": "2021-09-25T20:02:55.464943Z",
     "shell.execute_reply": "2021-09-25T20:02:55.464032Z",
     "shell.execute_reply.started": "2021-09-25T20:02:55.453901Z"
    }
   },
   "outputs": [],
   "source": [
    "test.info()"
   ]
  }
 ],
 "metadata": {
  "kernelspec": {
   "display_name": "Python 3",
   "language": "python",
   "name": "python3"
  },
  "language_info": {
   "codemirror_mode": {
    "name": "ipython",
    "version": 3
   },
   "file_extension": ".py",
   "mimetype": "text/x-python",
   "name": "python",
   "nbconvert_exporter": "python",
   "pygments_lexer": "ipython3",
   "version": "3.8.10"
  }
 },
 "nbformat": 4,
 "nbformat_minor": 4
}
