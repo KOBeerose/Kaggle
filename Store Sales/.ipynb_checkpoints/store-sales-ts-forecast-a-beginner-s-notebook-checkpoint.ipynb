{
 "cells": [
  {
   "cell_type": "markdown",
   "metadata": {
    "_cell_guid": "b1076dfc-b9ad-4769-8c92-a6c4dae69d19",
    "_uuid": "8f2839f25d086af736a60e9eeb907d3b93b6e0e5"
   },
   "source": [
    "<h2 style=\"font-weight: bold\">Store Sales TS Forecast</h2>\n",
    "\n",
    "<h4>Emmm... wouldn't it be if we could use machine learning to predict grocery sales. So Yeah! you guess it! this notebook is going to be about the Store Sales TS Forecast Compeition 😄😄<br><br>I will be doing a EDA of review texts, some Visualization and Pre-Processing. and finally modelling <br></h4>\n",
    "\n",
    "* <h5 style=\"font-weight: 700\">Your feedback is very welcome</h5>\n",
    "* <h5 style=\"font-weight: 700\">If you find this notebook useful, please don't forget to upvote it!</h5>"
   ]
  },
  {
   "cell_type": "code",
   "execution_count": 1,
   "metadata": {
    "execution": {
     "iopub.execute_input": "2021-11-03T23:27:31.774784Z",
     "iopub.status.busy": "2021-11-03T23:27:31.77427Z",
     "iopub.status.idle": "2021-11-03T23:27:31.828585Z",
     "shell.execute_reply": "2021-11-03T23:27:31.827878Z",
     "shell.execute_reply.started": "2021-11-03T23:27:31.774746Z"
    }
   },
   "outputs": [],
   "source": [
    "# Required packages\n",
    "import numpy as np \n",
    "import pandas as pd \n",
    "import matplotlib.pyplot as plt\n",
    "import seaborn as sns\n",
    "\n",
    "from sklearn.linear_model import LinearRegression\n",
    "from statsmodels.tsa.deterministic import CalendarFourier, DeterministicProcess\n",
    "\n",
    "import warnings\n",
    "warnings.filterwarnings(\"ignore\")"
   ]
  },
  {
   "cell_type": "code",
   "execution_count": 2,
   "metadata": {
    "execution": {
     "iopub.execute_input": "2021-11-03T23:27:31.830566Z",
     "iopub.status.busy": "2021-11-03T23:27:31.830212Z",
     "iopub.status.idle": "2021-11-03T23:27:33.91388Z",
     "shell.execute_reply": "2021-11-03T23:27:33.912758Z",
     "shell.execute_reply.started": "2021-11-03T23:27:31.830535Z"
    }
   },
   "outputs": [],
   "source": [
    "# Loading the Data\n",
    "oil = pd.read_csv(\"../input/store-sales-time-series-forecasting/oil.csv\")\n",
    "holidays = pd.read_csv(\"../input/store-sales-time-series-forecasting/holidays_events.csv\")\n",
    "stores = pd.read_csv(\"../input/store-sales-time-series-forecasting/stores.csv\")\n",
    "train = pd.read_csv(\"../input/store-sales-time-series-forecasting/train.csv\")\n",
    "test = pd.read_csv(\"../input/store-sales-time-series-forecasting/test.csv\")\n",
    "transactions = pd.read_csv(\"../input/store-sales-time-series-forecasting/transactions.csv\")\n",
    "samp_subm = pd.read_csv(\"../input/store-sales-time-series-forecasting/sample_submission.csv\")"
   ]
  },
  {
   "cell_type": "markdown",
   "metadata": {},
   "source": [
    "#### **Getting to know the Data**"
   ]
  },
  {
   "cell_type": "code",
   "execution_count": 3,
   "metadata": {
    "execution": {
     "iopub.execute_input": "2021-11-03T23:27:33.915457Z",
     "iopub.status.busy": "2021-11-03T23:27:33.915204Z",
     "iopub.status.idle": "2021-11-03T23:27:33.928914Z",
     "shell.execute_reply": "2021-11-03T23:27:33.928088Z",
     "shell.execute_reply.started": "2021-11-03T23:27:33.915428Z"
    }
   },
   "outputs": [
    {
     "data": {
      "text/html": [
       "<div>\n",
       "<style scoped>\n",
       "    .dataframe tbody tr th:only-of-type {\n",
       "        vertical-align: middle;\n",
       "    }\n",
       "\n",
       "    .dataframe tbody tr th {\n",
       "        vertical-align: top;\n",
       "    }\n",
       "\n",
       "    .dataframe thead th {\n",
       "        text-align: right;\n",
       "    }\n",
       "</style>\n",
       "<table border=\"1\" class=\"dataframe\">\n",
       "  <thead>\n",
       "    <tr style=\"text-align: right;\">\n",
       "      <th></th>\n",
       "      <th>id</th>\n",
       "      <th>date</th>\n",
       "      <th>store_nbr</th>\n",
       "      <th>family</th>\n",
       "      <th>sales</th>\n",
       "      <th>onpromotion</th>\n",
       "    </tr>\n",
       "  </thead>\n",
       "  <tbody>\n",
       "    <tr>\n",
       "      <th>0</th>\n",
       "      <td>0</td>\n",
       "      <td>2013-01-01</td>\n",
       "      <td>1</td>\n",
       "      <td>AUTOMOTIVE</td>\n",
       "      <td>0.0</td>\n",
       "      <td>0.0</td>\n",
       "    </tr>\n",
       "    <tr>\n",
       "      <th>1</th>\n",
       "      <td>1</td>\n",
       "      <td>2013-01-01</td>\n",
       "      <td>1</td>\n",
       "      <td>BABY CARE</td>\n",
       "      <td>0.0</td>\n",
       "      <td>0.0</td>\n",
       "    </tr>\n",
       "    <tr>\n",
       "      <th>2</th>\n",
       "      <td>2</td>\n",
       "      <td>2013-01-01</td>\n",
       "      <td>1</td>\n",
       "      <td>BEAUTY</td>\n",
       "      <td>0.0</td>\n",
       "      <td>0.0</td>\n",
       "    </tr>\n",
       "    <tr>\n",
       "      <th>3</th>\n",
       "      <td>3</td>\n",
       "      <td>2013-01-01</td>\n",
       "      <td>1</td>\n",
       "      <td>BEVERAGES</td>\n",
       "      <td>0.0</td>\n",
       "      <td>0.0</td>\n",
       "    </tr>\n",
       "    <tr>\n",
       "      <th>4</th>\n",
       "      <td>4</td>\n",
       "      <td>2013-01-01</td>\n",
       "      <td>1</td>\n",
       "      <td>BOOKS</td>\n",
       "      <td>0.0</td>\n",
       "      <td>0.0</td>\n",
       "    </tr>\n",
       "  </tbody>\n",
       "</table>\n",
       "</div>"
      ],
      "text/plain": [
       "   id        date  store_nbr      family  sales  onpromotion\n",
       "0   0  2013-01-01          1  AUTOMOTIVE    0.0          0.0\n",
       "1   1  2013-01-01          1   BABY CARE    0.0          0.0\n",
       "2   2  2013-01-01          1      BEAUTY    0.0          0.0\n",
       "3   3  2013-01-01          1   BEVERAGES    0.0          0.0\n",
       "4   4  2013-01-01          1       BOOKS    0.0          0.0"
      ]
     },
     "execution_count": 3,
     "metadata": {},
     "output_type": "execute_result"
    }
   ],
   "source": [
    "train.head()"
   ]
  },
  {
   "cell_type": "code",
   "execution_count": 4,
   "metadata": {
    "execution": {
     "iopub.execute_input": "2021-11-03T23:27:33.93202Z",
     "iopub.status.busy": "2021-11-03T23:27:33.931157Z",
     "iopub.status.idle": "2021-11-03T23:27:33.950387Z",
     "shell.execute_reply": "2021-11-03T23:27:33.949755Z",
     "shell.execute_reply.started": "2021-11-03T23:27:33.931974Z"
    }
   },
   "outputs": [
    {
     "data": {
      "text/html": [
       "<div>\n",
       "<style scoped>\n",
       "    .dataframe tbody tr th:only-of-type {\n",
       "        vertical-align: middle;\n",
       "    }\n",
       "\n",
       "    .dataframe tbody tr th {\n",
       "        vertical-align: top;\n",
       "    }\n",
       "\n",
       "    .dataframe thead th {\n",
       "        text-align: right;\n",
       "    }\n",
       "</style>\n",
       "<table border=\"1\" class=\"dataframe\">\n",
       "  <thead>\n",
       "    <tr style=\"text-align: right;\">\n",
       "      <th></th>\n",
       "      <th>id</th>\n",
       "      <th>date</th>\n",
       "      <th>store_nbr</th>\n",
       "      <th>family</th>\n",
       "      <th>onpromotion</th>\n",
       "    </tr>\n",
       "  </thead>\n",
       "  <tbody>\n",
       "    <tr>\n",
       "      <th>0</th>\n",
       "      <td>3000888</td>\n",
       "      <td>2017-08-16</td>\n",
       "      <td>1</td>\n",
       "      <td>AUTOMOTIVE</td>\n",
       "      <td>20.0</td>\n",
       "    </tr>\n",
       "    <tr>\n",
       "      <th>1</th>\n",
       "      <td>3000889</td>\n",
       "      <td>2017-08-16</td>\n",
       "      <td>1</td>\n",
       "      <td>BABY CARE</td>\n",
       "      <td>1.0</td>\n",
       "    </tr>\n",
       "    <tr>\n",
       "      <th>2</th>\n",
       "      <td>3000890</td>\n",
       "      <td>2017-08-16</td>\n",
       "      <td>1</td>\n",
       "      <td>BEAUTY</td>\n",
       "      <td>8.0</td>\n",
       "    </tr>\n",
       "    <tr>\n",
       "      <th>3</th>\n",
       "      <td>3000891</td>\n",
       "      <td>2017-08-16</td>\n",
       "      <td>1</td>\n",
       "      <td>BEVERAGES</td>\n",
       "      <td>560.0</td>\n",
       "    </tr>\n",
       "    <tr>\n",
       "      <th>4</th>\n",
       "      <td>3000892</td>\n",
       "      <td>2017-08-16</td>\n",
       "      <td>1</td>\n",
       "      <td>BOOKS</td>\n",
       "      <td>1.0</td>\n",
       "    </tr>\n",
       "  </tbody>\n",
       "</table>\n",
       "</div>"
      ],
      "text/plain": [
       "        id        date  store_nbr      family  onpromotion\n",
       "0  3000888  2017-08-16          1  AUTOMOTIVE         20.0\n",
       "1  3000889  2017-08-16          1   BABY CARE          1.0\n",
       "2  3000890  2017-08-16          1      BEAUTY          8.0\n",
       "3  3000891  2017-08-16          1   BEVERAGES        560.0\n",
       "4  3000892  2017-08-16          1       BOOKS          1.0"
      ]
     },
     "execution_count": 4,
     "metadata": {},
     "output_type": "execute_result"
    }
   ],
   "source": [
    "test.head()"
   ]
  },
  {
   "cell_type": "code",
   "execution_count": 5,
   "metadata": {
    "execution": {
     "iopub.execute_input": "2021-11-03T23:27:33.953869Z",
     "iopub.status.busy": "2021-11-03T23:27:33.953253Z",
     "iopub.status.idle": "2021-11-03T23:27:33.968647Z",
     "shell.execute_reply": "2021-11-03T23:27:33.967999Z",
     "shell.execute_reply.started": "2021-11-03T23:27:33.953822Z"
    }
   },
   "outputs": [
    {
     "data": {
      "text/html": [
       "<div>\n",
       "<style scoped>\n",
       "    .dataframe tbody tr th:only-of-type {\n",
       "        vertical-align: middle;\n",
       "    }\n",
       "\n",
       "    .dataframe tbody tr th {\n",
       "        vertical-align: top;\n",
       "    }\n",
       "\n",
       "    .dataframe thead th {\n",
       "        text-align: right;\n",
       "    }\n",
       "</style>\n",
       "<table border=\"1\" class=\"dataframe\">\n",
       "  <thead>\n",
       "    <tr style=\"text-align: right;\">\n",
       "      <th></th>\n",
       "      <th>date</th>\n",
       "      <th>dcoilwtico</th>\n",
       "    </tr>\n",
       "  </thead>\n",
       "  <tbody>\n",
       "    <tr>\n",
       "      <th>0</th>\n",
       "      <td>2013-01-01</td>\n",
       "      <td>NaN</td>\n",
       "    </tr>\n",
       "    <tr>\n",
       "      <th>1</th>\n",
       "      <td>2013-01-02</td>\n",
       "      <td>93.14</td>\n",
       "    </tr>\n",
       "    <tr>\n",
       "      <th>2</th>\n",
       "      <td>2013-01-03</td>\n",
       "      <td>92.97</td>\n",
       "    </tr>\n",
       "    <tr>\n",
       "      <th>3</th>\n",
       "      <td>2013-01-04</td>\n",
       "      <td>93.12</td>\n",
       "    </tr>\n",
       "    <tr>\n",
       "      <th>4</th>\n",
       "      <td>2013-01-07</td>\n",
       "      <td>93.20</td>\n",
       "    </tr>\n",
       "  </tbody>\n",
       "</table>\n",
       "</div>"
      ],
      "text/plain": [
       "         date  dcoilwtico\n",
       "0  2013-01-01         NaN\n",
       "1  2013-01-02       93.14\n",
       "2  2013-01-03       92.97\n",
       "3  2013-01-04       93.12\n",
       "4  2013-01-07       93.20"
      ]
     },
     "execution_count": 5,
     "metadata": {},
     "output_type": "execute_result"
    }
   ],
   "source": [
    "oil.head()"
   ]
  },
  {
   "cell_type": "code",
   "execution_count": 6,
   "metadata": {
    "execution": {
     "iopub.execute_input": "2021-11-03T23:27:33.970633Z",
     "iopub.status.busy": "2021-11-03T23:27:33.969879Z",
     "iopub.status.idle": "2021-11-03T23:27:33.989764Z",
     "shell.execute_reply": "2021-11-03T23:27:33.988916Z",
     "shell.execute_reply.started": "2021-11-03T23:27:33.970599Z"
    }
   },
   "outputs": [
    {
     "data": {
      "text/html": [
       "<div>\n",
       "<style scoped>\n",
       "    .dataframe tbody tr th:only-of-type {\n",
       "        vertical-align: middle;\n",
       "    }\n",
       "\n",
       "    .dataframe tbody tr th {\n",
       "        vertical-align: top;\n",
       "    }\n",
       "\n",
       "    .dataframe thead th {\n",
       "        text-align: right;\n",
       "    }\n",
       "</style>\n",
       "<table border=\"1\" class=\"dataframe\">\n",
       "  <thead>\n",
       "    <tr style=\"text-align: right;\">\n",
       "      <th></th>\n",
       "      <th>date</th>\n",
       "      <th>type</th>\n",
       "      <th>locale</th>\n",
       "      <th>locale_name</th>\n",
       "      <th>description</th>\n",
       "      <th>transferred</th>\n",
       "    </tr>\n",
       "  </thead>\n",
       "  <tbody>\n",
       "    <tr>\n",
       "      <th>0</th>\n",
       "      <td>2012-03-02</td>\n",
       "      <td>Holiday</td>\n",
       "      <td>Local</td>\n",
       "      <td>Manta</td>\n",
       "      <td>Fundacion de Manta</td>\n",
       "      <td>False</td>\n",
       "    </tr>\n",
       "    <tr>\n",
       "      <th>1</th>\n",
       "      <td>2012-04-01</td>\n",
       "      <td>Holiday</td>\n",
       "      <td>Regional</td>\n",
       "      <td>Cotopaxi</td>\n",
       "      <td>Provincializacion de Cotopaxi</td>\n",
       "      <td>False</td>\n",
       "    </tr>\n",
       "    <tr>\n",
       "      <th>2</th>\n",
       "      <td>2012-04-12</td>\n",
       "      <td>Holiday</td>\n",
       "      <td>Local</td>\n",
       "      <td>Cuenca</td>\n",
       "      <td>Fundacion de Cuenca</td>\n",
       "      <td>False</td>\n",
       "    </tr>\n",
       "    <tr>\n",
       "      <th>3</th>\n",
       "      <td>2012-04-14</td>\n",
       "      <td>Holiday</td>\n",
       "      <td>Local</td>\n",
       "      <td>Libertad</td>\n",
       "      <td>Cantonizacion de Libertad</td>\n",
       "      <td>False</td>\n",
       "    </tr>\n",
       "    <tr>\n",
       "      <th>4</th>\n",
       "      <td>2012-04-21</td>\n",
       "      <td>Holiday</td>\n",
       "      <td>Local</td>\n",
       "      <td>Riobamba</td>\n",
       "      <td>Cantonizacion de Riobamba</td>\n",
       "      <td>False</td>\n",
       "    </tr>\n",
       "  </tbody>\n",
       "</table>\n",
       "</div>"
      ],
      "text/plain": [
       "         date     type    locale locale_name                    description  \\\n",
       "0  2012-03-02  Holiday     Local       Manta             Fundacion de Manta   \n",
       "1  2012-04-01  Holiday  Regional    Cotopaxi  Provincializacion de Cotopaxi   \n",
       "2  2012-04-12  Holiday     Local      Cuenca            Fundacion de Cuenca   \n",
       "3  2012-04-14  Holiday     Local    Libertad      Cantonizacion de Libertad   \n",
       "4  2012-04-21  Holiday     Local    Riobamba      Cantonizacion de Riobamba   \n",
       "\n",
       "   transferred  \n",
       "0        False  \n",
       "1        False  \n",
       "2        False  \n",
       "3        False  \n",
       "4        False  "
      ]
     },
     "execution_count": 6,
     "metadata": {},
     "output_type": "execute_result"
    }
   ],
   "source": [
    "holidays.head()"
   ]
  },
  {
   "cell_type": "code",
   "execution_count": 7,
   "metadata": {
    "execution": {
     "iopub.execute_input": "2021-11-03T23:27:33.992106Z",
     "iopub.status.busy": "2021-11-03T23:27:33.991248Z",
     "iopub.status.idle": "2021-11-03T23:27:34.00849Z",
     "shell.execute_reply": "2021-11-03T23:27:34.007752Z",
     "shell.execute_reply.started": "2021-11-03T23:27:33.99206Z"
    }
   },
   "outputs": [
    {
     "data": {
      "text/html": [
       "<div>\n",
       "<style scoped>\n",
       "    .dataframe tbody tr th:only-of-type {\n",
       "        vertical-align: middle;\n",
       "    }\n",
       "\n",
       "    .dataframe tbody tr th {\n",
       "        vertical-align: top;\n",
       "    }\n",
       "\n",
       "    .dataframe thead th {\n",
       "        text-align: right;\n",
       "    }\n",
       "</style>\n",
       "<table border=\"1\" class=\"dataframe\">\n",
       "  <thead>\n",
       "    <tr style=\"text-align: right;\">\n",
       "      <th></th>\n",
       "      <th>store_nbr</th>\n",
       "      <th>city</th>\n",
       "      <th>state</th>\n",
       "      <th>type</th>\n",
       "      <th>cluster</th>\n",
       "    </tr>\n",
       "  </thead>\n",
       "  <tbody>\n",
       "    <tr>\n",
       "      <th>0</th>\n",
       "      <td>1</td>\n",
       "      <td>Quito</td>\n",
       "      <td>Pichincha</td>\n",
       "      <td>D</td>\n",
       "      <td>13</td>\n",
       "    </tr>\n",
       "    <tr>\n",
       "      <th>1</th>\n",
       "      <td>2</td>\n",
       "      <td>Quito</td>\n",
       "      <td>Pichincha</td>\n",
       "      <td>D</td>\n",
       "      <td>13</td>\n",
       "    </tr>\n",
       "    <tr>\n",
       "      <th>2</th>\n",
       "      <td>3</td>\n",
       "      <td>Quito</td>\n",
       "      <td>Pichincha</td>\n",
       "      <td>D</td>\n",
       "      <td>8</td>\n",
       "    </tr>\n",
       "    <tr>\n",
       "      <th>3</th>\n",
       "      <td>4</td>\n",
       "      <td>Quito</td>\n",
       "      <td>Pichincha</td>\n",
       "      <td>D</td>\n",
       "      <td>9</td>\n",
       "    </tr>\n",
       "    <tr>\n",
       "      <th>4</th>\n",
       "      <td>5</td>\n",
       "      <td>Santo Domingo</td>\n",
       "      <td>Santo Domingo de los Tsachilas</td>\n",
       "      <td>D</td>\n",
       "      <td>4</td>\n",
       "    </tr>\n",
       "  </tbody>\n",
       "</table>\n",
       "</div>"
      ],
      "text/plain": [
       "   store_nbr           city                           state type  cluster\n",
       "0          1          Quito                       Pichincha    D       13\n",
       "1          2          Quito                       Pichincha    D       13\n",
       "2          3          Quito                       Pichincha    D        8\n",
       "3          4          Quito                       Pichincha    D        9\n",
       "4          5  Santo Domingo  Santo Domingo de los Tsachilas    D        4"
      ]
     },
     "execution_count": 7,
     "metadata": {},
     "output_type": "execute_result"
    }
   ],
   "source": [
    "stores.head()"
   ]
  },
  {
   "cell_type": "code",
   "execution_count": 8,
   "metadata": {
    "execution": {
     "iopub.execute_input": "2021-11-03T23:27:34.010544Z",
     "iopub.status.busy": "2021-11-03T23:27:34.009873Z",
     "iopub.status.idle": "2021-11-03T23:27:34.026192Z",
     "shell.execute_reply": "2021-11-03T23:27:34.025603Z",
     "shell.execute_reply.started": "2021-11-03T23:27:34.010499Z"
    }
   },
   "outputs": [
    {
     "data": {
      "text/html": [
       "<div>\n",
       "<style scoped>\n",
       "    .dataframe tbody tr th:only-of-type {\n",
       "        vertical-align: middle;\n",
       "    }\n",
       "\n",
       "    .dataframe tbody tr th {\n",
       "        vertical-align: top;\n",
       "    }\n",
       "\n",
       "    .dataframe thead th {\n",
       "        text-align: right;\n",
       "    }\n",
       "</style>\n",
       "<table border=\"1\" class=\"dataframe\">\n",
       "  <thead>\n",
       "    <tr style=\"text-align: right;\">\n",
       "      <th></th>\n",
       "      <th>date</th>\n",
       "      <th>store_nbr</th>\n",
       "      <th>transactions</th>\n",
       "    </tr>\n",
       "  </thead>\n",
       "  <tbody>\n",
       "    <tr>\n",
       "      <th>0</th>\n",
       "      <td>2013-01-01</td>\n",
       "      <td>25</td>\n",
       "      <td>770</td>\n",
       "    </tr>\n",
       "    <tr>\n",
       "      <th>1</th>\n",
       "      <td>2013-01-02</td>\n",
       "      <td>1</td>\n",
       "      <td>2111</td>\n",
       "    </tr>\n",
       "    <tr>\n",
       "      <th>2</th>\n",
       "      <td>2013-01-02</td>\n",
       "      <td>2</td>\n",
       "      <td>2358</td>\n",
       "    </tr>\n",
       "    <tr>\n",
       "      <th>3</th>\n",
       "      <td>2013-01-02</td>\n",
       "      <td>3</td>\n",
       "      <td>3487</td>\n",
       "    </tr>\n",
       "    <tr>\n",
       "      <th>4</th>\n",
       "      <td>2013-01-02</td>\n",
       "      <td>4</td>\n",
       "      <td>1922</td>\n",
       "    </tr>\n",
       "  </tbody>\n",
       "</table>\n",
       "</div>"
      ],
      "text/plain": [
       "         date  store_nbr  transactions\n",
       "0  2013-01-01         25           770\n",
       "1  2013-01-02          1          2111\n",
       "2  2013-01-02          2          2358\n",
       "3  2013-01-02          3          3487\n",
       "4  2013-01-02          4          1922"
      ]
     },
     "execution_count": 8,
     "metadata": {},
     "output_type": "execute_result"
    }
   ],
   "source": [
    "transactions.head()"
   ]
  },
  {
   "cell_type": "markdown",
   "metadata": {},
   "source": [
    "#  **Exploratory Data Analysis**"
   ]
  },
  {
   "cell_type": "code",
   "execution_count": 9,
   "metadata": {
    "execution": {
     "iopub.execute_input": "2021-11-03T23:27:34.027901Z",
     "iopub.status.busy": "2021-11-03T23:27:34.027266Z",
     "iopub.status.idle": "2021-11-03T23:27:34.035795Z",
     "shell.execute_reply": "2021-11-03T23:27:34.035133Z",
     "shell.execute_reply.started": "2021-11-03T23:27:34.027866Z"
    }
   },
   "outputs": [],
   "source": [
    "# This function will do basic checks for Dataframes\n",
    "def basic_eda(df):\n",
    "    print(\"\\n----------TOP 5 RECORDS--------\\n\")\n",
    "    print(df.head(5))\n",
    "    print(\"\\n----------INFO-----------------\\n\")\n",
    "    print(df.info())\n",
    "    print(\"\\n----------Describe-------------\\n\")\n",
    "    print(df.describe())\n",
    "    print(\"\\n----------Columns--------------\\n\")\n",
    "    print(df.columns)\n",
    "    print(\"\\n----------Data Types-----------\\n\")\n",
    "    print(df.dtypes)\n",
    "    print(\"\\n-------Missing Values----------\\n\")\n",
    "    print(df.isnull().sum())\n",
    "    print(\"\\n-------NULL values-------------\\n\")\n",
    "    print(df.isna().sum())\n",
    "    print(\"\\n-----Shape Of Data-------------\\n\")\n",
    "    print(df.shape)\n",
    "    numeric_variables = df.select_dtypes(include=[np.number])\n",
    "    categorical_variables = df.select_dtypes(exclude=[np.number])\n",
    "\n",
    "    print('Numeric variables in the given the dataframe : ',numeric_variables.shape[1])\n",
    "    print('Categorical variables in the givne the dataframe:',categorical_variables.shape[1])"
   ]
  },
  {
   "cell_type": "code",
   "execution_count": 10,
   "metadata": {
    "execution": {
     "iopub.execute_input": "2021-11-03T23:27:34.037393Z",
     "iopub.status.busy": "2021-11-03T23:27:34.036777Z",
     "iopub.status.idle": "2021-11-03T23:27:34.07484Z",
     "shell.execute_reply": "2021-11-03T23:27:34.074167Z",
     "shell.execute_reply.started": "2021-11-03T23:27:34.037362Z"
    }
   },
   "outputs": [
    {
     "name": "stdout",
     "output_type": "stream",
     "text": [
      "\n",
      "============================= oil =============================\n",
      "\n",
      "----------TOP 5 RECORDS--------\n",
      "\n",
      "         date  dcoilwtico\n",
      "0  2013-01-01         NaN\n",
      "1  2013-01-02       93.14\n",
      "2  2013-01-03       92.97\n",
      "3  2013-01-04       93.12\n",
      "4  2013-01-07       93.20\n",
      "\n",
      "----------INFO-----------------\n",
      "\n",
      "<class 'pandas.core.frame.DataFrame'>\n",
      "RangeIndex: 1218 entries, 0 to 1217\n",
      "Data columns (total 2 columns):\n",
      " #   Column      Non-Null Count  Dtype  \n",
      "---  ------      --------------  -----  \n",
      " 0   date        1218 non-null   object \n",
      " 1   dcoilwtico  1175 non-null   float64\n",
      "dtypes: float64(1), object(1)\n",
      "memory usage: 19.2+ KB\n",
      "None\n",
      "\n",
      "----------Describe-------------\n",
      "\n",
      "        dcoilwtico\n",
      "count  1175.000000\n",
      "mean     67.714366\n",
      "std      25.630476\n",
      "min      26.190000\n",
      "25%      46.405000\n",
      "50%      53.190000\n",
      "75%      95.660000\n",
      "max     110.620000\n",
      "\n",
      "----------Columns--------------\n",
      "\n",
      "Index(['date', 'dcoilwtico'], dtype='object')\n",
      "\n",
      "----------Data Types-----------\n",
      "\n",
      "date           object\n",
      "dcoilwtico    float64\n",
      "dtype: object\n",
      "\n",
      "-------Missing Values----------\n",
      "\n",
      "date           0\n",
      "dcoilwtico    43\n",
      "dtype: int64\n",
      "\n",
      "-------NULL values-------------\n",
      "\n",
      "date           0\n",
      "dcoilwtico    43\n",
      "dtype: int64\n",
      "\n",
      "-----Shape Of Data-------------\n",
      "\n",
      "(1218, 2)\n",
      "Numeric variables in the given the dataframe :  1\n",
      "Categorical variables in the givne the dataframe: 1\n"
     ]
    }
   ],
   "source": [
    "#Litle bit of exploration of data\n",
    "\n",
    "print(\"\\n============================= oil =============================\")\n",
    "basic_eda(oil)"
   ]
  },
  {
   "cell_type": "code",
   "execution_count": 11,
   "metadata": {
    "execution": {
     "iopub.execute_input": "2021-11-03T23:27:34.076257Z",
     "iopub.status.busy": "2021-11-03T23:27:34.075932Z",
     "iopub.status.idle": "2021-11-03T23:27:34.113262Z",
     "shell.execute_reply": "2021-11-03T23:27:34.112378Z",
     "shell.execute_reply.started": "2021-11-03T23:27:34.076229Z"
    }
   },
   "outputs": [
    {
     "name": "stdout",
     "output_type": "stream",
     "text": [
      "\n",
      "============================= holidays =============================\n",
      "\n",
      "----------TOP 5 RECORDS--------\n",
      "\n",
      "         date     type    locale locale_name                    description  \\\n",
      "0  2012-03-02  Holiday     Local       Manta             Fundacion de Manta   \n",
      "1  2012-04-01  Holiday  Regional    Cotopaxi  Provincializacion de Cotopaxi   \n",
      "2  2012-04-12  Holiday     Local      Cuenca            Fundacion de Cuenca   \n",
      "3  2012-04-14  Holiday     Local    Libertad      Cantonizacion de Libertad   \n",
      "4  2012-04-21  Holiday     Local    Riobamba      Cantonizacion de Riobamba   \n",
      "\n",
      "   transferred  \n",
      "0        False  \n",
      "1        False  \n",
      "2        False  \n",
      "3        False  \n",
      "4        False  \n",
      "\n",
      "----------INFO-----------------\n",
      "\n",
      "<class 'pandas.core.frame.DataFrame'>\n",
      "RangeIndex: 350 entries, 0 to 349\n",
      "Data columns (total 6 columns):\n",
      " #   Column       Non-Null Count  Dtype \n",
      "---  ------       --------------  ----- \n",
      " 0   date         350 non-null    object\n",
      " 1   type         350 non-null    object\n",
      " 2   locale       350 non-null    object\n",
      " 3   locale_name  350 non-null    object\n",
      " 4   description  350 non-null    object\n",
      " 5   transferred  350 non-null    bool  \n",
      "dtypes: bool(1), object(5)\n",
      "memory usage: 14.1+ KB\n",
      "None\n",
      "\n",
      "----------Describe-------------\n",
      "\n",
      "              date     type    locale locale_name description transferred\n",
      "count          350      350       350         350         350         350\n",
      "unique         312        6         3          24         103           2\n",
      "top     2014-06-25  Holiday  National     Ecuador    Carnaval       False\n",
      "freq             4      221       174         174          10         338\n",
      "\n",
      "----------Columns--------------\n",
      "\n",
      "Index(['date', 'type', 'locale', 'locale_name', 'description', 'transferred'], dtype='object')\n",
      "\n",
      "----------Data Types-----------\n",
      "\n",
      "date           object\n",
      "type           object\n",
      "locale         object\n",
      "locale_name    object\n",
      "description    object\n",
      "transferred      bool\n",
      "dtype: object\n",
      "\n",
      "-------Missing Values----------\n",
      "\n",
      "date           0\n",
      "type           0\n",
      "locale         0\n",
      "locale_name    0\n",
      "description    0\n",
      "transferred    0\n",
      "dtype: int64\n",
      "\n",
      "-------NULL values-------------\n",
      "\n",
      "date           0\n",
      "type           0\n",
      "locale         0\n",
      "locale_name    0\n",
      "description    0\n",
      "transferred    0\n",
      "dtype: int64\n",
      "\n",
      "-----Shape Of Data-------------\n",
      "\n",
      "(350, 6)\n",
      "Numeric variables in the given the dataframe :  0\n",
      "Categorical variables in the givne the dataframe: 6\n"
     ]
    }
   ],
   "source": [
    "print(\"\\n============================= holidays =============================\")\n",
    "basic_eda(holidays)"
   ]
  },
  {
   "cell_type": "code",
   "execution_count": 12,
   "metadata": {
    "execution": {
     "iopub.execute_input": "2021-11-03T23:27:34.114904Z",
     "iopub.status.busy": "2021-11-03T23:27:34.114636Z",
     "iopub.status.idle": "2021-11-03T23:27:34.144119Z",
     "shell.execute_reply": "2021-11-03T23:27:34.143434Z",
     "shell.execute_reply.started": "2021-11-03T23:27:34.114874Z"
    }
   },
   "outputs": [
    {
     "name": "stdout",
     "output_type": "stream",
     "text": [
      "\n",
      "============================= Shops =============================\n",
      "\n",
      "----------TOP 5 RECORDS--------\n",
      "\n",
      "   store_nbr           city                           state type  cluster\n",
      "0          1          Quito                       Pichincha    D       13\n",
      "1          2          Quito                       Pichincha    D       13\n",
      "2          3          Quito                       Pichincha    D        8\n",
      "3          4          Quito                       Pichincha    D        9\n",
      "4          5  Santo Domingo  Santo Domingo de los Tsachilas    D        4\n",
      "\n",
      "----------INFO-----------------\n",
      "\n",
      "<class 'pandas.core.frame.DataFrame'>\n",
      "RangeIndex: 54 entries, 0 to 53\n",
      "Data columns (total 5 columns):\n",
      " #   Column     Non-Null Count  Dtype \n",
      "---  ------     --------------  ----- \n",
      " 0   store_nbr  54 non-null     int64 \n",
      " 1   city       54 non-null     object\n",
      " 2   state      54 non-null     object\n",
      " 3   type       54 non-null     object\n",
      " 4   cluster    54 non-null     int64 \n",
      "dtypes: int64(2), object(3)\n",
      "memory usage: 2.2+ KB\n",
      "None\n",
      "\n",
      "----------Describe-------------\n",
      "\n",
      "       store_nbr    cluster\n",
      "count  54.000000  54.000000\n",
      "mean   27.500000   8.481481\n",
      "std    15.732133   4.693395\n",
      "min     1.000000   1.000000\n",
      "25%    14.250000   4.000000\n",
      "50%    27.500000   8.500000\n",
      "75%    40.750000  13.000000\n",
      "max    54.000000  17.000000\n",
      "\n",
      "----------Columns--------------\n",
      "\n",
      "Index(['store_nbr', 'city', 'state', 'type', 'cluster'], dtype='object')\n",
      "\n",
      "----------Data Types-----------\n",
      "\n",
      "store_nbr     int64\n",
      "city         object\n",
      "state        object\n",
      "type         object\n",
      "cluster       int64\n",
      "dtype: object\n",
      "\n",
      "-------Missing Values----------\n",
      "\n",
      "store_nbr    0\n",
      "city         0\n",
      "state        0\n",
      "type         0\n",
      "cluster      0\n",
      "dtype: int64\n",
      "\n",
      "-------NULL values-------------\n",
      "\n",
      "store_nbr    0\n",
      "city         0\n",
      "state        0\n",
      "type         0\n",
      "cluster      0\n",
      "dtype: int64\n",
      "\n",
      "-----Shape Of Data-------------\n",
      "\n",
      "(54, 5)\n",
      "Numeric variables in the given the dataframe :  2\n",
      "Categorical variables in the givne the dataframe: 3\n"
     ]
    }
   ],
   "source": [
    "print(\"\\n============================= Shops =============================\")\n",
    "basic_eda(stores)"
   ]
  },
  {
   "cell_type": "code",
   "execution_count": 13,
   "metadata": {
    "execution": {
     "iopub.execute_input": "2021-11-03T23:27:34.145819Z",
     "iopub.status.busy": "2021-11-03T23:27:34.1455Z",
     "iopub.status.idle": "2021-11-03T23:27:35.935663Z",
     "shell.execute_reply": "2021-11-03T23:27:35.93479Z",
     "shell.execute_reply.started": "2021-11-03T23:27:34.145777Z"
    }
   },
   "outputs": [
    {
     "name": "stdout",
     "output_type": "stream",
     "text": [
      "\n",
      "============================= train =============================\n",
      "\n",
      "----------TOP 5 RECORDS--------\n",
      "\n",
      "   id        date  store_nbr      family  sales  onpromotion\n",
      "0   0  2013-01-01          1  AUTOMOTIVE    0.0          0.0\n",
      "1   1  2013-01-01          1   BABY CARE    0.0          0.0\n",
      "2   2  2013-01-01          1      BEAUTY    0.0          0.0\n",
      "3   3  2013-01-01          1   BEVERAGES    0.0          0.0\n",
      "4   4  2013-01-01          1       BOOKS    0.0          0.0\n",
      "\n",
      "----------INFO-----------------\n",
      "\n",
      "<class 'pandas.core.frame.DataFrame'>\n",
      "RangeIndex: 3000888 entries, 0 to 3000887\n",
      "Data columns (total 6 columns):\n",
      " #   Column       Dtype  \n",
      "---  ------       -----  \n",
      " 0   id           int64  \n",
      " 1   date         object \n",
      " 2   store_nbr    int64  \n",
      " 3   family       object \n",
      " 4   sales        float64\n",
      " 5   onpromotion  float64\n",
      "dtypes: float64(2), int64(2), object(2)\n",
      "memory usage: 137.4+ MB\n",
      "None\n",
      "\n",
      "----------Describe-------------\n",
      "\n",
      "                 id     store_nbr         sales   onpromotion\n",
      "count  3.000888e+06  3.000888e+06  3.000888e+06  3.000888e+06\n",
      "mean   1.500444e+06  2.750000e+01  3.577757e+02  3.460289e+01\n",
      "std    8.662819e+05  1.558579e+01  1.101998e+03  9.948216e+01\n",
      "min    0.000000e+00  1.000000e+00  0.000000e+00  0.000000e+00\n",
      "25%    7.502218e+05  1.400000e+01  0.000000e+00  0.000000e+00\n",
      "50%    1.500444e+06  2.750000e+01  1.100000e+01  1.000000e+00\n",
      "75%    2.250665e+06  4.100000e+01  1.958473e+02  1.600000e+01\n",
      "max    3.000887e+06  5.400000e+01  1.247170e+05  1.006000e+03\n",
      "\n",
      "----------Columns--------------\n",
      "\n",
      "Index(['id', 'date', 'store_nbr', 'family', 'sales', 'onpromotion'], dtype='object')\n",
      "\n",
      "----------Data Types-----------\n",
      "\n",
      "id               int64\n",
      "date            object\n",
      "store_nbr        int64\n",
      "family          object\n",
      "sales          float64\n",
      "onpromotion    float64\n",
      "dtype: object\n",
      "\n",
      "-------Missing Values----------\n",
      "\n",
      "id             0\n",
      "date           0\n",
      "store_nbr      0\n",
      "family         0\n",
      "sales          0\n",
      "onpromotion    0\n",
      "dtype: int64\n",
      "\n",
      "-------NULL values-------------\n",
      "\n",
      "id             0\n",
      "date           0\n",
      "store_nbr      0\n",
      "family         0\n",
      "sales          0\n",
      "onpromotion    0\n",
      "dtype: int64\n",
      "\n",
      "-----Shape Of Data-------------\n",
      "\n",
      "(3000888, 6)\n",
      "Numeric variables in the given the dataframe :  4\n",
      "Categorical variables in the givne the dataframe: 2\n"
     ]
    }
   ],
   "source": [
    "print(\"\\n============================= train =============================\")\n",
    "basic_eda(train)"
   ]
  },
  {
   "cell_type": "code",
   "execution_count": 14,
   "metadata": {
    "execution": {
     "iopub.execute_input": "2021-11-03T23:27:35.941115Z",
     "iopub.status.busy": "2021-11-03T23:27:35.940878Z",
     "iopub.status.idle": "2021-11-03T23:27:35.997021Z",
     "shell.execute_reply": "2021-11-03T23:27:35.996441Z",
     "shell.execute_reply.started": "2021-11-03T23:27:35.94108Z"
    }
   },
   "outputs": [
    {
     "name": "stdout",
     "output_type": "stream",
     "text": [
      "\n",
      "============================= test =============================\n",
      "\n",
      "----------TOP 5 RECORDS--------\n",
      "\n",
      "        id        date  store_nbr      family  onpromotion\n",
      "0  3000888  2017-08-16          1  AUTOMOTIVE         20.0\n",
      "1  3000889  2017-08-16          1   BABY CARE          1.0\n",
      "2  3000890  2017-08-16          1      BEAUTY          8.0\n",
      "3  3000891  2017-08-16          1   BEVERAGES        560.0\n",
      "4  3000892  2017-08-16          1       BOOKS          1.0\n",
      "\n",
      "----------INFO-----------------\n",
      "\n",
      "<class 'pandas.core.frame.DataFrame'>\n",
      "RangeIndex: 28512 entries, 0 to 28511\n",
      "Data columns (total 5 columns):\n",
      " #   Column       Non-Null Count  Dtype  \n",
      "---  ------       --------------  -----  \n",
      " 0   id           28512 non-null  int64  \n",
      " 1   date         28512 non-null  object \n",
      " 2   store_nbr    28512 non-null  int64  \n",
      " 3   family       28512 non-null  object \n",
      " 4   onpromotion  28512 non-null  float64\n",
      "dtypes: float64(1), int64(2), object(2)\n",
      "memory usage: 1.1+ MB\n",
      "None\n",
      "\n",
      "----------Describe-------------\n",
      "\n",
      "                 id     store_nbr   onpromotion\n",
      "count  2.851200e+04  28512.000000  28512.000000\n",
      "mean   3.015144e+06     27.500000    118.212121\n",
      "std    8.230850e+03     15.586057    240.272972\n",
      "min    3.000888e+06      1.000000      1.000000\n",
      "25%    3.008016e+06     14.000000     14.000000\n",
      "50%    3.015144e+06     27.500000     29.000000\n",
      "75%    3.022271e+06     41.000000     90.000000\n",
      "max    3.029399e+06     54.000000   1277.000000\n",
      "\n",
      "----------Columns--------------\n",
      "\n",
      "Index(['id', 'date', 'store_nbr', 'family', 'onpromotion'], dtype='object')\n",
      "\n",
      "----------Data Types-----------\n",
      "\n",
      "id               int64\n",
      "date            object\n",
      "store_nbr        int64\n",
      "family          object\n",
      "onpromotion    float64\n",
      "dtype: object\n",
      "\n",
      "-------Missing Values----------\n",
      "\n",
      "id             0\n",
      "date           0\n",
      "store_nbr      0\n",
      "family         0\n",
      "onpromotion    0\n",
      "dtype: int64\n",
      "\n",
      "-------NULL values-------------\n",
      "\n",
      "id             0\n",
      "date           0\n",
      "store_nbr      0\n",
      "family         0\n",
      "onpromotion    0\n",
      "dtype: int64\n",
      "\n",
      "-----Shape Of Data-------------\n",
      "\n",
      "(28512, 5)\n",
      "Numeric variables in the given the dataframe :  3\n",
      "Categorical variables in the givne the dataframe: 2\n"
     ]
    }
   ],
   "source": [
    "print(\"\\n============================= test =============================\")\n",
    "basic_eda(test)"
   ]
  },
  {
   "cell_type": "code",
   "execution_count": 15,
   "metadata": {
    "execution": {
     "iopub.execute_input": "2021-11-03T23:27:35.998414Z",
     "iopub.status.busy": "2021-11-03T23:27:35.998203Z",
     "iopub.status.idle": "2021-11-03T23:27:36.064655Z",
     "shell.execute_reply": "2021-11-03T23:27:36.063757Z",
     "shell.execute_reply.started": "2021-11-03T23:27:35.998388Z"
    }
   },
   "outputs": [
    {
     "name": "stdout",
     "output_type": "stream",
     "text": [
      "\n",
      "============================= transactions =============================\n",
      "\n",
      "----------TOP 5 RECORDS--------\n",
      "\n",
      "         date  store_nbr  transactions\n",
      "0  2013-01-01         25           770\n",
      "1  2013-01-02          1          2111\n",
      "2  2013-01-02          2          2358\n",
      "3  2013-01-02          3          3487\n",
      "4  2013-01-02          4          1922\n",
      "\n",
      "----------INFO-----------------\n",
      "\n",
      "<class 'pandas.core.frame.DataFrame'>\n",
      "RangeIndex: 83488 entries, 0 to 83487\n",
      "Data columns (total 3 columns):\n",
      " #   Column        Non-Null Count  Dtype \n",
      "---  ------        --------------  ----- \n",
      " 0   date          83488 non-null  object\n",
      " 1   store_nbr     83488 non-null  int64 \n",
      " 2   transactions  83488 non-null  int64 \n",
      "dtypes: int64(2), object(1)\n",
      "memory usage: 1.9+ MB\n",
      "None\n",
      "\n",
      "----------Describe-------------\n",
      "\n",
      "          store_nbr  transactions\n",
      "count  83488.000000  83488.000000\n",
      "mean      26.939237   1694.602158\n",
      "std       15.608204    963.286644\n",
      "min        1.000000      5.000000\n",
      "25%       13.000000   1046.000000\n",
      "50%       27.000000   1393.000000\n",
      "75%       40.000000   2079.000000\n",
      "max       54.000000   8359.000000\n",
      "\n",
      "----------Columns--------------\n",
      "\n",
      "Index(['date', 'store_nbr', 'transactions'], dtype='object')\n",
      "\n",
      "----------Data Types-----------\n",
      "\n",
      "date            object\n",
      "store_nbr        int64\n",
      "transactions     int64\n",
      "dtype: object\n",
      "\n",
      "-------Missing Values----------\n",
      "\n",
      "date            0\n",
      "store_nbr       0\n",
      "transactions    0\n",
      "dtype: int64\n",
      "\n",
      "-------NULL values-------------\n",
      "\n",
      "date            0\n",
      "store_nbr       0\n",
      "transactions    0\n",
      "dtype: int64\n",
      "\n",
      "-----Shape Of Data-------------\n",
      "\n",
      "(83488, 3)\n",
      "Numeric variables in the given the dataframe :  2\n",
      "Categorical variables in the givne the dataframe: 1\n"
     ]
    }
   ],
   "source": [
    "print(\"\\n============================= transactions =============================\")\n",
    "basic_eda(transactions )"
   ]
  },
  {
   "cell_type": "code",
   "execution_count": 16,
   "metadata": {
    "execution": {
     "iopub.execute_input": "2021-11-03T23:27:36.065969Z",
     "iopub.status.busy": "2021-11-03T23:27:36.065761Z",
     "iopub.status.idle": "2021-11-03T23:27:36.074026Z",
     "shell.execute_reply": "2021-11-03T23:27:36.073142Z",
     "shell.execute_reply.started": "2021-11-03T23:27:36.065943Z"
    }
   },
   "outputs": [
    {
     "data": {
      "text/plain": [
       "D    18\n",
       "C    15\n",
       "A     9\n",
       "B     8\n",
       "E     4\n",
       "Name: type, dtype: int64"
      ]
     },
     "execution_count": 16,
     "metadata": {},
     "output_type": "execute_result"
    }
   ],
   "source": [
    "# Let's check the store data\n",
    "stores.type.value_counts()"
   ]
  },
  {
   "cell_type": "code",
   "execution_count": 17,
   "metadata": {
    "execution": {
     "iopub.execute_input": "2021-11-03T23:27:36.075411Z",
     "iopub.status.busy": "2021-11-03T23:27:36.075145Z",
     "iopub.status.idle": "2021-11-03T23:27:36.088523Z",
     "shell.execute_reply": "2021-11-03T23:27:36.08752Z",
     "shell.execute_reply.started": "2021-11-03T23:27:36.075374Z"
    }
   },
   "outputs": [
    {
     "data": {
      "text/plain": [
       "Pichincha                         19\n",
       "Guayas                            11\n",
       "Santo Domingo de los Tsachilas     3\n",
       "Manabi                             3\n",
       "Azuay                              3\n",
       "Los Rios                           2\n",
       "El Oro                             2\n",
       "Tungurahua                         2\n",
       "Cotopaxi                           2\n",
       "Loja                               1\n",
       "Esmeraldas                         1\n",
       "Pastaza                            1\n",
       "Santa Elena                        1\n",
       "Imbabura                           1\n",
       "Bolivar                            1\n",
       "Chimborazo                         1\n",
       "Name: state, dtype: int64"
      ]
     },
     "execution_count": 17,
     "metadata": {},
     "output_type": "execute_result"
    }
   ],
   "source": [
    "stores.state.value_counts()"
   ]
  },
  {
   "cell_type": "code",
   "execution_count": 18,
   "metadata": {
    "execution": {
     "iopub.execute_input": "2021-11-03T23:27:36.090283Z",
     "iopub.status.busy": "2021-11-03T23:27:36.089701Z",
     "iopub.status.idle": "2021-11-03T23:27:36.100071Z",
     "shell.execute_reply": "2021-11-03T23:27:36.099348Z",
     "shell.execute_reply.started": "2021-11-03T23:27:36.090241Z"
    }
   },
   "outputs": [
    {
     "data": {
      "text/plain": [
       "Quito            18\n",
       "Guayaquil         8\n",
       "Santo Domingo     3\n",
       "Cuenca            3\n",
       "Ambato            2\n",
       "Machala           2\n",
       "Latacunga         2\n",
       "Manta             2\n",
       "Libertad          1\n",
       "Loja              1\n",
       "Salinas           1\n",
       "Cayambe           1\n",
       "Riobamba          1\n",
       "Puyo              1\n",
       "Daule             1\n",
       "Guaranda          1\n",
       "Playas            1\n",
       "Ibarra            1\n",
       "Quevedo           1\n",
       "Babahoyo          1\n",
       "Esmeraldas        1\n",
       "El Carmen         1\n",
       "Name: city, dtype: int64"
      ]
     },
     "execution_count": 18,
     "metadata": {},
     "output_type": "execute_result"
    }
   ],
   "source": [
    "stores.city.value_counts()"
   ]
  },
  {
   "cell_type": "markdown",
   "metadata": {},
   "source": [
    "#### **Let's do some visualization**"
   ]
  },
  {
   "cell_type": "code",
   "execution_count": 19,
   "metadata": {
    "execution": {
     "iopub.execute_input": "2021-11-03T23:27:36.102048Z",
     "iopub.status.busy": "2021-11-03T23:27:36.101253Z",
     "iopub.status.idle": "2021-11-03T23:27:36.348768Z",
     "shell.execute_reply": "2021-11-03T23:27:36.347956Z",
     "shell.execute_reply.started": "2021-11-03T23:27:36.102014Z"
    }
   },
   "outputs": [
    {
     "data": {
      "text/plain": [
       "Text(0, 0.5, 'Count')"
      ]
     },
     "execution_count": 19,
     "metadata": {},
     "output_type": "execute_result"
    },
    {
     "data": {
      "image/png": "[encoded data removed]",
      "text/plain": [
       "<Figure size 1080x720 with 1 Axes>"
      ]
     },
     "metadata": {
      "needs_background": "light"
     },
     "output_type": "display_data"
    }
   ],
   "source": [
    "plt.figure(figsize=(15, 10))\n",
    "sns.countplot(data=stores, x='type', order=stores.type.value_counts().index)\n",
    "\n",
    "plt.title('Number of Stores based on Type',fontweight=\"bold\")\n",
    "plt.xlabel('Type')\n",
    "plt.ylabel('Count')"
   ]
  },
  {
   "cell_type": "code",
   "execution_count": 20,
   "metadata": {
    "execution": {
     "iopub.execute_input": "2021-11-03T23:27:36.350702Z",
     "iopub.status.busy": "2021-11-03T23:27:36.350203Z",
     "iopub.status.idle": "2021-11-03T23:27:36.755714Z",
     "shell.execute_reply": "2021-11-03T23:27:36.754737Z",
     "shell.execute_reply.started": "2021-11-03T23:27:36.350616Z"
    }
   },
   "outputs": [
    {
     "data": {
      "text/plain": [
       "Text(0.5, 0, 'Count')"
      ]
     },
     "execution_count": 20,
     "metadata": {},
     "output_type": "execute_result"
    },
    {
     "data": {
      "image/png": "[encoded data removed]",
      "text/plain": [
       "<Figure size 1080x720 with 1 Axes>"
      ]
     },
     "metadata": {
      "needs_background": "light"
     },
     "output_type": "display_data"
    }
   ],
   "source": [
    "plt.figure(figsize=(15, 10))\n",
    "sns.countplot(data=stores, y='city',order=stores.city.value_counts().index)\n",
    "\n",
    "plt.title('Number of Stores based on Cities',fontweight=\"bold\")\n",
    "plt.ylabel('City')\n",
    "plt.xlabel('Count')"
   ]
  },
  {
   "cell_type": "code",
   "execution_count": 21,
   "metadata": {
    "execution": {
     "iopub.execute_input": "2021-11-03T23:27:36.757691Z",
     "iopub.status.busy": "2021-11-03T23:27:36.757325Z",
     "iopub.status.idle": "2021-11-03T23:27:59.403255Z",
     "shell.execute_reply": "2021-11-03T23:27:59.401335Z",
     "shell.execute_reply.started": "2021-11-03T23:27:36.757628Z"
    }
   },
   "outputs": [
    {
     "data": {
      "text/plain": [
       "Text(0, 0.5, 'the sales')"
      ]
     },
     "execution_count": 21,
     "metadata": {},
     "output_type": "execute_result"
    },
    {
     "data": {
      "image/png": "[encoded data removed]",
      "text/plain": [
       "<Figure size 1080x720 with 1 Axes>"
      ]
     },
     "metadata": {
      "needs_background": "light"
     },
     "output_type": "display_data"
    }
   ],
   "source": [
    "train.date = pd.to_datetime(train.date)\n",
    "test.date = pd.to_datetime(test.date)\n",
    "months_sales = train.groupby(train['date'].dt.strftime('%B'))['sales'].sum().sort_values()\n",
    "\n",
    "plt.figure(figsize=(15,10))\n",
    "plt.plot(months_sales)\n",
    "plt.title(\"the sales by month\", fontweight=\"bold\")\n",
    "plt.xlabel(\"the month\")\n",
    "plt.ylabel(\"the sales\")"
   ]
  },
  {
   "cell_type": "code",
   "execution_count": 22,
   "metadata": {
    "execution": {
     "iopub.execute_input": "2021-11-03T23:27:59.404544Z",
     "iopub.status.busy": "2021-11-03T23:27:59.404342Z",
     "iopub.status.idle": "2021-11-03T23:27:59.895592Z",
     "shell.execute_reply": "2021-11-03T23:27:59.894744Z",
     "shell.execute_reply.started": "2021-11-03T23:27:59.404518Z"
    }
   },
   "outputs": [
    {
     "data": {
      "text/plain": [
       "Text(0, 0.5, 'the sales')"
      ]
     },
     "execution_count": 22,
     "metadata": {},
     "output_type": "execute_result"
    },
    {
     "data": {
      "image/png": "[encoded data removed]",
      "text/plain": [
       "<Figure size 1080x576 with 1 Axes>"
      ]
     },
     "metadata": {
      "needs_background": "light"
     },
     "output_type": "display_data"
    }
   ],
   "source": [
    "plt.figure(figsize=(15,8))\n",
    "train.groupby(pd.Grouper(key='date', freq='2D')).sum()['sales'].plot()\n",
    "plt.ylabel(\"the sales\", fontsize=15)"
   ]
  },
  {
   "cell_type": "code",
   "execution_count": 23,
   "metadata": {
    "execution": {
     "iopub.execute_input": "2021-11-03T23:27:59.897114Z",
     "iopub.status.busy": "2021-11-03T23:27:59.896913Z",
     "iopub.status.idle": "2021-11-03T23:28:00.333771Z",
     "shell.execute_reply": "2021-11-03T23:28:00.333087Z",
     "shell.execute_reply.started": "2021-11-03T23:27:59.897088Z"
    }
   },
   "outputs": [
    {
     "data": {
      "text/plain": [
       "Text(0, 0.5, 'the sales')"
      ]
     },
     "execution_count": 23,
     "metadata": {},
     "output_type": "execute_result"
    },
    {
     "data": {
      "image/png": "[encoded data removed]",
      "text/plain": [
       "<Figure size 1080x720 with 1 Axes>"
      ]
     },
     "metadata": {
      "needs_background": "light"
     },
     "output_type": "display_data"
    }
   ],
   "source": [
    "plt.figure(figsize=(15,10))\n",
    "train.groupby(pd.Grouper(key='date', freq='1Y')).sum()['sales'].plot()\n",
    "plt.title(\"the sales by year\", fontweight=\"bold\")\n",
    "plt.ylabel(\"the sales\")"
   ]
  },
  {
   "cell_type": "markdown",
   "metadata": {},
   "source": [
    "#  **Pre-processing & Feature Engineering**"
   ]
  },
  {
   "cell_type": "code",
   "execution_count": 24,
   "metadata": {
    "execution": {
     "iopub.execute_input": "2021-11-03T23:28:00.335697Z",
     "iopub.status.busy": "2021-11-03T23:28:00.334855Z",
     "iopub.status.idle": "2021-11-03T23:28:00.34053Z",
     "shell.execute_reply": "2021-11-03T23:28:00.339236Z",
     "shell.execute_reply.started": "2021-11-03T23:28:00.335625Z"
    }
   },
   "outputs": [],
   "source": [
    "# some Features\n",
    "features = ['store_nbr', 'family', 'onpromotion']\n",
    "target = 'sales'"
   ]
  },
  {
   "cell_type": "code",
   "execution_count": 25,
   "metadata": {
    "execution": {
     "iopub.execute_input": "2021-11-03T23:28:00.342196Z",
     "iopub.status.busy": "2021-11-03T23:28:00.341834Z",
     "iopub.status.idle": "2021-11-03T23:28:00.353799Z",
     "shell.execute_reply": "2021-11-03T23:28:00.352931Z",
     "shell.execute_reply.started": "2021-11-03T23:28:00.342148Z"
    }
   },
   "outputs": [],
   "source": [
    "# creating the features weekday, month or year.\n",
    "def extract_weekday(df):\n",
    "    return df.dayofweek\n",
    "\n",
    "def extract_month(df):\n",
    "    return df.month\n",
    "\n",
    "def extract_year(df):\n",
    "    return df.year"
   ]
  },
  {
   "cell_type": "code",
   "execution_count": 26,
   "metadata": {
    "execution": {
     "iopub.execute_input": "2021-11-03T23:28:00.355366Z",
     "iopub.status.busy": "2021-11-03T23:28:00.354864Z",
     "iopub.status.idle": "2021-11-03T23:28:58.172989Z",
     "shell.execute_reply": "2021-11-03T23:28:58.171955Z",
     "shell.execute_reply.started": "2021-11-03T23:28:00.355336Z"
    }
   },
   "outputs": [],
   "source": [
    "train['weekday'] = train['date'].apply(extract_weekday)\n",
    "train['year'] = train['date'].apply(extract_year)\n",
    "train['month'] = train['date'].apply(extract_month)\n",
    "\n",
    "test['weekday'] = test['date'].apply(extract_weekday)\n",
    "test['year'] = test['date'].apply(extract_year)\n",
    "test['month'] = test['date'].apply(extract_month)"
   ]
  },
  {
   "cell_type": "code",
   "execution_count": 27,
   "metadata": {
    "execution": {
     "iopub.execute_input": "2021-11-03T23:28:58.175064Z",
     "iopub.status.busy": "2021-11-03T23:28:58.174419Z",
     "iopub.status.idle": "2021-11-03T23:28:58.180468Z",
     "shell.execute_reply": "2021-11-03T23:28:58.179714Z",
     "shell.execute_reply.started": "2021-11-03T23:28:58.175018Z"
    }
   },
   "outputs": [],
   "source": [
    "features.append('weekday')\n",
    "features.append('year')\n",
    "features.append('month')"
   ]
  },
  {
   "cell_type": "markdown",
   "metadata": {},
   "source": [
    "#### **Encode Labels**"
   ]
  },
  {
   "cell_type": "code",
   "execution_count": 28,
   "metadata": {
    "execution": {
     "iopub.execute_input": "2021-11-03T23:28:58.182384Z",
     "iopub.status.busy": "2021-11-03T23:28:58.181914Z",
     "iopub.status.idle": "2021-11-03T23:29:02.18737Z",
     "shell.execute_reply": "2021-11-03T23:29:02.186415Z",
     "shell.execute_reply.started": "2021-11-03T23:28:58.182339Z"
    }
   },
   "outputs": [],
   "source": [
    "store_sales = pd.read_csv(\n",
    "    '../input/store-sales-time-series-forecasting/train.csv',\n",
    "    usecols=['store_nbr', 'family', 'date', 'sales'],\n",
    "    dtype={\n",
    "        'store_nbr': 'category',\n",
    "        'family': 'category',\n",
    "        'sales': 'float32',\n",
    "    },\n",
    "    parse_dates=['date'],\n",
    "    infer_datetime_format=True,\n",
    ")\n",
    "store_sales['date'] = store_sales.date.dt.to_period('D')\n",
    "store_sales = store_sales.set_index(['store_nbr', 'family', 'date']).sort_index()\n",
    "\n",
    "\n",
    "df_test = pd.read_csv(\n",
    "    '../input/store-sales-time-series-forecasting/test.csv',\n",
    "    dtype={\n",
    "        'store_nbr': 'category',\n",
    "        'family': 'category',\n",
    "        'onpromotion': 'uint32',\n",
    "    },\n",
    "    parse_dates=['date'],\n",
    "    infer_datetime_format=True,\n",
    ")\n",
    "df_test['date'] = df_test.date.dt.to_period('D')\n",
    "df_test = df_test.set_index(['store_nbr', 'family', 'date']).sort_index()"
   ]
  },
  {
   "cell_type": "code",
   "execution_count": 29,
   "metadata": {
    "execution": {
     "iopub.execute_input": "2021-11-03T23:44:17.986098Z",
     "iopub.status.busy": "2021-11-03T23:44:17.985707Z",
     "iopub.status.idle": "2021-11-03T23:44:19.280231Z",
     "shell.execute_reply": "2021-11-03T23:44:19.278947Z",
     "shell.execute_reply.started": "2021-11-03T23:44:17.986059Z"
    }
   },
   "outputs": [
    {
     "data": {
      "text/html": [
       "<div>\n",
       "<style scoped>\n",
       "    .dataframe tbody tr th:only-of-type {\n",
       "        vertical-align: middle;\n",
       "    }\n",
       "\n",
       "    .dataframe tbody tr th {\n",
       "        vertical-align: top;\n",
       "    }\n",
       "\n",
       "    .dataframe thead tr th {\n",
       "        text-align: left;\n",
       "    }\n",
       "\n",
       "    .dataframe thead tr:last-of-type th {\n",
       "        text-align: right;\n",
       "    }\n",
       "</style>\n",
       "<table border=\"1\" class=\"dataframe\">\n",
       "  <thead>\n",
       "    <tr>\n",
       "      <th></th>\n",
       "      <th colspan=\"21\" halign=\"left\">sales</th>\n",
       "    </tr>\n",
       "    <tr>\n",
       "      <th>store_nbr</th>\n",
       "      <th colspan=\"10\" halign=\"left\">1</th>\n",
       "      <th>...</th>\n",
       "      <th colspan=\"10\" halign=\"left\">9</th>\n",
       "    </tr>\n",
       "    <tr>\n",
       "      <th>family</th>\n",
       "      <th>AUTOMOTIVE</th>\n",
       "      <th>BABY CARE</th>\n",
       "      <th>BEAUTY</th>\n",
       "      <th>BEVERAGES</th>\n",
       "      <th>BOOKS</th>\n",
       "      <th>BREAD/BAKERY</th>\n",
       "      <th>CELEBRATION</th>\n",
       "      <th>CLEANING</th>\n",
       "      <th>DAIRY</th>\n",
       "      <th>DELI</th>\n",
       "      <th>...</th>\n",
       "      <th>MAGAZINES</th>\n",
       "      <th>MEATS</th>\n",
       "      <th>PERSONAL CARE</th>\n",
       "      <th>PET SUPPLIES</th>\n",
       "      <th>PLAYERS AND ELECTRONICS</th>\n",
       "      <th>POULTRY</th>\n",
       "      <th>PREPARED FOODS</th>\n",
       "      <th>PRODUCE</th>\n",
       "      <th>SCHOOL AND OFFICE SUPPLIES</th>\n",
       "      <th>SEAFOOD</th>\n",
       "    </tr>\n",
       "    <tr>\n",
       "      <th>date</th>\n",
       "      <th></th>\n",
       "      <th></th>\n",
       "      <th></th>\n",
       "      <th></th>\n",
       "      <th></th>\n",
       "      <th></th>\n",
       "      <th></th>\n",
       "      <th></th>\n",
       "      <th></th>\n",
       "      <th></th>\n",
       "      <th></th>\n",
       "      <th></th>\n",
       "      <th></th>\n",
       "      <th></th>\n",
       "      <th></th>\n",
       "      <th></th>\n",
       "      <th></th>\n",
       "      <th></th>\n",
       "      <th></th>\n",
       "      <th></th>\n",
       "      <th></th>\n",
       "    </tr>\n",
       "  </thead>\n",
       "  <tbody>\n",
       "    <tr>\n",
       "      <th>2017-01-01</th>\n",
       "      <td>0.0</td>\n",
       "      <td>0.0</td>\n",
       "      <td>0.0</td>\n",
       "      <td>0.0</td>\n",
       "      <td>0.0</td>\n",
       "      <td>0.000000</td>\n",
       "      <td>0.0</td>\n",
       "      <td>0.0</td>\n",
       "      <td>0.0</td>\n",
       "      <td>0.000000</td>\n",
       "      <td>...</td>\n",
       "      <td>0.0</td>\n",
       "      <td>0.000000</td>\n",
       "      <td>0.0</td>\n",
       "      <td>0.0</td>\n",
       "      <td>0.0</td>\n",
       "      <td>0.000000</td>\n",
       "      <td>0.000000</td>\n",
       "      <td>0.000000</td>\n",
       "      <td>0.0</td>\n",
       "      <td>0.000000</td>\n",
       "    </tr>\n",
       "    <tr>\n",
       "      <th>2017-01-02</th>\n",
       "      <td>5.0</td>\n",
       "      <td>0.0</td>\n",
       "      <td>0.0</td>\n",
       "      <td>1434.0</td>\n",
       "      <td>0.0</td>\n",
       "      <td>166.819000</td>\n",
       "      <td>0.0</td>\n",
       "      <td>332.0</td>\n",
       "      <td>376.0</td>\n",
       "      <td>44.980000</td>\n",
       "      <td>...</td>\n",
       "      <td>5.0</td>\n",
       "      <td>659.570007</td>\n",
       "      <td>1243.0</td>\n",
       "      <td>11.0</td>\n",
       "      <td>41.0</td>\n",
       "      <td>843.596008</td>\n",
       "      <td>115.188995</td>\n",
       "      <td>3136.895996</td>\n",
       "      <td>1.0</td>\n",
       "      <td>23.000000</td>\n",
       "    </tr>\n",
       "    <tr>\n",
       "      <th>2017-01-03</th>\n",
       "      <td>4.0</td>\n",
       "      <td>0.0</td>\n",
       "      <td>4.0</td>\n",
       "      <td>3081.0</td>\n",
       "      <td>2.0</td>\n",
       "      <td>519.348022</td>\n",
       "      <td>15.0</td>\n",
       "      <td>952.0</td>\n",
       "      <td>1045.0</td>\n",
       "      <td>209.300003</td>\n",
       "      <td>...</td>\n",
       "      <td>2.0</td>\n",
       "      <td>547.364014</td>\n",
       "      <td>876.0</td>\n",
       "      <td>6.0</td>\n",
       "      <td>15.0</td>\n",
       "      <td>714.659973</td>\n",
       "      <td>133.039001</td>\n",
       "      <td>3229.558105</td>\n",
       "      <td>1.0</td>\n",
       "      <td>14.000000</td>\n",
       "    </tr>\n",
       "    <tr>\n",
       "      <th>2017-01-04</th>\n",
       "      <td>1.0</td>\n",
       "      <td>0.0</td>\n",
       "      <td>4.0</td>\n",
       "      <td>3039.0</td>\n",
       "      <td>2.0</td>\n",
       "      <td>543.250977</td>\n",
       "      <td>17.0</td>\n",
       "      <td>1055.0</td>\n",
       "      <td>1029.0</td>\n",
       "      <td>135.944000</td>\n",
       "      <td>...</td>\n",
       "      <td>3.0</td>\n",
       "      <td>395.287994</td>\n",
       "      <td>677.0</td>\n",
       "      <td>6.0</td>\n",
       "      <td>13.0</td>\n",
       "      <td>536.830017</td>\n",
       "      <td>75.201004</td>\n",
       "      <td>1491.416992</td>\n",
       "      <td>7.0</td>\n",
       "      <td>0.000000</td>\n",
       "    </tr>\n",
       "    <tr>\n",
       "      <th>2017-01-05</th>\n",
       "      <td>2.0</td>\n",
       "      <td>0.0</td>\n",
       "      <td>3.0</td>\n",
       "      <td>2617.0</td>\n",
       "      <td>0.0</td>\n",
       "      <td>533.479980</td>\n",
       "      <td>40.0</td>\n",
       "      <td>918.0</td>\n",
       "      <td>853.0</td>\n",
       "      <td>137.005997</td>\n",
       "      <td>...</td>\n",
       "      <td>2.0</td>\n",
       "      <td>470.768005</td>\n",
       "      <td>604.0</td>\n",
       "      <td>7.0</td>\n",
       "      <td>10.0</td>\n",
       "      <td>414.100006</td>\n",
       "      <td>113.698997</td>\n",
       "      <td>1566.821045</td>\n",
       "      <td>1.0</td>\n",
       "      <td>17.000000</td>\n",
       "    </tr>\n",
       "    <tr>\n",
       "      <th>...</th>\n",
       "      <td>...</td>\n",
       "      <td>...</td>\n",
       "      <td>...</td>\n",
       "      <td>...</td>\n",
       "      <td>...</td>\n",
       "      <td>...</td>\n",
       "      <td>...</td>\n",
       "      <td>...</td>\n",
       "      <td>...</td>\n",
       "      <td>...</td>\n",
       "      <td>...</td>\n",
       "      <td>...</td>\n",
       "      <td>...</td>\n",
       "      <td>...</td>\n",
       "      <td>...</td>\n",
       "      <td>...</td>\n",
       "      <td>...</td>\n",
       "      <td>...</td>\n",
       "      <td>...</td>\n",
       "      <td>...</td>\n",
       "      <td>...</td>\n",
       "    </tr>\n",
       "    <tr>\n",
       "      <th>2017-08-11</th>\n",
       "      <td>1.0</td>\n",
       "      <td>0.0</td>\n",
       "      <td>1.0</td>\n",
       "      <td>1006.0</td>\n",
       "      <td>0.0</td>\n",
       "      <td>145.606995</td>\n",
       "      <td>4.0</td>\n",
       "      <td>341.0</td>\n",
       "      <td>343.0</td>\n",
       "      <td>64.302002</td>\n",
       "      <td>...</td>\n",
       "      <td>5.0</td>\n",
       "      <td>309.244995</td>\n",
       "      <td>373.0</td>\n",
       "      <td>11.0</td>\n",
       "      <td>2.0</td>\n",
       "      <td>525.223999</td>\n",
       "      <td>112.099998</td>\n",
       "      <td>1453.078003</td>\n",
       "      <td>140.0</td>\n",
       "      <td>23.830999</td>\n",
       "    </tr>\n",
       "    <tr>\n",
       "      <th>2017-08-12</th>\n",
       "      <td>6.0</td>\n",
       "      <td>0.0</td>\n",
       "      <td>3.0</td>\n",
       "      <td>1659.0</td>\n",
       "      <td>0.0</td>\n",
       "      <td>243.220001</td>\n",
       "      <td>3.0</td>\n",
       "      <td>351.0</td>\n",
       "      <td>526.0</td>\n",
       "      <td>99.487999</td>\n",
       "      <td>...</td>\n",
       "      <td>2.0</td>\n",
       "      <td>260.298004</td>\n",
       "      <td>400.0</td>\n",
       "      <td>7.0</td>\n",
       "      <td>10.0</td>\n",
       "      <td>383.386993</td>\n",
       "      <td>129.903992</td>\n",
       "      <td>1419.264038</td>\n",
       "      <td>138.0</td>\n",
       "      <td>16.859001</td>\n",
       "    </tr>\n",
       "    <tr>\n",
       "      <th>2017-08-13</th>\n",
       "      <td>1.0</td>\n",
       "      <td>0.0</td>\n",
       "      <td>1.0</td>\n",
       "      <td>803.0</td>\n",
       "      <td>0.0</td>\n",
       "      <td>136.679001</td>\n",
       "      <td>1.0</td>\n",
       "      <td>169.0</td>\n",
       "      <td>266.0</td>\n",
       "      <td>47.770000</td>\n",
       "      <td>...</td>\n",
       "      <td>3.0</td>\n",
       "      <td>327.205994</td>\n",
       "      <td>510.0</td>\n",
       "      <td>2.0</td>\n",
       "      <td>9.0</td>\n",
       "      <td>412.458008</td>\n",
       "      <td>105.168999</td>\n",
       "      <td>1693.607056</td>\n",
       "      <td>200.0</td>\n",
       "      <td>20.000000</td>\n",
       "    </tr>\n",
       "    <tr>\n",
       "      <th>2017-08-14</th>\n",
       "      <td>1.0</td>\n",
       "      <td>0.0</td>\n",
       "      <td>6.0</td>\n",
       "      <td>2201.0</td>\n",
       "      <td>0.0</td>\n",
       "      <td>346.037994</td>\n",
       "      <td>4.0</td>\n",
       "      <td>571.0</td>\n",
       "      <td>699.0</td>\n",
       "      <td>154.578003</td>\n",
       "      <td>...</td>\n",
       "      <td>12.0</td>\n",
       "      <td>330.975006</td>\n",
       "      <td>445.0</td>\n",
       "      <td>2.0</td>\n",
       "      <td>14.0</td>\n",
       "      <td>283.428986</td>\n",
       "      <td>114.120003</td>\n",
       "      <td>1348.425049</td>\n",
       "      <td>182.0</td>\n",
       "      <td>17.000000</td>\n",
       "    </tr>\n",
       "    <tr>\n",
       "      <th>2017-08-15</th>\n",
       "      <td>4.0</td>\n",
       "      <td>0.0</td>\n",
       "      <td>4.0</td>\n",
       "      <td>1942.0</td>\n",
       "      <td>0.0</td>\n",
       "      <td>329.541016</td>\n",
       "      <td>21.0</td>\n",
       "      <td>703.0</td>\n",
       "      <td>602.0</td>\n",
       "      <td>116.402000</td>\n",
       "      <td>...</td>\n",
       "      <td>11.0</td>\n",
       "      <td>449.227997</td>\n",
       "      <td>522.0</td>\n",
       "      <td>6.0</td>\n",
       "      <td>6.0</td>\n",
       "      <td>438.132996</td>\n",
       "      <td>154.552994</td>\n",
       "      <td>2419.729004</td>\n",
       "      <td>121.0</td>\n",
       "      <td>16.000000</td>\n",
       "    </tr>\n",
       "  </tbody>\n",
       "</table>\n",
       "<p>227 rows × 1782 columns</p>\n",
       "</div>"
      ],
      "text/plain": [
       "                sales                                                \\\n",
       "store_nbr           1                                                 \n",
       "family     AUTOMOTIVE BABY CARE BEAUTY BEVERAGES BOOKS BREAD/BAKERY   \n",
       "date                                                                  \n",
       "2017-01-01        0.0       0.0    0.0       0.0   0.0     0.000000   \n",
       "2017-01-02        5.0       0.0    0.0    1434.0   0.0   166.819000   \n",
       "2017-01-03        4.0       0.0    4.0    3081.0   2.0   519.348022   \n",
       "2017-01-04        1.0       0.0    4.0    3039.0   2.0   543.250977   \n",
       "2017-01-05        2.0       0.0    3.0    2617.0   0.0   533.479980   \n",
       "...               ...       ...    ...       ...   ...          ...   \n",
       "2017-08-11        1.0       0.0    1.0    1006.0   0.0   145.606995   \n",
       "2017-08-12        6.0       0.0    3.0    1659.0   0.0   243.220001   \n",
       "2017-08-13        1.0       0.0    1.0     803.0   0.0   136.679001   \n",
       "2017-08-14        1.0       0.0    6.0    2201.0   0.0   346.037994   \n",
       "2017-08-15        4.0       0.0    4.0    1942.0   0.0   329.541016   \n",
       "\n",
       "                                                     ...            \\\n",
       "store_nbr                                            ...         9   \n",
       "family     CELEBRATION CLEANING   DAIRY        DELI  ... MAGAZINES   \n",
       "date                                                 ...             \n",
       "2017-01-01         0.0      0.0     0.0    0.000000  ...       0.0   \n",
       "2017-01-02         0.0    332.0   376.0   44.980000  ...       5.0   \n",
       "2017-01-03        15.0    952.0  1045.0  209.300003  ...       2.0   \n",
       "2017-01-04        17.0   1055.0  1029.0  135.944000  ...       3.0   \n",
       "2017-01-05        40.0    918.0   853.0  137.005997  ...       2.0   \n",
       "...                ...      ...     ...         ...  ...       ...   \n",
       "2017-08-11         4.0    341.0   343.0   64.302002  ...       5.0   \n",
       "2017-08-12         3.0    351.0   526.0   99.487999  ...       2.0   \n",
       "2017-08-13         1.0    169.0   266.0   47.770000  ...       3.0   \n",
       "2017-08-14         4.0    571.0   699.0  154.578003  ...      12.0   \n",
       "2017-08-15        21.0    703.0   602.0  116.402000  ...      11.0   \n",
       "\n",
       "                                                                           \\\n",
       "store_nbr                                                                   \n",
       "family           MEATS PERSONAL CARE PET SUPPLIES PLAYERS AND ELECTRONICS   \n",
       "date                                                                        \n",
       "2017-01-01    0.000000           0.0          0.0                     0.0   \n",
       "2017-01-02  659.570007        1243.0         11.0                    41.0   \n",
       "2017-01-03  547.364014         876.0          6.0                    15.0   \n",
       "2017-01-04  395.287994         677.0          6.0                    13.0   \n",
       "2017-01-05  470.768005         604.0          7.0                    10.0   \n",
       "...                ...           ...          ...                     ...   \n",
       "2017-08-11  309.244995         373.0         11.0                     2.0   \n",
       "2017-08-12  260.298004         400.0          7.0                    10.0   \n",
       "2017-08-13  327.205994         510.0          2.0                     9.0   \n",
       "2017-08-14  330.975006         445.0          2.0                    14.0   \n",
       "2017-08-15  449.227997         522.0          6.0                     6.0   \n",
       "\n",
       "                                                                               \\\n",
       "store_nbr                                                                       \n",
       "family         POULTRY PREPARED FOODS      PRODUCE SCHOOL AND OFFICE SUPPLIES   \n",
       "date                                                                            \n",
       "2017-01-01    0.000000       0.000000     0.000000                        0.0   \n",
       "2017-01-02  843.596008     115.188995  3136.895996                        1.0   \n",
       "2017-01-03  714.659973     133.039001  3229.558105                        1.0   \n",
       "2017-01-04  536.830017      75.201004  1491.416992                        7.0   \n",
       "2017-01-05  414.100006     113.698997  1566.821045                        1.0   \n",
       "...                ...            ...          ...                        ...   \n",
       "2017-08-11  525.223999     112.099998  1453.078003                      140.0   \n",
       "2017-08-12  383.386993     129.903992  1419.264038                      138.0   \n",
       "2017-08-13  412.458008     105.168999  1693.607056                      200.0   \n",
       "2017-08-14  283.428986     114.120003  1348.425049                      182.0   \n",
       "2017-08-15  438.132996     154.552994  2419.729004                      121.0   \n",
       "\n",
       "                       \n",
       "store_nbr              \n",
       "family        SEAFOOD  \n",
       "date                   \n",
       "2017-01-01   0.000000  \n",
       "2017-01-02  23.000000  \n",
       "2017-01-03  14.000000  \n",
       "2017-01-04   0.000000  \n",
       "2017-01-05  17.000000  \n",
       "...               ...  \n",
       "2017-08-11  23.830999  \n",
       "2017-08-12  16.859001  \n",
       "2017-08-13  20.000000  \n",
       "2017-08-14  17.000000  \n",
       "2017-08-15  16.000000  \n",
       "\n",
       "[227 rows x 1782 columns]"
      ]
     },
     "execution_count": 29,
     "metadata": {},
     "output_type": "execute_result"
    }
   ],
   "source": [
    "# Target\n",
    "y = store_sales.unstack(['store_nbr', 'family']).loc[\"2017\"]\n",
    "y"
   ]
  },
  {
   "cell_type": "markdown",
   "metadata": {},
   "source": [
    "#### **Create training data**"
   ]
  },
  {
   "cell_type": "code",
   "execution_count": 30,
   "metadata": {
    "execution": {
     "iopub.execute_input": "2021-11-03T23:29:03.364137Z",
     "iopub.status.busy": "2021-11-03T23:29:03.363526Z",
     "iopub.status.idle": "2021-11-03T23:29:03.396442Z",
     "shell.execute_reply": "2021-11-03T23:29:03.395831Z",
     "shell.execute_reply.started": "2021-11-03T23:29:03.364102Z"
    }
   },
   "outputs": [],
   "source": [
    "fourier = CalendarFourier(freq='M', order=4)\n",
    "dp = DeterministicProcess(\n",
    "    index=y.index,\n",
    "    constant=True,\n",
    "    order=1,\n",
    "    seasonal=True,\n",
    "    additional_terms=[fourier],\n",
    "    drop=True,\n",
    ")\n",
    "X = dp.in_sample()\n",
    "X['NewYear'] = (X.index.dayofyear == 1)"
   ]
  },
  {
   "cell_type": "markdown",
   "metadata": {},
   "source": [
    "#  **Modeling**"
   ]
  },
  {
   "cell_type": "code",
   "execution_count": 31,
   "metadata": {
    "execution": {
     "iopub.execute_input": "2021-11-03T23:29:03.398075Z",
     "iopub.status.busy": "2021-11-03T23:29:03.397501Z",
     "iopub.status.idle": "2021-11-03T23:29:03.444972Z",
     "shell.execute_reply": "2021-11-03T23:29:03.444001Z",
     "shell.execute_reply.started": "2021-11-03T23:29:03.398039Z"
    }
   },
   "outputs": [],
   "source": [
    "# Linear Regression\n",
    "model = LinearRegression(fit_intercept=False)\n",
    "model.fit(X, y)\n",
    "y_pred = pd.DataFrame(model.predict(X), index=X.index, columns=y.columns)"
   ]
  },
  {
   "cell_type": "code",
   "execution_count": 32,
   "metadata": {
    "execution": {
     "iopub.execute_input": "2021-11-03T23:31:19.505985Z",
     "iopub.status.busy": "2021-11-03T23:31:19.505647Z",
     "iopub.status.idle": "2021-11-03T23:31:19.521848Z",
     "shell.execute_reply": "2021-11-03T23:31:19.521035Z",
     "shell.execute_reply.started": "2021-11-03T23:31:19.505953Z"
    }
   },
   "outputs": [],
   "source": [
    "X_test = dp.out_of_sample(steps=16)\n",
    "X_test.index.name = 'date'\n",
    "X_test['NewYear'] = (X_test.index.dayofyear == 1)"
   ]
  },
  {
   "cell_type": "markdown",
   "metadata": {},
   "source": [
    "#### **Submission**"
   ]
  },
  {
   "cell_type": "code",
   "execution_count": 33,
   "metadata": {
    "execution": {
     "iopub.execute_input": "2021-11-03T23:31:22.185051Z",
     "iopub.status.busy": "2021-11-03T23:31:22.184539Z",
     "iopub.status.idle": "2021-11-03T23:31:23.45879Z",
     "shell.execute_reply": "2021-11-03T23:31:23.457828Z",
     "shell.execute_reply.started": "2021-11-03T23:31:22.185004Z"
    }
   },
   "outputs": [],
   "source": [
    "y_submit = pd.DataFrame(model.predict(X_test), index=X_test.index, columns=y.columns)\n",
    "y_submit = y_submit.stack(['store_nbr', 'family'])\n",
    "y_submit = y_submit.join(df_test.id).reindex(columns=['id', 'sales'])\n",
    "y_submit.to_csv('./output/Submission.csv', index=False)"
   ]
  },
  {
   "cell_type": "markdown",
   "metadata": {},
   "source": [
    "#### **Credit**\n",
    "https://www.kaggle.com/dkomyagin/simple-ts-ridge-rf"
   ]
  }
 ],
 "metadata": {
  "kernelspec": {
   "display_name": "Python 3",
   "language": "python",
   "name": "python3"
  },
  "language_info": {
   "codemirror_mode": {
    "name": "ipython",
    "version": 3
   },
   "file_extension": ".py",
   "mimetype": "text/x-python",
   "name": "python",
   "nbconvert_exporter": "python",
   "pygments_lexer": "ipython3",
   "version": "3.8.5"
  }
 },
 "nbformat": 4,
 "nbformat_minor": 4
}
