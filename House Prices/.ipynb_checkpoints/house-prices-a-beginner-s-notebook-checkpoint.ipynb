{
 "cells": [
  {
   "cell_type": "markdown",
   "metadata": {
    "_cell_guid": "b1076dfc-b9ad-4769-8c92-a6c4dae69d19",
    "_uuid": "8f2839f25d086af736a60e9eeb907d3b93b6e0e5",
    "execution": {
     "iopub.execute_input": "2021-09-28T22:22:42.526638Z",
     "iopub.status.busy": "2021-09-28T22:22:42.526211Z",
     "iopub.status.idle": "2021-09-28T22:22:42.533529Z",
     "shell.execute_reply": "2021-09-28T22:22:42.532463Z",
     "shell.execute_reply.started": "2021-09-28T22:22:42.526605Z"
    }
   },
   "source": [
    "<h2 style=\"font-weight: bold\">House Prices Competition</h2>\n",
    "\n",
    "<h4>This is my second published notebook on Kaggle, So yeah no wonder it's about the House Prices Competition 😄😄<br><br>I will be doing a simple then advanced EDA, Data Visualization and Pre-Processing. I also will test different approaches and regression techniques to improve my score.<br></h4>\n",
    "\n",
    "* <h5 style=\"font-weight: 700\">Your feedback is very welcome</h5>\n",
    "* <h5 style=\"font-weight: 700\">If you find this notebook useful, please don't forget to upvote it!</h5>\n"
   ]
  },
  {
   "cell_type": "code",
   "execution_count": 1,
   "metadata": {
    "execution": {
     "iopub.execute_input": "2021-10-03T13:05:04.685908Z",
     "iopub.status.busy": "2021-10-03T13:05:04.685519Z",
     "iopub.status.idle": "2021-10-03T13:05:06.028025Z",
     "shell.execute_reply": "2021-10-03T13:05:06.027023Z",
     "shell.execute_reply.started": "2021-10-03T13:05:04.685804Z"
    }
   },
   "outputs": [],
   "source": [
    "# Required packages\n",
    "import pandas as pd\n",
    "import numpy as np\n",
    "import seaborn as sns\n",
    "from scipy import stats\n",
    "from scipy.stats import norm, skew\n",
    "from sklearn.preprocessing import LabelEncoder, OneHotEncoder, StandardScaler\n",
    "from sklearn.pipeline import Pipeline\n",
    "from sklearn.impute import SimpleImputer\n",
    "from sklearn.compose import ColumnTransformer\n",
    "from sklearn.ensemble import RandomForestRegressor\n",
    "from sklearn.model_selection import cross_val_score\n",
    "import lightgbm as lgb\n",
    "import matplotlib.pyplot as plt"
   ]
  },
  {
   "cell_type": "code",
   "execution_count": 2,
   "metadata": {
    "execution": {
     "iopub.execute_input": "2021-10-03T13:05:06.030497Z",
     "iopub.status.busy": "2021-10-03T13:05:06.029501Z",
     "iopub.status.idle": "2021-10-03T13:05:06.085141Z",
     "shell.execute_reply": "2021-10-03T13:05:06.084462Z",
     "shell.execute_reply.started": "2021-10-03T13:05:06.03046Z"
    }
   },
   "outputs": [],
   "source": [
    "train = pd.read_csv('../input/house-prices-advanced-regression-techniques/train.csv')\n",
    "test = pd.read_csv('../input/house-prices-advanced-regression-techniques/test.csv')"
   ]
  },
  {
   "cell_type": "code",
   "execution_count": 3,
   "metadata": {
    "execution": {
     "iopub.execute_input": "2021-10-03T13:05:06.087018Z",
     "iopub.status.busy": "2021-10-03T13:05:06.08618Z",
     "iopub.status.idle": "2021-10-03T13:05:06.117912Z",
     "shell.execute_reply": "2021-10-03T13:05:06.116953Z",
     "shell.execute_reply.started": "2021-10-03T13:05:06.086982Z"
    }
   },
   "outputs": [
    {
     "data": {
      "text/html": [
       "<div>\n",
       "<style scoped>\n",
       "    .dataframe tbody tr th:only-of-type {\n",
       "        vertical-align: middle;\n",
       "    }\n",
       "\n",
       "    .dataframe tbody tr th {\n",
       "        vertical-align: top;\n",
       "    }\n",
       "\n",
       "    .dataframe thead th {\n",
       "        text-align: right;\n",
       "    }\n",
       "</style>\n",
       "<table border=\"1\" class=\"dataframe\">\n",
       "  <thead>\n",
       "    <tr style=\"text-align: right;\">\n",
       "      <th></th>\n",
       "      <th>Id</th>\n",
       "      <th>MSSubClass</th>\n",
       "      <th>MSZoning</th>\n",
       "      <th>LotFrontage</th>\n",
       "      <th>LotArea</th>\n",
       "      <th>Street</th>\n",
       "      <th>Alley</th>\n",
       "      <th>LotShape</th>\n",
       "      <th>LandContour</th>\n",
       "      <th>Utilities</th>\n",
       "      <th>...</th>\n",
       "      <th>PoolArea</th>\n",
       "      <th>PoolQC</th>\n",
       "      <th>Fence</th>\n",
       "      <th>MiscFeature</th>\n",
       "      <th>MiscVal</th>\n",
       "      <th>MoSold</th>\n",
       "      <th>YrSold</th>\n",
       "      <th>SaleType</th>\n",
       "      <th>SaleCondition</th>\n",
       "      <th>SalePrice</th>\n",
       "    </tr>\n",
       "  </thead>\n",
       "  <tbody>\n",
       "    <tr>\n",
       "      <th>0</th>\n",
       "      <td>1</td>\n",
       "      <td>60</td>\n",
       "      <td>RL</td>\n",
       "      <td>65.0</td>\n",
       "      <td>8450</td>\n",
       "      <td>Pave</td>\n",
       "      <td>NaN</td>\n",
       "      <td>Reg</td>\n",
       "      <td>Lvl</td>\n",
       "      <td>AllPub</td>\n",
       "      <td>...</td>\n",
       "      <td>0</td>\n",
       "      <td>NaN</td>\n",
       "      <td>NaN</td>\n",
       "      <td>NaN</td>\n",
       "      <td>0</td>\n",
       "      <td>2</td>\n",
       "      <td>2008</td>\n",
       "      <td>WD</td>\n",
       "      <td>Normal</td>\n",
       "      <td>208500</td>\n",
       "    </tr>\n",
       "    <tr>\n",
       "      <th>1</th>\n",
       "      <td>2</td>\n",
       "      <td>20</td>\n",
       "      <td>RL</td>\n",
       "      <td>80.0</td>\n",
       "      <td>9600</td>\n",
       "      <td>Pave</td>\n",
       "      <td>NaN</td>\n",
       "      <td>Reg</td>\n",
       "      <td>Lvl</td>\n",
       "      <td>AllPub</td>\n",
       "      <td>...</td>\n",
       "      <td>0</td>\n",
       "      <td>NaN</td>\n",
       "      <td>NaN</td>\n",
       "      <td>NaN</td>\n",
       "      <td>0</td>\n",
       "      <td>5</td>\n",
       "      <td>2007</td>\n",
       "      <td>WD</td>\n",
       "      <td>Normal</td>\n",
       "      <td>181500</td>\n",
       "    </tr>\n",
       "    <tr>\n",
       "      <th>2</th>\n",
       "      <td>3</td>\n",
       "      <td>60</td>\n",
       "      <td>RL</td>\n",
       "      <td>68.0</td>\n",
       "      <td>11250</td>\n",
       "      <td>Pave</td>\n",
       "      <td>NaN</td>\n",
       "      <td>IR1</td>\n",
       "      <td>Lvl</td>\n",
       "      <td>AllPub</td>\n",
       "      <td>...</td>\n",
       "      <td>0</td>\n",
       "      <td>NaN</td>\n",
       "      <td>NaN</td>\n",
       "      <td>NaN</td>\n",
       "      <td>0</td>\n",
       "      <td>9</td>\n",
       "      <td>2008</td>\n",
       "      <td>WD</td>\n",
       "      <td>Normal</td>\n",
       "      <td>223500</td>\n",
       "    </tr>\n",
       "    <tr>\n",
       "      <th>3</th>\n",
       "      <td>4</td>\n",
       "      <td>70</td>\n",
       "      <td>RL</td>\n",
       "      <td>60.0</td>\n",
       "      <td>9550</td>\n",
       "      <td>Pave</td>\n",
       "      <td>NaN</td>\n",
       "      <td>IR1</td>\n",
       "      <td>Lvl</td>\n",
       "      <td>AllPub</td>\n",
       "      <td>...</td>\n",
       "      <td>0</td>\n",
       "      <td>NaN</td>\n",
       "      <td>NaN</td>\n",
       "      <td>NaN</td>\n",
       "      <td>0</td>\n",
       "      <td>2</td>\n",
       "      <td>2006</td>\n",
       "      <td>WD</td>\n",
       "      <td>Abnorml</td>\n",
       "      <td>140000</td>\n",
       "    </tr>\n",
       "    <tr>\n",
       "      <th>4</th>\n",
       "      <td>5</td>\n",
       "      <td>60</td>\n",
       "      <td>RL</td>\n",
       "      <td>84.0</td>\n",
       "      <td>14260</td>\n",
       "      <td>Pave</td>\n",
       "      <td>NaN</td>\n",
       "      <td>IR1</td>\n",
       "      <td>Lvl</td>\n",
       "      <td>AllPub</td>\n",
       "      <td>...</td>\n",
       "      <td>0</td>\n",
       "      <td>NaN</td>\n",
       "      <td>NaN</td>\n",
       "      <td>NaN</td>\n",
       "      <td>0</td>\n",
       "      <td>12</td>\n",
       "      <td>2008</td>\n",
       "      <td>WD</td>\n",
       "      <td>Normal</td>\n",
       "      <td>250000</td>\n",
       "    </tr>\n",
       "  </tbody>\n",
       "</table>\n",
       "<p>5 rows × 81 columns</p>\n",
       "</div>"
      ],
      "text/plain": [
       "   Id  MSSubClass MSZoning  LotFrontage  LotArea Street Alley LotShape  \\\n",
       "0   1          60       RL         65.0     8450   Pave   NaN      Reg   \n",
       "1   2          20       RL         80.0     9600   Pave   NaN      Reg   \n",
       "2   3          60       RL         68.0    11250   Pave   NaN      IR1   \n",
       "3   4          70       RL         60.0     9550   Pave   NaN      IR1   \n",
       "4   5          60       RL         84.0    14260   Pave   NaN      IR1   \n",
       "\n",
       "  LandContour Utilities  ... PoolArea PoolQC Fence MiscFeature MiscVal MoSold  \\\n",
       "0         Lvl    AllPub  ...        0    NaN   NaN         NaN       0      2   \n",
       "1         Lvl    AllPub  ...        0    NaN   NaN         NaN       0      5   \n",
       "2         Lvl    AllPub  ...        0    NaN   NaN         NaN       0      9   \n",
       "3         Lvl    AllPub  ...        0    NaN   NaN         NaN       0      2   \n",
       "4         Lvl    AllPub  ...        0    NaN   NaN         NaN       0     12   \n",
       "\n",
       "  YrSold  SaleType  SaleCondition  SalePrice  \n",
       "0   2008        WD         Normal     208500  \n",
       "1   2007        WD         Normal     181500  \n",
       "2   2008        WD         Normal     223500  \n",
       "3   2006        WD        Abnorml     140000  \n",
       "4   2008        WD         Normal     250000  \n",
       "\n",
       "[5 rows x 81 columns]"
      ]
     },
     "execution_count": 3,
     "metadata": {},
     "output_type": "execute_result"
    }
   ],
   "source": [
    "train.head()"
   ]
  },
  {
   "cell_type": "markdown",
   "metadata": {
    "execution": {
     "iopub.execute_input": "2021-09-28T22:24:45.207158Z",
     "iopub.status.busy": "2021-09-28T22:24:45.206399Z",
     "iopub.status.idle": "2021-09-28T22:24:45.211594Z",
     "shell.execute_reply": "2021-09-28T22:24:45.210692Z",
     "shell.execute_reply.started": "2021-09-28T22:24:45.20712Z"
    }
   },
   "source": [
    "#  **Exploratory Data Analysis**"
   ]
  },
  {
   "cell_type": "code",
   "execution_count": 4,
   "metadata": {
    "execution": {
     "iopub.execute_input": "2021-10-03T13:05:06.120753Z",
     "iopub.status.busy": "2021-10-03T13:05:06.120204Z",
     "iopub.status.idle": "2021-10-03T13:05:06.12757Z",
     "shell.execute_reply": "2021-10-03T13:05:06.126567Z",
     "shell.execute_reply.started": "2021-10-03T13:05:06.120713Z"
    }
   },
   "outputs": [
    {
     "name": "stdout",
     "output_type": "stream",
     "text": [
      "Training Set :\n",
      " Number of rows : 1460, Number of Columns : 81\n",
      "Test Set :\n",
      " Number of rows : 1459, Number of Columns : 80\n"
     ]
    }
   ],
   "source": [
    "# Getting to know data\n",
    "print(f\"Training Set :\\n Number of rows : {train.shape[0]}, Number of Columns : {train.shape[1]}\")\n",
    "print(f\"Test Set :\\n Number of rows : {test.shape[0]}, Number of Columns : {test.shape[1]}\")"
   ]
  },
  {
   "cell_type": "code",
   "execution_count": 5,
   "metadata": {
    "execution": {
     "iopub.execute_input": "2021-10-03T13:05:06.13027Z",
     "iopub.status.busy": "2021-10-03T13:05:06.129164Z",
     "iopub.status.idle": "2021-10-03T13:05:06.148098Z",
     "shell.execute_reply": "2021-10-03T13:05:06.147037Z",
     "shell.execute_reply.started": "2021-10-03T13:05:06.130196Z"
    }
   },
   "outputs": [
    {
     "name": "stdout",
     "output_type": "stream",
     "text": [
      "Total Numerical Cols :  37\n",
      "Total Categorical Cols :  43\n"
     ]
    }
   ],
   "source": [
    "# extract numeric data\n",
    "num_cols = train.loc[:,train.dtypes != 'object'].drop(['Id'], axis=1).columns\n",
    "num_train = train[num_cols]\n",
    "# extract categorical data\n",
    "cat_cols = train.loc[:,train.dtypes == 'object'].columns\n",
    "cat_train = train[cat_cols]\n",
    "\n",
    "print(\"Total Numerical Cols : \", len(num_cols))\n",
    "print(\"Total Categorical Cols : \", len(cat_cols))"
   ]
  },
  {
   "cell_type": "code",
   "execution_count": 6,
   "metadata": {
    "execution": {
     "iopub.execute_input": "2021-10-03T13:05:06.150302Z",
     "iopub.status.busy": "2021-10-03T13:05:06.149868Z",
     "iopub.status.idle": "2021-10-03T13:05:06.248129Z",
     "shell.execute_reply": "2021-10-03T13:05:06.247529Z",
     "shell.execute_reply.started": "2021-10-03T13:05:06.150272Z"
    }
   },
   "outputs": [
    {
     "data": {
      "text/html": [
       "<div>\n",
       "<style scoped>\n",
       "    .dataframe tbody tr th:only-of-type {\n",
       "        vertical-align: middle;\n",
       "    }\n",
       "\n",
       "    .dataframe tbody tr th {\n",
       "        vertical-align: top;\n",
       "    }\n",
       "\n",
       "    .dataframe thead th {\n",
       "        text-align: right;\n",
       "    }\n",
       "</style>\n",
       "<table border=\"1\" class=\"dataframe\">\n",
       "  <thead>\n",
       "    <tr style=\"text-align: right;\">\n",
       "      <th></th>\n",
       "      <th>Id</th>\n",
       "      <th>MSSubClass</th>\n",
       "      <th>LotFrontage</th>\n",
       "      <th>LotArea</th>\n",
       "      <th>OverallQual</th>\n",
       "      <th>OverallCond</th>\n",
       "      <th>YearBuilt</th>\n",
       "      <th>YearRemodAdd</th>\n",
       "      <th>MasVnrArea</th>\n",
       "      <th>BsmtFinSF1</th>\n",
       "      <th>...</th>\n",
       "      <th>WoodDeckSF</th>\n",
       "      <th>OpenPorchSF</th>\n",
       "      <th>EnclosedPorch</th>\n",
       "      <th>3SsnPorch</th>\n",
       "      <th>ScreenPorch</th>\n",
       "      <th>PoolArea</th>\n",
       "      <th>MiscVal</th>\n",
       "      <th>MoSold</th>\n",
       "      <th>YrSold</th>\n",
       "      <th>SalePrice</th>\n",
       "    </tr>\n",
       "  </thead>\n",
       "  <tbody>\n",
       "    <tr>\n",
       "      <th>count</th>\n",
       "      <td>1460.000000</td>\n",
       "      <td>1460.000000</td>\n",
       "      <td>1201.000000</td>\n",
       "      <td>1460.000000</td>\n",
       "      <td>1460.000000</td>\n",
       "      <td>1460.000000</td>\n",
       "      <td>1460.000000</td>\n",
       "      <td>1460.000000</td>\n",
       "      <td>1452.000000</td>\n",
       "      <td>1460.000000</td>\n",
       "      <td>...</td>\n",
       "      <td>1460.000000</td>\n",
       "      <td>1460.000000</td>\n",
       "      <td>1460.000000</td>\n",
       "      <td>1460.000000</td>\n",
       "      <td>1460.000000</td>\n",
       "      <td>1460.000000</td>\n",
       "      <td>1460.000000</td>\n",
       "      <td>1460.000000</td>\n",
       "      <td>1460.000000</td>\n",
       "      <td>1460.000000</td>\n",
       "    </tr>\n",
       "    <tr>\n",
       "      <th>mean</th>\n",
       "      <td>730.500000</td>\n",
       "      <td>56.897260</td>\n",
       "      <td>70.049958</td>\n",
       "      <td>10516.828082</td>\n",
       "      <td>6.099315</td>\n",
       "      <td>5.575342</td>\n",
       "      <td>1971.267808</td>\n",
       "      <td>1984.865753</td>\n",
       "      <td>103.685262</td>\n",
       "      <td>443.639726</td>\n",
       "      <td>...</td>\n",
       "      <td>94.244521</td>\n",
       "      <td>46.660274</td>\n",
       "      <td>21.954110</td>\n",
       "      <td>3.409589</td>\n",
       "      <td>15.060959</td>\n",
       "      <td>2.758904</td>\n",
       "      <td>43.489041</td>\n",
       "      <td>6.321918</td>\n",
       "      <td>2007.815753</td>\n",
       "      <td>180921.195890</td>\n",
       "    </tr>\n",
       "    <tr>\n",
       "      <th>std</th>\n",
       "      <td>421.610009</td>\n",
       "      <td>42.300571</td>\n",
       "      <td>24.284752</td>\n",
       "      <td>9981.264932</td>\n",
       "      <td>1.382997</td>\n",
       "      <td>1.112799</td>\n",
       "      <td>30.202904</td>\n",
       "      <td>20.645407</td>\n",
       "      <td>181.066207</td>\n",
       "      <td>456.098091</td>\n",
       "      <td>...</td>\n",
       "      <td>125.338794</td>\n",
       "      <td>66.256028</td>\n",
       "      <td>61.119149</td>\n",
       "      <td>29.317331</td>\n",
       "      <td>55.757415</td>\n",
       "      <td>40.177307</td>\n",
       "      <td>496.123024</td>\n",
       "      <td>2.703626</td>\n",
       "      <td>1.328095</td>\n",
       "      <td>79442.502883</td>\n",
       "    </tr>\n",
       "    <tr>\n",
       "      <th>min</th>\n",
       "      <td>1.000000</td>\n",
       "      <td>20.000000</td>\n",
       "      <td>21.000000</td>\n",
       "      <td>1300.000000</td>\n",
       "      <td>1.000000</td>\n",
       "      <td>1.000000</td>\n",
       "      <td>1872.000000</td>\n",
       "      <td>1950.000000</td>\n",
       "      <td>0.000000</td>\n",
       "      <td>0.000000</td>\n",
       "      <td>...</td>\n",
       "      <td>0.000000</td>\n",
       "      <td>0.000000</td>\n",
       "      <td>0.000000</td>\n",
       "      <td>0.000000</td>\n",
       "      <td>0.000000</td>\n",
       "      <td>0.000000</td>\n",
       "      <td>0.000000</td>\n",
       "      <td>1.000000</td>\n",
       "      <td>2006.000000</td>\n",
       "      <td>34900.000000</td>\n",
       "    </tr>\n",
       "    <tr>\n",
       "      <th>25%</th>\n",
       "      <td>365.750000</td>\n",
       "      <td>20.000000</td>\n",
       "      <td>59.000000</td>\n",
       "      <td>7553.500000</td>\n",
       "      <td>5.000000</td>\n",
       "      <td>5.000000</td>\n",
       "      <td>1954.000000</td>\n",
       "      <td>1967.000000</td>\n",
       "      <td>0.000000</td>\n",
       "      <td>0.000000</td>\n",
       "      <td>...</td>\n",
       "      <td>0.000000</td>\n",
       "      <td>0.000000</td>\n",
       "      <td>0.000000</td>\n",
       "      <td>0.000000</td>\n",
       "      <td>0.000000</td>\n",
       "      <td>0.000000</td>\n",
       "      <td>0.000000</td>\n",
       "      <td>5.000000</td>\n",
       "      <td>2007.000000</td>\n",
       "      <td>129975.000000</td>\n",
       "    </tr>\n",
       "    <tr>\n",
       "      <th>50%</th>\n",
       "      <td>730.500000</td>\n",
       "      <td>50.000000</td>\n",
       "      <td>69.000000</td>\n",
       "      <td>9478.500000</td>\n",
       "      <td>6.000000</td>\n",
       "      <td>5.000000</td>\n",
       "      <td>1973.000000</td>\n",
       "      <td>1994.000000</td>\n",
       "      <td>0.000000</td>\n",
       "      <td>383.500000</td>\n",
       "      <td>...</td>\n",
       "      <td>0.000000</td>\n",
       "      <td>25.000000</td>\n",
       "      <td>0.000000</td>\n",
       "      <td>0.000000</td>\n",
       "      <td>0.000000</td>\n",
       "      <td>0.000000</td>\n",
       "      <td>0.000000</td>\n",
       "      <td>6.000000</td>\n",
       "      <td>2008.000000</td>\n",
       "      <td>163000.000000</td>\n",
       "    </tr>\n",
       "    <tr>\n",
       "      <th>75%</th>\n",
       "      <td>1095.250000</td>\n",
       "      <td>70.000000</td>\n",
       "      <td>80.000000</td>\n",
       "      <td>11601.500000</td>\n",
       "      <td>7.000000</td>\n",
       "      <td>6.000000</td>\n",
       "      <td>2000.000000</td>\n",
       "      <td>2004.000000</td>\n",
       "      <td>166.000000</td>\n",
       "      <td>712.250000</td>\n",
       "      <td>...</td>\n",
       "      <td>168.000000</td>\n",
       "      <td>68.000000</td>\n",
       "      <td>0.000000</td>\n",
       "      <td>0.000000</td>\n",
       "      <td>0.000000</td>\n",
       "      <td>0.000000</td>\n",
       "      <td>0.000000</td>\n",
       "      <td>8.000000</td>\n",
       "      <td>2009.000000</td>\n",
       "      <td>214000.000000</td>\n",
       "    </tr>\n",
       "    <tr>\n",
       "      <th>max</th>\n",
       "      <td>1460.000000</td>\n",
       "      <td>190.000000</td>\n",
       "      <td>313.000000</td>\n",
       "      <td>215245.000000</td>\n",
       "      <td>10.000000</td>\n",
       "      <td>9.000000</td>\n",
       "      <td>2010.000000</td>\n",
       "      <td>2010.000000</td>\n",
       "      <td>1600.000000</td>\n",
       "      <td>5644.000000</td>\n",
       "      <td>...</td>\n",
       "      <td>857.000000</td>\n",
       "      <td>547.000000</td>\n",
       "      <td>552.000000</td>\n",
       "      <td>508.000000</td>\n",
       "      <td>480.000000</td>\n",
       "      <td>738.000000</td>\n",
       "      <td>15500.000000</td>\n",
       "      <td>12.000000</td>\n",
       "      <td>2010.000000</td>\n",
       "      <td>755000.000000</td>\n",
       "    </tr>\n",
       "  </tbody>\n",
       "</table>\n",
       "<p>8 rows × 38 columns</p>\n",
       "</div>"
      ],
      "text/plain": [
       "                Id   MSSubClass  LotFrontage        LotArea  OverallQual  \\\n",
       "count  1460.000000  1460.000000  1201.000000    1460.000000  1460.000000   \n",
       "mean    730.500000    56.897260    70.049958   10516.828082     6.099315   \n",
       "std     421.610009    42.300571    24.284752    9981.264932     1.382997   \n",
       "min       1.000000    20.000000    21.000000    1300.000000     1.000000   \n",
       "25%     365.750000    20.000000    59.000000    7553.500000     5.000000   \n",
       "50%     730.500000    50.000000    69.000000    9478.500000     6.000000   \n",
       "75%    1095.250000    70.000000    80.000000   11601.500000     7.000000   \n",
       "max    1460.000000   190.000000   313.000000  215245.000000    10.000000   \n",
       "\n",
       "       OverallCond    YearBuilt  YearRemodAdd   MasVnrArea   BsmtFinSF1  ...  \\\n",
       "count  1460.000000  1460.000000   1460.000000  1452.000000  1460.000000  ...   \n",
       "mean      5.575342  1971.267808   1984.865753   103.685262   443.639726  ...   \n",
       "std       1.112799    30.202904     20.645407   181.066207   456.098091  ...   \n",
       "min       1.000000  1872.000000   1950.000000     0.000000     0.000000  ...   \n",
       "25%       5.000000  1954.000000   1967.000000     0.000000     0.000000  ...   \n",
       "50%       5.000000  1973.000000   1994.000000     0.000000   383.500000  ...   \n",
       "75%       6.000000  2000.000000   2004.000000   166.000000   712.250000  ...   \n",
       "max       9.000000  2010.000000   2010.000000  1600.000000  5644.000000  ...   \n",
       "\n",
       "        WoodDeckSF  OpenPorchSF  EnclosedPorch    3SsnPorch  ScreenPorch  \\\n",
       "count  1460.000000  1460.000000    1460.000000  1460.000000  1460.000000   \n",
       "mean     94.244521    46.660274      21.954110     3.409589    15.060959   \n",
       "std     125.338794    66.256028      61.119149    29.317331    55.757415   \n",
       "min       0.000000     0.000000       0.000000     0.000000     0.000000   \n",
       "25%       0.000000     0.000000       0.000000     0.000000     0.000000   \n",
       "50%       0.000000    25.000000       0.000000     0.000000     0.000000   \n",
       "75%     168.000000    68.000000       0.000000     0.000000     0.000000   \n",
       "max     857.000000   547.000000     552.000000   508.000000   480.000000   \n",
       "\n",
       "          PoolArea       MiscVal       MoSold       YrSold      SalePrice  \n",
       "count  1460.000000   1460.000000  1460.000000  1460.000000    1460.000000  \n",
       "mean      2.758904     43.489041     6.321918  2007.815753  180921.195890  \n",
       "std      40.177307    496.123024     2.703626     1.328095   79442.502883  \n",
       "min       0.000000      0.000000     1.000000  2006.000000   34900.000000  \n",
       "25%       0.000000      0.000000     5.000000  2007.000000  129975.000000  \n",
       "50%       0.000000      0.000000     6.000000  2008.000000  163000.000000  \n",
       "75%       0.000000      0.000000     8.000000  2009.000000  214000.000000  \n",
       "max     738.000000  15500.000000    12.000000  2010.000000  755000.000000  \n",
       "\n",
       "[8 rows x 38 columns]"
      ]
     },
     "execution_count": 6,
     "metadata": {},
     "output_type": "execute_result"
    }
   ],
   "source": [
    "# summary of numerical variable\n",
    "train.describe()"
   ]
  },
  {
   "cell_type": "code",
   "execution_count": 7,
   "metadata": {
    "execution": {
     "iopub.execute_input": "2021-10-03T13:05:06.249702Z",
     "iopub.status.busy": "2021-10-03T13:05:06.249305Z",
     "iopub.status.idle": "2021-10-03T13:05:06.275176Z",
     "shell.execute_reply": "2021-10-03T13:05:06.273978Z",
     "shell.execute_reply.started": "2021-10-03T13:05:06.249675Z"
    }
   },
   "outputs": [
    {
     "name": "stdout",
     "output_type": "stream",
     "text": [
      "<class 'pandas.core.frame.DataFrame'>\n",
      "RangeIndex: 1460 entries, 0 to 1459\n",
      "Data columns (total 81 columns):\n",
      " #   Column         Non-Null Count  Dtype  \n",
      "---  ------         --------------  -----  \n",
      " 0   Id             1460 non-null   int64  \n",
      " 1   MSSubClass     1460 non-null   int64  \n",
      " 2   MSZoning       1460 non-null   object \n",
      " 3   LotFrontage    1201 non-null   float64\n",
      " 4   LotArea        1460 non-null   int64  \n",
      " 5   Street         1460 non-null   object \n",
      " 6   Alley          91 non-null     object \n",
      " 7   LotShape       1460 non-null   object \n",
      " 8   LandContour    1460 non-null   object \n",
      " 9   Utilities      1460 non-null   object \n",
      " 10  LotConfig      1460 non-null   object \n",
      " 11  LandSlope      1460 non-null   object \n",
      " 12  Neighborhood   1460 non-null   object \n",
      " 13  Condition1     1460 non-null   object \n",
      " 14  Condition2     1460 non-null   object \n",
      " 15  BldgType       1460 non-null   object \n",
      " 16  HouseStyle     1460 non-null   object \n",
      " 17  OverallQual    1460 non-null   int64  \n",
      " 18  OverallCond    1460 non-null   int64  \n",
      " 19  YearBuilt      1460 non-null   int64  \n",
      " 20  YearRemodAdd   1460 non-null   int64  \n",
      " 21  RoofStyle      1460 non-null   object \n",
      " 22  RoofMatl       1460 non-null   object \n",
      " 23  Exterior1st    1460 non-null   object \n",
      " 24  Exterior2nd    1460 non-null   object \n",
      " 25  MasVnrType     1452 non-null   object \n",
      " 26  MasVnrArea     1452 non-null   float64\n",
      " 27  ExterQual      1460 non-null   object \n",
      " 28  ExterCond      1460 non-null   object \n",
      " 29  Foundation     1460 non-null   object \n",
      " 30  BsmtQual       1423 non-null   object \n",
      " 31  BsmtCond       1423 non-null   object \n",
      " 32  BsmtExposure   1422 non-null   object \n",
      " 33  BsmtFinType1   1423 non-null   object \n",
      " 34  BsmtFinSF1     1460 non-null   int64  \n",
      " 35  BsmtFinType2   1422 non-null   object \n",
      " 36  BsmtFinSF2     1460 non-null   int64  \n",
      " 37  BsmtUnfSF      1460 non-null   int64  \n",
      " 38  TotalBsmtSF    1460 non-null   int64  \n",
      " 39  Heating        1460 non-null   object \n",
      " 40  HeatingQC      1460 non-null   object \n",
      " 41  CentralAir     1460 non-null   object \n",
      " 42  Electrical     1459 non-null   object \n",
      " 43  1stFlrSF       1460 non-null   int64  \n",
      " 44  2ndFlrSF       1460 non-null   int64  \n",
      " 45  LowQualFinSF   1460 non-null   int64  \n",
      " 46  GrLivArea      1460 non-null   int64  \n",
      " 47  BsmtFullBath   1460 non-null   int64  \n",
      " 48  BsmtHalfBath   1460 non-null   int64  \n",
      " 49  FullBath       1460 non-null   int64  \n",
      " 50  HalfBath       1460 non-null   int64  \n",
      " 51  BedroomAbvGr   1460 non-null   int64  \n",
      " 52  KitchenAbvGr   1460 non-null   int64  \n",
      " 53  KitchenQual    1460 non-null   object \n",
      " 54  TotRmsAbvGrd   1460 non-null   int64  \n",
      " 55  Functional     1460 non-null   object \n",
      " 56  Fireplaces     1460 non-null   int64  \n",
      " 57  FireplaceQu    770 non-null    object \n",
      " 58  GarageType     1379 non-null   object \n",
      " 59  GarageYrBlt    1379 non-null   float64\n",
      " 60  GarageFinish   1379 non-null   object \n",
      " 61  GarageCars     1460 non-null   int64  \n",
      " 62  GarageArea     1460 non-null   int64  \n",
      " 63  GarageQual     1379 non-null   object \n",
      " 64  GarageCond     1379 non-null   object \n",
      " 65  PavedDrive     1460 non-null   object \n",
      " 66  WoodDeckSF     1460 non-null   int64  \n",
      " 67  OpenPorchSF    1460 non-null   int64  \n",
      " 68  EnclosedPorch  1460 non-null   int64  \n",
      " 69  3SsnPorch      1460 non-null   int64  \n",
      " 70  ScreenPorch    1460 non-null   int64  \n",
      " 71  PoolArea       1460 non-null   int64  \n",
      " 72  PoolQC         7 non-null      object \n",
      " 73  Fence          281 non-null    object \n",
      " 74  MiscFeature    54 non-null     object \n",
      " 75  MiscVal        1460 non-null   int64  \n",
      " 76  MoSold         1460 non-null   int64  \n",
      " 77  YrSold         1460 non-null   int64  \n",
      " 78  SaleType       1460 non-null   object \n",
      " 79  SaleCondition  1460 non-null   object \n",
      " 80  SalePrice      1460 non-null   int64  \n",
      "dtypes: float64(3), int64(35), object(43)\n",
      "memory usage: 924.0+ KB\n"
     ]
    }
   ],
   "source": [
    "# summary of categorial variable\n",
    "train.info()"
   ]
  },
  {
   "cell_type": "code",
   "execution_count": 8,
   "metadata": {
    "execution": {
     "iopub.execute_input": "2021-10-03T13:05:06.277248Z",
     "iopub.status.busy": "2021-10-03T13:05:06.276886Z",
     "iopub.status.idle": "2021-10-03T13:05:06.285137Z",
     "shell.execute_reply": "2021-10-03T13:05:06.284358Z",
     "shell.execute_reply.started": "2021-10-03T13:05:06.277213Z"
    }
   },
   "outputs": [],
   "source": [
    "# let's clean visualizations :)\n",
    "\n",
    "import warnings\n",
    "warnings.simplefilter(action='ignore', category=FutureWarning)"
   ]
  },
  {
   "cell_type": "code",
   "execution_count": 9,
   "metadata": {
    "execution": {
     "iopub.execute_input": "2021-10-03T13:05:06.28674Z",
     "iopub.status.busy": "2021-10-03T13:05:06.286367Z",
     "iopub.status.idle": "2021-10-03T13:05:06.916608Z",
     "shell.execute_reply": "2021-10-03T13:05:06.915695Z",
     "shell.execute_reply.started": "2021-10-03T13:05:06.28671Z"
    }
   },
   "outputs": [
    {
     "data": {
      "text/plain": [
       "Text(0.5, 1.0, 'SalePrice distribution')"
      ]
     },
     "execution_count": 9,
     "metadata": {},
     "output_type": "execute_result"
    },
    {
     "data": {
      "image/png": "[encoded data removed]",
      "text/plain": [
       "<Figure size 432x288 with 1 Axes>"
      ]
     },
     "metadata": {
      "needs_background": "light"
     },
     "output_type": "display_data"
    }
   ],
   "source": [
    "# Let's take a look at the distribution of the SalePrice \n",
    "sns.distplot(train['SalePrice'] , fit=norm);\n",
    "(mu, sigma) = norm.fit(train['SalePrice'])\n",
    "plt.legend(['Normal dist. ($\\mu=$ {:.2f} and $\\sigma=$ {:.2f} )'.format(mu, sigma)],\n",
    "            loc='best')\n",
    "plt.ylabel('Frequency')\n",
    "plt.title('SalePrice distribution')"
   ]
  },
  {
   "cell_type": "code",
   "execution_count": 10,
   "metadata": {
    "execution": {
     "iopub.execute_input": "2021-10-03T13:05:06.920164Z",
     "iopub.status.busy": "2021-10-03T13:05:06.919901Z",
     "iopub.status.idle": "2021-10-03T13:05:07.359425Z",
     "shell.execute_reply": "2021-10-03T13:05:07.358473Z",
     "shell.execute_reply.started": "2021-10-03T13:05:06.920136Z"
    }
   },
   "outputs": [
    {
     "data": {
      "text/plain": [
       "Text(0.5, 1.0, 'SalePrice distribution')"
      ]
     },
     "execution_count": 10,
     "metadata": {},
     "output_type": "execute_result"
    },
    {
     "data": {
      "image/png": "[encoded data removed]",
      "text/plain": [
       "<Figure size 432x288 with 1 Axes>"
      ]
     },
     "metadata": {
      "needs_background": "light"
     },
     "output_type": "display_data"
    }
   ],
   "source": [
    "price = np.log1p(train[\"SalePrice\"])\n",
    " \n",
    "sns.distplot(price , fit=norm);\n",
    "(mu, sigma) = norm.fit(price)\n",
    "plt.legend(['Normal dist. ($\\mu=$ {:.2f} and $\\sigma=$ {:.2f} )'.format(mu, sigma)],\n",
    "            loc='best')\n",
    "plt.ylabel('Frequency')\n",
    "plt.title('SalePrice distribution')"
   ]
  },
  {
   "cell_type": "code",
   "execution_count": 11,
   "metadata": {
    "execution": {
     "iopub.execute_input": "2021-10-03T13:05:07.36227Z",
     "iopub.status.busy": "2021-10-03T13:05:07.361643Z",
     "iopub.status.idle": "2021-10-03T13:05:07.628689Z",
     "shell.execute_reply": "2021-10-03T13:05:07.627576Z",
     "shell.execute_reply.started": "2021-10-03T13:05:07.362207Z"
    }
   },
   "outputs": [
    {
     "data": {
      "image/png": "[encoded data removed]",
      "text/plain": [
       "<Figure size 1296x720 with 1 Axes>"
      ]
     },
     "metadata": {
      "needs_background": "light"
     },
     "output_type": "display_data"
    }
   ],
   "source": [
    "# common sales' years\n",
    "plt.figure(figsize=(18,10))\n",
    "plots = train[\"YrSold\"].value_counts().plot(kind=\"bar\")\n",
    "for bar in plots.patches:\n",
    "    plots.annotate(format(bar.get_height(), '.0f'),\n",
    "                   (bar.get_x() + bar.get_width() / 2,\n",
    "                    bar.get_height()), ha='center', va='center',\n",
    "                   size=15, xytext=(0, 8),\n",
    "                   textcoords='offset points')\n",
    "plt.title(\"Houses Sold over the Years\")\n",
    "plt.ylabel(\"Number\")\n",
    "plt.show()"
   ]
  },
  {
   "cell_type": "code",
   "execution_count": 12,
   "metadata": {
    "execution": {
     "iopub.execute_input": "2021-10-03T13:05:07.630219Z",
     "iopub.status.busy": "2021-10-03T13:05:07.629994Z",
     "iopub.status.idle": "2021-10-03T13:05:07.931586Z",
     "shell.execute_reply": "2021-10-03T13:05:07.93059Z",
     "shell.execute_reply.started": "2021-10-03T13:05:07.630195Z"
    }
   },
   "outputs": [
    {
     "data": {
      "image/png": "[encoded data removed]",
      "text/plain": [
       "<Figure size 1296x720 with 1 Axes>"
      ]
     },
     "metadata": {
      "needs_background": "light"
     },
     "output_type": "display_data"
    }
   ],
   "source": [
    "# common purchases' types\n",
    "plt.figure(figsize=(18,10))\n",
    "plots = train[\"SaleType\"].value_counts().plot(kind=\"bar\")\n",
    "for bar in plots.patches:\n",
    "    plots.annotate(format(bar.get_height(), '.0f'),\n",
    "                   (bar.get_x() + bar.get_width() / 2,\n",
    "                    bar.get_height()), ha='center', va='center',\n",
    "                   size=15, xytext=(0, 8),\n",
    "                   textcoords='offset points')\n",
    "plt.title(\"Most purchased Sale Type\")\n",
    "plt.ylabel(\"Frequency\")\n",
    "plt.xlabel(\"Sale Type\")\n",
    "plt.show()"
   ]
  },
  {
   "cell_type": "code",
   "execution_count": 13,
   "metadata": {
    "execution": {
     "iopub.execute_input": "2021-10-03T13:05:07.934946Z",
     "iopub.status.busy": "2021-10-03T13:05:07.934706Z",
     "iopub.status.idle": "2021-10-03T13:05:07.940019Z",
     "shell.execute_reply": "2021-10-03T13:05:07.938757Z",
     "shell.execute_reply.started": "2021-10-03T13:05:07.934921Z"
    }
   },
   "outputs": [],
   "source": [
    "### Feature importances"
   ]
  },
  {
   "cell_type": "code",
   "execution_count": 14,
   "metadata": {
    "execution": {
     "iopub.execute_input": "2021-10-03T13:05:07.941965Z",
     "iopub.status.busy": "2021-10-03T13:05:07.941516Z",
     "iopub.status.idle": "2021-10-03T13:05:08.328204Z",
     "shell.execute_reply": "2021-10-03T13:05:08.32748Z",
     "shell.execute_reply.started": "2021-10-03T13:05:07.941924Z"
    }
   },
   "outputs": [
    {
     "name": "stdout",
     "output_type": "stream",
     "text": [
      "[LightGBM] [Warning] Auto-choosing row-wise multi-threading, the overhead of testing was 0.001179 seconds.\n",
      "You can set `force_row_wise=true` to remove the overhead.\n",
      "And if memory is not enough, you can set `force_col_wise=true`.\n",
      "[LightGBM] [Info] Total Bins 3391\n",
      "[LightGBM] [Info] Number of data points in the train set: 1460, number of used features: 74\n",
      "[LightGBM] [Info] Start training from score 180921.195890\n"
     ]
    },
    {
     "data": {
      "text/html": [
       "<div>\n",
       "<style scoped>\n",
       "    .dataframe tbody tr th:only-of-type {\n",
       "        vertical-align: middle;\n",
       "    }\n",
       "\n",
       "    .dataframe tbody tr th {\n",
       "        vertical-align: top;\n",
       "    }\n",
       "\n",
       "    .dataframe thead th {\n",
       "        text-align: right;\n",
       "    }\n",
       "</style>\n",
       "<table border=\"1\" class=\"dataframe\">\n",
       "  <thead>\n",
       "    <tr style=\"text-align: right;\">\n",
       "      <th></th>\n",
       "      <th>importance</th>\n",
       "      <th>dtype</th>\n",
       "    </tr>\n",
       "  </thead>\n",
       "  <tbody>\n",
       "    <tr>\n",
       "      <th>GrLivArea</th>\n",
       "      <td>258</td>\n",
       "      <td>numeric</td>\n",
       "    </tr>\n",
       "    <tr>\n",
       "      <th>TotalBsmtSF</th>\n",
       "      <td>183</td>\n",
       "      <td>categorical</td>\n",
       "    </tr>\n",
       "    <tr>\n",
       "      <th>LotArea</th>\n",
       "      <td>181</td>\n",
       "      <td>numeric</td>\n",
       "    </tr>\n",
       "    <tr>\n",
       "      <th>BsmtFinSF1</th>\n",
       "      <td>165</td>\n",
       "      <td>numeric</td>\n",
       "    </tr>\n",
       "    <tr>\n",
       "      <th>GarageArea</th>\n",
       "      <td>150</td>\n",
       "      <td>categorical</td>\n",
       "    </tr>\n",
       "  </tbody>\n",
       "</table>\n",
       "</div>"
      ],
      "text/plain": [
       "             importance        dtype\n",
       "GrLivArea           258      numeric\n",
       "TotalBsmtSF         183  categorical\n",
       "LotArea             181      numeric\n",
       "BsmtFinSF1          165      numeric\n",
       "GarageArea          150  categorical"
      ]
     },
     "execution_count": 14,
     "metadata": {},
     "output_type": "execute_result"
    }
   ],
   "source": [
    "# fill nan with \"NULL\"\n",
    "tmp_df = train.copy()\n",
    "tmp_df[cat_cols] = tmp_df[cat_cols].fillna('NULL')\n",
    "# label encoding\n",
    "for col in cat_cols:\n",
    "    le = LabelEncoder()\n",
    "    le.fit(tmp_df[col])\n",
    "    tmp_df[col] = le.transform(tmp_df[col])\n",
    "# train data\n",
    "X_train = tmp_df.drop(['SalePrice', 'Id'], axis=1)\n",
    "y_train = tmp_df['SalePrice']\n",
    "lgb_train = lgb.Dataset(X_train, y_train)\n",
    "params = {'objective': 'regression', 'metric': 'rmse'}\n",
    "gbm = lgb.train(params, lgb_train)\n",
    "# create DataFrame\n",
    "cols = train.columns.drop(['Id', 'SalePrice'])\n",
    "feat_importances = pd.DataFrame({'importance': gbm.feature_importance()}, index=X_train.columns).sort_values('importance', ascending=False)\n",
    "feat_importances['dtype'] = ['numeric' if feat in num_cols else 'categorical' for feat in cols]\n",
    "feat_importances.head()"
   ]
  },
  {
   "cell_type": "markdown",
   "metadata": {},
   "source": [
    "### Numeric features"
   ]
  },
  {
   "cell_type": "code",
   "execution_count": 15,
   "metadata": {
    "execution": {
     "iopub.execute_input": "2021-10-03T13:05:08.330476Z",
     "iopub.status.busy": "2021-10-03T13:05:08.329552Z",
     "iopub.status.idle": "2021-10-03T13:05:09.517058Z",
     "shell.execute_reply": "2021-10-03T13:05:09.515888Z",
     "shell.execute_reply.started": "2021-10-03T13:05:08.330439Z"
    }
   },
   "outputs": [
    {
     "data": {
      "image/png": "[encoded data removed]",
      "text/plain": [
       "<Figure size 720x648 with 2 Axes>"
      ]
     },
     "metadata": {
      "needs_background": "light"
     },
     "output_type": "display_data"
    }
   ],
   "source": [
    "# correlation between numerical values\n",
    "plt.figure(figsize=(10, 9))\n",
    "sns.heatmap(train.drop('Id', axis=1).corr(), cmap='YlGnBu');"
   ]
  },
  {
   "cell_type": "code",
   "execution_count": 16,
   "metadata": {
    "execution": {
     "iopub.execute_input": "2021-10-03T13:05:09.519193Z",
     "iopub.status.busy": "2021-10-03T13:05:09.518843Z",
     "iopub.status.idle": "2021-10-03T13:05:10.21248Z",
     "shell.execute_reply": "2021-10-03T13:05:10.211541Z",
     "shell.execute_reply.started": "2021-10-03T13:05:09.519151Z"
    }
   },
   "outputs": [
    {
     "data": {
      "text/plain": [
       "Text(0, 0.5, 'features')"
      ]
     },
     "execution_count": 16,
     "metadata": {},
     "output_type": "execute_result"
    },
    {
     "data": {
      "image/png": "[encoded data removed]",
      "text/plain": [
       "<Figure size 1008x648 with 1 Axes>"
      ]
     },
     "metadata": {
      "needs_background": "light"
     },
     "output_type": "display_data"
    }
   ],
   "source": [
    "# correlation coefficient with SalePrice\n",
    "ax = num_train.corr()['SalePrice'].sort_values().plot(kind='barh', figsize=(14,9))\n",
    "ax.set_title('Correlation coefficient with SalePrice', fontsize=14)\n",
    "ax.set_xlabel('correlation coefficient')\n",
    "ax.set_ylabel('features')"
   ]
  },
  {
   "cell_type": "code",
   "execution_count": 17,
   "metadata": {
    "execution": {
     "iopub.execute_input": "2021-10-03T13:05:10.214705Z",
     "iopub.status.busy": "2021-10-03T13:05:10.214368Z",
     "iopub.status.idle": "2021-10-03T13:05:10.781977Z",
     "shell.execute_reply": "2021-10-03T13:05:10.781043Z",
     "shell.execute_reply.started": "2021-10-03T13:05:10.21466Z"
    }
   },
   "outputs": [
    {
     "data": {
      "text/plain": [
       "Text(0, 0.5, 'count')"
      ]
     },
     "execution_count": 17,
     "metadata": {},
     "output_type": "execute_result"
    },
    {
     "data": {
      "image/png": "[encoded data removed]",
      "text/plain": [
       "<Figure size 1008x360 with 1 Axes>"
      ]
     },
     "metadata": {
      "needs_background": "light"
     },
     "output_type": "display_data"
    }
   ],
   "source": [
    "# plot importance of numeric features\n",
    "num_feat_importances = feat_importances.loc[num_cols[:-1]].sort_values('importance', ascending=False)\n",
    "ax = num_feat_importances.plot.bar(figsize=(14,5))\n",
    "ax.set_title('Importance of Numeric Features', fontsize=14)\n",
    "ax.set_xlabel('features')\n",
    "ax.set_ylabel('count')"
   ]
  },
  {
   "cell_type": "markdown",
   "metadata": {},
   "source": [
    "#  **Preprocessing**"
   ]
  },
  {
   "cell_type": "code",
   "execution_count": 18,
   "metadata": {
    "execution": {
     "iopub.execute_input": "2021-10-03T13:05:10.783655Z",
     "iopub.status.busy": "2021-10-03T13:05:10.783369Z",
     "iopub.status.idle": "2021-10-03T13:05:10.78954Z",
     "shell.execute_reply": "2021-10-03T13:05:10.78889Z",
     "shell.execute_reply.started": "2021-10-03T13:05:10.783622Z"
    }
   },
   "outputs": [],
   "source": [
    "# cross validation\n",
    "def rmsle_cv(model):\n",
    "    kf = KFold(\n",
    "        n_splits=5,\n",
    "        shuffle=True,\n",
    "        random_state=42).get_n_splits(train_data)\n",
    "\n",
    "    rmse = np.sqrt(-cross_val_score(\n",
    "        model,\n",
    "        train_data,\n",
    "        price,\n",
    "        scoring=\"neg_mean_squared_error\",\n",
    "        cv = kf)\n",
    "    )\n",
    "    return rmse"
   ]
  },
  {
   "cell_type": "code",
   "execution_count": 19,
   "metadata": {
    "execution": {
     "iopub.execute_input": "2021-10-03T13:05:10.791505Z",
     "iopub.status.busy": "2021-10-03T13:05:10.790782Z",
     "iopub.status.idle": "2021-10-03T13:05:10.803184Z",
     "shell.execute_reply": "2021-10-03T13:05:10.802184Z",
     "shell.execute_reply.started": "2021-10-03T13:05:10.791459Z"
    }
   },
   "outputs": [],
   "source": [
    "# Numerical columns  (int64/float64)\n",
    "def get_numerical_cols(threshold=15):\n",
    "    num_cols =[]\n",
    "    num_df = train.select_dtypes(exclude='O')\n",
    "    for num_col in num_df.columns:\n",
    "        if num_col != 'SalePrice':\n",
    "            if train[num_col].nunique() > 15:\n",
    "                num_cols.append(num_col)\n",
    "    return num_cols"
   ]
  },
  {
   "cell_type": "code",
   "execution_count": 20,
   "metadata": {
    "execution": {
     "iopub.execute_input": "2021-10-03T13:05:10.804665Z",
     "iopub.status.busy": "2021-10-03T13:05:10.804355Z",
     "iopub.status.idle": "2021-10-03T13:05:10.817288Z",
     "shell.execute_reply": "2021-10-03T13:05:10.816427Z",
     "shell.execute_reply.started": "2021-10-03T13:05:10.804636Z"
    }
   },
   "outputs": [],
   "source": [
    "# Category columns\n",
    "def get_cat_cols(type='O', threshold=15):\n",
    "    cat = []\n",
    "\n",
    "    # Feature Selection\n",
    "    for col in train.columns:\n",
    "        if train[col].dtype == type:\n",
    "            if train[col].nunique()<=threshold:\n",
    "                cat.append(col)\n",
    "    return cat"
   ]
  },
  {
   "cell_type": "code",
   "execution_count": 21,
   "metadata": {
    "execution": {
     "iopub.execute_input": "2021-10-03T13:05:10.819011Z",
     "iopub.status.busy": "2021-10-03T13:05:10.818641Z",
     "iopub.status.idle": "2021-10-03T13:05:10.829963Z",
     "shell.execute_reply": "2021-10-03T13:05:10.828954Z",
     "shell.execute_reply.started": "2021-10-03T13:05:10.818967Z"
    }
   },
   "outputs": [
    {
     "name": "stdout",
     "output_type": "stream",
     "text": [
      "Missing field in MiscFeature column 1406 (0.96%)\n"
     ]
    }
   ],
   "source": [
    "# if a column has many missing fields then it has no use \n",
    "field_missing = train['MiscFeature'].isna().sum()\n",
    "print(f'Missing field in MiscFeature column {field_missing} ({field_missing/len(train):.2f}%)')"
   ]
  },
  {
   "cell_type": "code",
   "execution_count": 22,
   "metadata": {
    "execution": {
     "iopub.execute_input": "2021-10-03T13:05:10.831911Z",
     "iopub.status.busy": "2021-10-03T13:05:10.831477Z",
     "iopub.status.idle": "2021-10-03T13:05:10.840316Z",
     "shell.execute_reply": "2021-10-03T13:05:10.839521Z",
     "shell.execute_reply.started": "2021-10-03T13:05:10.831868Z"
    }
   },
   "outputs": [],
   "source": [
    "def feature_selection_util(type='O', cat_threshold=15, missing_threshold=100, is_cat=True):\n",
    "    features=[]\n",
    "    columns = get_cat_cols(type=type, threshold=cat_threshold) if is_cat else get_numerical_cols(threshold=cat_threshold)\n",
    "    for feature in columns:\n",
    "        if train[feature].isna().sum() <100:\n",
    "            features.append(feature)\n",
    "    return features"
   ]
  },
  {
   "cell_type": "code",
   "execution_count": 23,
   "metadata": {
    "execution": {
     "iopub.execute_input": "2021-10-03T13:05:10.841445Z",
     "iopub.status.busy": "2021-10-03T13:05:10.841208Z",
     "iopub.status.idle": "2021-10-03T13:05:10.891933Z",
     "shell.execute_reply": "2021-10-03T13:05:10.891024Z",
     "shell.execute_reply.started": "2021-10-03T13:05:10.841417Z"
    }
   },
   "outputs": [],
   "source": [
    "# string category \n",
    "str_cat_features = feature_selection_util()\n",
    "str_cat_transformer = Pipeline(steps=[('imputer',SimpleImputer(strategy='most_frequent')),\n",
    "                                      ('ohe', OneHotEncoder(handle_unknown='ignore'))])\n",
    "\n",
    "# integer category \n",
    "int_cat_features = feature_selection_util(type='int64')\n",
    "int_cat_transformer = Pipeline(steps=[('imputer',SimpleImputer(strategy='most_frequent')),\n",
    "                                      ('ohe', OneHotEncoder(handle_unknown='ignore'))])\n",
    "\n",
    "# numerical columns \n",
    "numerical_features = feature_selection_util(is_cat=False)\n",
    "numerical_transformer = Pipeline(steps=[('imputer',SimpleImputer(strategy='most_frequent')),\n",
    "                                        ('scale',StandardScaler())])\n",
    "\n",
    "\n",
    "# transformation\n",
    "preprocessing = ColumnTransformer(transformers=[('str_cat',str_cat_transformer,str_cat_features),\n",
    "                                                ('int_cat',int_cat_transformer, int_cat_features),\n",
    "                                                ('num_col', numerical_transformer, numerical_features)])\n"
   ]
  },
  {
   "cell_type": "markdown",
   "metadata": {},
   "source": [
    "#  **Training and Predicting**"
   ]
  },
  {
   "cell_type": "code",
   "execution_count": 24,
   "metadata": {
    "execution": {
     "iopub.execute_input": "2021-10-03T13:05:10.893458Z",
     "iopub.status.busy": "2021-10-03T13:05:10.893209Z",
     "iopub.status.idle": "2021-10-03T13:05:10.899501Z",
     "shell.execute_reply": "2021-10-03T13:05:10.898569Z",
     "shell.execute_reply.started": "2021-10-03T13:05:10.89343Z"
    }
   },
   "outputs": [],
   "source": [
    "def cross_validate(model,scoring='neg_root_mean_squared_error'):\n",
    "    # training features and lables\n",
    "    X = train.drop(columns=['SalePrice'])\n",
    "    y = train['SalePrice'] \n",
    "    # cross validation score\n",
    "    cv_score = cross_val_score(model, X, y, scoring=scoring)\n",
    "    return cv_score.mean()"
   ]
  },
  {
   "cell_type": "code",
   "execution_count": 25,
   "metadata": {
    "execution": {
     "iopub.execute_input": "2021-10-03T13:05:10.902223Z",
     "iopub.status.busy": "2021-10-03T13:05:10.901639Z",
     "iopub.status.idle": "2021-10-03T13:06:05.166372Z",
     "shell.execute_reply": "2021-10-03T13:06:05.165475Z",
     "shell.execute_reply.started": "2021-10-03T13:05:10.902189Z"
    }
   },
   "outputs": [
    {
     "name": "stdout",
     "output_type": "stream",
     "text": [
      "-30567.65582074594\n"
     ]
    }
   ],
   "source": [
    "# pipeline combining preprocessing step and modeling\n",
    "model = RandomForestRegressor(random_state=42)\n",
    "model_pipe = Pipeline(steps=[('preprocessing', preprocessing),\n",
    "                       ('model', model)])\n",
    "mean_cv_score = cross_validate(model_pipe)\n",
    "\n",
    "print(mean_cv_score)"
   ]
  },
  {
   "cell_type": "code",
   "execution_count": 26,
   "metadata": {
    "execution": {
     "iopub.execute_input": "2021-10-03T13:06:05.168319Z",
     "iopub.status.busy": "2021-10-03T13:06:05.167979Z",
     "iopub.status.idle": "2021-10-03T13:06:20.371259Z",
     "shell.execute_reply": "2021-10-03T13:06:20.370572Z",
     "shell.execute_reply.started": "2021-10-03T13:06:05.168276Z"
    }
   },
   "outputs": [],
   "source": [
    "X = train.drop(columns=['SalePrice'])\n",
    "y = train['SalePrice'] \n",
    "\n",
    "# train the model\n",
    "model_pipe.fit(X,y)\n",
    "\n",
    "# make predictions\n",
    "predictions = model_pipe.predict(test)"
   ]
  },
  {
   "cell_type": "code",
   "execution_count": 27,
   "metadata": {
    "execution": {
     "iopub.execute_input": "2021-10-03T13:06:20.372923Z",
     "iopub.status.busy": "2021-10-03T13:06:20.372676Z",
     "iopub.status.idle": "2021-10-03T13:06:20.388801Z",
     "shell.execute_reply": "2021-10-03T13:06:20.387628Z",
     "shell.execute_reply.started": "2021-10-03T13:06:20.372894Z"
    }
   },
   "outputs": [
    {
     "name": "stdout",
     "output_type": "stream",
     "text": [
      "done\n"
     ]
    }
   ],
   "source": [
    "output = pd.DataFrame({'Id':test['Id'], 'SalePrice':predictions})\n",
    "output = output.to_csv('submission.csv',index=False)\n",
    "print('done')"
   ]
  }
 ],
 "metadata": {
  "kernelspec": {
   "display_name": "Python 3",
   "language": "python",
   "name": "python3"
  },
  "language_info": {
   "codemirror_mode": {
    "name": "ipython",
    "version": 3
   },
   "file_extension": ".py",
   "mimetype": "text/x-python",
   "name": "python",
   "nbconvert_exporter": "python",
   "pygments_lexer": "ipython3",
   "version": "3.8.10"
  }
 },
 "nbformat": 4,
 "nbformat_minor": 4
}
