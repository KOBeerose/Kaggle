{
 "cells": [
  {
   "cell_type": "markdown",
   "metadata": {
    "_cell_guid": "b1076dfc-b9ad-4769-8c92-a6c4dae69d19",
    "_uuid": "8f2839f25d086af736a60e9eeb907d3b93b6e0e5"
   },
   "source": [
    "<h2 style=\"font-weight: bold\">Meets Bags of Popcorn</h2>\n",
    "\n",
    "<h4>This is my first published notebook on Kaggle About NLP, So I decided ofc to take a look at the Bag of Words Meets Bags of Popcorn Compeition 😄😄<br><br>I will be doing a EDA of review texts, some Visualization and Pre-Processing. and finally modelling <br></h4>\n",
    "\n",
    "* <h5 style=\"font-weight: 700\">Your feedback is very welcome</h5>\n",
    "* <h5 style=\"font-weight: 700\">If you find this notebook useful, please don't forget to upvote it!</h5>"
   ]
  },
  {
   "cell_type": "code",
   "execution_count": null,
   "metadata": {
    "execution": {
     "iopub.execute_input": "2021-10-16T22:35:24.567591Z",
     "iopub.status.busy": "2021-10-16T22:35:24.566441Z",
     "iopub.status.idle": "2021-10-16T22:35:24.57834Z",
     "shell.execute_reply": "2021-10-16T22:35:24.576952Z",
     "shell.execute_reply.started": "2021-10-16T22:35:24.567533Z"
    }
   },
   "outputs": [],
   "source": [
    "import numpy as np\n",
    "import pandas as pd\n",
    "\n",
    "import warnings\n",
    "warnings.simplefilter(action='ignore', category=FutureWarning)\n",
    "\n",
    "import re\n",
    "import json\n",
    "import matplotlib.pyplot as plt\n",
    "import seaborn as sns\n",
    "from bs4 import BeautifulSoup as bs\n",
    "from nltk.corpus import stopwords\n",
    "from wordcloud import WordCloud\n",
    "from nltk.corpus import stopwords\n",
    "from nltk.stem import WordNetLemmatizer\n",
    "\n",
    "from tensorflow.keras.preprocessing.sequence import pad_sequences\n",
    "from tensorflow.keras.preprocessing.text import Tokenizer\n",
    "from sklearn.model_selection import train_test_split\n",
    "from tensorflow.keras import Sequential\n",
    "from tensorflow.keras.layers import Dense, Embedding, Flatten\n",
    "from tensorflow.keras.callbacks import EarlyStopping, ModelCheckpoint"
   ]
  },
  {
   "cell_type": "code",
   "execution_count": null,
   "metadata": {
    "execution": {
     "iopub.execute_input": "2021-10-16T22:35:24.581379Z",
     "iopub.status.busy": "2021-10-16T22:35:24.581023Z",
     "iopub.status.idle": "2021-10-16T22:35:25.838896Z",
     "shell.execute_reply": "2021-10-16T22:35:25.837802Z",
     "shell.execute_reply.started": "2021-10-16T22:35:24.581337Z"
    }
   },
   "outputs": [],
   "source": [
    "train = pd.read_csv('../input/word2vec-nlp-tutorial/labeledTrainData.tsv.zip', delimiter = \"\\t\", encoding = 'utf-8')\n",
    "test = pd.read_csv('../input/word2vec-nlp-tutorial/testData.tsv.zip', delimiter = \"\\t\", encoding = 'utf-8')"
   ]
  },
  {
   "cell_type": "code",
   "execution_count": null,
   "metadata": {
    "execution": {
     "iopub.execute_input": "2021-10-16T22:35:25.841116Z",
     "iopub.status.busy": "2021-10-16T22:35:25.840824Z",
     "iopub.status.idle": "2021-10-16T22:35:25.865756Z",
     "shell.execute_reply": "2021-10-16T22:35:25.864795Z",
     "shell.execute_reply.started": "2021-10-16T22:35:25.841084Z"
    }
   },
   "outputs": [],
   "source": [
    "sub=pd.read_csv('../input/word2vec-nlp-tutorial/sampleSubmission.csv')"
   ]
  },
  {
   "cell_type": "code",
   "execution_count": null,
   "metadata": {
    "execution": {
     "iopub.execute_input": "2021-10-16T22:35:25.869177Z",
     "iopub.status.busy": "2021-10-16T22:35:25.86832Z",
     "iopub.status.idle": "2021-10-16T22:35:25.882326Z",
     "shell.execute_reply": "2021-10-16T22:35:25.881179Z",
     "shell.execute_reply.started": "2021-10-16T22:35:25.869124Z"
    }
   },
   "outputs": [],
   "source": [
    "train.head()"
   ]
  },
  {
   "cell_type": "markdown",
   "metadata": {
    "execution": {
     "iopub.execute_input": "2021-10-15T22:50:44.825115Z",
     "iopub.status.busy": "2021-10-15T22:50:44.824403Z",
     "iopub.status.idle": "2021-10-15T22:50:44.829004Z",
     "shell.execute_reply": "2021-10-15T22:50:44.828406Z",
     "shell.execute_reply.started": "2021-10-15T22:50:44.825065Z"
    }
   },
   "source": [
    "#  **Exploratory Data Analysis**"
   ]
  },
  {
   "cell_type": "code",
   "execution_count": null,
   "metadata": {
    "execution": {
     "iopub.execute_input": "2021-10-16T22:35:25.884842Z",
     "iopub.status.busy": "2021-10-16T22:35:25.884327Z",
     "iopub.status.idle": "2021-10-16T22:35:25.897752Z",
     "shell.execute_reply": "2021-10-16T22:35:25.896231Z",
     "shell.execute_reply.started": "2021-10-16T22:35:25.884795Z"
    }
   },
   "outputs": [],
   "source": [
    "# Getting to know data\n",
    "print(train.shape)\n",
    "print(test.shape)"
   ]
  },
  {
   "cell_type": "code",
   "execution_count": null,
   "metadata": {
    "execution": {
     "iopub.execute_input": "2021-10-16T22:35:25.900194Z",
     "iopub.status.busy": "2021-10-16T22:35:25.899368Z",
     "iopub.status.idle": "2021-10-16T22:35:25.932844Z",
     "shell.execute_reply": "2021-10-16T22:35:25.931913Z",
     "shell.execute_reply.started": "2021-10-16T22:35:25.900139Z"
    }
   },
   "outputs": [],
   "source": [
    "train['length']=train['review'].apply(len)\n",
    "train['length'].describe()"
   ]
  },
  {
   "cell_type": "code",
   "execution_count": null,
   "metadata": {
    "execution": {
     "iopub.execute_input": "2021-10-16T22:35:25.934575Z",
     "iopub.status.busy": "2021-10-16T22:35:25.933895Z",
     "iopub.status.idle": "2021-10-16T22:35:25.939825Z",
     "shell.execute_reply": "2021-10-16T22:35:25.938724Z",
     "shell.execute_reply.started": "2021-10-16T22:35:25.934545Z"
    }
   },
   "outputs": [],
   "source": [
    "#Sample review\n",
    "print(train['review'][0])"
   ]
  },
  {
   "cell_type": "code",
   "execution_count": null,
   "metadata": {
    "execution": {
     "iopub.execute_input": "2021-10-16T22:35:25.942064Z",
     "iopub.status.busy": "2021-10-16T22:35:25.941553Z",
     "iopub.status.idle": "2021-10-16T22:35:26.921482Z",
     "shell.execute_reply": "2021-10-16T22:35:26.920601Z",
     "shell.execute_reply.started": "2021-10-16T22:35:25.942032Z"
    }
   },
   "outputs": [],
   "source": [
    "train_len=train['review'].apply(len)\n",
    "test_len=test['review'].apply(len)\n",
    "\n",
    "import matplotlib.pyplot as plt\n",
    "import seaborn as sns\n",
    "fig=plt.figure(figsize=(15,4))\n",
    "fig.add_subplot(1,2,1)\n",
    "sns.distplot((train_len),color='red')\n",
    "\n",
    "fig.add_subplot(1,2,2)\n",
    "sns.distplot((test_len),color='blue')"
   ]
  },
  {
   "cell_type": "code",
   "execution_count": null,
   "metadata": {
    "execution": {
     "iopub.execute_input": "2021-10-16T22:35:26.923278Z",
     "iopub.status.busy": "2021-10-16T22:35:26.923026Z",
     "iopub.status.idle": "2021-10-16T22:35:28.62936Z",
     "shell.execute_reply": "2021-10-16T22:35:28.628444Z",
     "shell.execute_reply.started": "2021-10-16T22:35:26.923248Z"
    }
   },
   "outputs": [],
   "source": [
    "train['word_n'] = train['review'].apply(lambda x : len(x.split(' ')))\n",
    "test['word_n'] = test['review'].apply(lambda x : len(x.split(' ')))\n",
    "\n",
    "fig=plt.figure(figsize=(15,4))\n",
    "fig.add_subplot(1,2,1)\n",
    "sns.distplot(train['word_n'],color='red')\n",
    "\n",
    "fig.add_subplot(1,2,2)\n",
    "sns.distplot(test['word_n'],color='blue')"
   ]
  },
  {
   "cell_type": "code",
   "execution_count": null,
   "metadata": {
    "execution": {
     "iopub.execute_input": "2021-10-16T22:35:28.632354Z",
     "iopub.status.busy": "2021-10-16T22:35:28.632094Z",
     "iopub.status.idle": "2021-10-16T22:35:28.643491Z",
     "shell.execute_reply": "2021-10-16T22:35:28.642557Z",
     "shell.execute_reply.started": "2021-10-16T22:35:28.632324Z"
    }
   },
   "outputs": [],
   "source": [
    "train['word_n'].describe()"
   ]
  },
  {
   "cell_type": "markdown",
   "metadata": {},
   "source": [
    "* **Train and test set have a similar distribution of words in one review**\n",
    "* **The mean words count is 233 and std is 173 words**"
   ]
  },
  {
   "cell_type": "code",
   "execution_count": null,
   "metadata": {
    "execution": {
     "iopub.execute_input": "2021-10-16T22:35:28.645749Z",
     "iopub.status.busy": "2021-10-16T22:35:28.645324Z",
     "iopub.status.idle": "2021-10-16T22:35:57.261521Z",
     "shell.execute_reply": "2021-10-16T22:35:57.260438Z",
     "shell.execute_reply.started": "2021-10-16T22:35:28.645708Z"
    }
   },
   "outputs": [],
   "source": [
    "cloud=WordCloud(width=800, height=600).generate(\" \".join(train['review'])) # join function can help merge all words into one string. \" \" means space can be a sep between words.\n",
    "plt.figure(figsize=(15,15))\n",
    "plt.imshow(cloud)\n",
    "plt.axis('off')"
   ]
  },
  {
   "cell_type": "markdown",
   "metadata": {},
   "source": [
    "* **HTML tag like br should be removed**\n",
    "* **words like movie or film are present in every review**"
   ]
  },
  {
   "cell_type": "code",
   "execution_count": null,
   "metadata": {
    "execution": {
     "iopub.execute_input": "2021-10-16T22:35:57.263318Z",
     "iopub.status.busy": "2021-10-16T22:35:57.263067Z",
     "iopub.status.idle": "2021-10-16T22:35:57.741825Z",
     "shell.execute_reply": "2021-10-16T22:35:57.740948Z",
     "shell.execute_reply.started": "2021-10-16T22:35:57.263286Z"
    }
   },
   "outputs": [],
   "source": [
    "fig, axe = plt.subplots(1,3, figsize=(23,5))\n",
    "sns.countplot(train['sentiment'], ax=axe[0])\n",
    "sns.boxenplot(x=train['sentiment'], y=train['length'], data=train, ax=axe[1])\n",
    "sns.boxenplot(x=train['sentiment'], y=train['word_n'], data=train, ax=axe[2])"
   ]
  },
  {
   "cell_type": "markdown",
   "metadata": {},
   "source": [
    "* **The distribution of sentiment is almost equal**\n",
    "* **Lengh and number of words is similar across review but positive one tends to have more words**"
   ]
  },
  {
   "cell_type": "markdown",
   "metadata": {},
   "source": [
    "# **Text Preprocessing**"
   ]
  },
  {
   "cell_type": "code",
   "execution_count": null,
   "metadata": {
    "execution": {
     "iopub.execute_input": "2021-10-16T22:35:57.743281Z",
     "iopub.status.busy": "2021-10-16T22:35:57.743052Z",
     "iopub.status.idle": "2021-10-16T22:35:57.751373Z",
     "shell.execute_reply": "2021-10-16T22:35:57.750208Z",
     "shell.execute_reply.started": "2021-10-16T22:35:57.743256Z"
    }
   },
   "outputs": [],
   "source": [
    "# English stopwords\n",
    "\n",
    "stopwords=stopwords.words(\"english\")\n",
    "wordnet_lemmatizer = WordNetLemmatizer()"
   ]
  },
  {
   "cell_type": "code",
   "execution_count": null,
   "metadata": {
    "execution": {
     "iopub.execute_input": "2021-10-16T22:35:57.752923Z",
     "iopub.status.busy": "2021-10-16T22:35:57.752697Z",
     "iopub.status.idle": "2021-10-16T22:35:57.764988Z",
     "shell.execute_reply": "2021-10-16T22:35:57.763914Z",
     "shell.execute_reply.started": "2021-10-16T22:35:57.752896Z"
    }
   },
   "outputs": [],
   "source": [
    "def cleaning(raw_text):\n",
    "    # Removing HTML Tags\n",
    "    html_removed_text=bs(raw_text).get_text()\n",
    "    \n",
    "    # Remove any non character\n",
    "    character_only_text=re.sub(\"[^a-zA-Z]\",\" \",html_removed_text)\n",
    "    \n",
    "    # Lowercase and split\n",
    "    lower_text=character_only_text.lower().split()\n",
    "    \n",
    "    # Get STOPWORDS and remove\n",
    "    stop_remove_text=[i for i in lower_text if not i in stopwords]\n",
    "    \n",
    "    # Remove one character words\n",
    "    lemma_removed_text=[word for word in stop_remove_text if len(word)>1]\n",
    "    \n",
    "    #Lemmatization\n",
    "    lemma_removed_text=[wordnet_lemmatizer.lemmatize(word,'v') for word in stop_remove_text]\n",
    "    \n",
    "    \n",
    "    return \" \".join(lemma_removed_text)"
   ]
  },
  {
   "cell_type": "code",
   "execution_count": null,
   "metadata": {
    "execution": {
     "iopub.execute_input": "2021-10-16T22:35:57.766935Z",
     "iopub.status.busy": "2021-10-16T22:35:57.766703Z",
     "iopub.status.idle": "2021-10-16T22:35:57.784944Z",
     "shell.execute_reply": "2021-10-16T22:35:57.783972Z",
     "shell.execute_reply.started": "2021-10-16T22:35:57.766909Z"
    }
   },
   "outputs": [],
   "source": [
    "cleaning(train['review'][0])"
   ]
  },
  {
   "cell_type": "code",
   "execution_count": null,
   "metadata": {
    "execution": {
     "iopub.execute_input": "2021-10-16T22:35:57.786737Z",
     "iopub.status.busy": "2021-10-16T22:35:57.786487Z",
     "iopub.status.idle": "2021-10-16T22:36:44.032746Z",
     "shell.execute_reply": "2021-10-16T22:36:44.031581Z",
     "shell.execute_reply.started": "2021-10-16T22:35:57.786697Z"
    }
   },
   "outputs": [],
   "source": [
    "train['cleaned_review']=train['review'].apply(cleaning)"
   ]
  },
  {
   "cell_type": "code",
   "execution_count": null,
   "metadata": {
    "execution": {
     "iopub.execute_input": "2021-10-16T22:36:44.034532Z",
     "iopub.status.busy": "2021-10-16T22:36:44.034217Z",
     "iopub.status.idle": "2021-10-16T22:36:44.04941Z",
     "shell.execute_reply": "2021-10-16T22:36:44.048525Z",
     "shell.execute_reply.started": "2021-10-16T22:36:44.034499Z"
    }
   },
   "outputs": [],
   "source": [
    "train.head()"
   ]
  },
  {
   "cell_type": "code",
   "execution_count": null,
   "metadata": {
    "execution": {
     "iopub.execute_input": "2021-10-16T22:40:13.091682Z",
     "iopub.status.busy": "2021-10-16T22:40:13.091268Z"
    }
   },
   "outputs": [],
   "source": [
    "test['review']=test['review'].apply(cleaning)"
   ]
  }
 ],
 "metadata": {
  "kernelspec": {
   "display_name": "Python 3",
   "language": "python",
   "name": "python3"
  },
  "language_info": {
   "codemirror_mode": {
    "name": "ipython",
    "version": 3
   },
   "file_extension": ".py",
   "mimetype": "text/x-python",
   "name": "python",
   "nbconvert_exporter": "python",
   "pygments_lexer": "ipython3",
   "version": "3.8.10"
  }
 },
 "nbformat": 4,
 "nbformat_minor": 4
}
