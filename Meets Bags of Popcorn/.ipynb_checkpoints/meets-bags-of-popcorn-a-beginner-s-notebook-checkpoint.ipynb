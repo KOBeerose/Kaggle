{
 "cells": [
  {
   "cell_type": "markdown",
   "metadata": {
    "_cell_guid": "b1076dfc-b9ad-4769-8c92-a6c4dae69d19",
    "_uuid": "8f2839f25d086af736a60e9eeb907d3b93b6e0e5"
   },
   "source": [
    "<h2 style=\"font-weight: bold\">Meets Bags of Popcorn</h2>\n",
    "\n",
    "<h4>This is my first published notebook on Kaggle About NLP, So I decided ofc to take a look at the Bag of Words Meets Bags of Popcorn Compeition 😄😄<br><br>I will be doing a EDA of review texts, some Visualization and Pre-Processing. and finally modelling <br></h4>\n",
    "\n",
    "* <h5 style=\"font-weight: 700\">Your feedback is very welcome</h5>\n",
    "* <h5 style=\"font-weight: 700\">If you find this notebook useful, please don't forget to upvote it!</h5>"
   ]
  },
  {
   "cell_type": "code",
   "execution_count": 1,
   "metadata": {
    "execution": {
     "iopub.execute_input": "2021-10-15T22:54:10.102988Z",
     "iopub.status.busy": "2021-10-15T22:54:10.102567Z",
     "iopub.status.idle": "2021-10-15T22:54:10.111487Z",
     "shell.execute_reply": "2021-10-15T22:54:10.110413Z",
     "shell.execute_reply.started": "2021-10-15T22:54:10.102931Z"
    }
   },
   "outputs": [
    {
     "ename": "ModuleNotFoundError",
     "evalue": "No module named 'wordcloud'",
     "output_type": "error",
     "traceback": [
      "\u001b[1;31m---------------------------------------------------------------------------\u001b[0m",
      "\u001b[1;31mModuleNotFoundError\u001b[0m                       Traceback (most recent call last)",
      "\u001b[1;32m<ipython-input-1-40235c600f86>\u001b[0m in \u001b[0;36m<module>\u001b[1;34m\u001b[0m\n\u001b[0;32m     11\u001b[0m \u001b[1;32mfrom\u001b[0m \u001b[0mbs4\u001b[0m \u001b[1;32mimport\u001b[0m \u001b[0mBeautifulSoup\u001b[0m\u001b[1;33m\u001b[0m\u001b[1;33m\u001b[0m\u001b[0m\n\u001b[0;32m     12\u001b[0m \u001b[1;32mfrom\u001b[0m \u001b[0mnltk\u001b[0m\u001b[1;33m.\u001b[0m\u001b[0mcorpus\u001b[0m \u001b[1;32mimport\u001b[0m \u001b[0mstopwords\u001b[0m\u001b[1;33m\u001b[0m\u001b[1;33m\u001b[0m\u001b[0m\n\u001b[1;32m---> 13\u001b[1;33m \u001b[1;32mfrom\u001b[0m \u001b[0mwordcloud\u001b[0m \u001b[1;32mimport\u001b[0m \u001b[0mWordCloud\u001b[0m\u001b[1;33m\u001b[0m\u001b[1;33m\u001b[0m\u001b[0m\n\u001b[0m\u001b[0;32m     14\u001b[0m \u001b[1;33m\u001b[0m\u001b[0m\n\u001b[0;32m     15\u001b[0m \u001b[1;32mfrom\u001b[0m \u001b[0mtensorflow\u001b[0m\u001b[1;33m.\u001b[0m\u001b[0mkeras\u001b[0m\u001b[1;33m.\u001b[0m\u001b[0mpreprocessing\u001b[0m\u001b[1;33m.\u001b[0m\u001b[0msequence\u001b[0m \u001b[1;32mimport\u001b[0m \u001b[0mpad_sequences\u001b[0m\u001b[1;33m\u001b[0m\u001b[1;33m\u001b[0m\u001b[0m\n",
      "\u001b[1;31mModuleNotFoundError\u001b[0m: No module named 'wordcloud'"
     ]
    }
   ],
   "source": [
    "import numpy as np\n",
    "import pandas as pd\n",
    "\n",
    "import warnings\n",
    "warnings.simplefilter(action='ignore', category=FutureWarning)\n",
    "\n",
    "import re\n",
    "import json\n",
    "import matplotlib.pyplot as plt\n",
    "import seaborn as sns\n",
    "from bs4 import BeautifulSoup\n",
    "from nltk.corpus import stopwords\n",
    "from wordcloud import WordCloud\n",
    "\n",
    "from tensorflow.keras.preprocessing.sequence import pad_sequences\n",
    "from tensorflow.keras.preprocessing.text import Tokenizer\n",
    "from sklearn.model_selection import train_test_split\n",
    "from tensorflow.keras import Sequential\n",
    "from tensorflow.keras.layers import Dense, Embedding, Flatten\n",
    "from tensorflow.keras.callbacks import EarlyStopping, ModelCheckpoint"
   ]
  },
  {
   "cell_type": "code",
   "execution_count": null,
   "metadata": {
    "execution": {
     "iopub.execute_input": "2021-10-15T22:54:10.114461Z",
     "iopub.status.busy": "2021-10-15T22:54:10.113614Z",
     "iopub.status.idle": "2021-10-15T22:54:11.422812Z",
     "shell.execute_reply": "2021-10-15T22:54:11.42167Z",
     "shell.execute_reply.started": "2021-10-15T22:54:10.114402Z"
    }
   },
   "outputs": [],
   "source": [
    "train = pd.read_csv('../input/word2vec-nlp-tutorial/labeledTrainData.tsv.zip', delimiter = \"\\t\", encoding = 'utf-8')\n",
    "test = pd.read_csv('../input/word2vec-nlp-tutorial/testData.tsv.zip', delimiter = \"\\t\", encoding = 'utf-8')"
   ]
  },
  {
   "cell_type": "code",
   "execution_count": null,
   "metadata": {
    "execution": {
     "iopub.execute_input": "2021-10-15T22:54:11.425364Z",
     "iopub.status.busy": "2021-10-15T22:54:11.42472Z",
     "iopub.status.idle": "2021-10-15T22:54:11.450063Z",
     "shell.execute_reply": "2021-10-15T22:54:11.448949Z",
     "shell.execute_reply.started": "2021-10-15T22:54:11.425314Z"
    }
   },
   "outputs": [],
   "source": [
    "sub=pd.read_csv('../input/word2vec-nlp-tutorial/sampleSubmission.csv')"
   ]
  },
  {
   "cell_type": "code",
   "execution_count": null,
   "metadata": {
    "execution": {
     "iopub.execute_input": "2021-10-15T22:54:11.45341Z",
     "iopub.status.busy": "2021-10-15T22:54:11.453113Z",
     "iopub.status.idle": "2021-10-15T22:54:11.464865Z",
     "shell.execute_reply": "2021-10-15T22:54:11.463886Z",
     "shell.execute_reply.started": "2021-10-15T22:54:11.453373Z"
    }
   },
   "outputs": [],
   "source": [
    "train.head()"
   ]
  },
  {
   "cell_type": "markdown",
   "metadata": {
    "execution": {
     "iopub.execute_input": "2021-10-15T22:50:44.825115Z",
     "iopub.status.busy": "2021-10-15T22:50:44.824403Z",
     "iopub.status.idle": "2021-10-15T22:50:44.829004Z",
     "shell.execute_reply": "2021-10-15T22:50:44.828406Z",
     "shell.execute_reply.started": "2021-10-15T22:50:44.825065Z"
    }
   },
   "source": [
    "#  **Exploratory Data Analysis**"
   ]
  },
  {
   "cell_type": "code",
   "execution_count": null,
   "metadata": {
    "execution": {
     "iopub.execute_input": "2021-10-15T22:54:11.46696Z",
     "iopub.status.busy": "2021-10-15T22:54:11.46656Z",
     "iopub.status.idle": "2021-10-15T22:54:11.477621Z",
     "shell.execute_reply": "2021-10-15T22:54:11.476765Z",
     "shell.execute_reply.started": "2021-10-15T22:54:11.466915Z"
    }
   },
   "outputs": [],
   "source": [
    "# Getting to know data\n",
    "print(train.shape)\n",
    "print(test.shape)"
   ]
  },
  {
   "cell_type": "code",
   "execution_count": null,
   "metadata": {
    "execution": {
     "iopub.execute_input": "2021-10-15T22:54:11.479331Z",
     "iopub.status.busy": "2021-10-15T22:54:11.479067Z",
     "iopub.status.idle": "2021-10-15T22:54:11.518701Z",
     "shell.execute_reply": "2021-10-15T22:54:11.517696Z",
     "shell.execute_reply.started": "2021-10-15T22:54:11.479301Z"
    }
   },
   "outputs": [],
   "source": [
    "train['length']=train['review'].apply(len)\n",
    "train['length'].describe()"
   ]
  },
  {
   "cell_type": "code",
   "execution_count": null,
   "metadata": {
    "execution": {
     "iopub.execute_input": "2021-10-15T22:56:08.815035Z",
     "iopub.status.busy": "2021-10-15T22:56:08.814743Z",
     "iopub.status.idle": "2021-10-15T22:56:09.840166Z",
     "shell.execute_reply": "2021-10-15T22:56:09.838823Z",
     "shell.execute_reply.started": "2021-10-15T22:56:08.815006Z"
    }
   },
   "outputs": [],
   "source": [
    "train_len=train['review'].apply(len)\n",
    "test_len=test['review'].apply(len)\n",
    "\n",
    "import matplotlib.pyplot as plt\n",
    "import seaborn as sns\n",
    "fig=plt.figure(figsize=(15,4))\n",
    "fig.add_subplot(1,2,1)\n",
    "sns.distplot((train_len),color='red')\n",
    "\n",
    "fig.add_subplot(1,2,2)\n",
    "sns.distplot((test_len),color='blue')"
   ]
  },
  {
   "cell_type": "code",
   "execution_count": null,
   "metadata": {
    "execution": {
     "iopub.execute_input": "2021-10-15T22:56:09.842629Z",
     "iopub.status.busy": "2021-10-15T22:56:09.842268Z",
     "iopub.status.idle": "2021-10-15T22:56:11.597592Z",
     "shell.execute_reply": "2021-10-15T22:56:11.5966Z",
     "shell.execute_reply.started": "2021-10-15T22:56:09.842587Z"
    }
   },
   "outputs": [],
   "source": [
    "train['word_n'] = train['review'].apply(lambda x : len(x.split(' ')))\n",
    "test['word_n'] = test['review'].apply(lambda x : len(x.split(' ')))\n",
    "\n",
    "fig=plt.figure(figsize=(15,4))\n",
    "fig.add_subplot(1,2,1)\n",
    "sns.distplot(train['word_n'],color='red')\n",
    "\n",
    "fig.add_subplot(1,2,2)\n",
    "sns.distplot(test['word_n'],color='blue')"
   ]
  },
  {
   "cell_type": "code",
   "execution_count": null,
   "metadata": {
    "execution": {
     "iopub.execute_input": "2021-10-15T22:56:11.600008Z",
     "iopub.status.busy": "2021-10-15T22:56:11.59968Z",
     "iopub.status.idle": "2021-10-15T22:56:11.611563Z",
     "shell.execute_reply": "2021-10-15T22:56:11.610707Z",
     "shell.execute_reply.started": "2021-10-15T22:56:11.599959Z"
    }
   },
   "outputs": [],
   "source": [
    "train['word_n'].describe()"
   ]
  },
  {
   "cell_type": "markdown",
   "metadata": {},
   "source": [
    "* **Train and test set have a similar distribution of words in one review**\n",
    "* **The mean words count is 233 and std is 173 words**"
   ]
  },
  {
   "cell_type": "code",
   "execution_count": null,
   "metadata": {
    "execution": {
     "iopub.execute_input": "2021-10-15T22:57:35.656755Z",
     "iopub.status.busy": "2021-10-15T22:57:35.656427Z",
     "iopub.status.idle": "2021-10-15T22:58:02.265165Z",
     "shell.execute_reply": "2021-10-15T22:58:02.26448Z",
     "shell.execute_reply.started": "2021-10-15T22:57:35.656723Z"
    }
   },
   "outputs": [],
   "source": [
    "cloud=WordCloud(width=800, height=600).generate(\" \".join(train['review'])) # join function can help merge all words into one string. \" \" means space can be a sep between words.\n",
    "plt.figure(figsize=(15,15))\n",
    "plt.imshow(cloud)\n",
    "plt.axis('off')"
   ]
  },
  {
   "cell_type": "markdown",
   "metadata": {},
   "source": [
    "* **HTML tag like br should be removed**\n",
    "* **words like movie or film are present in every review**"
   ]
  },
  {
   "cell_type": "code",
   "execution_count": null,
   "metadata": {},
   "outputs": [],
   "source": []
  }
 ],
 "metadata": {
  "kernelspec": {
   "display_name": "Python 3",
   "language": "python",
   "name": "python3"
  },
  "language_info": {
   "codemirror_mode": {
    "name": "ipython",
    "version": 3
   },
   "file_extension": ".py",
   "mimetype": "text/x-python",
   "name": "python",
   "nbconvert_exporter": "python",
   "pygments_lexer": "ipython3",
   "version": "3.8.10"
  }
 },
 "nbformat": 4,
 "nbformat_minor": 4
}
